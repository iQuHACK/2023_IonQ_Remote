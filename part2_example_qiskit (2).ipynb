{
 "cells": [
  {
   "cell_type": "code",
   "execution_count": 2,
   "metadata": {},
   "outputs": [],
   "source": [
    "import os\n",
    "import gzip\n",
    "import numpy as np\n",
    "import matplotlib.pyplot as plt\n",
    "from pylab import cm\n",
    "import warnings\n",
    "\n",
    "from sklearn import datasets\n",
    "from sklearn.model_selection import train_test_split\n",
    "from sklearn.preprocessing import StandardScaler, MinMaxScaler\n",
    "from sklearn.decomposition import PCA\n",
    "from sklearn.svm import SVC\n",
    "from sklearn.metrics import accuracy_score\n",
    "\n",
    "import qiskit\n",
    "from qiskit import *\n",
    "from qiskit import quantum_info\n",
    "from qiskit.execute_function import execute\n",
    "from qiskit import BasicAer\n",
    "\n",
    "from qiskit import Aer, execute\n",
    "from qiskit.circuit import QuantumCircuit, Parameter, ParameterVector\n",
    "from qiskit.circuit.library import PauliFeatureMap, ZFeatureMap, ZZFeatureMap\n",
    "from qiskit.circuit.library import TwoLocal, NLocal, RealAmplitudes, EfficientSU2\n",
    "from qiskit.circuit.library import HGate, RXGate, RYGate, RZGate, CXGate, CRXGate, CRZGate\n",
    "from qiskit_machine_learning.kernels import QuantumKernel\n",
    "\n",
    "import numpy as np\n",
    "import pickle\n",
    "import json\n",
    "import os\n",
    "from collections import Counter\n",
    "from sklearn.metrics import mean_squared_error\n",
    "from typing import Dict, List\n",
    "\n",
    "#define utility functions\n",
    "\n",
    "def simulate(circuit: qiskit.QuantumCircuit) -> dict:\n",
    "    \"\"\"Simulate the circuit, give the state vector as the result.\"\"\"\n",
    "    backend = BasicAer.get_backend('statevector_simulator')\n",
    "    job = execute(circuit, backend)\n",
    "    result = job.result()\n",
    "    state_vector = result.get_statevector()\n",
    "    \n",
    "    histogram = dict()\n",
    "    for i in range(len(state_vector)):\n",
    "        population = abs(state_vector[i]) ** 2\n",
    "        if population > 1e-9:\n",
    "            histogram[i] = population\n",
    "    \n",
    "    return histogram\n",
    "\n",
    "\n",
    "def histogram_to_category(histogram):\n",
    "    \"\"\"This function take a histogram representations of circuit execution results, and process into labels as described in \n",
    "    the problem description.\"\"\"\n",
    "    assert abs(sum(histogram.values())-1)<1e-8\n",
    "    positive=0\n",
    "    for key in histogram.keys():\n",
    "        digits = bin(int(key))[2:].zfill(20)\n",
    "        if digits[-1]=='0':\n",
    "            positive+=histogram[key]\n",
    "        \n",
    "    return positive\n",
    "\n",
    "\n",
    "def count_gates(circuit: qiskit.QuantumCircuit) -> Dict[int, int]:\n",
    "    \"\"\"Returns the number of gate operations with each number of qubits.\"\"\"\n",
    "    counter = Counter([len(gate[1]) for gate in circuit.data])\n",
    "    #feel free to comment out the following two lines. But make sure you don't have k-qubit gates in your circuit\n",
    "    #for k>2\n",
    "    for i in range(2,20):\n",
    "        assert counter[i]==0\n",
    "        \n",
    "    return counter"
   ]
  },
  {
   "cell_type": "code",
   "execution_count": 2,
   "metadata": {},
   "outputs": [],
   "source": [
    "# #load the mock data (for testing only)\n",
    "# files=os.listdir(\"mock_data\")\n",
    "# dataset=list()\n",
    "# for file in files:\n",
    "#     with open('mock_data/'+file, \"r\") as infile:\n",
    "#         loaded = json.load(infile)\n",
    "#         dataset.append(loaded)"
   ]
  },
  {
   "cell_type": "code",
   "execution_count": 3,
   "metadata": {},
   "outputs": [
    {
     "data": {
      "text/plain": [
       "<matplotlib.image.AxesImage at 0x7f71e4e3e3d0>"
      ]
     },
     "execution_count": 3,
     "metadata": {},
     "output_type": "execute_result"
    },
    {
     "data": {
      "image/png": "[encoded data removed]",
      "text/plain": [
       "<Figure size 432x288 with 1 Axes>"
      ]
     },
     "metadata": {
      "needs_background": "light"
     },
     "output_type": "display_data"
    }
   ],
   "source": [
    "#load the actual hackthon data (fashion-mnist)\n",
    "images=np.load('data/images.npy')\n",
    "labels=np.load('data/labels.npy')\n",
    "#you can visualize it\n",
    "import matplotlib.pyplot as plt\n",
    "plt.imshow(images[1100])"
   ]
  },
  {
   "cell_type": "code",
   "execution_count": 8,
   "metadata": {},
   "outputs": [],
   "source": [
    "#your submission\n",
    "\n",
    "# Functions 'encode' and 'decode' are dummy.\n",
    "def encode(image):\n",
    "    print(\"Encoding...\")\n",
    "    number_of_qubits = math.ceil(math.log(28*28, 2))\n",
    "    amplitude_vector = [0] * (2**number_of_qubits)\n",
    "    sum_squares = 0\n",
    "    amplitude_counter = 0\n",
    "    for i in image:\n",
    "        for j in i:\n",
    "            sum_squares+=j**2\n",
    "            amplitude_vector[amplitude_counter] = j\n",
    "            amplitude_counter+=1\n",
    "    global norm\n",
    "    norm = 1/np.sqrt(sum_squares)\n",
    "    amplitude_vector_new = [i*norm for i in amplitude_vector]\n",
    "    \n",
    "    # Some previous tests we were running -- ignore\n",
    "    \n",
    "    # global imtest\n",
    "    # imtest=[[0]*28 for z in range(28)]\n",
    "    # a_counter=0\n",
    "    # for i in range(28):\n",
    "    #     for j in range(28):\n",
    "    #         imtest[i][j]=amplitude_vector[a_counter]#/norm\n",
    "    #         a_counter+=1\n",
    "            \n",
    "            \n",
    "    # print(amplitude_vector)\n",
    "    qr = qiskit.QuantumRegister(number_of_qubits)\n",
    "    qc = qiskit.QuantumCircuit(qr)\n",
    "    qc.initialize(amplitude_vector_new, qr)\n",
    "\n",
    "    print(\"Encoded!\")\n",
    "    return qc\n",
    "\n",
    "def decode(histogram):\n",
    "    print(\"Decoding...\")      \n",
    "    image = [[0] * 28 for z in range(28)]\n",
    "    amplitude_counter=1\n",
    "    for i in range(28):\n",
    "        for j in range(28):\n",
    "            image[i][j] = histogram.get(amplitude_counter, 0)#/norm\n",
    "            amplitude_counter+=1\n",
    "    print(\"Decoded!\")\n",
    "    return image\n",
    "\n",
    "def run_part1(image):\n",
    "    #encode image into a circuit\n",
    "    circuit=encode(image)\n",
    "\n",
    "    #simulate circuit\n",
    "    histogram=simulate(circuit)\n",
    "\n",
    "    #reconstruct the image\n",
    "    image_re=decode(histogram)\n",
    "\n",
    "    return circuit,image_re\n",
    "\n",
    "\n",
    "def run_part2(image):\n",
    "    # load the quantum classifier circuit\n",
    "    classifier=qiskit.QuantumCircuit.from_qasm_file('quantum_classifier.qasm')\n",
    "    \n",
    "    #encode image into circuit\n",
    "    circuit=encode(image)\n",
    "    \n",
    "    #append with classifier circuit\n",
    "    nq1 = circuit.width()\n",
    "    nq2 = classifier.width()\n",
    "    nq = max(nq1, nq2)\n",
    "    qc = qiskit.QuantumCircuit(nq)\n",
    "    qc.append(circuit.to_instruction(), list(range(nq1)))\n",
    "    qc.append(classifier.to_instruction(), list(range(nq2)))\n",
    "    \n",
    "    #simulate circuit\n",
    "    histogram=simulate(qc)\n",
    "        \n",
    "    #convert histogram to category\n",
    "    label=histogram_to_category(histogram)\n",
    "    \n",
    "    #thresholding the label, any way you want\n",
    "    if label>0.5:\n",
    "        label=1\n",
    "    else:\n",
    "        label=0\n",
    "        \n",
    "    return circuit,label\n",
    "        \n",
    "    return circuit,label\n",
    "\n",
    "\n",
    "#score"
   ]
  },
  {
   "cell_type": "code",
   "execution_count": 10,
   "metadata": {},
   "outputs": [
    {
     "name": "stdout",
     "output_type": "stream",
     "text": [
      "1.0\n"
     ]
    }
   ],
   "source": [
    "#how we grade your submission\n",
    "\n",
    "score=0\n",
    "gatecount=0\n",
    "n=len(dataset)\n",
    "\n",
    "for data in dataset:\n",
    "    #run part 2\n",
    "    circuit,label=run_part2(data['image'])\n",
    "    \n",
    "    #count the gate used in the circuit for score calculation\n",
    "    gatecount+=count_gates(circuit)[2]\n",
    "    \n",
    "    #check label\n",
    "    if label==data['category']:\n",
    "        score+=1\n",
    "#score\n",
    "score=score/n\n",
    "gatecount=gatecount/n\n",
    "\n",
    "print(score*(0.999**gatecount))"
   ]
  },
  {
   "cell_type": "code",
   "execution_count": 50,
   "metadata": {},
   "outputs": [
    {
     "name": "stdout",
     "output_type": "stream",
     "text": [
      "(2000, 764)\n",
      "(2000, 764)\n"
     ]
    }
   ],
   "source": [
    "images_v2 = np.zeros((2000, 764))\n",
    "print(images_v2.shape)\n",
    "\n",
    "img_counter = 0\n",
    "for image in images:\n",
    "    for pixel in image:\n",
    "        np.append(images_v2[img_counter], pixel)\n",
    "    img_counter += 1\n",
    "\n",
    "print(images_v2.shape)"
   ]
  },
  {
   "cell_type": "code",
   "execution_count": 51,
   "metadata": {},
   "outputs": [],
   "source": [
    "# training quantum classifier\n",
    "train_images, test_images, train_labels, test_labels = train_test_split(\n",
    "    images_v2, labels, test_size=0.1, random_state=420)"
   ]
  },
  {
   "cell_type": "code",
   "execution_count": 53,
   "metadata": {},
   "outputs": [
    {
     "ename": "ValueError",
     "evalue": "cannot reshape array of size 764 into shape (28,28)",
     "output_type": "error",
     "traceback": [
      "\u001b[0;31m---------------------------------------------------------------------------\u001b[0m",
      "\u001b[0;31mValueError\u001b[0m                                Traceback (most recent call last)",
      "Cell \u001b[0;32mIn[53], line 6\u001b[0m\n\u001b[1;32m      4\u001b[0m \u001b[38;5;28;01mfor\u001b[39;00m i \u001b[38;5;129;01min\u001b[39;00m \u001b[38;5;28mrange\u001b[39m(num_labels):\n\u001b[1;32m      5\u001b[0m     ax \u001b[38;5;241m=\u001b[39m fig\u001b[38;5;241m.\u001b[39madd_subplot(\u001b[38;5;241m1\u001b[39m, num_labels, i\u001b[38;5;241m+\u001b[39m\u001b[38;5;241m1\u001b[39m)\n\u001b[0;32m----> 6\u001b[0m     img \u001b[38;5;241m=\u001b[39m \u001b[43mtrain_images\u001b[49m\u001b[43m[\u001b[49m\u001b[43mtrain_labels\u001b[49m\u001b[38;5;241;43m==\u001b[39;49m\u001b[43mLABELS\u001b[49m\u001b[43m[\u001b[49m\u001b[43mi\u001b[49m\u001b[43m]\u001b[49m\u001b[43m]\u001b[49m\u001b[43m[\u001b[49m\u001b[38;5;241;43m0\u001b[39;49m\u001b[43m]\u001b[49m\u001b[38;5;241;43m.\u001b[39;49m\u001b[43mreshape\u001b[49m\u001b[43m(\u001b[49m\u001b[43m(\u001b[49m\u001b[38;5;241;43m28\u001b[39;49m\u001b[43m,\u001b[49m\u001b[43m \u001b[49m\u001b[38;5;241;43m28\u001b[39;49m\u001b[43m)\u001b[49m\u001b[43m)\u001b[49m\n\u001b[1;32m      7\u001b[0m     ax\u001b[38;5;241m.\u001b[39mimshow(img, cmap\u001b[38;5;241m=\u001b[39m\u001b[38;5;124m\"\u001b[39m\u001b[38;5;124mGreys\u001b[39m\u001b[38;5;124m\"\u001b[39m)\n",
      "\u001b[0;31mValueError\u001b[0m: cannot reshape array of size 764 into shape (28,28)"
     ]
    },
    {
     "data": {
      "image/png": "[encoded data removed]",
      "text/plain": [
       "<Figure size 432x288 with 1 Axes>"
      ]
     },
     "metadata": {
      "needs_background": "light"
     },
     "output_type": "display_data"
    }
   ],
   "source": [
    "fig = plt.figure()\n",
    "LABELS = [0, 1]\n",
    "num_labels = len(LABELS)\n",
    "for i in range(num_labels):\n",
    "    ax = fig.add_subplot(1, num_labels, i+1)\n",
    "    img = train_images[train_labels==LABELS[i]][0].reshape((28, 28))\n",
    "    ax.imshow(img, cmap=\"Greys\")"
   ]
  },
  {
   "cell_type": "code",
   "execution_count": 40,
   "metadata": {
    "tags": []
   },
   "outputs": [
    {
     "name": "stdout",
     "output_type": "stream",
     "text": [
      "<class 'numpy.ndarray'>\n"
     ]
    }
   ],
   "source": [
    "print(type(train_images))"
   ]
  },
  {
   "cell_type": "code",
   "execution_count": 21,
   "metadata": {},
   "outputs": [],
   "source": [
    "# sample_train = train_images\n",
    "# sample_val = test_images\n",
    "# labels_train = train_labels\n",
    "# labels_val = test_labels\n",
    "\n",
    "# Standardize\n",
    "standard_scaler = StandardScaler()\n",
    "for image in train_images:\n",
    "    image = standard_scaler.fit_transform(image)\n",
    "\n",
    "for image in test_images:\n",
    "    image = standard_scaler.transform(image)\n",
    "    \n",
    "# train_images = standard_scaler.fit_transform(train_images)\n",
    "# test_images = standard_scaler.transform(test_images)\n",
    "\n",
    "# # Reduce dimensions\n",
    "N_DIM = 5\n",
    "pca = PCA(n_components=N_DIM)\n",
    "for image in train_images:\n",
    "    image = pca.fit_transform(image)\n",
    "\n",
    "for image in test_images:\n",
    "    image = pca.transform(image)\n",
    "# train_images = pca.fit_transform(train_images)\n",
    "# test_images = pca.transform(test_images)\n",
    "\n",
    "# # Normalize\n",
    "min_max_scaler = MinMaxScaler((-1, 1))\n",
    "for image in train_images:\n",
    "    image = min_max_scaler.fit_transform(image)\n",
    "\n",
    "for image in test_images:\n",
    "    image = min_max_scaler.transform(image)\n",
    "# train_images = min_max_scaler.fit_transform(train_images)\n",
    "# test_images = min_max_scaler.transform(test_images)"
   ]
  },
  {
   "cell_type": "code",
   "execution_count": 24,
   "metadata": {},
   "outputs": [
    {
     "name": "stdout",
     "output_type": "stream",
     "text": [
      "(1800, 28, 28)\n"
     ]
    }
   ],
   "source": [
    "print(train_images.shape)"
   ]
  },
  {
   "cell_type": "code",
   "execution_count": 26,
   "metadata": {},
   "outputs": [
    {
     "name": "stdout",
     "output_type": "stream",
     "text": [
      "False\n"
     ]
    }
   ],
   "source": [
    "print(train_labels[0])"
   ]
  },
  {
   "cell_type": "code",
   "execution_count": null,
   "metadata": {},
   "outputs": [],
   "source": []
  }
 ],
 "metadata": {
  "kernelspec": {
   "display_name": "Python 3 [Default]",
   "language": "python",
   "name": "python3"
  },
  "language_info": {
   "codemirror_mode": {
    "name": "ipython",
    "version": 3
   },
   "file_extension": ".py",
   "mimetype": "text/x-python",
   "name": "python",
   "nbconvert_exporter": "python",
   "pygments_lexer": "ipython3",
   "version": "3.9.10"
  },
  "vscode": {
   "interpreter": {
    "hash": "397704579725e15f5c7cb49fe5f0341eb7531c82d19f2c29d197e8b64ab5776b"
   }
  }
 },
 "nbformat": 4,
 "nbformat_minor": 4
}
