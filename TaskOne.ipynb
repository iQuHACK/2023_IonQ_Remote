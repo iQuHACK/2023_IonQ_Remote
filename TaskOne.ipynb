{
 "cells": [
  {
   "cell_type": "code",
   "execution_count": 1,
   "id": "59e512df-346d-45a1-91f1-5a7365039824",
   "metadata": {},
   "outputs": [],
   "source": [
    "import cirq\n",
    "import qiskit\n",
    "import numpy as np"
   ]
  },
  {
   "cell_type": "code",
   "execution_count": 2,
   "id": "73049890-d555-4634-9fd5-e02f85521851",
   "metadata": {},
   "outputs": [],
   "source": [
    "images=np.load('data/images.npy')\n",
    "labels=np.load('data/labels.npy')"
   ]
  },
  {
   "cell_type": "code",
   "execution_count": 3,
   "id": "8b3cc1f2-444e-4d83-8c75-c434257e9606",
   "metadata": {},
   "outputs": [],
   "source": [
    "num_images = len(images)"
   ]
  },
  {
   "cell_type": "code",
   "execution_count": 4,
   "id": "ca90b38c-4351-4d48-b59e-01eb89280211",
   "metadata": {},
   "outputs": [],
   "source": [
    "sample = images[0]"
   ]
  },
  {
   "cell_type": "code",
   "execution_count": 5,
   "id": "bd5eac4c-2b0c-47d1-8d6a-361fc6fc59f0",
   "metadata": {},
   "outputs": [
    {
     "data": {
      "text/plain": [
       "<matplotlib.image.AxesImage at 0x7fb5a3a8c6d0>"
      ]
     },
     "execution_count": 5,
     "metadata": {},
     "output_type": "execute_result"
    },
    {
     "data": {
      "image/png": "[encoded data removed]",
      "text/plain": [
       "<Figure size 432x288 with 1 Axes>"
      ]
     },
     "metadata": {
      "needs_background": "light"
     },
     "output_type": "display_data"
    }
   ],
   "source": [
    "import matplotlib.pyplot as plt\n",
    "plt.imshow(sample)"
   ]
  },
  {
   "cell_type": "code",
   "execution_count": 6,
   "id": "9c809b85-0298-4a4b-9d83-3f5e61e1a626",
   "metadata": {},
   "outputs": [],
   "source": [
    "#Image size is 28x28 pixels "
   ]
  },
  {
   "cell_type": "code",
   "execution_count": 7,
   "id": "6f76fc9c-bca4-4b7d-b8eb-abe49f51f5f0",
   "metadata": {},
   "outputs": [],
   "source": [
    "#Features appear to be normalized"
   ]
  },
  {
   "cell_type": "code",
   "execution_count": 8,
   "id": "85438598-df19-4bf7-a553-8c54a4f44bb2",
   "metadata": {},
   "outputs": [],
   "source": [
    "sample = sample.reshape(*(28, 28, 1)) #resize images because suspicious"
   ]
  },
  {
   "cell_type": "code",
   "execution_count": 15,
   "id": "8967bbe4-6848-4e08-a12e-8a54a345ad03",
   "metadata": {},
   "outputs": [
    {
     "name": "stdout",
     "output_type": "stream",
     "text": [
      "[[0.        ]\n",
      " [0.        ]\n",
      " [0.        ]\n",
      " [0.        ]\n",
      " [0.        ]\n",
      " [0.        ]\n",
      " [0.        ]\n",
      " [0.        ]\n",
      " [0.00059977]\n",
      " [0.00138408]\n",
      " [0.00207612]\n",
      " [0.00307574]\n",
      " [0.00202999]\n",
      " [0.00092272]\n",
      " [0.00098424]\n",
      " [0.00127643]\n",
      " [0.0028143 ]\n",
      " [0.00299885]\n",
      " [0.00149173]\n",
      " [0.00044598]\n",
      " [0.        ]\n",
      " [0.        ]\n",
      " [0.        ]\n",
      " [0.        ]\n",
      " [0.        ]\n",
      " [0.        ]\n",
      " [0.        ]\n",
      " [0.        ]]\n"
     ]
    }
   ],
   "source": [
    "print(sample[0])"
   ]
  },
  {
   "cell_type": "code",
   "execution_count": null,
   "id": "c85961ac-b794-4188-8c10-d73adc24c2f0",
   "metadata": {},
   "outputs": [],
   "source": []
  }
 ],
 "metadata": {
  "kernelspec": {
   "display_name": "Python 3 [IonQ]",
   "language": "python",
   "name": "python3_ionq_6vdluz"
  },
  "language_info": {
   "codemirror_mode": {
    "name": "ipython",
    "version": 3
   },
   "file_extension": ".py",
   "mimetype": "text/x-python",
   "name": "python",
   "nbconvert_exporter": "python",
   "pygments_lexer": "ipython3",
   "version": "3.9.10"
  }
 },
 "nbformat": 4,
 "nbformat_minor": 5
}
