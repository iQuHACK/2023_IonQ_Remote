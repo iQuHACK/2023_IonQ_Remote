{
 "cells": [
  {
   "cell_type": "code",
   "execution_count": 1,
   "id": "edbfcaa1",
   "metadata": {},
   "outputs": [],
   "source": [
    "import cirq\n",
    "import numpy as np\n",
    "import pickle\n",
    "import json"
   ]
  },
  {
   "cell_type": "code",
   "execution_count": 2,
   "id": "3d1a8015",
   "metadata": {},
   "outputs": [],
   "source": [
    "#making mock data data1.json and data2.json\n",
    "\n",
    "image1={\"image\":[[0,0],[0,0]],\"category\":1}\n",
    "image2={\"image\":[[1,1],[1,1]],\"category\":0}\n",
    "\n",
    "with open('data1.json', \"w\") as outfile:\n",
    "    json.dump(image1, outfile)\n",
    "    \n",
    "with open('data2.json', \"w\") as outfile:\n",
    "    json.dump(image2, outfile)"
   ]
  },
  {
   "cell_type": "code",
   "execution_count": 3,
   "id": "d36c16ef",
   "metadata": {},
   "outputs": [],
   "source": [
    "circuit=cirq.Circuit()\n",
    "circuit.append(cirq.rx(np.pi).on(cirq.LineQubit(0)))\n",
    "#making mock submission for part2\n",
    "with open('part2.pickle', 'wb') as f:\n",
    "    pickle.dump(circuit,f)"
   ]
  },
  {
   "cell_type": "code",
   "execution_count": null,
   "id": "55574177",
   "metadata": {},
   "outputs": [],
   "source": []
  }
 ],
 "metadata": {
  "kernelspec": {
   "display_name": "Python 3 (ipykernel)",
   "language": "python",
   "name": "python3"
  },
  "language_info": {
   "codemirror_mode": {
    "name": "ipython",
    "version": 3
   },
   "file_extension": ".py",
   "mimetype": "text/x-python",
   "name": "python",
   "nbconvert_exporter": "python",
   "pygments_lexer": "ipython3",
   "version": "3.8.0"
  }
 },
 "nbformat": 4,
 "nbformat_minor": 5
}
