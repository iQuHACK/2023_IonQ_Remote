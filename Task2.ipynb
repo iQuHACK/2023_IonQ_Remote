{
 "cells": [
  {
   "cell_type": "code",
   "execution_count": 1,
   "id": "83c106da-f5bd-49f6-9e1f-2978c6f91b9e",
   "metadata": {},
   "outputs": [
    {
     "name": "stderr",
     "output_type": "stream",
     "text": [
      "<frozen importlib._bootstrap>:219: RuntimeWarning: scipy._lib.messagestream.MessageStream size changed, may indicate binary incompatibility. Expected 56 from C header, got 64 from PyObject\n"
     ]
    }
   ],
   "source": [
    "import numpy as np\n",
    "\n",
    "# Importing standard Qiskit libraries\n",
    "from qiskit import QuantumCircuit, transpile, Aer, IBMQ\n",
    "from qiskit.tools.jupyter import *\n",
    "from qiskit.visualization import *\n",
    "from ibm_quantum_widgets import *\n",
    "from qiskit.providers.aer import QasmSimulator\n",
    "\n",
    "# Loading your IBM Quantum account(s)\n",
    "provider = IBMQ.load_account()"
   ]
  },
  {
   "cell_type": "code",
   "execution_count": 6,
   "id": "fca0121e-a1b0-4cc0-b326-7212f83c8331",
   "metadata": {},
   "outputs": [],
   "source": [
    "import qiskit\n",
    "import pickle\n",
    "\n",
    "# Define the quantum circuit\n",
    "\n",
    "def run_part2(image):\n",
    "    # a. Use encode(image) to convert the image into a quantum circuit\n",
    "    qr = qiskit.QuantumRegister(8) # 8 qubits to represent the 8x8 image\n",
    "    circuit = qiskit.QuantumCircuit(qr)\n",
    "    # Add gates to the circuit to implement the classifier logic\n",
    "    circuit.h(qr[0])\n",
    "    circuit.cx(qr[0], qr[1])\n",
    "    circuit.cx(qr[1], qr[2])\n",
    "\n",
    "    # Save the circuit to a .pickle file\n",
    "    with open(\"quantum_classifier.pickle\", \"wb\") as file:\n",
    "        pickle.dump(circuit, file)\n",
    "\n",
    "\n",
    "    \n",
    "    en_image = encode(image)\n",
    "    \n",
    "    # b. Append the circuit with the classifier circuit loaded from the .pickle file\n",
    "    with open(\"quantum_classifier.pickle\", \"rb\") as file:\n",
    "        classifier_circuit = pickle.load(file)\n",
    "        \n",
    "    #circuit = encoded_image + classifier_circuit\n",
    "    circuit = en_image.compose(classifier_circuit)\n",
    "    \n",
    "    # c. Simulate the circuit (encoded_image+classifier_circuit) and get a histogram\n",
    "    backend = qiskit.BasicAer.get_backend(\"qasm_simulator\")\n",
    "    result = qiskit.execute(circuit, backend, shots=1024).result()\n",
    "    \n",
    "    # Assemble, simulate and get histogram\n",
    "    ob1 = assemble(circuit)\n",
    "    res = backend.run(ob1).result()\n",
    "    histogram = result.get_counts()\n",
    "    \n",
    "    # d. Run the provided histogram_to_label(histogram) to convert the histogram from c into a label\n",
    "    label = histogram_to_label(histogram)\n",
    "    \n",
    "    # e. Output the label, and the circuit (encoded_image+classifier_circuit)\n",
    "    return label, circuit"
   ]
  },
  {
   "cell_type": "code",
   "execution_count": null,
   "id": "d9872189-b0bd-4c7e-ba42-74a913a4d012",
   "metadata": {},
   "outputs": [],
   "source": []
  }
 ],
 "metadata": {
  "kernelspec": {
   "display_name": "Python 3 (ipykernel)",
   "language": "python",
   "name": "python3"
  },
  "language_info": {
   "codemirror_mode": {
    "name": "ipython",
    "version": 3
   },
   "file_extension": ".py",
   "mimetype": "text/x-python",
   "name": "python",
   "nbconvert_exporter": "python",
   "pygments_lexer": "ipython3",
   "version": "3.8.13"
  },
  "widgets": {
   "application/vnd.jupyter.widget-state+json": {
    "state": {
     "0f1bc53a1dbd4dbda14c8f46c7494d1b": {
      "model_module": "@jupyter-widgets/controls",
      "model_module_version": "1.5.0",
      "model_name": "HTMLModel",
      "state": {
       "layout": "IPY_MODEL_b21c31bb7d0242a58172f1369561b4ef",
       "style": "IPY_MODEL_9adfbb89e71c48a7a0ef64b45ee14da4",
       "value": "<p style='font-family: IBM Plex Sans, Arial, Helvetica, sans-serif; font-size: 20px; font-weight: medium;'>Circuit Properties</p>"
      }
     },
     "190b60128e2f4774aa9d0e4cc4f7fff3": {
      "model_module": "@jupyter-widgets/controls",
      "model_module_version": "1.5.0",
      "model_name": "HBoxModel",
      "state": {
       "children": [
        "IPY_MODEL_9e76b53cada846d3b5697645e30980ac",
        "IPY_MODEL_acea231f14894c74b14d571f69cfc1ed",
        "IPY_MODEL_545aa027c61c4672a3911deeeb6c5785",
        "IPY_MODEL_f4bc1f032e704362ada46f94527f92fb",
        "IPY_MODEL_2b719800c6064a65bd50346706ae1863"
       ],
       "layout": "IPY_MODEL_6e30fbab3a2d4f2cabf3388b47e865cb"
      }
     },
     "2b719800c6064a65bd50346706ae1863": {
      "model_module": "@jupyter-widgets/controls",
      "model_module_version": "1.5.0",
      "model_name": "HTMLModel",
      "state": {
       "layout": "IPY_MODEL_b9524210f7d84620a4d75dbfe59d4dff",
       "style": "IPY_MODEL_5f2b1f8616d5489bb687f7560908e1e8",
       "value": "<h5>Message</h5>"
      }
     },
     "32b5794ec39c417da6516c0631d0f4db": {
      "model_module": "@jupyter-widgets/base",
      "model_module_version": "1.2.0",
      "model_name": "LayoutModel",
      "state": {
       "width": "145px"
      }
     },
     "39dd4405bd5748f3b41bf837d500ada0": {
      "model_module": "@jupyter-widgets/controls",
      "model_module_version": "1.5.0",
      "model_name": "GridBoxModel",
      "state": {
       "children": [
        "IPY_MODEL_db7dbcdcbf7e4892bdcdc33a9099029b"
       ],
       "layout": "IPY_MODEL_4b6313a8d98740df936eb8cb2edd6ea4"
      }
     },
     "3d5751d4d2ca45538f214dac9b2da733": {
      "model_module": "@jupyter-widgets/base",
      "model_module_version": "1.2.0",
      "model_name": "LayoutModel",
      "state": {
       "grid_area": "right",
       "padding": "0px 0px 0px 0px",
       "width": "70px"
      }
     },
     "3db77945382744088beda241be073136": {
      "model_module": "@jupyter-widgets/controls",
      "model_module_version": "1.5.0",
      "model_name": "ButtonStyleModel",
      "state": {}
     },
     "3ead34c20a5b470aaa7e7b77c748b933": {
      "model_module": "@jupyter-widgets/base",
      "model_module_version": "1.2.0",
      "model_name": "LayoutModel",
      "state": {
       "width": "95px"
      }
     },
     "4b6313a8d98740df936eb8cb2edd6ea4": {
      "model_module": "@jupyter-widgets/base",
      "model_module_version": "1.2.0",
      "model_name": "LayoutModel",
      "state": {
       "grid_template_areas": "\n                                       \". . . . right \"\n                                        ",
       "grid_template_columns": "20% 20% 20% 20% 20%",
       "width": "100%"
      }
     },
     "52a82b2031c64460a373f13420c236be": {
      "model_module": "@jupyter-widgets/controls",
      "model_module_version": "1.5.0",
      "model_name": "DescriptionStyleModel",
      "state": {
       "description_width": ""
      }
     },
     "545aa027c61c4672a3911deeeb6c5785": {
      "model_module": "@jupyter-widgets/controls",
      "model_module_version": "1.5.0",
      "model_name": "HTMLModel",
      "state": {
       "layout": "IPY_MODEL_3ead34c20a5b470aaa7e7b77c748b933",
       "style": "IPY_MODEL_e53b238921b64396a8ec5f8dfc496d3c",
       "value": "<h5>Status</h5>"
      }
     },
     "5f2b1f8616d5489bb687f7560908e1e8": {
      "model_module": "@jupyter-widgets/controls",
      "model_module_version": "1.5.0",
      "model_name": "DescriptionStyleModel",
      "state": {
       "description_width": ""
      }
     },
     "6e30fbab3a2d4f2cabf3388b47e865cb": {
      "model_module": "@jupyter-widgets/base",
      "model_module_version": "1.2.0",
      "model_name": "LayoutModel",
      "state": {
       "margin": "0px 0px 0px 37px",
       "width": "600px"
      }
     },
     "9adfbb89e71c48a7a0ef64b45ee14da4": {
      "model_module": "@jupyter-widgets/controls",
      "model_module_version": "1.5.0",
      "model_name": "DescriptionStyleModel",
      "state": {
       "description_width": ""
      }
     },
     "9e76b53cada846d3b5697645e30980ac": {
      "model_module": "@jupyter-widgets/controls",
      "model_module_version": "1.5.0",
      "model_name": "HTMLModel",
      "state": {
       "layout": "IPY_MODEL_d1374a309b7a4b3486a730b967b6a4cd",
       "style": "IPY_MODEL_b86f241057ff441386444845823564bb",
       "value": "<h5>Job ID</h5>"
      }
     },
     "9fe41c899cae40f9a1f34a9bbca490ee": {
      "model_module": "@jupyter-widgets/controls",
      "model_module_version": "1.5.0",
      "model_name": "DescriptionStyleModel",
      "state": {
       "description_width": ""
      }
     },
     "acea231f14894c74b14d571f69cfc1ed": {
      "model_module": "@jupyter-widgets/controls",
      "model_module_version": "1.5.0",
      "model_name": "HTMLModel",
      "state": {
       "layout": "IPY_MODEL_32b5794ec39c417da6516c0631d0f4db",
       "style": "IPY_MODEL_9fe41c899cae40f9a1f34a9bbca490ee",
       "value": "<h5>Backend</h5>"
      }
     },
     "b1557c31047c43ddae239cf003c0220b": {
      "model_module": "@jupyter-widgets/base",
      "model_module_version": "1.2.0",
      "model_name": "LayoutModel",
      "state": {
       "width": "70px"
      }
     },
     "b21c31bb7d0242a58172f1369561b4ef": {
      "model_module": "@jupyter-widgets/base",
      "model_module_version": "1.2.0",
      "model_name": "LayoutModel",
      "state": {
       "margin": "0px 0px 10px 0px"
      }
     },
     "b86f241057ff441386444845823564bb": {
      "model_module": "@jupyter-widgets/controls",
      "model_module_version": "1.5.0",
      "model_name": "DescriptionStyleModel",
      "state": {
       "description_width": ""
      }
     },
     "b9524210f7d84620a4d75dbfe59d4dff": {
      "model_module": "@jupyter-widgets/base",
      "model_module_version": "1.2.0",
      "model_name": "LayoutModel",
      "state": {}
     },
     "d1374a309b7a4b3486a730b967b6a4cd": {
      "model_module": "@jupyter-widgets/base",
      "model_module_version": "1.2.0",
      "model_name": "LayoutModel",
      "state": {
       "width": "190px"
      }
     },
     "db7dbcdcbf7e4892bdcdc33a9099029b": {
      "model_module": "@jupyter-widgets/controls",
      "model_module_version": "1.5.0",
      "model_name": "ButtonModel",
      "state": {
       "button_style": "primary",
       "description": "Clear",
       "layout": "IPY_MODEL_3d5751d4d2ca45538f214dac9b2da733",
       "style": "IPY_MODEL_3db77945382744088beda241be073136"
      }
     },
     "e53b238921b64396a8ec5f8dfc496d3c": {
      "model_module": "@jupyter-widgets/controls",
      "model_module_version": "1.5.0",
      "model_name": "DescriptionStyleModel",
      "state": {
       "description_width": ""
      }
     },
     "f4bc1f032e704362ada46f94527f92fb": {
      "model_module": "@jupyter-widgets/controls",
      "model_module_version": "1.5.0",
      "model_name": "HTMLModel",
      "state": {
       "layout": "IPY_MODEL_b1557c31047c43ddae239cf003c0220b",
       "style": "IPY_MODEL_52a82b2031c64460a373f13420c236be",
       "value": "<h5>Queue</h5>"
      }
     }
    },
    "version_major": 2,
    "version_minor": 0
   }
  }
 },
 "nbformat": 4,
 "nbformat_minor": 5
}
