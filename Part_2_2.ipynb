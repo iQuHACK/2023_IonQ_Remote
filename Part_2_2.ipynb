{
 "cells": [
  {
   "cell_type": "code",
   "execution_count": 15,
   "id": "5551ca27-ec4a-4378-a036-a15e7c78fd9f",
   "metadata": {},
   "outputs": [],
   "source": [
    "teamname = \"qcc_ducklings\"\n",
    "task = \"part 2\"\n",
    "teammates = [\"Jesús Fabián Macías Amador\",\"Sebastián Domínguez\",\"Fabián Hernández\",\"Jesús Guzmán\"]"
   ]
  },
  {
   "cell_type": "code",
   "execution_count": 1,
   "id": "1d9af247-5bd4-4606-98a1-f57dc23c2a03",
   "metadata": {},
   "outputs": [],
   "source": [
    "import numpy as np\n",
    "import pickle\n",
    "import json\n",
    "import os\n",
    "import qiskit\n",
    "from collections import Counter\n",
    "import matplotlib.pyplot as plt\n",
    "from qiskit import QuantumCircuit, assemble, Aer\n",
    "from qiskit.visualization import plot_bloch_multivector, plot_histogram, plot_bloch_vector, array_to_latex, plot_state_qsphere\n",
    "from math import pi, sqrt\n",
    "import pickle"
   ]
  },
  {
   "cell_type": "code",
   "execution_count": 2,
   "id": "4ef51426-8bcd-4604-9a0b-dc0d4ece4f53",
   "metadata": {},
   "outputs": [],
   "source": [
    "def normalize_image(image):\n",
    "    sum_sq = 0\n",
    "    for row in image:\n",
    "        for pixel in row:\n",
    "            sum_sq += pixel ** 2\n",
    "            \n",
    "    return image / np.sqrt(sum_sq)\n",
    "    \n",
    "def encoder(image):\n",
    "    image = normalize_image(image)\n",
    "    n = 10\n",
    "    qc = QuantumCircuit(n)\n",
    "    \n",
    "    for i in range(n):\n",
    "        qc.h(i)\n",
    "    \n",
    "    # 10 qubits, cada uno tiene 2 estados == 1024 estados a disposicion\n",
    "    size = len(image)\n",
    "    initial_state = np.zeros(2**n)\n",
    "    counter = 0\n",
    "    \n",
    "    for i in range(size):\n",
    "        for j in range(size):\n",
    "            initial_state[counter] = image[i][j]\n",
    "            counter += 1\n",
    "            \n",
    "    qc.initialize(initial_state)\n",
    "    qc.save_statevector()\n",
    "       \n",
    "    return qc\n",
    "\n",
    "def decoder(counts):\n",
    "    size = 28\n",
    "    reconstruction = np.zeros([size, size])\n",
    "\n",
    "    binaries = list(counts.keys())\n",
    "    decimals = list(map(lambda b: int(b, 2), binaries))\n",
    "\n",
    "    for b in list(counts.keys()):\n",
    "        d = int(b, 2)\n",
    "        i = int(np.floor(d / 28))\n",
    "        j = int(d % 28)\n",
    "        reconstruction[i][j] = counts[b]\n",
    "        \n",
    "    return reconstruction"
   ]
  },
  {
   "cell_type": "code",
   "execution_count": 3,
   "id": "5a3ba630-3b42-4e68-ac88-00c1d5ef816c",
   "metadata": {},
   "outputs": [],
   "source": [
    "def histogram_to_category(histogram):\n",
    "    \"\"\"This function take a histogram representations of circuit execution results, and process into labels as described in \n",
    "    the problem description.\"\"\"\n",
    "    assert abs(sum(histogram.values())-1)<1e-8\n",
    "    positive=0\n",
    "    for key in histogram.keys():\n",
    "        digits = bin(int(key))[2:].zfill(20)\n",
    "        if digits[-1]=='0':\n",
    "            positive+=histogram[key]\n",
    "        \n",
    "    return positive"
   ]
  },
  {
   "cell_type": "code",
   "execution_count": 4,
   "id": "9ac48c26-e06e-4568-9e2d-2378d3498a60",
   "metadata": {},
   "outputs": [],
   "source": [
    "#load the actual hackthon data (fashion-mnist)\n",
    "images=np.load('data/images.npy')*255\n",
    "labels=np.load('data/labels.npy')"
   ]
  },
  {
   "cell_type": "code",
   "execution_count": 8,
   "id": "f9d1f34b-40fb-4074-835e-43c6105f1b29",
   "metadata": {},
   "outputs": [],
   "source": [
    "def run_part2(image):\n",
    "    # Connect to simulator\n",
    "    sim = Aer.get_backend('aer_simulator')\n",
    "    \n",
    "    #Create a composite circuit\n",
    "    classifier = pickle.load(open(\"save.pickle\", \"rb\"))\n",
    "    encode = encoder(image)\n",
    "    circuit = encode.compose(classifier)\n",
    "    \n",
    "    # Assemble, simulate and get histogram\n",
    "    qobj = assemble(circuit)\n",
    "    result = sim.run(qobj).result()\n",
    "    counts = result.get_counts()\n",
    "    \n",
    "    # Get label\n",
    "    label = histogram_to_category(counts)\n",
    "    if label > 0.51:\n",
    "        label = 1\n",
    "    else:\n",
    "        label = 0\n",
    "    return label"
   ]
  },
  {
   "cell_type": "code",
   "execution_count": 14,
   "id": "5ed55c13-b8b3-4eb1-805f-1fd2bfbbc34a",
   "metadata": {},
   "outputs": [
    {
     "name": "stdout",
     "output_type": "stream",
     "text": [
      "1024\n"
     ]
    },
    {
     "data": {
      "text/plain": [
       "0"
      ]
     },
     "execution_count": 14,
     "metadata": {},
     "output_type": "execute_result"
    }
   ],
   "source": [
    "run_part2(images[4])"
   ]
  }
 ],
 "metadata": {
  "kernelspec": {
   "display_name": "Python 3 [IonQ]",
   "language": "python",
   "name": "python3_ionq_6vdluz"
  },
  "language_info": {
   "codemirror_mode": {
    "name": "ipython",
    "version": 3
   },
   "file_extension": ".py",
   "mimetype": "text/x-python",
   "name": "python",
   "nbconvert_exporter": "python",
   "pygments_lexer": "ipython3",
   "version": "3.9.10"
  }
 },
 "nbformat": 4,
 "nbformat_minor": 5
}
