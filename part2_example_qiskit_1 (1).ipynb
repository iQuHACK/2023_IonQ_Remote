{
 "cells": [
  {
   "cell_type": "code",
   "execution_count": 2,
   "metadata": {},
   "outputs": [],
   "source": [
    "import os\n",
    "import gzip\n",
    "import numpy as np\n",
    "import matplotlib.pyplot as plt\n",
    "from pylab import cm\n",
    "import warnings\n",
    "\n",
    "from sklearn import datasets\n",
    "from sklearn.model_selection import train_test_split\n",
    "from sklearn.preprocessing import StandardScaler, MinMaxScaler\n",
    "from sklearn.decomposition import PCA\n",
    "from sklearn.svm import SVC\n",
    "from sklearn.metrics import accuracy_score\n",
    "\n",
    "import qiskit\n",
    "from qiskit import *\n",
    "from qiskit import quantum_info\n",
    "from qiskit.execute_function import execute\n",
    "from qiskit import BasicAer\n",
    "\n",
    "from qiskit import Aer, execute\n",
    "from qiskit.circuit import QuantumCircuit, Parameter, ParameterVector\n",
    "from qiskit.circuit.library import PauliFeatureMap, ZFeatureMap, ZZFeatureMap\n",
    "from qiskit.circuit.library import TwoLocal, NLocal, RealAmplitudes, EfficientSU2\n",
    "from qiskit.circuit.library import HGate, RXGate, RYGate, RZGate, CXGate, CRXGate, CRZGate\n",
    "from qiskit_machine_learning.kernels import QuantumKernel\n",
    "\n",
    "import numpy as np\n",
    "import pickle\n",
    "import json\n",
    "import os\n",
    "from collections import Counter\n",
    "from sklearn.metrics import mean_squared_error\n",
    "from typing import Dict, List\n",
    "\n",
    "#define utility functions\n",
    "\n",
    "def simulate(circuit: qiskit.QuantumCircuit) -> dict:\n",
    "    \"\"\"Simulate the circuit, give the state vector as the result.\"\"\"\n",
    "    backend = BasicAer.get_backend('statevector_simulator')\n",
    "    job = execute(circuit, backend)\n",
    "    result = job.result()\n",
    "    state_vector = result.get_statevector()\n",
    "    \n",
    "    histogram = dict()\n",
    "    for i in range(len(state_vector)):\n",
    "        population = abs(state_vector[i]) ** 2\n",
    "        if population > 1e-9:\n",
    "            histogram[i] = population\n",
    "    \n",
    "    return histogram\n",
    "\n",
    "\n",
    "def histogram_to_category(histogram):\n",
    "    \"\"\"This function take a histogram representations of circuit execution results, and process into labels as described in \n",
    "    the problem description.\"\"\"\n",
    "    assert abs(sum(histogram.values())-1)<1e-8\n",
    "    positive=0\n",
    "    for key in histogram.keys():\n",
    "        digits = bin(int(key))[2:].zfill(20)\n",
    "        if digits[-1]=='0':\n",
    "            positive+=histogram[key]\n",
    "        \n",
    "    return positive\n",
    "\n",
    "\n",
    "def count_gates(circuit: qiskit.QuantumCircuit) -> Dict[int, int]:\n",
    "    \"\"\"Returns the number of gate operations with each number of qubits.\"\"\"\n",
    "    counter = Counter([len(gate[1]) for gate in circuit.data])\n",
    "    #feel free to comment out the following two lines. But make sure you don't have k-qubit gates in your circuit\n",
    "    #for k>2\n",
    "    for i in range(2,20):\n",
    "        assert counter[i]==0\n",
    "        \n",
    "    return counter"
   ]
  },
  {
   "cell_type": "code",
   "execution_count": 2,
   "metadata": {},
   "outputs": [],
   "source": [
    "# #load the mock data (for testing only)\n",
    "# files=os.listdir(\"mock_data\")\n",
    "# dataset=list()\n",
    "# for file in files:\n",
    "#     with open('mock_data/'+file, \"r\") as infile:\n",
    "#         loaded = json.load(infile)\n",
    "#         dataset.append(loaded)"
   ]
  },
  {
   "cell_type": "code",
   "execution_count": 3,
   "metadata": {},
   "outputs": [
    {
     "data": {
      "text/plain": [
       "<matplotlib.image.AxesImage at 0x7f71e4e3e3d0>"
      ]
     },
     "execution_count": 3,
     "metadata": {},
     "output_type": "execute_result"
    },
    {
     "data": {
      "image/png": "[encoded data removed]",
      "text/plain": [
       "<Figure size 432x288 with 1 Axes>"
      ]
     },
     "metadata": {
      "needs_background": "light"
     },
     "output_type": "display_data"
    }
   ],
   "source": [
    "#load the actual hackthon data (fashion-mnist)\n",
    "images=np.load('data/images.npy')\n",
    "labels=np.load('data/labels.npy')\n",
    "#you can visualize it\n",
    "import matplotlib.pyplot as plt\n",
    "plt.imshow(images[1100])"
   ]
  },
  {
   "cell_type": "code",
   "execution_count": 8,
   "metadata": {},
   "outputs": [],
   "source": [
    "#your submission\n",
    "\n",
    "# Functions 'encode' and 'decode' are dummy.\n",
    "def encode(image):\n",
    "    print(\"Encoding...\")\n",
    "    number_of_qubits = math.ceil(math.log(28*28, 2))\n",
    "    amplitude_vector = [0] * (2**number_of_qubits)\n",
    "    sum_squares = 0\n",
    "    amplitude_counter = 0\n",
    "    for i in image:\n",
    "        for j in i:\n",
    "            sum_squares+=j**2\n",
    "            amplitude_vector[amplitude_counter] = j\n",
    "            amplitude_counter+=1\n",
    "    global norm\n",
    "    norm = 1/np.sqrt(sum_squares)\n",
    "    amplitude_vector_new = [i*norm for i in amplitude_vector]\n",
    "    \n",
    "    # Some previous tests we were running -- ignore\n",
    "    \n",
    "    # global imtest\n",
    "    # imtest=[[0]*28 for z in range(28)]\n",
    "    # a_counter=0\n",
    "    # for i in range(28):\n",
    "    #     for j in range(28):\n",
    "    #         imtest[i][j]=amplitude_vector[a_counter]#/norm\n",
    "    #         a_counter+=1\n",
    "            \n",
    "            \n",
    "    # print(amplitude_vector)\n",
    "    qr = qiskit.QuantumRegister(number_of_qubits)\n",
    "    qc = qiskit.QuantumCircuit(qr)\n",
    "    qc.initialize(amplitude_vector_new, qr)\n",
    "\n",
    "    print(\"Encoded!\")\n",
    "    return qc\n",
    "\n",
    "def decode(histogram):\n",
    "    print(\"Decoding...\")      \n",
    "    image = [[0] * 28 for z in range(28)]\n",
    "    amplitude_counter=1\n",
    "    for i in range(28):\n",
    "        for j in range(28):\n",
    "            image[i][j] = histogram.get(amplitude_counter, 0)#/norm\n",
    "            amplitude_counter+=1\n",
    "    print(\"Decoded!\")\n",
    "    return image\n",
    "\n",
    "def run_part1(image):\n",
    "    #encode image into a circuit\n",
    "    circuit=encode(image)\n",
    "\n",
    "    #simulate circuit\n",
    "    histogram=simulate(circuit)\n",
    "\n",
    "    #reconstruct the image\n",
    "    image_re=decode(histogram)\n",
    "\n",
    "    return circuit,image_re\n",
    "\n",
    "\n",
    "def run_part2(image):\n",
    "    # load the quantum classifier circuit\n",
    "    # classifier=qiskit.QuantumCircuit.from_qasm_file('quantum_classifier.qasm')\n",
    "    \n",
    "    #encode image into circuit\n",
    "    circuit = encode(image)\n",
    "    image = decode(simulate(circuit))\n",
    "    \n",
    "    nsamples, nx, ny = image.shape\n",
    "    images_reshaped = image.reshape((nsamples,nx*ny))\n",
    "    \n",
    "    \n",
    "    \n",
    "    \n",
    "    #append with classifier circuit\n",
    "    # nq1 = circuit.width()\n",
    "    # nq2 = classifier.width()\n",
    "    # nq = max(nq1, nq2)\n",
    "    # qc = qiskit.QuantumCircuit(nq)\n",
    "    # qc.append(circuit.to_instruction(), list(range(nq1)))\n",
    "    # qc.append(classifier.to_instruction(), list(range(nq2)))\n",
    "    \n",
    "    \n",
    "    \n",
    "    #simulate circuit\n",
    "    histogram=simulate(qc)\n",
    "        \n",
    "    #convert histogram to category\n",
    "    label=histogram_to_category(histogram)\n",
    "    \n",
    "    #thresholding the label, any way you want\n",
    "    if label>0.5:\n",
    "        label=1\n",
    "    else:\n",
    "        label=0\n",
    "        \n",
    "    return circuit,label\n",
    "        \n",
    "    return circuit,label\n",
    "\n",
    "\n",
    "#score"
   ]
  },
  {
   "cell_type": "code",
   "execution_count": 10,
   "metadata": {},
   "outputs": [
    {
     "name": "stdout",
     "output_type": "stream",
     "text": [
      "1.0\n"
     ]
    }
   ],
   "source": [
    "#how we grade your submission\n",
    "\n",
    "score=0\n",
    "gatecount=0\n",
    "n=len(dataset)\n",
    "\n",
    "for data in dataset:\n",
    "    #run part 2\n",
    "    circuit,label=run_part2(data['image'])\n",
    "    \n",
    "    #count the gate used in the circuit for score calculation\n",
    "    gatecount+=count_gates(circuit)[2]\n",
    "    \n",
    "    #check label\n",
    "    if label==data['category']:\n",
    "        score+=1\n",
    "#score\n",
    "score=score/n\n",
    "gatecount=gatecount/n\n",
    "\n",
    "print(score*(0.999**gatecount))"
   ]
  },
  {
   "cell_type": "code",
   "execution_count": 106,
   "metadata": {},
   "outputs": [
    {
     "ename": "ValueError",
     "evalue": "not enough values to unpack (expected 3, got 2)",
     "output_type": "error",
     "traceback": [
      "\u001b[0;31m---------------------------------------------------------------------------\u001b[0m",
      "\u001b[0;31mValueError\u001b[0m                                Traceback (most recent call last)",
      "Cell \u001b[0;32mIn[106], line 3\u001b[0m\n\u001b[1;32m      1\u001b[0m plt\u001b[38;5;241m.\u001b[39mimshow(images[\u001b[38;5;241m1100\u001b[39m])\n\u001b[0;32m----> 3\u001b[0m nsamples, nx, ny \u001b[38;5;241m=\u001b[39m image\u001b[38;5;241m.\u001b[39mshape\n\u001b[1;32m      4\u001b[0m images_reshaped \u001b[38;5;241m=\u001b[39m image\u001b[38;5;241m.\u001b[39mreshape((nsamples,nx\u001b[38;5;241m*\u001b[39mny))\n",
      "\u001b[0;31mValueError\u001b[0m: not enough values to unpack (expected 3, got 2)"
     ]
    },
    {
     "data": {
      "image/png": "[encoded data removed]",
      "text/plain": [
       "<Figure size 432x288 with 1 Axes>"
      ]
     },
     "metadata": {
      "needs_background": "light"
     },
     "output_type": "display_data"
    }
   ],
   "source": []
  },
  {
   "cell_type": "code",
   "execution_count": 89,
   "metadata": {},
   "outputs": [],
   "source": [
    "new_array=np.zeros((2000, 764))\n",
    "img_counter = 0\n",
    "pxl_counter = 0\n",
    "for image in images:\n",
    "    image_array = np.zeros((764))\n",
    "    for i in image:\n",
    "        for j in i:\n",
    "            image_array[pxl_counter] = j\n",
    "            pxl_counter += 1\n",
    "        pxl_counter = 0\n",
    "    new_array[img_counter] = image_array\n",
    "    img_counter += 1"
   ]
  },
  {
   "cell_type": "code",
   "execution_count": 90,
   "metadata": {},
   "outputs": [],
   "source": [
    "nsamples, nx, ny = images.shape\n",
    "images_reshaped = images.reshape((nsamples,nx*ny))"
   ]
  },
  {
   "cell_type": "code",
   "execution_count": 91,
   "metadata": {},
   "outputs": [],
   "source": [
    "# training quantum classifier\n",
    "train_images, test_images, train_labels, test_labels = train_test_split(\n",
    "    images_reshaped, labels, test_size=0.2, random_state=420)\n",
    "\n",
    "sample_train, sample_val, labels_train, labels_val = train_test_split(\n",
    "    train_images, train_labels, test_size=0.2, random_state=42)"
   ]
  },
  {
   "cell_type": "code",
   "execution_count": 92,
   "metadata": {},
   "outputs": [
    {
     "data": {
      "image/png": "[encoded data removed]",
      "text/plain": [
       "<Figure size 432x288 with 2 Axes>"
      ]
     },
     "metadata": {
      "needs_background": "light"
     },
     "output_type": "display_data"
    }
   ],
   "source": [
    "fig = plt.figure()\n",
    "LABELS = [0, 1]\n",
    "num_labels = len(LABELS)\n",
    "for i in range(num_labels):\n",
    "    ax = fig.add_subplot(1, num_labels, i+1)\n",
    "    img = train_images[train_labels==LABELS[i]][0].reshape((28, 28))\n",
    "    ax.imshow(img, cmap=\"Greys\")"
   ]
  },
  {
   "cell_type": "code",
   "execution_count": 93,
   "metadata": {
    "tags": []
   },
   "outputs": [
    {
     "name": "stdout",
     "output_type": "stream",
     "text": [
      "(1600, 784)\n"
     ]
    }
   ],
   "source": [
    "print(train_images.shape)"
   ]
  },
  {
   "cell_type": "code",
   "execution_count": 94,
   "metadata": {},
   "outputs": [],
   "source": [
    "# # sample_train = train_images\n",
    "# # sample_val = test_images\n",
    "# # labels_train = train_labels\n",
    "# # labels_val = test_labels"
   ]
  },
  {
   "cell_type": "code",
   "execution_count": 95,
   "metadata": {},
   "outputs": [],
   "source": [
    "# Standardize\n",
    "standard_scaler = StandardScaler()\n",
    "sample_train = standard_scaler.fit_transform(sample_train)\n",
    "sample_val = standard_scaler.transform(sample_val)\n",
    "test_images = standard_scaler.transform(test_images)\n",
    "\n",
    "# Reduce dimensions\n",
    "N_DIM = 5\n",
    "pca = PCA(n_components=N_DIM)\n",
    "sample_train = pca.fit_transform(sample_train)\n",
    "sample_val = pca.transform(sample_val)\n",
    "test_images = pca.transform(test_images)\n",
    "\n",
    "# Normalize\n",
    "min_max_scaler = MinMaxScaler((-1, 1))\n",
    "sample_train = min_max_scaler.fit_transform(sample_train)\n",
    "sample_val = min_max_scaler.transform(sample_val)\n",
    "test_images = min_max_scaler.transform(test_images)"
   ]
  },
  {
   "cell_type": "code",
   "execution_count": 97,
   "metadata": {},
   "outputs": [
    {
     "name": "stdout",
     "output_type": "stream",
     "text": [
      "(1280, 5)\n"
     ]
    }
   ],
   "source": [
    "print(sample_train.shape)"
   ]
  },
  {
   "cell_type": "code",
   "execution_count": 98,
   "metadata": {},
   "outputs": [
    {
     "name": "stdout",
     "output_type": "stream",
     "text": [
      "Original validation labels:      [False False  True False False False  True False False  True False False\n",
      " False  True False False  True False False False False False  True False\n",
      " False False False False False False False False  True False False False\n",
      "  True  True False  True False False False False  True False False False\n",
      " False False False False False  True False False False False  True  True\n",
      " False False False False False  True False  True  True False  True False\n",
      " False False False False False False False  True False  True False  True\n",
      " False False False False False False  True False False False False  True\n",
      " False False  True False False False False False False False  True False\n",
      " False False False False False False False False False  True False False\n",
      " False  True False False False False False False False  True False False\n",
      " False  True False False False False False  True False False False  True\n",
      " False  True False  True False False False False False False False False\n",
      "  True False False False False False False  True False False  True False\n",
      " False False False False False False False False False False False False\n",
      "  True False  True False False False False  True False False False False\n",
      " False  True  True False False  True False  True False False False False\n",
      " False False  True False False False False False False  True False False\n",
      "  True False False False False False False False  True  True False False\n",
      " False False False  True False  True False  True  True False False False\n",
      " False  True False False False False False False False False False False\n",
      "  True False False  True False False False  True  True False  True  True\n",
      " False  True False  True False False False False False False False False\n",
      " False  True  True False  True False False False  True  True False False\n",
      " False  True False False False False  True  True  True False  True False\n",
      "  True False False False False False False False False  True  True False\n",
      " False False  True False False False False False]\n",
      "Validation labels for 0 vs Rest: [1 1 0 1 1 1 0 1 1 0 1 1 1 0 1 1 0 1 1 1 1 1 0 1 1 1 1 1 1 1 1 1 0 1 1 1 0\n",
      " 0 1 0 1 1 1 1 0 1 1 1 1 1 1 1 1 0 1 1 1 1 0 0 1 1 1 1 1 0 1 0 0 1 0 1 1 1\n",
      " 1 1 1 1 1 0 1 0 1 0 1 1 1 1 1 1 0 1 1 1 1 0 1 1 0 1 1 1 1 1 1 1 0 1 1 1 1\n",
      " 1 1 1 1 1 1 0 1 1 1 0 1 1 1 1 1 1 1 0 1 1 1 0 1 1 1 1 1 0 1 1 1 0 1 0 1 0\n",
      " 1 1 1 1 1 1 1 1 0 1 1 1 1 1 1 0 1 1 0 1 1 1 1 1 1 1 1 1 1 1 1 1 0 1 0 1 1\n",
      " 1 1 0 1 1 1 1 1 0 0 1 1 0 1 0 1 1 1 1 1 1 0 1 1 1 1 1 1 0 1 1 0 1 1 1 1 1\n",
      " 1 1 0 0 1 1 1 1 1 0 1 0 1 0 0 1 1 1 1 0 1 1 1 1 1 1 1 1 1 1 0 1 1 0 1 1 1\n",
      " 0 0 1 0 0 1 0 1 0 1 1 1 1 1 1 1 1 1 0 0 1 0 1 1 1 0 0 1 1 1 0 1 1 1 1 0 0\n",
      " 0 1 0 1 0 1 1 1 1 1 1 1 1 0 0 1 1 1 0 1 1 1 1 1]\n"
     ]
    }
   ],
   "source": [
    "labels_train_0 = np.where(labels_train==0, 1, 0)\n",
    "labels_val_0 = np.where(labels_val==0, 1, 0)\n",
    "\n",
    "print(f'Original validation labels:      {labels_val}')\n",
    "print(f'Validation labels for 0 vs Rest: {labels_val_0}')"
   ]
  },
  {
   "cell_type": "code",
   "execution_count": 99,
   "metadata": {},
   "outputs": [
    {
     "name": "stdout",
     "output_type": "stream",
     "text": [
      "Accuracy of discriminating between label 0 and others: 88.75%\n"
     ]
    }
   ],
   "source": [
    "pauli_map_0 = PauliFeatureMap(feature_dimension=N_DIM, reps=2, paulis = ['X', 'Y', 'ZZ'])\n",
    "pauli_kernel_0 = QuantumKernel(feature_map=pauli_map_0, quantum_instance=Aer.get_backend('statevector_simulator'))\n",
    "\n",
    "pauli_svc_0 = SVC(kernel='precomputed', probability=True)\n",
    "\n",
    "matrix_train_0 = pauli_kernel_0.evaluate(x_vec=sample_train)\n",
    "pauli_svc_0.fit(matrix_train_0, labels_train_0)\n",
    "\n",
    "matrix_val_0 = pauli_kernel_0.evaluate(x_vec=sample_val, y_vec=sample_train)\n",
    "pauli_score_0 = pauli_svc_0.score(matrix_val_0, labels_val_0)\n",
    "print(f'Accuracy of discriminating between label 0 and others: {pauli_score_0*100}%')"
   ]
  },
  {
   "cell_type": "code",
   "execution_count": 100,
   "metadata": {},
   "outputs": [
    {
     "name": "stdout",
     "output_type": "stream",
     "text": [
      "Probability of label 0: [0.97 0.99 0.9  0.82 0.11 0.4  0.29 0.89 0.88 0.96 0.01 0.09 0.03 0.96\n",
      " 0.92 0.21 0.9  0.98 0.43 0.38 0.9  0.69 0.99 0.07 0.94 0.98 0.03 0.91\n",
      " 0.96 0.94 0.64 0.59 0.76 0.83 0.01 0.91 0.06 0.84 0.88 0.14 0.75 0.48\n",
      " 0.88 0.96 0.84 0.96 0.97 0.84 0.76 0.39 0.01 0.23 0.87 0.83 0.87 0.9\n",
      " 0.62 0.99 0.98 0.24 1.   0.03 0.96 0.69 0.89 0.96 0.83 0.96 0.96 0.91\n",
      " 0.97 0.98 0.94 0.11 0.87 0.93 0.86 0.9  0.9  0.72 0.44 0.99 0.49 0.51\n",
      " 0.51 0.96 0.04 0.65 0.9  0.76 0.14 0.92 0.86 0.98 0.97 0.99 0.98 0.9\n",
      " 0.06 0.12 0.72 0.99 0.99 0.78 0.71 0.99 0.9  0.85 0.71 0.64 0.9  0.99\n",
      " 0.98 0.24 0.83 0.97 0.98 0.81 0.78 0.14 0.99 0.39 0.5  0.86 0.92 0.21\n",
      " 0.63 0.46 0.98 0.98 0.98 0.85 0.16 0.52 0.95 0.95 0.88 0.02 0.91 0.07\n",
      " 0.86 0.96 0.91 0.98 0.99 0.92 0.78 0.85 0.99 0.92 0.85 0.63 0.96 0.92\n",
      " 0.95 0.78 0.02 0.98 0.94 0.51 0.12 0.84 0.19 0.98 0.98 0.82 0.12 0.98\n",
      " 0.9  0.02 0.98 0.97 0.99 0.97 0.94 0.03 0.97 0.31 0.96 0.62 0.95 0.99\n",
      " 0.99 0.02 0.94 0.95 0.91 0.02 0.92 0.91 0.87 0.99 0.96 0.88 0.13 0.39\n",
      " 0.05 0.89 0.1  0.99 0.89 0.95 0.96 0.85 0.88 0.99 0.35 0.89 0.58 0.95\n",
      " 0.83 0.02 0.06 0.87 0.02 0.86 0.66 0.95 0.65 0.86 0.64 0.97 0.89 0.83\n",
      " 0.8  0.04 0.89 0.97 0.96 0.99 0.87 0.04 0.85 0.94 0.95 0.99 0.07 0.9\n",
      " 0.94 0.92 0.97 0.85 0.75 0.59 0.96 0.97 0.88 0.88 0.95 0.98 0.91 0.96\n",
      " 0.9  0.98 0.91 0.07 0.58 0.93 0.79 0.88 1.   0.89 0.76 0.97 0.87 0.98\n",
      " 0.95 0.06 0.96 1.   0.96 0.77 0.91 0.92 0.9  0.84 0.78 0.89 0.92 0.87\n",
      " 0.04 0.92 0.96 0.01 0.98 0.96 0.97 0.99 0.91 0.94 0.19 0.84 0.69 0.43\n",
      " 0.66 0.89 0.97 0.96 0.66 0.12 0.95 0.92 0.74 0.79 0.97 0.97 0.88 0.89\n",
      " 0.12 0.13 0.95 0.6  0.73 0.97 0.9  0.95 0.97 0.97 0.94 0.98 0.63 0.73\n",
      " 0.15 0.94 0.92 0.93 0.93 0.68 0.99 0.76 0.8  0.9  0.98 0.57 0.84 0.97\n",
      " 0.76 0.88 1.   0.93 0.78 0.72 0.97 0.1  0.18 0.98 0.18 0.96 0.93 0.11\n",
      " 0.65 0.86 0.18 0.84 0.87 0.93 0.88 0.9  0.96 0.96 0.38 0.97 0.97 0.98\n",
      " 0.2  0.94 0.92 0.83 0.99 0.97 0.98 0.97 0.69 0.96 0.93 0.79 1.   0.77\n",
      " 0.99 0.93 0.99 0.06 0.9  0.43 0.91 0.86 0.81 0.9  0.94 0.97 0.98 0.84\n",
      " 0.77 1.   0.98 0.99 0.52 0.91 0.96 1.  ]\n"
     ]
    }
   ],
   "source": [
    "matrix_test_0 = pauli_kernel_0.evaluate(x_vec=test_images, y_vec=sample_train)\n",
    "pred_0 = pauli_svc_0.predict_proba(matrix_test_0)[:, 1]\n",
    "print(f'Probability of label 0: {np.round(pred_0, 2)}')"
   ]
  },
  {
   "cell_type": "code",
   "execution_count": 105,
   "metadata": {},
   "outputs": [
    {
     "name": "stdout",
     "output_type": "stream",
     "text": [
      "[0.88862201 0.11137799]\n"
     ]
    }
   ],
   "source": [
    "pred = pauli_svc_0.predict_proba(matrix_test_0)[4]"
   ]
  },
  {
   "cell_type": "code",
   "execution_count": 109,
   "metadata": {},
   "outputs": [],
   "source": [
    "classifier_file = open('quantum_classifier.pickle', 'wb')\n",
    "pickle.dump(pauli_kernel_0, classifier_file)\n",
    "classifier_file.close()"
   ]
  },
  {
   "cell_type": "code",
   "execution_count": null,
   "metadata": {},
   "outputs": [],
   "source": [
    "matrix_test_0 = pauli_kernel_0.evaluate(x_vec=images_reshaped)\n",
    "pred = pauli_svc_0.predict_proba(images)[0]\n",
    "print(pred)"
   ]
  },
  {
   "cell_type": "code",
   "execution_count": null,
   "metadata": {},
   "outputs": [],
   "source": []
  }
 ],
 "metadata": {
  "kernelspec": {
   "display_name": "Python 3 [Default]",
   "language": "python",
   "name": "python3"
  },
  "language_info": {
   "codemirror_mode": {
    "name": "ipython",
    "version": 3
   },
   "file_extension": ".py",
   "mimetype": "text/x-python",
   "name": "python",
   "nbconvert_exporter": "python",
   "pygments_lexer": "ipython3",
   "version": "3.9.10"
  },
  "vscode": {
   "interpreter": {
    "hash": "397704579725e15f5c7cb49fe5f0341eb7531c82d19f2c29d197e8b64ab5776b"
   }
  }
 },
 "nbformat": 4,
 "nbformat_minor": 4
}
