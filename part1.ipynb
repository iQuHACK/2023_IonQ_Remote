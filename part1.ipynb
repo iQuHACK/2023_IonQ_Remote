{
 "cells": [
  {
   "cell_type": "code",
   "execution_count": 6,
   "metadata": {},
   "outputs": [],
   "source": [
    "import qiskit\n",
    "from qiskit import quantum_info\n",
    "from qiskit.execute_function import execute\n",
    "from qiskit import BasicAer\n",
    "import numpy as np\n",
    "import pickle\n",
    "import json\n",
    "import os\n",
    "from collections import Counter\n",
    "from sklearn.metrics import mean_squared_error\n",
    "from typing import Dict, List\n",
    "import matplotlib.pyplot as plt\n",
    "import math\n",
    "\n",
    "# Utility functions (given to us)\n",
    "\n",
    "def simulate(circuit: qiskit.QuantumCircuit) -> dict:\n",
    "    \"\"\"Simulate the circuit, give the state vector as the result.\"\"\"\n",
    "    backend = BasicAer.get_backend('statevector_simulator')\n",
    "    job = execute(circuit, backend)\n",
    "    result = job.result()\n",
    "    state_vector = result.get_statevector()\n",
    "    histogram = dict()\n",
    "    for i in range(len(state_vector)):\n",
    "        population = abs(state_vector[i]) ** 2\n",
    "        if population > 1e-9:\n",
    "            histogram[i] = population\n",
    "    \n",
    "    return histogram\n",
    "\n",
    "\n",
    "def histogram_to_category(histogram):\n",
    "    \"\"\"This function take a histogram representations of circuit execution results, and process into labels as described in \n",
    "    the problem description.\"\"\"\n",
    "    assert abs(sum(histogram.values())-1)<1e-8\n",
    "    positive=0\n",
    "    for key in histogram.keys():\n",
    "        digits = bin(int(key))[2:].zfill(20)\n",
    "        if digits[-1]=='0':\n",
    "            positive+=histogram[key]\n",
    "        \n",
    "    return positive\n",
    "\n",
    "\n",
    "def count_gates(circuit: qiskit.QuantumCircuit) -> Dict[int, int]:\n",
    "    \"\"\"Returns the number of gate operations with each number of qubits.\"\"\"\n",
    "    counter = Counter([len(gate[1]) for gate in circuit.data])\n",
    "    #feel free to comment out the following two lines. But make sure you don't have k-qubit gates in your circuit\n",
    "    #for k>2\n",
    "    # for i in range(2,20):\n",
    "    #     assert counter[i]==0\n",
    "        \n",
    "    return counter\n",
    "\n",
    "\n",
    "def image_mse(image1,image2):\n",
    "    # Using sklearns mean squared error:\n",
    "    # https://scikit-learn.org/stable/modules/generated/sklearn.metrics.mean_squared_error.html\n",
    "    return mean_squared_error(image1, image2)"
   ]
  },
  {
   "cell_type": "code",
   "execution_count": 7,
   "metadata": {},
   "outputs": [],
   "source": [
    "# #load the mock data (for testing only)\n",
    "# files=os.listdir(\"mock_data\")\n",
    "# dataset=list()\n",
    "# for file in files:\n",
    "#     with open('mock_data/'+file, \"r\") as infile:\n",
    "#         loaded = json.load(infile)\n",
    "#         dataset.append(loaded)\n",
    "\n",
    "# Irrelevant data"
   ]
  },
  {
   "cell_type": "code",
   "execution_count": 8,
   "metadata": {},
   "outputs": [
    {
     "name": "stdout",
     "output_type": "stream",
     "text": [
      "[0.         0.         0.         0.         0.         0.\n",
      " 0.         0.         0.00059977 0.00138408 0.00207612 0.00307574\n",
      " 0.00202999 0.00092272 0.00098424 0.00127643 0.0028143  0.00299885\n",
      " 0.00149173 0.00044598 0.         0.         0.         0.\n",
      " 0.         0.         0.         0.        ]\n",
      "T-shirt?:  False\n"
     ]
    },
    {
     "data": {
      "image/png": "[encoded data removed]",
      "text/plain": [
       "<Figure size 432x288 with 1 Axes>"
      ]
     },
     "metadata": {
      "needs_background": "light"
     },
     "output_type": "display_data"
    }
   ],
   "source": [
    "# Load Fashion-MNIST data (only t-shirts, label=0)\n",
    "images = np.load('data/images.npy')\n",
    "labels = np.load('data/labels.npy')\n",
    "\n",
    "# Visualizing the dataset\n",
    "print(images[0][0])\n",
    "plt.imshow(images[1100])\n",
    "print('T-shirt?: ', labels[1100])"
   ]
  },
  {
   "cell_type": "code",
   "execution_count": 9,
   "metadata": {},
   "outputs": [],
   "source": [
    "def encode(image):\n",
    "    print(\"Encoding...\")\n",
    "    number_of_qubits = math.ceil(math.log(28*28, 2))\n",
    "    amplitude_vector = [0] * (2**number_of_qubits)\n",
    "    sum_squares = 0\n",
    "    amplitude_counter = 0\n",
    "    for i in image:\n",
    "        for j in i:\n",
    "            sum_squares+=j**2\n",
    "            amplitude_vector[amplitude_counter] = j\n",
    "            amplitude_counter+=1\n",
    "    global norm\n",
    "    norm = 1/np.sqrt(sum_squares)\n",
    "    amplitude_vector_new = [i*norm for i in amplitude_vector]\n",
    "    \n",
    "    # Some previous tests we were running -- ignore\n",
    "    \n",
    "    # global imtest\n",
    "    # imtest=[[0]*28 for z in range(28)]\n",
    "    # a_counter=0\n",
    "    # for i in range(28):\n",
    "    #     for j in range(28):\n",
    "    #         imtest[i][j]=amplitude_vector[a_counter]#/norm\n",
    "    #         a_counter+=1\n",
    "            \n",
    "            \n",
    "    # print(amplitude_vector)\n",
    "    qr = qiskit.QuantumRegister(number_of_qubits)\n",
    "    qc = qiskit.QuantumCircuit(qr)\n",
    "    qc.initialize(amplitude_vector_new, qr)\n",
    "    # qc.draw\n",
    "    print(\"Encoded!\")\n",
    "    return qc\n",
    "\n",
    "def decode(histogram):\n",
    "    print(\"Decoding...\")      \n",
    "    image = [[0] * 28 for z in range(28)]\n",
    "    amplitude_counter=1\n",
    "    for i in range(28):\n",
    "        for j in range(28):\n",
    "            image[i][j] = histogram.get(amplitude_counter, 0)#/norm\n",
    "            amplitude_counter+=1\n",
    "    print(\"Decoded!\")\n",
    "    return image\n",
    "\n",
    "def run_part1(image):\n",
    "    #encode image into a circuit\n",
    "    circuit = encode(image)\n",
    "\n",
    "    #simulate circuit\n",
    "    histogram = simulate(circuit)\n",
    "\n",
    "    #reconstruct the image\n",
    "    image_re = decode(histogram)\n",
    "\n",
    "    return circuit, image_re"
   ]
  },
  {
   "cell_type": "code",
   "execution_count": 10,
   "metadata": {},
   "outputs": [
    {
     "name": "stdout",
     "output_type": "stream",
     "text": [
      "Encoding...\n",
      "Encoded!\n"
     ]
    },
    {
     "data": {
      "image/png": "[encoded data removed]",
      "text/plain": [
       "<Figure size 432x288 with 1 Axes>"
      ]
     },
     "metadata": {
      "needs_background": "light"
     },
     "output_type": "display_data"
    }
   ],
   "source": [
    "test_image = images[0]\n",
    "plt.imshow(test_image)\n",
    "\n",
    "encoded = encode(test_image)"
   ]
  },
  {
   "cell_type": "code",
   "execution_count": 11,
   "metadata": {},
   "outputs": [
    {
     "name": "stdout",
     "output_type": "stream",
     "text": [
      "Decoding...\n",
      "Decoded!\n",
      "6.190224439177201e-07\n"
     ]
    },
    {
     "data": {
      "text/plain": [
       "<matplotlib.image.AxesImage at 0x7fabc474b940>"
      ]
     },
     "execution_count": 11,
     "metadata": {},
     "output_type": "execute_result"
    },
    {
     "data": {
      "image/png": "[encoded data removed]",
      "text/plain": [
       "<Figure size 432x288 with 1 Axes>"
      ]
     },
     "metadata": {
      "needs_background": "light"
     },
     "output_type": "display_data"
    }
   ],
   "source": [
    "decoded =  decode(simulate(encoded))\n",
    "print(image_mse(images[0], decoded))\n",
    "plt.imshow(decoded)"
   ]
  },
  {
   "cell_type": "code",
   "execution_count": null,
   "metadata": {},
   "outputs": [
    {
     "name": "stdout",
     "output_type": "stream",
     "text": [
      "Encoding...\n",
      "Encoded!\n"
     ]
    }
   ],
   "source": [
    "# Submission grade\n",
    "\n",
    "n = 1 # for one image\n",
    "mse = 0\n",
    "gatecount = 0\n",
    "test_image = images[0] # same image that is shown above\n",
    "\n",
    "\n",
    "    \n",
    "#encode image into circuit\n",
    "circuit, image_re = run_part1(test_image)\n",
    "\n",
    "#count the number of qubit gates used\n",
    "gatecount += count_gates(circuit)[2]\n",
    "\n",
    "# calculate mean square error\n",
    "mse += image_mse(test_image, image_re)\n",
    "    \n",
    "#fidelity of reconstruction\n",
    "fidelity = 1 - mse\n",
    "gatecount = gatecount / n\n",
    "print('gatecount', gatecount)\n",
    "print('fidelity' , fidelity)\n",
    "\n",
    "#score for part1 \n",
    "print(fidelity * (0.999 ** gatecount))"
   ]
  },
  {
   "cell_type": "code",
   "execution_count": null,
   "metadata": {},
   "outputs": [],
   "source": []
  }
 ],
 "metadata": {
  "kernelspec": {
   "display_name": "Python 3 [Default]",
   "language": "python",
   "name": "python3"
  },
  "language_info": {
   "codemirror_mode": {
    "name": "ipython",
    "version": 3
   },
   "file_extension": ".py",
   "mimetype": "text/x-python",
   "name": "python",
   "nbconvert_exporter": "python",
   "pygments_lexer": "ipython3",
   "version": "3.9.10"
  },
  "vscode": {
   "interpreter": {
    "hash": "397704579725e15f5c7cb49fe5f0341eb7531c82d19f2c29d197e8b64ab5776b"
   }
  }
 },
 "nbformat": 4,
 "nbformat_minor": 4
}
