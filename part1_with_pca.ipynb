{
 "cells": [
  {
   "cell_type": "code",
   "execution_count": 2,
   "metadata": {},
   "outputs": [],
   "source": [
    "import qiskit\n",
    "from qiskit import quantum_info\n",
    "from qiskit.execute_function import execute\n",
    "from qiskit import BasicAer\n",
    "import numpy as np\n",
    "import pickle\n",
    "import json\n",
    "import os\n",
    "from collections import Counter\n",
    "from sklearn.metrics import mean_squared_error\n",
    "from typing import Dict, List\n",
    "import matplotlib.pyplot as plt\n",
    "\n",
    "#define utility functions\n",
    "\n",
    "def simulate(circuit: qiskit.QuantumCircuit) -> dict:\n",
    "    \"\"\"Simulate the circuit, give the state vector as the result.\"\"\"\n",
    "    backend = BasicAer.get_backend('statevector_simulator')\n",
    "    job = execute(circuit, backend)\n",
    "    result = job.result()\n",
    "    state_vector = result.get_statevector()\n",
    "    \n",
    "    histogram = dict()\n",
    "    for i in range(len(state_vector)):\n",
    "        population = abs(state_vector[i]) ** 2\n",
    "        if population > 1e-9:\n",
    "            histogram[i] = population\n",
    "    \n",
    "    return histogram\n",
    "\n",
    "\n",
    "def histogram_to_category(histogram):\n",
    "    \"\"\"This function take a histogram representations of circuit execution results, and process into labels as described in \n",
    "    the problem description.\"\"\"\n",
    "    assert abs(sum(histogram.values())-1)<1e-8\n",
    "    positive=0\n",
    "    for key in histogram.keys():\n",
    "        digits = bin(int(key))[2:].zfill(20)\n",
    "        if digits[-1]=='0':\n",
    "            positive+=histogram[key]\n",
    "        \n",
    "    return positive\n",
    "\n",
    "\n",
    "def count_gates(circuit: qiskit.QuantumCircuit) -> Dict[int, int]:\n",
    "    \"\"\"Returns the number of gate operations with each number of qubits.\"\"\"\n",
    "    counter = Counter([len(gate[1]) for gate in circuit.data])\n",
    "    #feel free to comment out the following two lines. But make sure you don't have k-qubit gates in your circuit\n",
    "    #for k>2\n",
    "    for i in range(3,20):\n",
    "        assert counter.get(i,0)==0\n",
    "        \n",
    "        \n",
    "    return counter\n",
    "\n",
    "\n",
    "def image_mse(image1,image2):\n",
    "    # Using sklearns mean squared error:\n",
    "    # https://scikit-learn.org/stable/modules/generated/sklearn.metrics.mean_squared_error.html\n",
    "    return mean_squared_error(image1, image2)"
   ]
  },
  {
   "cell_type": "code",
   "execution_count": 3,
   "metadata": {},
   "outputs": [
    {
     "name": "stdout",
     "output_type": "stream",
     "text": [
      "0.000000\n"
     ]
    }
   ],
   "source": [
    "a = 1e-9\n",
    "print('{:f}'.format(a))"
   ]
  },
  {
   "cell_type": "code",
   "execution_count": 4,
   "metadata": {},
   "outputs": [],
   "source": [
    "#load the mock data (for testing only)\n",
    "files=os.listdir(\"mock_data\")\n",
    "dataset=list()\n",
    "for file in files:\n",
    "    with open('mock_data/'+file, \"r\") as infile:\n",
    "        loaded = json.load(infile)\n",
    "        dataset.append(loaded)"
   ]
  },
  {
   "cell_type": "code",
   "execution_count": 5,
   "metadata": {},
   "outputs": [
    {
     "data": {
      "text/plain": [
       "[{'image': [[1, 1], [1, 1]], 'category': 0},\n",
       " {'image': [[0, 0], [0, 0]], 'category': 1}]"
      ]
     },
     "execution_count": 5,
     "metadata": {},
     "output_type": "execute_result"
    }
   ],
   "source": [
    "dataset"
   ]
  },
  {
   "cell_type": "code",
   "execution_count": 6,
   "metadata": {},
   "outputs": [
    {
     "data": {
      "text/plain": [
       "<matplotlib.image.AxesImage at 0x7f17ef5a90a0>"
      ]
     },
     "execution_count": 6,
     "metadata": {},
     "output_type": "execute_result"
    },
    {
     "data": {
      "image/png": "[encoded data removed]",
      "text/plain": [
       "<Figure size 432x288 with 1 Axes>"
      ]
     },
     "metadata": {
      "needs_background": "light"
     },
     "output_type": "display_data"
    }
   ],
   "source": [
    "#load the actual hackthon data (fashion-mnist)\n",
    "images=np.load('data/images.npy')\n",
    "labels=np.load('data/labels.npy')\n",
    "#you can visualize it\n",
    "plt.imshow(images[1100])"
   ]
  },
  {
   "cell_type": "code",
   "execution_count": 8,
   "metadata": {},
   "outputs": [],
   "source": [
    "#submission to part 1, you should make this into a .py file\n",
    "\n",
    "n=len(dataset)\n",
    "mse=0\n",
    "gatecount=0\n",
    "\n",
    "# Functions 'encode' and 'decode' are dummy.\n",
    "def encode(image):\n",
    "    q = qiskit.QuantumRegister(3)\n",
    "    circuit = qiskit.QuantumCircuit(q)\n",
    "    if image[0][0]==0:\n",
    "        circuit.rx(np.pi,0)\n",
    "    return circuit\n",
    "\n",
    "def decode(histogram):\n",
    "    if 1 in histogram.keys():\n",
    "        image=[[0,0],[0,0]]\n",
    "    else:\n",
    "        image=[[1,1],[1,1]]\n",
    "    return image\n",
    "\n",
    "def run_part1(image):\n",
    "    #encode image into a circuit\n",
    "    circuit = encode(image)\n",
    "\n",
    "    #simulate circuit\n",
    "    histogram = simulate(circuit)\n",
    "\n",
    "    #reconstruct the image\n",
    "    image_re = decode(histogram)\n",
    "\n",
    "    return circuit,image_re"
   ]
  },
  {
   "cell_type": "code",
   "execution_count": 5,
   "metadata": {},
   "outputs": [
    {
     "name": "stdout",
     "output_type": "stream",
     "text": [
      "1.0\n"
     ]
    }
   ],
   "source": [
    "#how we grade your submission\n",
    "\n",
    "n=len(dataset)\n",
    "mse=0\n",
    "gatecount=0\n",
    "\n",
    "for data in dataset:\n",
    "    #encode image into circuit\n",
    "    circuit,image_re=run_part1(data['image'])\n",
    "    \n",
    "    #count the number of 2qubit gates used\n",
    "    gatecount+=count_gates(circuit)[2]\n",
    "    \n",
    "    #calculate mse\n",
    "    mse+=image_mse(data['image'],image_re)\n",
    "    \n",
    "#fidelity of reconstruction\n",
    "f=1-mse\n",
    "gatecount=gatecount/n\n",
    "\n",
    "#score for part1 \n",
    "print(f*(0.999**gatecount))"
   ]
  },
  {
   "cell_type": "code",
   "execution_count": 14,
   "metadata": {},
   "outputs": [],
   "source": [
    "def encode(image):\n",
    "    q = qiskit.QuantumRegister(3)\n",
    "    circuit = qiskit.QuantumCircuit(q)\n",
    "    circuit.h([0, 1, 2])\n",
    "    return circuit"
   ]
  },
  {
   "cell_type": "code",
   "execution_count": 15,
   "metadata": {},
   "outputs": [
    {
     "data": {
      "text/plain": [
       "[{'image': [[1, 1], [1, 1]], 'category': 0},\n",
       " {'image': [[0, 0], [0, 0]], 'category': 1}]"
      ]
     },
     "execution_count": 15,
     "metadata": {},
     "output_type": "execute_result"
    }
   ],
   "source": [
    "dataset"
   ]
  },
  {
   "cell_type": "code",
   "execution_count": 16,
   "metadata": {},
   "outputs": [
    {
     "data": {
      "text/plain": [
       "{0: 0.12499999999999994,\n",
       " 1: 0.12499999999999994,\n",
       " 2: 0.12499999999999994,\n",
       " 3: 0.12499999999999994,\n",
       " 4: 0.12499999999999994,\n",
       " 5: 0.12499999999999994,\n",
       " 6: 0.12499999999999994,\n",
       " 7: 0.12499999999999994}"
      ]
     },
     "execution_count": 16,
     "metadata": {},
     "output_type": "execute_result"
    }
   ],
   "source": [
    "simulate(encode(dataset[0]['image']))"
   ]
  },
  {
   "cell_type": "code",
   "execution_count": 17,
   "metadata": {},
   "outputs": [
    {
     "data": {
      "text/plain": [
       "{0: 0.12499999999999994,\n",
       " 1: 0.12499999999999994,\n",
       " 2: 0.12499999999999994,\n",
       " 3: 0.12499999999999994,\n",
       " 4: 0.12499999999999994,\n",
       " 5: 0.12499999999999994,\n",
       " 6: 0.12499999999999994,\n",
       " 7: 0.12499999999999994}"
      ]
     },
     "execution_count": 17,
     "metadata": {},
     "output_type": "execute_result"
    }
   ],
   "source": [
    "simulate(encode(dataset[1]['image']))"
   ]
  },
  {
   "cell_type": "code",
   "execution_count": 21,
   "metadata": {},
   "outputs": [
    {
     "ename": "NameError",
     "evalue": "name 'desired_state' is not defined",
     "output_type": "error",
     "traceback": [
      "\u001b[0;31m---------------------------------------------------------------------------\u001b[0m",
      "\u001b[0;31mNameError\u001b[0m                                 Traceback (most recent call last)",
      "Cell \u001b[0;32mIn[21], line 1\u001b[0m\n\u001b[0;32m----> 1\u001b[0m \u001b[43mdesired_state\u001b[49m\n",
      "\u001b[0;31mNameError\u001b[0m: name 'desired_state' is not defined"
     ]
    }
   ],
   "source": [
    "desired_state"
   ]
  },
  {
   "cell_type": "code",
   "execution_count": 24,
   "metadata": {},
   "outputs": [
    {
     "data": {
      "text/plain": [
       "784"
      ]
     },
     "execution_count": 24,
     "metadata": {},
     "output_type": "execute_result"
    }
   ],
   "source": [
    "28 * 28"
   ]
  },
  {
   "cell_type": "code",
   "execution_count": 13,
   "metadata": {},
   "outputs": [
    {
     "name": "stdout",
     "output_type": "stream",
     "text": [
      "Raw Image data\n",
      "[0. 0. 0. 0. 0.]\n",
      "Image PCA\n",
      "[-9.39768822e-03 -9.76664193e-05  1.33050374e-02 -2.76735712e-03\n",
      "  2.54252086e-03]\n",
      "Image PCA min_ removed\n",
      "[0.         0.00930002 0.02270273 0.00663033 0.01194021]\n",
      "(28, 28)\n",
      "(256,)\n",
      "1.0\n",
      "PCA normalized\n",
      "[0.      0.06119 0.14939 0.04363 0.07857]\n",
      "Squared PCA\n",
      "[0.      0.00374 0.02232 0.0019  0.00617]\n",
      "###########Histogram\n",
      "[0.         0.00374478 0.0223159  0.00190339 0.0061728 ]\n",
      "Histogram root\n",
      "[0.         0.06119461 0.14938508 0.04362791 0.07856718]\n",
      "Denormalized \n",
      "[0.         0.00930002 0.02270273 0.00663033 0.01194021]\n",
      "Sumar mínimo\n",
      "[-9.39768822e-03 -9.76664193e-05  1.33050374e-02 -2.76735712e-03\n",
      "  2.54252086e-03]\n",
      "(256,)\n",
      "Reconstructed Image PCA\n",
      "[-9.39768822e-03 -9.76664193e-05  1.33050374e-02 -2.76735712e-03\n",
      "  2.54252086e-03]\n"
     ]
    },
    {
     "data": {
      "image/png": "[encoded data removed]",
      "text/plain": [
       "<Figure size 432x288 with 2 Axes>"
      ]
     },
     "metadata": {
      "needs_background": "light"
     },
     "output_type": "display_data"
    }
   ],
   "source": [
    "from qiskit import QuantumCircuit\n",
    "from sklearn.decomposition import PCA\n",
    "\n",
    "def encode_amplitude(images, image_index, n_qubits, debug=False):\n",
    "    N_images = len(images)\n",
    "    # We have 28x28 images as input\n",
    "    # - we can do amplitude encoding of a normalized amplitude vector that has size of 2 ** n (full power of two)\n",
    "    # 28 x 28 = 784 doesn't fit into a full power of two, so we use PCA to reduce the dimensionality to fit it \n",
    "    # into n_qubits (parametrized)\n",
    "    \n",
    "    \n",
    "    # [apply PCA]\n",
    "    # Create an instance of PCA\n",
    "    pca = PCA(n_components=2**n_qubits)\n",
    "\n",
    "    # Fit PCA on your 784-dimensional data\n",
    "    data = images.reshape(N_images, 28 * 28)\n",
    "    pca.fit(data)\n",
    "\n",
    "    # Apply dimensionality reduction on your data\n",
    "    data_pca = pca.transform(data)\n",
    "\n",
    "    image = images[image_index]\n",
    "    \n",
    "    if debug:\n",
    "    \n",
    "        print(\"Raw Image data\")\n",
    "        print(data[image_index][:5])\n",
    "    \n",
    "    image_pca = data_pca[image_index]\n",
    "    \n",
    "    min_ = image_pca.min()\n",
    "    \n",
    "    if debug:\n",
    "        print(\"Image PCA\")\n",
    "        print(image_pca[:5])\n",
    "\n",
    "    \n",
    "    image_pca = image_pca - min_\n",
    "    \n",
    "    if debug:\n",
    "        print(\"Image PCA min_ removed\")\n",
    "        print(image_pca[:5])\n",
    "    \n",
    "    # [normalize]\n",
    "    def normalize(row):\n",
    "        #We calculate the squareroot of the sum of the square values of the row\n",
    "        normalization_factor = np.sqrt(np.sum(row**2)) \n",
    "        if normalization_factor == 0.:\n",
    "            #If the sum is zero we return a 0\n",
    "            return 0.0\n",
    "        #Else we divide each value between the sum value above\n",
    "        row = row / normalization_factor\n",
    "        return row, normalization_factor\n",
    "    \n",
    "    image_pca_normalized, normalization_factor = normalize(image_pca)\n",
    "    \n",
    "    if debug:\n",
    "        print(image.shape)\n",
    "\n",
    "        print(image_pca_normalized.shape)\n",
    "\n",
    "        print(np.sum(image_pca_normalized**2))\n",
    "    \n",
    "    desired_state = image_pca_normalized\n",
    "    \n",
    "    #print(np.round(desired_state, 3))\n",
    "    if debug:\n",
    "        print(\"PCA normalized\")\n",
    "        print(np.round(image_pca_normalized, 5)[:5])\n",
    "\n",
    "        print(\"Squared PCA\")\n",
    "        print(np.round(desired_state ** 2, 5)[:5])\n",
    "    \n",
    "    ##########\n",
    "    # Amplitude Encoding\n",
    "    qc = QuantumCircuit(n_qubits)\n",
    "    qc.initialize(desired_state)\n",
    "    qc_decomposed = qc.decompose().decompose().decompose().decompose().decompose().decompose().decompose().decompose().decompose()\n",
    "\n",
    "    ##########\n",
    "    \n",
    "    decoder_params = dict(\n",
    "        pca=pca,\n",
    "        min_=min_,\n",
    "        normalization_factor=normalization_factor,\n",
    "        n_qubits=n_qubits,\n",
    "        image=image\n",
    "    )\n",
    "    \n",
    "    return qc_decomposed, decoder_params\n",
    "\n",
    "def decode_amplitude(histogram, normalization_factor, min_, pca, n_qubits, image, debug=False):\n",
    "    \n",
    "    histogram_array = np.zeros(2 ** n_qubits)\n",
    "    \n",
    "    for i in range(2 ** n_qubits):\n",
    "        histogram_array[i] = histogram.get(i, 0)\n",
    "    \n",
    "    if debug:\n",
    "        print(\"###########Histogram\")\n",
    "\n",
    "        print(histogram_array[:5])\n",
    "    \n",
    "    root = np.sqrt(histogram_array)\n",
    "    \n",
    "    if debug:\n",
    "        print(\"Histogram root\")\n",
    "        print(root[:5])\n",
    "    \n",
    "    root = root * normalization_factor\n",
    "    \n",
    "    if debug:\n",
    "        print(\"Denormalized \")\n",
    "        print(root[:5])\n",
    "    \n",
    "    root = root + min_\n",
    "    if debug:\n",
    "        print(\"Sumar mínimo\")\n",
    "        print(root[:5])\n",
    "    \n",
    "        print(root.shape)\n",
    "    \n",
    "        print(\"Reconstructed Image PCA\")\n",
    "        print(root[:5])\n",
    "    \n",
    "    reconstruction = pca.inverse_transform([root])\n",
    "    \n",
    "    #print(reconstruction)\n",
    "    \n",
    "    reconstructed_image = reconstruction[0].reshape(28, 28)\n",
    "    \n",
    "    if debug:\n",
    "    \n",
    "        fig, (ax1, ax2) = plt.subplots(nrows=1, ncols=2)\n",
    "\n",
    "        ax1.imshow(image)\n",
    "    \n",
    "        ax2.imshow(reconstructed_image)\n",
    "    \n",
    "        plt.show()\n",
    "    \n",
    "    return reconstructed_image\n",
    "    \n",
    "qc, decoder_params = encode_amplitude(images, 250, 8, debug=True)    \n",
    "\n",
    "histogram = simulate(qc)\n",
    "\n",
    "\n",
    "image = decode_amplitude(histogram, **decoder_params, debug=True)\n",
    "\n"
   ]
  },
  {
   "cell_type": "code",
   "execution_count": 14,
   "metadata": {},
   "outputs": [
    {
     "data": {
      "text/plain": [
       "Counter({1: 135, 2: 254})"
      ]
     },
     "execution_count": 14,
     "metadata": {},
     "output_type": "execute_result"
    }
   ],
   "source": [
    "count_gates(qc)"
   ]
  },
  {
   "cell_type": "code",
   "execution_count": null,
   "metadata": {},
   "outputs": [
    {
     "name": "stderr",
     "output_type": "stream",
     "text": [
      "1982it [2:45:41, 25.61s/it]"
     ]
    }
   ],
   "source": [
    "import tqdm\n",
    "\n",
    "def run_part1(images, image_index, n_qubits=8):\n",
    "    #encode image into a circuit\n",
    "    circuit, decoder_params = encode_amplitude(images, image_index, n_qubits=n_qubits)\n",
    "\n",
    "    #simulate circuit\n",
    "    histogram = simulate(circuit)\n",
    "\n",
    "    #reconstruct the image\n",
    "    image_re = decode_amplitude(histogram, **decoder_params)\n",
    "\n",
    "    return circuit,image_re\n",
    "\n",
    "#how we grade your submission\n",
    "\n",
    "n=len(dataset)\n",
    "mse=0\n",
    "gatecount=0\n",
    "\n",
    "for i, data in tqdm.tqdm(enumerate(images)):\n",
    "    #encode image into circuit\n",
    "    circuit, image_re =run_part1(images, i, n_qubits=8)\n",
    "    \n",
    "    #count the number of 2qubit gates used\n",
    "    gatecount+=count_gates(circuit)[2]\n",
    "    \n",
    "    #calculate mse\n",
    "    #print(images[i].shape)\n",
    "    #print(image_re.shape)\n",
    "    mse+=image_mse(images[i],image_re)\n",
    "    \n",
    "#fidelity of reconstruction\n",
    "f=1-mse\n",
    "gatecount=gatecount/n\n",
    "\n",
    "#score for part1 \n",
    "print(f*(0.999**gatecount))"
   ]
  },
  {
   "cell_type": "code",
   "execution_count": 87,
   "metadata": {},
   "outputs": [
    {
     "data": {
      "text/html": [
       "<div>\n",
       "<style scoped>\n",
       "    .dataframe tbody tr th:only-of-type {\n",
       "        vertical-align: middle;\n",
       "    }\n",
       "\n",
       "    .dataframe tbody tr th {\n",
       "        vertical-align: top;\n",
       "    }\n",
       "\n",
       "    .dataframe thead th {\n",
       "        text-align: right;\n",
       "    }\n",
       "</style>\n",
       "<table border=\"1\" class=\"dataframe\">\n",
       "  <thead>\n",
       "    <tr style=\"text-align: right;\">\n",
       "      <th></th>\n",
       "      <th>label</th>\n",
       "    </tr>\n",
       "  </thead>\n",
       "  <tbody>\n",
       "    <tr>\n",
       "      <th>0</th>\n",
       "      <td>True</td>\n",
       "    </tr>\n",
       "    <tr>\n",
       "      <th>1</th>\n",
       "      <td>True</td>\n",
       "    </tr>\n",
       "    <tr>\n",
       "      <th>2</th>\n",
       "      <td>True</td>\n",
       "    </tr>\n",
       "    <tr>\n",
       "      <th>3</th>\n",
       "      <td>True</td>\n",
       "    </tr>\n",
       "    <tr>\n",
       "      <th>4</th>\n",
       "      <td>True</td>\n",
       "    </tr>\n",
       "    <tr>\n",
       "      <th>...</th>\n",
       "      <td>...</td>\n",
       "    </tr>\n",
       "    <tr>\n",
       "      <th>495</th>\n",
       "      <td>True</td>\n",
       "    </tr>\n",
       "    <tr>\n",
       "      <th>496</th>\n",
       "      <td>True</td>\n",
       "    </tr>\n",
       "    <tr>\n",
       "      <th>497</th>\n",
       "      <td>True</td>\n",
       "    </tr>\n",
       "    <tr>\n",
       "      <th>498</th>\n",
       "      <td>True</td>\n",
       "    </tr>\n",
       "    <tr>\n",
       "      <th>499</th>\n",
       "      <td>True</td>\n",
       "    </tr>\n",
       "  </tbody>\n",
       "</table>\n",
       "<p>500 rows × 1 columns</p>\n",
       "</div>"
      ],
      "text/plain": [
       "     label\n",
       "0     True\n",
       "1     True\n",
       "2     True\n",
       "3     True\n",
       "4     True\n",
       "..     ...\n",
       "495   True\n",
       "496   True\n",
       "497   True\n",
       "498   True\n",
       "499   True\n",
       "\n",
       "[500 rows x 1 columns]"
      ]
     },
     "execution_count": 87,
     "metadata": {},
     "output_type": "execute_result"
    }
   ],
   "source": [
    "import pandas as pd\n",
    "pd.DataFrame(labels, columns=[\"label\"]).query(\"label==True\")"
   ]
  },
  {
   "cell_type": "code",
   "execution_count": null,
   "metadata": {},
   "outputs": [],
   "source": [
    "\"\"\"\n",
    "Shirt vs no shirt\n",
    "no shirt pueden ser distintos\n",
    "\"\"\""
   ]
  },
  {
   "cell_type": "code",
   "execution_count": 77,
   "metadata": {},
   "outputs": [
    {
     "data": {
      "text/plain": [
       "1024"
      ]
     },
     "execution_count": 77,
     "metadata": {},
     "output_type": "execute_result"
    }
   ],
   "source": [
    "2 ** 10"
   ]
  },
  {
   "cell_type": "code",
   "execution_count": 98,
   "metadata": {},
   "outputs": [
    {
     "data": {
      "text/html": [
       "<pre style=\"word-wrap: normal;white-space: pre;background: #fff0;line-height: 1.1;font-family: &quot;Courier New&quot;,Courier,monospace\">                                                                              »\n",
       "q_0: ─|0>─────────────────────────────────────────────────────────────────────»\n",
       "                                                                              »\n",
       "q_1: ─|0>─────────────────────────────────────────────────────────────────────»\n",
       "                                                                              »\n",
       "q_2: ─|0>─────────────────────────────────────────────────────────────────────»\n",
       "                                                                              »\n",
       "q_3: ─|0>─────────────────────────────────────────────────────────────────────»\n",
       "                                                                              »\n",
       "q_4: ─|0>─────────────────────────────────────────────────────────────────────»\n",
       "                                                                              »\n",
       "q_5: ─|0>─────────────────────────────────────────────────────────────────────»\n",
       "          ┌───────────────────────┐┌───┐┌───────────────────────────────┐┌───┐»\n",
       "q_6: ─|0>─┤ multiplex1_reverse_dg ├┤ X ├┤ multiplex1_reverse_reverse_dg ├┤ X ├»\n",
       "          └─────┬────────────┬────┘└─┬─┘└───────────────────────────────┘└─┬─┘»\n",
       "q_7: ─|0>───────┤ Ry(1.5738) ├───────■─────────────────────────────────────■──»\n",
       "                └────────────┘                                                »\n",
       "«                                                                           »\n",
       "«q_0: ──────────────────────────────────────────────────────────────────────»\n",
       "«                                                                           »\n",
       "«q_1: ──────────────────────────────────────────────────────────────────────»\n",
       "«                                                                           »\n",
       "«q_2: ──────────────────────────────────────────────────────────────────────»\n",
       "«                                                                           »\n",
       "«q_3: ──────────────────────────────────────────────────────────────────────»\n",
       "«                                                                           »\n",
       "«q_4: ──────────────────────────────────────────────────────────────────────»\n",
       "«     ┌────────────────────────┐┌───┐┌────────────────────────────────┐┌───┐»\n",
       "«q_5: ┤0                       ├┤ X ├┤0                               ├┤ X ├»\n",
       "«     │  multiplex2_reverse_dg │└─┬─┘│  multiplex2_reverse_reverse_dg │└─┬─┘»\n",
       "«q_6: ┤1                       ├──┼──┤1                               ├──┼──»\n",
       "«     └────────────────────────┘  │  └────────────────────────────────┘  │  »\n",
       "«q_7: ────────────────────────────■──────────────────────────────────────■──»\n",
       "«                                                                           »\n",
       "«                                                                           »\n",
       "«q_0: ──────────────────────────────────────────────────────────────────────»\n",
       "«                                                                           »\n",
       "«q_1: ──────────────────────────────────────────────────────────────────────»\n",
       "«                                                                           »\n",
       "«q_2: ──────────────────────────────────────────────────────────────────────»\n",
       "«                                                                           »\n",
       "«q_3: ──────────────────────────────────────────────────────────────────────»\n",
       "«     ┌────────────────────────┐┌───┐┌────────────────────────────────┐┌───┐»\n",
       "«q_4: ┤0                       ├┤ X ├┤0                               ├┤ X ├»\n",
       "«     │                        │└─┬─┘│                                │└─┬─┘»\n",
       "«q_5: ┤1 multiplex3_reverse_dg ├──┼──┤1 multiplex3_reverse_reverse_dg ├──┼──»\n",
       "«     │                        │  │  │                                │  │  »\n",
       "«q_6: ┤2                       ├──┼──┤2                               ├──┼──»\n",
       "«     └────────────────────────┘  │  └────────────────────────────────┘  │  »\n",
       "«q_7: ────────────────────────────■──────────────────────────────────────■──»\n",
       "«                                                                           »\n",
       "«                                                                           »\n",
       "«q_0: ──────────────────────────────────────────────────────────────────────»\n",
       "«                                                                           »\n",
       "«q_1: ──────────────────────────────────────────────────────────────────────»\n",
       "«                                                                           »\n",
       "«q_2: ──────────────────────────────────────────────────────────────────────»\n",
       "«     ┌────────────────────────┐┌───┐┌────────────────────────────────┐┌───┐»\n",
       "«q_3: ┤0                       ├┤ X ├┤0                               ├┤ X ├»\n",
       "«     │                        │└─┬─┘│                                │└─┬─┘»\n",
       "«q_4: ┤1                       ├──┼──┤1                               ├──┼──»\n",
       "«     │  multiplex4_reverse_dg │  │  │  multiplex4_reverse_reverse_dg │  │  »\n",
       "«q_5: ┤2                       ├──┼──┤2                               ├──┼──»\n",
       "«     │                        │  │  │                                │  │  »\n",
       "«q_6: ┤3                       ├──┼──┤3                               ├──┼──»\n",
       "«     └────────────────────────┘  │  └────────────────────────────────┘  │  »\n",
       "«q_7: ────────────────────────────■──────────────────────────────────────■──»\n",
       "«                                                                           »\n",
       "«                                                                           »\n",
       "«q_0: ──────────────────────────────────────────────────────────────────────»\n",
       "«                                                                           »\n",
       "«q_1: ──────────────────────────────────────────────────────────────────────»\n",
       "«     ┌────────────────────────┐┌───┐┌────────────────────────────────┐┌───┐»\n",
       "«q_2: ┤0                       ├┤ X ├┤0                               ├┤ X ├»\n",
       "«     │                        │└─┬─┘│                                │└─┬─┘»\n",
       "«q_3: ┤1                       ├──┼──┤1                               ├──┼──»\n",
       "«     │                        │  │  │                                │  │  »\n",
       "«q_4: ┤2 multiplex5_reverse_dg ├──┼──┤2 multiplex5_reverse_reverse_dg ├──┼──»\n",
       "«     │                        │  │  │                                │  │  »\n",
       "«q_5: ┤3                       ├──┼──┤3                               ├──┼──»\n",
       "«     │                        │  │  │                                │  │  »\n",
       "«q_6: ┤4                       ├──┼──┤4                               ├──┼──»\n",
       "«     └────────────────────────┘  │  └────────────────────────────────┘  │  »\n",
       "«q_7: ────────────────────────────■──────────────────────────────────────■──»\n",
       "«                                                                           »\n",
       "«                                                                           »\n",
       "«q_0: ──────────────────────────────────────────────────────────────────────»\n",
       "«     ┌────────────────────────┐┌───┐┌────────────────────────────────┐┌───┐»\n",
       "«q_1: ┤0                       ├┤ X ├┤0                               ├┤ X ├»\n",
       "«     │                        │└─┬─┘│                                │└─┬─┘»\n",
       "«q_2: ┤1                       ├──┼──┤1                               ├──┼──»\n",
       "«     │                        │  │  │                                │  │  »\n",
       "«q_3: ┤2                       ├──┼──┤2                               ├──┼──»\n",
       "«     │  multiplex6_reverse_dg │  │  │  multiplex6_reverse_reverse_dg │  │  »\n",
       "«q_4: ┤3                       ├──┼──┤3                               ├──┼──»\n",
       "«     │                        │  │  │                                │  │  »\n",
       "«q_5: ┤4                       ├──┼──┤4                               ├──┼──»\n",
       "«     │                        │  │  │                                │  │  »\n",
       "«q_6: ┤5                       ├──┼──┤5                               ├──┼──»\n",
       "«     └────────────────────────┘  │  └────────────────────────────────┘  │  »\n",
       "«q_7: ────────────────────────────■──────────────────────────────────────■──»\n",
       "«                                                                           »\n",
       "«     ┌────────────────────────┐┌───┐┌────────────────────────────────┐┌───┐\n",
       "«q_0: ┤0                       ├┤ X ├┤0                               ├┤ X ├\n",
       "«     │                        │└─┬─┘│                                │└─┬─┘\n",
       "«q_1: ┤1                       ├──┼──┤1                               ├──┼──\n",
       "«     │                        │  │  │                                │  │  \n",
       "«q_2: ┤2                       ├──┼──┤2                               ├──┼──\n",
       "«     │                        │  │  │                                │  │  \n",
       "«q_3: ┤3 multiplex7_reverse_dg ├──┼──┤3 multiplex7_reverse_reverse_dg ├──┼──\n",
       "«     │                        │  │  │                                │  │  \n",
       "«q_4: ┤4                       ├──┼──┤4                               ├──┼──\n",
       "«     │                        │  │  │                                │  │  \n",
       "«q_5: ┤5                       ├──┼──┤5                               ├──┼──\n",
       "«     │                        │  │  │                                │  │  \n",
       "«q_6: ┤6                       ├──┼──┤6                               ├──┼──\n",
       "«     └────────────────────────┘  │  └────────────────────────────────┘  │  \n",
       "«q_7: ────────────────────────────■──────────────────────────────────────■──\n",
       "«                                                                           </pre>"
      ],
      "text/plain": [
       "                                                                              »\n",
       "q_0: ─|0>─────────────────────────────────────────────────────────────────────»\n",
       "                                                                              »\n",
       "q_1: ─|0>─────────────────────────────────────────────────────────────────────»\n",
       "                                                                              »\n",
       "q_2: ─|0>─────────────────────────────────────────────────────────────────────»\n",
       "                                                                              »\n",
       "q_3: ─|0>─────────────────────────────────────────────────────────────────────»\n",
       "                                                                              »\n",
       "q_4: ─|0>─────────────────────────────────────────────────────────────────────»\n",
       "                                                                              »\n",
       "q_5: ─|0>─────────────────────────────────────────────────────────────────────»\n",
       "          ┌───────────────────────┐┌───┐┌───────────────────────────────┐┌───┐»\n",
       "q_6: ─|0>─┤ multiplex1_reverse_dg ├┤ X ├┤ multiplex1_reverse_reverse_dg ├┤ X ├»\n",
       "          └─────┬────────────┬────┘└─┬─┘└───────────────────────────────┘└─┬─┘»\n",
       "q_7: ─|0>───────┤ Ry(1.5738) ├───────■─────────────────────────────────────■──»\n",
       "                └────────────┘                                                »\n",
       "«                                                                           »\n",
       "«q_0: ──────────────────────────────────────────────────────────────────────»\n",
       "«                                                                           »\n",
       "«q_1: ──────────────────────────────────────────────────────────────────────»\n",
       "«                                                                           »\n",
       "«q_2: ──────────────────────────────────────────────────────────────────────»\n",
       "«                                                                           »\n",
       "«q_3: ──────────────────────────────────────────────────────────────────────»\n",
       "«                                                                           »\n",
       "«q_4: ──────────────────────────────────────────────────────────────────────»\n",
       "«     ┌────────────────────────┐┌───┐┌────────────────────────────────┐┌───┐»\n",
       "«q_5: ┤0                       ├┤ X ├┤0                               ├┤ X ├»\n",
       "«     │  multiplex2_reverse_dg │└─┬─┘│  multiplex2_reverse_reverse_dg │└─┬─┘»\n",
       "«q_6: ┤1                       ├──┼──┤1                               ├──┼──»\n",
       "«     └────────────────────────┘  │  └────────────────────────────────┘  │  »\n",
       "«q_7: ────────────────────────────■──────────────────────────────────────■──»\n",
       "«                                                                           »\n",
       "«                                                                           »\n",
       "«q_0: ──────────────────────────────────────────────────────────────────────»\n",
       "«                                                                           »\n",
       "«q_1: ──────────────────────────────────────────────────────────────────────»\n",
       "«                                                                           »\n",
       "«q_2: ──────────────────────────────────────────────────────────────────────»\n",
       "«                                                                           »\n",
       "«q_3: ──────────────────────────────────────────────────────────────────────»\n",
       "«     ┌────────────────────────┐┌───┐┌────────────────────────────────┐┌───┐»\n",
       "«q_4: ┤0                       ├┤ X ├┤0                               ├┤ X ├»\n",
       "«     │                        │└─┬─┘│                                │└─┬─┘»\n",
       "«q_5: ┤1 multiplex3_reverse_dg ├──┼──┤1 multiplex3_reverse_reverse_dg ├──┼──»\n",
       "«     │                        │  │  │                                │  │  »\n",
       "«q_6: ┤2                       ├──┼──┤2                               ├──┼──»\n",
       "«     └────────────────────────┘  │  └────────────────────────────────┘  │  »\n",
       "«q_7: ────────────────────────────■──────────────────────────────────────■──»\n",
       "«                                                                           »\n",
       "«                                                                           »\n",
       "«q_0: ──────────────────────────────────────────────────────────────────────»\n",
       "«                                                                           »\n",
       "«q_1: ──────────────────────────────────────────────────────────────────────»\n",
       "«                                                                           »\n",
       "«q_2: ──────────────────────────────────────────────────────────────────────»\n",
       "«     ┌────────────────────────┐┌───┐┌────────────────────────────────┐┌───┐»\n",
       "«q_3: ┤0                       ├┤ X ├┤0                               ├┤ X ├»\n",
       "«     │                        │└─┬─┘│                                │└─┬─┘»\n",
       "«q_4: ┤1                       ├──┼──┤1                               ├──┼──»\n",
       "«     │  multiplex4_reverse_dg │  │  │  multiplex4_reverse_reverse_dg │  │  »\n",
       "«q_5: ┤2                       ├──┼──┤2                               ├──┼──»\n",
       "«     │                        │  │  │                                │  │  »\n",
       "«q_6: ┤3                       ├──┼──┤3                               ├──┼──»\n",
       "«     └────────────────────────┘  │  └────────────────────────────────┘  │  »\n",
       "«q_7: ────────────────────────────■──────────────────────────────────────■──»\n",
       "«                                                                           »\n",
       "«                                                                           »\n",
       "«q_0: ──────────────────────────────────────────────────────────────────────»\n",
       "«                                                                           »\n",
       "«q_1: ──────────────────────────────────────────────────────────────────────»\n",
       "«     ┌────────────────────────┐┌───┐┌────────────────────────────────┐┌───┐»\n",
       "«q_2: ┤0                       ├┤ X ├┤0                               ├┤ X ├»\n",
       "«     │                        │└─┬─┘│                                │└─┬─┘»\n",
       "«q_3: ┤1                       ├──┼──┤1                               ├──┼──»\n",
       "«     │                        │  │  │                                │  │  »\n",
       "«q_4: ┤2 multiplex5_reverse_dg ├──┼──┤2 multiplex5_reverse_reverse_dg ├──┼──»\n",
       "«     │                        │  │  │                                │  │  »\n",
       "«q_5: ┤3                       ├──┼──┤3                               ├──┼──»\n",
       "«     │                        │  │  │                                │  │  »\n",
       "«q_6: ┤4                       ├──┼──┤4                               ├──┼──»\n",
       "«     └────────────────────────┘  │  └────────────────────────────────┘  │  »\n",
       "«q_7: ────────────────────────────■──────────────────────────────────────■──»\n",
       "«                                                                           »\n",
       "«                                                                           »\n",
       "«q_0: ──────────────────────────────────────────────────────────────────────»\n",
       "«     ┌────────────────────────┐┌───┐┌────────────────────────────────┐┌───┐»\n",
       "«q_1: ┤0                       ├┤ X ├┤0                               ├┤ X ├»\n",
       "«     │                        │└─┬─┘│                                │└─┬─┘»\n",
       "«q_2: ┤1                       ├──┼──┤1                               ├──┼──»\n",
       "«     │                        │  │  │                                │  │  »\n",
       "«q_3: ┤2                       ├──┼──┤2                               ├──┼──»\n",
       "«     │  multiplex6_reverse_dg │  │  │  multiplex6_reverse_reverse_dg │  │  »\n",
       "«q_4: ┤3                       ├──┼──┤3                               ├──┼──»\n",
       "«     │                        │  │  │                                │  │  »\n",
       "«q_5: ┤4                       ├──┼──┤4                               ├──┼──»\n",
       "«     │                        │  │  │                                │  │  »\n",
       "«q_6: ┤5                       ├──┼──┤5                               ├──┼──»\n",
       "«     └────────────────────────┘  │  └────────────────────────────────┘  │  »\n",
       "«q_7: ────────────────────────────■──────────────────────────────────────■──»\n",
       "«                                                                           »\n",
       "«     ┌────────────────────────┐┌───┐┌────────────────────────────────┐┌───┐\n",
       "«q_0: ┤0                       ├┤ X ├┤0                               ├┤ X ├\n",
       "«     │                        │└─┬─┘│                                │└─┬─┘\n",
       "«q_1: ┤1                       ├──┼──┤1                               ├──┼──\n",
       "«     │                        │  │  │                                │  │  \n",
       "«q_2: ┤2                       ├──┼──┤2                               ├──┼──\n",
       "«     │                        │  │  │                                │  │  \n",
       "«q_3: ┤3 multiplex7_reverse_dg ├──┼──┤3 multiplex7_reverse_reverse_dg ├──┼──\n",
       "«     │                        │  │  │                                │  │  \n",
       "«q_4: ┤4                       ├──┼──┤4                               ├──┼──\n",
       "«     │                        │  │  │                                │  │  \n",
       "«q_5: ┤5                       ├──┼──┤5                               ├──┼──\n",
       "«     │                        │  │  │                                │  │  \n",
       "«q_6: ┤6                       ├──┼──┤6                               ├──┼──\n",
       "«     └────────────────────────┘  │  └────────────────────────────────┘  │  \n",
       "«q_7: ────────────────────────────■──────────────────────────────────────■──\n",
       "«                                                                           "
      ]
     },
     "execution_count": 98,
     "metadata": {},
     "output_type": "execute_result"
    }
   ],
   "source": [
    "qc.decompose().decompose().decompose().decompose().draw()"
   ]
  },
  {
   "cell_type": "code",
   "execution_count": 110,
   "metadata": {},
   "outputs": [
    {
     "name": "stdout",
     "output_type": "stream",
     "text": [
      "Counter({2: 254, 1: 135})\n"
     ]
    },
    {
     "ename": "AssertionError",
     "evalue": "",
     "output_type": "error",
     "traceback": [
      "\u001b[0;31m---------------------------------------------------------------------------\u001b[0m",
      "\u001b[0;31mAssertionError\u001b[0m                            Traceback (most recent call last)",
      "Cell \u001b[0;32mIn[110], line 2\u001b[0m\n\u001b[1;32m      1\u001b[0m qc_decomposed \u001b[38;5;241m=\u001b[39m qc\u001b[38;5;241m.\u001b[39mdecompose()\u001b[38;5;241m.\u001b[39mdecompose()\u001b[38;5;241m.\u001b[39mdecompose()\u001b[38;5;241m.\u001b[39mdecompose()\u001b[38;5;241m.\u001b[39mdecompose()\u001b[38;5;241m.\u001b[39mdecompose()\u001b[38;5;241m.\u001b[39mdecompose()\u001b[38;5;241m.\u001b[39mdecompose()\u001b[38;5;241m.\u001b[39mdecompose()\n\u001b[0;32m----> 2\u001b[0m \u001b[43mcount_gates\u001b[49m\u001b[43m(\u001b[49m\u001b[43mqc_decomposed\u001b[49m\u001b[43m)\u001b[49m\n",
      "Cell \u001b[0;32mIn[108], line 52\u001b[0m, in \u001b[0;36mcount_gates\u001b[0;34m(circuit)\u001b[0m\n\u001b[1;32m     50\u001b[0m \u001b[38;5;28mprint\u001b[39m(counter)\n\u001b[1;32m     51\u001b[0m \u001b[38;5;28;01mfor\u001b[39;00m i \u001b[38;5;129;01min\u001b[39;00m \u001b[38;5;28mrange\u001b[39m(\u001b[38;5;241m2\u001b[39m,\u001b[38;5;241m20\u001b[39m):\n\u001b[0;32m---> 52\u001b[0m     \u001b[38;5;28;01massert\u001b[39;00m counter\u001b[38;5;241m.\u001b[39mget(i,\u001b[38;5;241m0\u001b[39m)\u001b[38;5;241m==\u001b[39m\u001b[38;5;241m0\u001b[39m\n\u001b[1;32m     55\u001b[0m \u001b[38;5;28;01mreturn\u001b[39;00m counter\n",
      "\u001b[0;31mAssertionError\u001b[0m: "
     ]
    }
   ],
   "source": [
    "qc_decomposed = qc.decompose().decompose().decompose().decompose().decompose().decompose().decompose().decompose().decompose()\n",
    "count_gates(qc_decomposed)"
   ]
  },
  {
   "cell_type": "code",
   "execution_count": 64,
   "metadata": {},
   "outputs": [
    {
     "data": {
      "text/plain": [
       "dict_keys([0, 2, 3, 4, 5, 6, 7, 8, 9, 10, 11, 12, 13, 14, 15, 16, 17, 18, 19, 20, 21, 22, 23, 24, 25, 26, 27, 28, 29, 30, 31, 32, 33, 34, 35, 36, 37, 38, 39, 40, 41, 42, 43, 44, 45, 46, 47, 48, 49, 50, 51, 52, 53, 54, 55, 56, 57, 58, 59, 60, 61, 62, 63, 64, 65, 66, 67, 68, 69, 70, 71, 72, 73, 74, 75, 76, 77, 78, 79, 80, 81, 82, 83, 84, 85, 86, 87, 88, 89, 90, 91, 92, 93, 94, 95, 96, 97, 98, 99, 100, 101, 102, 103, 104, 105, 106, 107, 108, 109, 110, 111, 112, 113, 114, 115, 116, 117, 118, 119, 120, 121, 122, 123, 124, 125, 126, 127, 128, 129, 130, 131, 132, 133, 134, 135, 136, 137, 138, 139, 140, 141, 142, 143, 144, 145, 146, 147, 148, 149, 150, 151, 152, 153, 154, 155, 156, 157, 158, 159, 160, 161, 162, 163, 164, 165, 166, 167, 168, 169, 170, 171, 172, 173, 174, 175, 176, 177, 178, 179, 180, 181, 182, 183, 184, 185, 186, 187, 188, 189, 190, 191, 192, 193, 194, 195, 196, 197, 198, 199, 200, 201, 202, 203, 204, 205, 206, 207, 208, 209, 210, 211, 212, 213, 214, 215, 216, 217, 218, 219, 220, 221, 222, 223, 224, 225, 226, 227, 228, 229, 230, 231, 232, 233, 234, 235, 236, 237, 238, 239, 240, 241, 242, 243, 244, 245, 246, 247, 248, 249, 250, 251, 252, 253, 254, 255])"
      ]
     },
     "execution_count": 64,
     "metadata": {},
     "output_type": "execute_result"
    }
   ],
   "source": [
    "histogram.keys()"
   ]
  },
  {
   "cell_type": "code",
   "execution_count": null,
   "metadata": {},
   "outputs": [],
   "source": []
  },
  {
   "cell_type": "code",
   "execution_count": null,
   "metadata": {},
   "outputs": [],
   "source": []
  }
 ],
 "metadata": {
  "kernelspec": {
   "display_name": "Python 3 [Default]",
   "language": "python",
   "name": "python3"
  },
  "language_info": {
   "codemirror_mode": {
    "name": "ipython",
    "version": 3
   },
   "file_extension": ".py",
   "mimetype": "text/x-python",
   "name": "python",
   "nbconvert_exporter": "python",
   "pygments_lexer": "ipython3",
   "version": "3.9.10"
  },
  "vscode": {
   "interpreter": {
    "hash": "397704579725e15f5c7cb49fe5f0341eb7531c82d19f2c29d197e8b64ab5776b"
   }
  }
 },
 "nbformat": 4,
 "nbformat_minor": 4
}
