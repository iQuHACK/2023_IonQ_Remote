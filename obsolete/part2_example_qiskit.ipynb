{
 "cells": [
  {
   "cell_type": "code",
   "execution_count": 1,
   "metadata": {},
   "outputs": [],
   "source": [
    "import qiskit\n",
    "from qiskit import quantum_info\n",
    "from qiskit.execute_function import execute\n",
    "from qiskit import BasicAer\n",
    "import numpy as np\n",
    "import pickle\n",
    "import json\n",
    "import os\n",
    "from collections import Counter\n",
    "from sklearn.metrics import mean_squared_error\n",
    "from typing import Dict, List\n",
    "\n",
    "#define utility functions\n",
    "\n",
    "def simulate(circuit: qiskit.QuantumCircuit) -> dict:\n",
    "    \"\"\"Simulate the circuit, give the state vector as the result.\"\"\"\n",
    "    backend = BasicAer.get_backend('statevector_simulator')\n",
    "    job = execute(circuit, backend)\n",
    "    result = job.result()\n",
    "    state_vector = result.get_statevector()\n",
    "    \n",
    "    histogram = dict()\n",
    "    for i in range(len(state_vector)):\n",
    "        population = abs(state_vector[i]) ** 2\n",
    "        if population > 1e-9:\n",
    "            histogram[i] = population\n",
    "    \n",
    "    return histogram\n",
    "\n",
    "\n",
    "def histogram_to_category(histogram):\n",
    "    \"\"\"This function take a histogram representations of circuit execution results, and process into labels as described in \n",
    "    the problem description.\"\"\"\n",
    "    assert abs(sum(histogram.values())-1)<1e-8\n",
    "    positive=0\n",
    "    for key in histogram.keys():\n",
    "        digits = bin(int(key))[2:].zfill(20)\n",
    "        if digits[-1]=='0':\n",
    "            positive+=histogram[key]\n",
    "        \n",
    "    return positive\n",
    "\n",
    "\n",
    "def count_gates(circuit: qiskit.QuantumCircuit) -> Dict[int, int]:\n",
    "    \"\"\"Returns the number of gate operations with each number of qubits.\"\"\"\n",
    "    counter = Counter([len(gate[1]) for gate in circuit.data])\n",
    "    #feel free to comment out the following two lines. But make sure you don't have k-qubit gates in your circuit\n",
    "    #for k>2\n",
    "    for i in range(2,20):\n",
    "        assert counter[i]==0\n",
    "        \n",
    "    return counter"
   ]
  },
  {
   "cell_type": "code",
   "execution_count": 2,
   "metadata": {},
   "outputs": [
    {
     "data": {
      "text/plain": [
       "<matplotlib.image.AxesImage at 0x12c37d100>"
      ]
     },
     "execution_count": 2,
     "metadata": {},
     "output_type": "execute_result"
    },
    {
     "data": {
      "image/png": "[encoded data removed]",
      "text/plain": [
       "<Figure size 432x288 with 1 Axes>"
      ]
     },
     "metadata": {
      "needs_background": "light"
     },
     "output_type": "display_data"
    }
   ],
   "source": [
    "data_path='mock_data'\n",
    "#load the actual hackthon data (fashion-mnist)\n",
    "images=np.load(data_path+'/images.npy')\n",
    "labels=np.load(data_path+'/labels.npy')\n",
    "#you can visualize it\n",
    "import matplotlib.pyplot as plt\n",
    "plt.imshow(images[1])"
   ]
  },
  {
   "cell_type": "code",
   "execution_count": 3,
   "metadata": {},
   "outputs": [],
   "source": [
    "#your submission\n",
    "\n",
    "# Functions 'encode' and 'decode' are dummy.\n",
    "def encode(image):\n",
    "    q = qiskit.QuantumRegister(3)\n",
    "    circuit = qiskit.QuantumCircuit(q)\n",
    "    if image[0][0]==0:\n",
    "        circuit.rx(np.pi,0)\n",
    "    return circuit\n",
    "\n",
    "\n",
    "def run_part2(image):\n",
    "\n",
    "    #load the quantum classifier circuit\n",
    "    classifier=qiskit.QuantumCircuit.from_qasm_file('quantum_classifier.qasm')\n",
    "    \n",
    "    #encode image into circuit\n",
    "    circuit=encode(image)\n",
    "    \n",
    "    #append with classifier circuit\n",
    "    nq1 = circuit.width()\n",
    "    nq2 = classifier.width()\n",
    "    nq = max(nq1, nq2)\n",
    "    qc = qiskit.QuantumCircuit(nq)\n",
    "    qc.append(circuit.to_instruction(), list(range(nq1)))\n",
    "    qc.append(classifier.to_instruction(), list(range(nq2)))\n",
    "    \n",
    "    #simulate circuit\n",
    "    histogram=simulate(qc)\n",
    "        \n",
    "    #convert histogram to category\n",
    "    label=histogram_to_category(histogram)\n",
    "\n",
    "    #thresholding the label, any way you want\n",
    "    if label>0.5:\n",
    "        label=1\n",
    "    else:\n",
    "        label=0\n",
    "        \n",
    "    return circuit,label\n",
    "#score"
   ]
  },
  {
   "cell_type": "code",
   "execution_count": 4,
   "metadata": {},
   "outputs": [
    {
     "name": "stdout",
     "output_type": "stream",
     "text": [
      "1.0\n"
     ]
    }
   ],
   "source": [
    "#how we grade your submission\n",
    "\n",
    "score=0\n",
    "gatecount=0\n",
    "n=len(images)\n",
    "\n",
    "for i in range(n):\n",
    "    #run part 2\n",
    "    circuit,label=run_part2(images[i])\n",
    "    \n",
    "\n",
    "    \n",
    "    #count the gate used in the circuit for score calculation\n",
    "    gatecount+=count_gates(circuit)[2]\n",
    "    \n",
    "    #check label\n",
    "    if label==labels[i]:\n",
    "        score+=1\n",
    "#score\n",
    "score=score/n\n",
    "gatecount=gatecount/n\n",
    "\n",
    "print(score*(0.999**gatecount))"
   ]
  },
  {
   "cell_type": "code",
   "execution_count": null,
   "metadata": {},
   "outputs": [],
   "source": []
  }
 ],
 "metadata": {
  "kernelspec": {
   "display_name": "Python 3",
   "language": "python",
   "name": "python3"
  },
  "language_info": {
   "codemirror_mode": {
    "name": "ipython",
    "version": 3
   },
   "file_extension": ".py",
   "mimetype": "text/x-python",
   "name": "python",
   "nbconvert_exporter": "python",
   "pygments_lexer": "ipython3",
   "version": "3.9.15 (main, Oct 11 2022, 22:27:25) \n[Clang 14.0.0 (clang-1400.0.29.102)]"
  },
  "orig_nbformat": 4,
  "vscode": {
   "interpreter": {
    "hash": "397704579725e15f5c7cb49fe5f0341eb7531c82d19f2c29d197e8b64ab5776b"
   }
  }
 },
 "nbformat": 4,
 "nbformat_minor": 2
}
