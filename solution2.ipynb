{
 "cells": [
  {
   "cell_type": "code",
   "execution_count": 80,
   "id": "e1cf113a-1b96-4a5e-9c3c-3485a036c587",
   "metadata": {},
   "outputs": [],
   "source": [
    "from qiskit import *\n",
    "from qiskit import Aer, execute\n",
    "from qiskit.circuit.library import RealAmplitudes\n",
    "from qiskit import transpile\n",
    "from qiskit.providers.fake_provider import FakeManilaV2\n",
    "from qiskit.providers.fake_provider import FakeManila\n",
    "from qiskit_aer.noise import NoiseModel\n",
    "from qiskit_ibm_runtime import QiskitRuntimeService, Options, Session, Sampler\n",
    "from qiskit.primitives import Sampler\n",
    "from qiskit import quantum_info\n",
    "from qiskit.execute_function import execute\n",
    "from qiskit import BasicAer\n",
    "\n",
    "import os\n",
    "import pickle\n",
    "import json\n",
    "import qiskit \n",
    "import scipy\n",
    "import numpy as np \n",
    "import matplotlib.pyplot as plt\n",
    "import warnings\n",
    "import matplotlib.pyplot as plt\n",
    "\n",
    "from sklearn import datasets\n",
    "from sklearn.decomposition import PCA\n",
    "from sklearn.model_selection import train_test_split\n",
    "from sklearn.preprocessing import StandardScaler, MinMaxScaler\n",
    "from sklearn.svm import SVC\n",
    "from sklearn.metrics import mean_squared_error\n",
    "from sklearn.metrics import mean_squared_error\n",
    "\n",
    "\n",
    "from collections import Counter\n",
    "from collections import Counter\n",
    "\n",
    "from typing import Dict, List\n",
    "\n",
    "from renom_q import *\n",
    "from renom_q.ml.qpca import QPCA"
   ]
  },
  {
   "cell_type": "code",
   "execution_count": 81,
   "id": "f8b09751-863b-4c57-befd-14bf88dfc431",
   "metadata": {},
   "outputs": [],
   "source": [
    "#define utility functions\n",
    "\n",
    "def simulate(circuit: qiskit.QuantumCircuit) -> dict:\n",
    "    \"\"\"Simulate the circuit, give the state vector as the result.\"\"\"\n",
    "    backend = BasicAer.get_backend('statevector_simulator')\n",
    "    job = execute(circuit, backend)\n",
    "    result = job.result()\n",
    "    state_vector = result.get_statevector()\n",
    "    \n",
    "    histogram = dict()\n",
    "    for i in range(len(state_vector)):\n",
    "        population = abs(state_vector[i]) ** 2\n",
    "        if population > 1e-9:\n",
    "            histogram[i] = population\n",
    "    \n",
    "    return histogram\n",
    "\n",
    "\n",
    "def histogram_to_category(histogram):\n",
    "    \"\"\"This function take a histogram representations of circuit execution results, and process into labels as described in \n",
    "    the problem description.\"\"\"\n",
    "    assert abs(sum(histogram.values())-1)<1e-8\n",
    "    positive=0\n",
    "    for key in histogram.keys():\n",
    "        digits = bin(int(key))[2:].zfill(20)\n",
    "        if digits[-1]=='0':\n",
    "            positive+=histogram[key]\n",
    "        \n",
    "    return positive\n",
    "\n",
    "\n",
    "def count_gates(circuit: qiskit.QuantumCircuit) -> Dict[int, int]:\n",
    "    \"\"\"Returns the number of gate operations with each number of qubits.\"\"\"\n",
    "    counter = Counter([len(gate[1]) for gate in circuit.data])\n",
    "    #feel free to comment out the following two lines. But make sure you don't have k-qubit gates in your circuit\n",
    "    #for k>2\n",
    "    for i in range(2,20):\n",
    "        assert counter[i]==0\n",
    "        \n",
    "    return counter\n",
    "\n",
    "\n",
    "def image_mse(image1,image2):\n",
    "    # Using sklearns mean squared error:\n",
    "    # https://scikit-learn.org/stable/modules/generated/sklearn.metrics.mean_squared_error.html\n",
    "    return mean_squared_error(image1, image2)"
   ]
  },
  {
   "cell_type": "code",
   "execution_count": 82,
   "id": "a7cdad9e-8cb9-4385-b426-58cef458068a",
   "metadata": {},
   "outputs": [],
   "source": [
    "data_images = np.load('images.npy')\n",
    "data_labels = np.load('labels.npy')\n",
    "\n",
    "#this converts the labels to binary.\n",
    "data_label =[]\n",
    "for element in data_labels:\n",
    "    if element == True:\n",
    "        data_label.append(1)\n",
    "    else: \n",
    "        data_label.append(0)\n",
    "\n",
    "images_new = []\n",
    "for img in data_images:\n",
    "    img_new = np.pad(array=img, pad_width=[2, 2], mode='constant', constant_values=0)\n",
    "    images_new.append(img_new)\n",
    "images_new = np.array(images_new)"
   ]
  },
  {
   "cell_type": "code",
   "execution_count": 63,
   "id": "ccc406f2-e2e4-4aa5-832f-d2892f612421",
   "metadata": {},
   "outputs": [
    {
     "data": {
      "text/plain": [
       "252"
      ]
     },
     "execution_count": 63,
     "metadata": {},
     "output_type": "execute_result"
    }
   ],
   "source": []
  },
  {
   "cell_type": "code",
   "execution_count": 83,
   "id": "e0f9a07a-9be3-4f39-b892-7b614e206620",
   "metadata": {},
   "outputs": [],
   "source": [
    "\n",
    "#reducing dimensions\n",
    "n_dim = 10\n",
    "transform_img = []\n",
    "for img in images_new:\n",
    "    pca = PCA(n_components=n_dim).fit(img)\n",
    "    reduced_img = pca.transform(img)\n",
    "    transform_img.append(reduced_img)\n",
    "    \n",
    "# standardize\n",
    "scaled_imgs = []\n",
    "for img in transform_img:\n",
    "    std_scale = StandardScaler().fit(img)\n",
    "    img = std_scale.transform(img)\n",
    "    scaled_imgs.append(img)\n",
    "    \n",
    "#Normalize\n",
    "normalized_imgs = []\n",
    "for img in scaled_imgs:\n",
    "    minmax_scale = MinMaxScaler((-1, 1)).fit(img)\n",
    "    img = minmax_scale.transform(img)\n",
    "    normalized_imgs.append(img)\n",
    "    "
   ]
  },
  {
   "cell_type": "code",
   "execution_count": 54,
   "id": "788571fc-0a18-4ce4-816c-8466de4f5a7f",
   "metadata": {},
   "outputs": [
    {
     "name": "stdout",
     "output_type": "stream",
     "text": [
      "False\n"
     ]
    }
   ],
   "source": [
    "print(bool(data_label[1]==0))"
   ]
  },
  {
   "cell_type": "code",
   "execution_count": 85,
   "id": "6a56eb75-555f-4c5c-b686-dde92351a2d7",
   "metadata": {},
   "outputs": [],
   "source": [
    "#this part is to be modified\n",
    "# I am doing this since the data might scrambled\n",
    "\n",
    "mid_way = len(transform_img)//2\n",
    "\n",
    "sample_train = []\n",
    "sample_test = []\n",
    "\n",
    "labels_train = []\n",
    "labels_test = []\n",
    "for i in range(len(transform_img)):\n",
    "    if data_label[i] == 1:\n",
    "        sample_train.append(normalized_imgs[i])\n",
    "        labels_train.append(data_label[i])\n",
    "    else:\n",
    "        sample_test.append(normalized_imgs[i])\n",
    "        labels_test.append(data_label[i])"
   ]
  },
  {
   "cell_type": "code",
   "execution_count": null,
   "id": "beab959e-03af-41ef-a382-804a7f938e7f",
   "metadata": {},
   "outputs": [],
   "source": []
  },
  {
   "cell_type": "code",
   "execution_count": 69,
   "id": "7dd7d275-5ee1-4ac8-be2a-34443a5eacba",
   "metadata": {},
   "outputs": [],
   "source": [
    "# select 25 set of data for learning and 10 for test \n",
    "train_size = 25\n",
    "sample_train = sample_train[:train_size]\n",
    "labels_train = labels_train[:train_size]\n",
    "\n",
    "test_size = 10\n",
    "sample_test = sample_test[:test_size]\n",
    "labels_test = labels_test[:test_size]\n",
    "\n",
    "data_length1 = len(sample_train[0])"
   ]
  },
  {
   "cell_type": "code",
   "execution_count": 75,
   "id": "a3e5ae61-1796-4c87-aadd-58a279d91faa",
   "metadata": {},
   "outputs": [
    {
     "data": {
      "image/png": "[encoded data removed]",
      "text/plain": [
       "<Figure size 1320.88x385.28 with 1 Axes>"
      ]
     },
     "metadata": {},
     "output_type": "display_data"
    }
   ],
   "source": [
    "# parametrized circuit defining U first state\n",
    "c_1 = RealAmplitudes(5, reps=1, entanglement='pairwise', insert_barriers=True, parameter_prefix='x')\n",
    "    \n",
    "# parametrized circuit V defining second state\n",
    "c_2 = RealAmplitudes(5, reps=1, entanglement='pairwise',  insert_barriers=True, parameter_prefix='y')\n",
    "\n",
    "# combining circuits to evaluate U^dagger V\n",
    "K_circuit = c_1.copy()\n",
    "K_circuit.append(c_2.inverse().decompose(), range(K_circuit.num_qubits))\n",
    "K_circuit.measure_all()\n",
    "\n",
    "# drawing resulting circuit to estimate fidelity\n",
    "display(K_circuit.decompose().draw('mpl'))\n",
    "\n",
    "#training of the model\n",
    "\n",
    "theta_1 = sample_train[0] # label\"0\"\n",
    "theta_2 = sample_train[2] # label\"1\" these zero and 1 are the actual states\n",
    "\n",
    "# linear combinations of theta_1 and theta_2\n",
    "thetas = [theta_1 + c * (theta_2 - theta_1) for c in np.linspace(0, 1, 10)]\n",
    "\n",
    "# list the parameters\n",
    "theta_list = []\n",
    "for theta_ in thetas:\n",
    "    theta_list.append(list(theta_1) + list(theta_2))"
   ]
  },
  {
   "cell_type": "code",
   "execution_count": 76,
   "id": "f9a3ef06-510e-4c8a-b851-5a8579b0635e",
   "metadata": {},
   "outputs": [
    {
     "name": "stdout",
     "output_type": "stream",
     "text": [
      "300\n"
     ]
    }
   ],
   "source": [
    "n = train_size\n",
    "\n",
    "circuit_num = np.arange(0,n).sum()\n",
    "\n",
    "def data_append(n, x1, x2):\n",
    "    para_data = []\n",
    "    #\n",
    "    for i in range(n):\n",
    "        for j in range(n):\n",
    "            if i<j:\n",
    "                para_data.append(list(x1[i])+list(x2[j]))\n",
    "    #   \n",
    "    return para_data\n",
    "\n",
    "parameters_complete = data_append(n,sample_train,sample_train)\n",
    "data_length = len(parameters_complete)\n",
    "print(data_length)"
   ]
  },
  {
   "cell_type": "code",
   "execution_count": 77,
   "id": "fb2596a3-d4b5-4d57-8d6b-1f913b9ca6ea",
   "metadata": {},
   "outputs": [
    {
     "ename": "ValueError",
     "evalue": "Mismatching number of values and parameters. For partial binding please pass a dictionary of {parameter: value} pairs.",
     "output_type": "error",
     "traceback": [
      "\u001b[0;31m---------------------------------------------------------------------------\u001b[0m",
      "\u001b[0;31mValueError\u001b[0m                                Traceback (most recent call last)",
      "Cell \u001b[0;32mIn[77], line 4\u001b[0m\n\u001b[1;32m      2\u001b[0m Kqc_list_encoded \u001b[38;5;241m=\u001b[39m[]\n\u001b[1;32m      3\u001b[0m \u001b[38;5;28;01mfor\u001b[39;00m i \u001b[38;5;129;01min\u001b[39;00m \u001b[38;5;28mrange\u001b[39m(data_length):\n\u001b[0;32m----> 4\u001b[0m     Kqc_list_encoded\u001b[38;5;241m.\u001b[39mappend(\u001b[43mKqc_list\u001b[49m\u001b[43m[\u001b[49m\u001b[43mi\u001b[49m\u001b[43m]\u001b[49m\u001b[38;5;241;43m.\u001b[39;49m\u001b[43mbind_parameters\u001b[49m\u001b[43m(\u001b[49m\u001b[43mparameters_complete\u001b[49m\u001b[43m[\u001b[49m\u001b[43mi\u001b[49m\u001b[43m]\u001b[49m\u001b[43m)\u001b[49m)\n",
      "File \u001b[0;32m/opt/.qbraid/environments/qbraid_000000/pyenv/lib/python3.9/site-packages/qiskit/circuit/quantumcircuit.py:2749\u001b[0m, in \u001b[0;36mQuantumCircuit.bind_parameters\u001b[0;34m(self, values)\u001b[0m\n\u001b[1;32m   2745\u001b[0m \u001b[38;5;28;01mif\u001b[39;00m \u001b[38;5;28many\u001b[39m(\u001b[38;5;28misinstance\u001b[39m(value, ParameterExpression) \u001b[38;5;28;01mfor\u001b[39;00m value \u001b[38;5;129;01min\u001b[39;00m values):\n\u001b[1;32m   2746\u001b[0m     \u001b[38;5;28;01mraise\u001b[39;00m \u001b[38;5;167;01mTypeError\u001b[39;00m(\n\u001b[1;32m   2747\u001b[0m         \u001b[38;5;124m\"\u001b[39m\u001b[38;5;124mFound ParameterExpression in values; use assign_parameters() instead.\u001b[39m\u001b[38;5;124m\"\u001b[39m\n\u001b[1;32m   2748\u001b[0m     )\n\u001b[0;32m-> 2749\u001b[0m \u001b[38;5;28;01mreturn\u001b[39;00m \u001b[38;5;28;43mself\u001b[39;49m\u001b[38;5;241;43m.\u001b[39;49m\u001b[43massign_parameters\u001b[49m\u001b[43m(\u001b[49m\u001b[43mvalues\u001b[49m\u001b[43m)\u001b[49m\n",
      "File \u001b[0;32m/opt/.qbraid/environments/qbraid_000000/pyenv/lib/python3.9/site-packages/qiskit/circuit/library/n_local/n_local.py:810\u001b[0m, in \u001b[0;36mNLocal.assign_parameters\u001b[0;34m(self, parameters, inplace)\u001b[0m\n\u001b[1;32m    807\u001b[0m \u001b[38;5;28;01mif\u001b[39;00m \u001b[38;5;129;01mnot\u001b[39;00m \u001b[38;5;28mself\u001b[39m\u001b[38;5;241m.\u001b[39m_is_built:\n\u001b[1;32m    808\u001b[0m     \u001b[38;5;28mself\u001b[39m\u001b[38;5;241m.\u001b[39m_build()\n\u001b[0;32m--> 810\u001b[0m \u001b[38;5;28;01mreturn\u001b[39;00m \u001b[38;5;28;43msuper\u001b[39;49m\u001b[43m(\u001b[49m\u001b[43m)\u001b[49m\u001b[38;5;241;43m.\u001b[39;49m\u001b[43massign_parameters\u001b[49m\u001b[43m(\u001b[49m\u001b[43mparameters\u001b[49m\u001b[43m,\u001b[49m\u001b[43m \u001b[49m\u001b[43minplace\u001b[49m\u001b[38;5;241;43m=\u001b[39;49m\u001b[43minplace\u001b[49m\u001b[43m)\u001b[49m\n",
      "File \u001b[0;32m/opt/.qbraid/environments/qbraid_000000/pyenv/lib/python3.9/site-packages/qiskit/circuit/quantumcircuit.py:2706\u001b[0m, in \u001b[0;36mQuantumCircuit.assign_parameters\u001b[0;34m(self, parameters, inplace)\u001b[0m\n\u001b[1;32m   2704\u001b[0m \u001b[38;5;28;01melse\u001b[39;00m:\n\u001b[1;32m   2705\u001b[0m     \u001b[38;5;28;01mif\u001b[39;00m \u001b[38;5;28mlen\u001b[39m(parameters) \u001b[38;5;241m!=\u001b[39m \u001b[38;5;28mself\u001b[39m\u001b[38;5;241m.\u001b[39mnum_parameters:\n\u001b[0;32m-> 2706\u001b[0m         \u001b[38;5;28;01mraise\u001b[39;00m \u001b[38;5;167;01mValueError\u001b[39;00m(\n\u001b[1;32m   2707\u001b[0m             \u001b[38;5;124m\"\u001b[39m\u001b[38;5;124mMismatching number of values and parameters. For partial binding \u001b[39m\u001b[38;5;124m\"\u001b[39m\n\u001b[1;32m   2708\u001b[0m             \u001b[38;5;124m\"\u001b[39m\u001b[38;5;124mplease pass a dictionary of \u001b[39m\u001b[38;5;124m{\u001b[39m\u001b[38;5;124mparameter: value} pairs.\u001b[39m\u001b[38;5;124m\"\u001b[39m\n\u001b[1;32m   2709\u001b[0m         )\n\u001b[1;32m   2710\u001b[0m     \u001b[38;5;66;03m# use a copy of the parameters, to ensure we don't change the contents of\u001b[39;00m\n\u001b[1;32m   2711\u001b[0m     \u001b[38;5;66;03m# self.parameters while iterating over them\u001b[39;00m\n\u001b[1;32m   2712\u001b[0m     fixed_parameters_copy \u001b[38;5;241m=\u001b[39m \u001b[38;5;28mself\u001b[39m\u001b[38;5;241m.\u001b[39mparameters\u001b[38;5;241m.\u001b[39mcopy()\n",
      "\u001b[0;31mValueError\u001b[0m: Mismatching number of values and parameters. For partial binding please pass a dictionary of {parameter: value} pairs."
     ]
    }
   ],
   "source": [
    "Kqc_list = [K_circuit]*data_length \n",
    "Kqc_list_encoded =[]\n",
    "for i in range(data_length):\n",
    "    Kqc_list_encoded.append(Kqc_list[i].bind_parameters(parameters_complete[i]))"
   ]
  },
  {
   "cell_type": "code",
   "execution_count": 73,
   "id": "7481aac0-3bac-41be-bdb9-7e72ce57b58e",
   "metadata": {},
   "outputs": [
    {
     "ename": "IndexError",
     "evalue": "list index out of range",
     "output_type": "error",
     "traceback": [
      "\u001b[0;31m---------------------------------------------------------------------------\u001b[0m",
      "\u001b[0;31mIndexError\u001b[0m                                Traceback (most recent call last)",
      "Cell \u001b[0;32mIn[73], line 4\u001b[0m\n\u001b[1;32m      2\u001b[0m quantum_kernel \u001b[38;5;241m=\u001b[39m []\n\u001b[1;32m      3\u001b[0m \u001b[38;5;28;01mfor\u001b[39;00m i \u001b[38;5;129;01min\u001b[39;00m \u001b[38;5;28mrange\u001b[39m(data_length):\n\u001b[0;32m----> 4\u001b[0m     job \u001b[38;5;241m=\u001b[39m sampler\u001b[38;5;241m.\u001b[39mrun(\u001b[43mKqc_list_encoded\u001b[49m\u001b[43m[\u001b[49m\u001b[43mi\u001b[49m\u001b[43m]\u001b[49m)\n\u001b[1;32m      5\u001b[0m     results \u001b[38;5;241m=\u001b[39m job\u001b[38;5;241m.\u001b[39mresult()\n\u001b[1;32m      6\u001b[0m     quantum_kernel\u001b[38;5;241m.\u001b[39mappend(results)\n",
      "\u001b[0;31mIndexError\u001b[0m: list index out of range"
     ]
    }
   ],
   "source": [
    "sampler = Sampler()\n",
    "quantum_kernel = []\n",
    "for i in range(data_length):\n",
    "    job = sampler.run(Kqc_list_encoded[i])\n",
    "    results = job.result()\n",
    "    quantum_kernel.append(results)"
   ]
  },
  {
   "cell_type": "code",
   "execution_count": 370,
   "id": "c18507ef-5091-461c-98c9-ab9d53ef698c",
   "metadata": {},
   "outputs": [],
   "source": [
    "kernel = []\n",
    "for i in range(circuit_num):\n",
    "    kernel += [quantum_kernel[i].quasi_dists[0][0]]"
   ]
  },
  {
   "cell_type": "code",
   "execution_count": 371,
   "id": "7d15ff36-b2d6-4ad7-8e7e-9c9c5b345357",
   "metadata": {},
   "outputs": [
    {
     "data": {
      "image/png": "[encoded data removed]",
      "text/plain": [
       "<Figure size 432x288 with 2 Axes>"
      ]
     },
     "metadata": {
      "needs_background": "light"
     },
     "output_type": "display_data"
    }
   ],
   "source": [
    "def Kernel_plot(A):\n",
    "    \n",
    "    ax = plt.imshow(A, cmap='viridis')\n",
    "    plt.colorbar(ax)\n",
    "    plt.tight_layout()\n",
    "    plt.show()\n",
    "\n",
    "K = np.zeros((n, n))\n",
    "count = 0\n",
    "for i in range(n):\n",
    "    for j in range(n):\n",
    "        if j<i:\n",
    "            K[i,j] = K[j,i]\n",
    "        else:\n",
    "            if j==i:\n",
    "                K[i,j] = 1\n",
    "            else:\n",
    "                K[i,j] = kernel[count]\n",
    "                count+=1\n",
    "Kernel_plot(K)"
   ]
  },
  {
   "cell_type": "code",
   "execution_count": 372,
   "id": "60c6781d-e615-402d-a95d-04158b4d505f",
   "metadata": {},
   "outputs": [
    {
     "name": "stdout",
     "output_type": "stream",
     "text": [
      "accuracy: 1.0\n"
     ]
    }
   ],
   "source": [
    "svc = SVC(kernel='precomputed')\n",
    "# train SVM\n",
    "svc.fit(K, labels_train)\n",
    "\n",
    "# score SVM on training data\n",
    "y_predict = svc.predict(K)\n",
    "print('accuracy:', sum(y_predict == labels_train)/len(labels_train))"
   ]
  },
  {
   "cell_type": "code",
   "execution_count": 347,
   "id": "f3cbdd74-63fb-467e-929e-cf60410e3272",
   "metadata": {},
   "outputs": [
    {
     "name": "stdout",
     "output_type": "stream",
     "text": [
      "[0 0 1 0 1 1 0 0 1 0]\n"
     ]
    }
   ],
   "source": [
    "print(y_predict)"
   ]
  },
  {
   "cell_type": "code",
   "execution_count": null,
   "id": "2a7d2c22-a389-4bee-91ae-9003533a076a",
   "metadata": {},
   "outputs": [],
   "source": [
    "\n"
   ]
  }
 ],
 "metadata": {
  "kernelspec": {
   "display_name": "Python 3 [Default]",
   "language": "python",
   "name": "python3"
  },
  "language_info": {
   "codemirror_mode": {
    "name": "ipython",
    "version": 3
   },
   "file_extension": ".py",
   "mimetype": "text/x-python",
   "name": "python",
   "nbconvert_exporter": "python",
   "pygments_lexer": "ipython3",
   "version": "3.9.10"
  }
 },
 "nbformat": 4,
 "nbformat_minor": 5
}
