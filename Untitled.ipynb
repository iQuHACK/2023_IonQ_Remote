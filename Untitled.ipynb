{
 "cells": [
  {
   "cell_type": "code",
   "execution_count": 2,
   "id": "124f6e91-c4de-4d09-abf1-d091ba32455a",
   "metadata": {},
   "outputs": [
    {
     "name": "stdout",
     "output_type": "stream",
     "text": [
      "Collecting scikit-learn\n",
      "  Downloading scikit_learn-1.2.1-cp39-cp39-manylinux_2_17_x86_64.manylinux2014_x86_64.whl (9.6 MB)\n",
      "\u001b[2K     \u001b[90m━━━━━━━━━━━━━━━━━━━━━━━━━━━━━━━━━━━━━━━━\u001b[0m \u001b[32m9.6/9.6 MB\u001b[0m \u001b[31m42.5 MB/s\u001b[0m eta \u001b[36m0:00:00\u001b[0m:00:01\u001b[0m0:01\u001b[0m\n",
      "\u001b[?25hCollecting joblib>=1.1.1\n",
      "  Downloading joblib-1.2.0-py3-none-any.whl (297 kB)\n",
      "\u001b[2K     \u001b[90m━━━━━━━━━━━━━━━━━━━━━━━━━━━━━━━━━━━━━━━\u001b[0m \u001b[32m298.0/298.0 kB\u001b[0m \u001b[31m4.9 MB/s\u001b[0m eta \u001b[36m0:00:00\u001b[0m00:01\u001b[0m\n",
      "\u001b[?25hRequirement already satisfied: scipy>=1.3.2 in /home/jovyan/.qbraid/environments/ionq_6vdluz/pyenv/lib/python3.9/site-packages (from scikit-learn) (1.10.0)\n",
      "Collecting threadpoolctl>=2.0.0\n",
      "  Downloading threadpoolctl-3.1.0-py3-none-any.whl (14 kB)\n",
      "Requirement already satisfied: numpy>=1.17.3 in /home/jovyan/.qbraid/environments/ionq_6vdluz/pyenv/lib/python3.9/site-packages (from scikit-learn) (1.24.1)\n",
      "Installing collected packages: threadpoolctl, joblib, scikit-learn\n",
      "Successfully installed joblib-1.2.0 scikit-learn-1.2.1 threadpoolctl-3.1.0\n",
      "Note: you may need to restart the kernel to use updated packages.\n"
     ]
    }
   ],
   "source": [
    "%pip install scikit-learn"
   ]
  },
  {
   "cell_type": "code",
   "execution_count": 166,
   "id": "cfff405c-70ae-4e8b-b58f-c93f0d46abb9",
   "metadata": {},
   "outputs": [],
   "source": [
    "import numpy as np\n",
    "import matplotlib.pyplot as plt\n",
    "from sklearn.decomposition import PCA\n",
    "from sklearn.preprocessing import MinMaxScaler"
   ]
  },
  {
   "cell_type": "code",
   "execution_count": 167,
   "id": "5c5de60f-31b0-49dc-8238-04f95d38fa7d",
   "metadata": {},
   "outputs": [],
   "source": [
    "images = np.load(\"data/images.npy\")"
   ]
  },
  {
   "cell_type": "code",
   "execution_count": 168,
   "id": "5564a33b-9313-481f-863f-4e1cfeae35b2",
   "metadata": {},
   "outputs": [
    {
     "data": {
      "text/plain": [
       "(2000, 28, 28)"
      ]
     },
     "execution_count": 168,
     "metadata": {},
     "output_type": "execute_result"
    }
   ],
   "source": [
    "images.shape"
   ]
  },
  {
   "cell_type": "code",
   "execution_count": 169,
   "id": "4df20cf8-f1c3-477e-be4b-00e024f55394",
   "metadata": {},
   "outputs": [],
   "source": [
    "# Normalise image data between 0 and 1\n",
    "images = images/np.max(images)"
   ]
  },
  {
   "cell_type": "code",
   "execution_count": 348,
   "id": "816f962e-e7a3-4d39-88de-2a8cd3101955",
   "metadata": {},
   "outputs": [
    {
     "data": {
      "text/plain": [
       "<matplotlib.image.AxesImage at 0x7ff24bf69100>"
      ]
     },
     "execution_count": 348,
     "metadata": {},
     "output_type": "execute_result"
    },
    {
     "data": {
      "image/png": "[encoded data removed]",
      "text/plain": [
       "<Figure size 432x288 with 1 Axes>"
      ]
     },
     "metadata": {
      "needs_background": "light"
     },
     "output_type": "display_data"
    }
   ],
   "source": [
    "plt.imshow(images[700])"
   ]
  },
  {
   "cell_type": "code",
   "execution_count": 171,
   "id": "d06367b7-58d3-45bf-8bec-6dec8a9ff9d6",
   "metadata": {},
   "outputs": [],
   "source": [
    "# flatten each image to a row vector\n",
    "def flatten_images(images: list) -> list:\n",
    "    flattened_images = []\n",
    "    for image in images:\n",
    "        flattened_images.append(image.flatten())\n",
    "    return np.array(flattened_images)\n",
    "flat_images = flatten_images(images)"
   ]
  },
  {
   "cell_type": "markdown",
   "id": "efde2fa5-4388-4be4-b314-92b97cec2e1f",
   "metadata": {
    "tags": []
   },
   "source": [
    "<h3> Total Variance Captured </h3>"
   ]
  },
  {
   "cell_type": "code",
   "execution_count": 172,
   "id": "d695dbfa-1a3f-4f33-b519-77b59a287c70",
   "metadata": {},
   "outputs": [],
   "source": [
    "total_var_pca = np.zeros(9)\n",
    "for i in range(1, 10):\n",
    "    pca_i = PCA(n_components=i**2)\n",
    "    pca_i.fit(flat_images)\n",
    "    total_var_pca[i-1] = pca_i.explained_variance_ratio_.sum()"
   ]
  },
  {
   "cell_type": "code",
   "execution_count": 173,
   "id": "7e52e438-7e64-44a0-8557-b88078689822",
   "metadata": {},
   "outputs": [
    {
     "data": {
      "image/png": "[encoded data removed]",
      "text/plain": [
       "<Figure size 432x288 with 1 Axes>"
      ]
     },
     "metadata": {
      "needs_background": "light"
     },
     "output_type": "display_data"
    }
   ],
   "source": [
    "plt.ylabel(\"variance captured\")\n",
    "plt.xlabel(\"i square component\")\n",
    "plt.plot(np.arange(1, 10), total_var_pca)\n",
    "plt.show()"
   ]
  },
  {
   "cell_type": "code",
   "execution_count": 180,
   "id": "b1c2d8c7-917e-49e9-84a4-c815b24e808c",
   "metadata": {},
   "outputs": [],
   "source": [
    "# use PCA to achieve image reduction\n",
    "pca = PCA(n_components=16, whiten=True)  # using 16 components, so we have 4x4 for each image\n",
    "reduced_images = pca.fit_transform(flat_images)"
   ]
  },
  {
   "cell_type": "code",
   "execution_count": 263,
   "id": "ba88fe43-32cc-4782-bb9f-9e77503bd28c",
   "metadata": {},
   "outputs": [
    {
     "data": {
      "text/plain": [
       "<matplotlib.image.AxesImage at 0x7ff247674df0>"
      ]
     },
     "execution_count": 263,
     "metadata": {},
     "output_type": "execute_result"
    },
    {
     "data": {
      "image/png": "[encoded data removed]",
      "text/plain": [
       "<Figure size 432x288 with 1 Axes>"
      ]
     },
     "metadata": {
      "needs_background": "light"
     },
     "output_type": "display_data"
    }
   ],
   "source": [
    "plt.imshow(reduced_images[10].reshape(4,4))"
   ]
  },
  {
   "cell_type": "code",
   "execution_count": 316,
   "id": "c4c24a1e-d728-4660-bd7f-fcbb0553570e",
   "metadata": {},
   "outputs": [
    {
     "data": {
      "text/plain": [
       "array([-0.30856706, -0.66432543,  1.15536046, -0.22407947, -0.83931168,\n",
       "        1.02554927, -0.82357858,  2.20872783,  2.73069077, -0.23121773,\n",
       "       -1.05369695,  0.94092334, -3.3588908 ,  1.51186202,  1.23844382,\n",
       "        0.67444376])"
      ]
     },
     "execution_count": 316,
     "metadata": {},
     "output_type": "execute_result"
    }
   ],
   "source": [
    "reduced_images[10]"
   ]
  },
  {
   "cell_type": "code",
   "execution_count": 150,
   "id": "456c5776-b75e-4806-be0a-3924f6eed17e",
   "metadata": {},
   "outputs": [
    {
     "data": {
      "text/plain": [
       "(2000, 16)"
      ]
     },
     "execution_count": 150,
     "metadata": {},
     "output_type": "execute_result"
    }
   ],
   "source": [
    "reduced_images.shape"
   ]
  },
  {
   "cell_type": "code",
   "execution_count": 181,
   "id": "2fed1ceb-5bcb-43af-8669-9f018333ecc1",
   "metadata": {},
   "outputs": [
    {
     "data": {
      "text/plain": [
       "<matplotlib.image.AxesImage at 0x7ff248b3c490>"
      ]
     },
     "execution_count": 181,
     "metadata": {},
     "output_type": "execute_result"
    },
    {
     "data": {
      "image/png": "[encoded data removed]",
      "text/plain": [
       "<Figure size 432x288 with 1 Axes>"
      ]
     },
     "metadata": {
      "needs_background": "light"
     },
     "output_type": "display_data"
    }
   ],
   "source": [
    "# map back from lower space to original space\n",
    "plt.imshow(pca.inverse_transform(reduced_images).reshape(2000, 28, 28)[100])"
   ]
  },
  {
   "cell_type": "code",
   "execution_count": 182,
   "id": "c5d2b0f8-1ad0-43be-bffa-40fd3de5f776",
   "metadata": {},
   "outputs": [
    {
     "data": {
      "text/plain": [
       "<matplotlib.image.AxesImage at 0x7ff248aa88b0>"
      ]
     },
     "execution_count": 182,
     "metadata": {},
     "output_type": "execute_result"
    },
    {
     "data": {
      "image/png": "[encoded data removed]",
      "text/plain": [
       "<Figure size 432x288 with 1 Axes>"
      ]
     },
     "metadata": {
      "needs_background": "light"
     },
     "output_type": "display_data"
    }
   ],
   "source": [
    "plt.imshow(images[100])"
   ]
  },
  {
   "cell_type": "code",
   "execution_count": 87,
   "id": "c2fb8efe-6a7f-4282-8b69-616512afa315",
   "metadata": {},
   "outputs": [],
   "source": [
    "from qiskit import QuantumCircuit"
   ]
  },
  {
   "cell_type": "code",
   "execution_count": 300,
   "id": "f003f48b-8922-404f-be15-2974157f3837",
   "metadata": {},
   "outputs": [],
   "source": [
    "def _encoding(images):\n",
    "    encoded_images = []\n",
    "    for image in images:\n",
    "        qc = QuantumCircuit(16,16)\n",
    "        # Normalise data in image (might have to save normalisation to inverse later)\n",
    "        \n",
    "        scaler = MinMaxScaler()\n",
    "        scaler.fit(image.reshape(-1,1))\n",
    "        normalised = scaler.transform(image.reshape(-1,1))\n",
    "        \n",
    "        for i in range(len(normalised)):\n",
    "            qc.ry(np.pi*float(normalised[i]), i)\n",
    "        \n",
    "        qc.measure(np.arange(0,16,1),np.arange(0,16,1))\n",
    "        encoded_images.append(qc)\n",
    "    return encoded_images"
   ]
  },
  {
   "cell_type": "code",
   "execution_count": 301,
   "id": "bbc0471e-a145-4a38-a2b6-f9033558ff7a",
   "metadata": {},
   "outputs": [],
   "source": [
    "encoded_images = _encoding(reduced_images)"
   ]
  },
  {
   "cell_type": "code",
   "execution_count": 302,
   "id": "eb2e4339-9188-4e15-bb48-d90da26b6f97",
   "metadata": {},
   "outputs": [
    {
     "data": {
      "text/html": [
       "<pre style=\"word-wrap: normal;white-space: pre;background: #fff0;line-height: 1.1;font-family: &quot;Courier New&quot;,Courier,monospace\">      ┌────────────┐┌─┐                                             \n",
       " q_0: ┤ Ry(1.5737) ├┤M├─────────────────────────────────────────────\n",
       "      ├────────────┤└╥┘┌─┐                                          \n",
       " q_1: ┤ Ry(1.3901) ├─╫─┤M├──────────────────────────────────────────\n",
       "      ├────────────┤ ║ └╥┘┌─┐                                       \n",
       " q_2: ┤ Ry(2.3289) ├─╫──╫─┤M├───────────────────────────────────────\n",
       "      ├────────────┤ ║  ║ └╥┘┌─┐                                    \n",
       " q_3: ┤ Ry(1.6172) ├─╫──╫──╫─┤M├────────────────────────────────────\n",
       "      ├────────────┤ ║  ║  ║ └╥┘┌─┐                                 \n",
       " q_4: ┤ Ry(1.2998) ├─╫──╫──╫──╫─┤M├─────────────────────────────────\n",
       "      ├────────────┤ ║  ║  ║  ║ └╥┘┌─┐                              \n",
       " q_5: ┤ Ry(2.2619) ├─╫──╫──╫──╫──╫─┤M├──────────────────────────────\n",
       "      ├───────────┬┘ ║  ║  ║  ║  ║ └╥┘┌─┐                           \n",
       " q_6: ┤ Ry(1.308) ├──╫──╫──╫──╫──╫──╫─┤M├───────────────────────────\n",
       "      ├───────────┴┐ ║  ║  ║  ║  ║  ║ └╥┘┌─┐                        \n",
       " q_7: ┤ Ry(2.8723) ├─╫──╫──╫──╫──╫──╫──╫─┤M├────────────────────────\n",
       "      └─┬───────┬──┘ ║  ║  ║  ║  ║  ║  ║ └╥┘┌─┐                     \n",
       " q_8: ──┤ Ry(π) ├────╫──╫──╫──╫──╫──╫──╫──╫─┤M├─────────────────────\n",
       "      ┌─┴───────┴──┐ ║  ║  ║  ║  ║  ║  ║  ║ └╥┘┌─┐                  \n",
       " q_9: ┤ Ry(1.6136) ├─╫──╫──╫──╫──╫──╫──╫──╫──╫─┤M├──────────────────\n",
       "      ├────────────┤ ║  ║  ║  ║  ║  ║  ║  ║  ║ └╥┘┌─┐               \n",
       "q_10: ┤ Ry(1.1892) ├─╫──╫──╫──╫──╫──╫──╫──╫──╫──╫─┤M├───────────────\n",
       "      ├────────────┤ ║  ║  ║  ║  ║  ║  ║  ║  ║  ║ └╥┘┌─┐            \n",
       "q_11: ┤ Ry(2.2183) ├─╫──╫──╫──╫──╫──╫──╫──╫──╫──╫──╫─┤M├────────────\n",
       "      └─┬───────┬──┘ ║  ║  ║  ║  ║  ║  ║  ║  ║  ║  ║ └╥┘┌─┐         \n",
       "q_12: ──┤ Ry(0) ├────╫──╫──╫──╫──╫──╫──╫──╫──╫──╫──╫──╫─┤M├─────────\n",
       "      ┌─┴───────┴──┐ ║  ║  ║  ║  ║  ║  ║  ║  ║  ║  ║  ║ └╥┘┌─┐      \n",
       "q_13: ┤ Ry(2.5128) ├─╫──╫──╫──╫──╫──╫──╫──╫──╫──╫──╫──╫──╫─┤M├──────\n",
       "      ├────────────┤ ║  ║  ║  ║  ║  ║  ║  ║  ║  ║  ║  ║  ║ └╥┘┌─┐   \n",
       "q_14: ┤ Ry(2.3717) ├─╫──╫──╫──╫──╫──╫──╫──╫──╫──╫──╫──╫──╫──╫─┤M├───\n",
       "      ├────────────┤ ║  ║  ║  ║  ║  ║  ║  ║  ║  ║  ║  ║  ║  ║ └╥┘┌─┐\n",
       "q_15: ┤ Ry(2.0808) ├─╫──╫──╫──╫──╫──╫──╫──╫──╫──╫──╫──╫──╫──╫──╫─┤M├\n",
       "      └────────────┘ ║  ║  ║  ║  ║  ║  ║  ║  ║  ║  ║  ║  ║  ║  ║ └╥┘\n",
       "c: 16/═══════════════╩══╩══╩══╩══╩══╩══╩══╩══╩══╩══╩══╩══╩══╩══╩══╩═\n",
       "                     0  1  2  3  4  5  6  7  8  9  10 11 12 13 14 15</pre>"
      ],
      "text/plain": [
       "      ┌────────────┐┌─┐                                             \n",
       " q_0: ┤ Ry(1.5737) ├┤M├─────────────────────────────────────────────\n",
       "      ├────────────┤└╥┘┌─┐                                          \n",
       " q_1: ┤ Ry(1.3901) ├─╫─┤M├──────────────────────────────────────────\n",
       "      ├────────────┤ ║ └╥┘┌─┐                                       \n",
       " q_2: ┤ Ry(2.3289) ├─╫──╫─┤M├───────────────────────────────────────\n",
       "      ├────────────┤ ║  ║ └╥┘┌─┐                                    \n",
       " q_3: ┤ Ry(1.6172) ├─╫──╫──╫─┤M├────────────────────────────────────\n",
       "      ├────────────┤ ║  ║  ║ └╥┘┌─┐                                 \n",
       " q_4: ┤ Ry(1.2998) ├─╫──╫──╫──╫─┤M├─────────────────────────────────\n",
       "      ├────────────┤ ║  ║  ║  ║ └╥┘┌─┐                              \n",
       " q_5: ┤ Ry(2.2619) ├─╫──╫──╫──╫──╫─┤M├──────────────────────────────\n",
       "      ├───────────┬┘ ║  ║  ║  ║  ║ └╥┘┌─┐                           \n",
       " q_6: ┤ Ry(1.308) ├──╫──╫──╫──╫──╫──╫─┤M├───────────────────────────\n",
       "      ├───────────┴┐ ║  ║  ║  ║  ║  ║ └╥┘┌─┐                        \n",
       " q_7: ┤ Ry(2.8723) ├─╫──╫──╫──╫──╫──╫──╫─┤M├────────────────────────\n",
       "      └─┬───────┬──┘ ║  ║  ║  ║  ║  ║  ║ └╥┘┌─┐                     \n",
       " q_8: ──┤ Ry(π) ├────╫──╫──╫──╫──╫──╫──╫──╫─┤M├─────────────────────\n",
       "      ┌─┴───────┴──┐ ║  ║  ║  ║  ║  ║  ║  ║ └╥┘┌─┐                  \n",
       " q_9: ┤ Ry(1.6136) ├─╫──╫──╫──╫──╫──╫──╫──╫──╫─┤M├──────────────────\n",
       "      ├────────────┤ ║  ║  ║  ║  ║  ║  ║  ║  ║ └╥┘┌─┐               \n",
       "q_10: ┤ Ry(1.1892) ├─╫──╫──╫──╫──╫──╫──╫──╫──╫──╫─┤M├───────────────\n",
       "      ├────────────┤ ║  ║  ║  ║  ║  ║  ║  ║  ║  ║ └╥┘┌─┐            \n",
       "q_11: ┤ Ry(2.2183) ├─╫──╫──╫──╫──╫──╫──╫──╫──╫──╫──╫─┤M├────────────\n",
       "      └─┬───────┬──┘ ║  ║  ║  ║  ║  ║  ║  ║  ║  ║  ║ └╥┘┌─┐         \n",
       "q_12: ──┤ Ry(0) ├────╫──╫──╫──╫──╫──╫──╫──╫──╫──╫──╫──╫─┤M├─────────\n",
       "      ┌─┴───────┴──┐ ║  ║  ║  ║  ║  ║  ║  ║  ║  ║  ║  ║ └╥┘┌─┐      \n",
       "q_13: ┤ Ry(2.5128) ├─╫──╫──╫──╫──╫──╫──╫──╫──╫──╫──╫──╫──╫─┤M├──────\n",
       "      ├────────────┤ ║  ║  ║  ║  ║  ║  ║  ║  ║  ║  ║  ║  ║ └╥┘┌─┐   \n",
       "q_14: ┤ Ry(2.3717) ├─╫──╫──╫──╫──╫──╫──╫──╫──╫──╫──╫──╫──╫──╫─┤M├───\n",
       "      ├────────────┤ ║  ║  ║  ║  ║  ║  ║  ║  ║  ║  ║  ║  ║  ║ └╥┘┌─┐\n",
       "q_15: ┤ Ry(2.0808) ├─╫──╫──╫──╫──╫──╫──╫──╫──╫──╫──╫──╫──╫──╫──╫─┤M├\n",
       "      └────────────┘ ║  ║  ║  ║  ║  ║  ║  ║  ║  ║  ║  ║  ║  ║  ║ └╥┘\n",
       "c: 16/═══════════════╩══╩══╩══╩══╩══╩══╩══╩══╩══╩══╩══╩══╩══╩══╩══╩═\n",
       "                     0  1  2  3  4  5  6  7  8  9  10 11 12 13 14 15"
      ]
     },
     "execution_count": 302,
     "metadata": {},
     "output_type": "execute_result"
    }
   ],
   "source": [
    "encoded_images[10].draw()"
   ]
  },
  {
   "cell_type": "markdown",
   "id": "614dbace-e973-4585-aa55-f8ca6d972239",
   "metadata": {},
   "source": [
    "<h3> simulating and plotting histogram </h3>"
   ]
  },
  {
   "cell_type": "code",
   "execution_count": 303,
   "id": "a5b46c81-eb7c-4fda-99de-f503a4226ed0",
   "metadata": {},
   "outputs": [],
   "source": [
    "from qiskit.visualization import plot_histogram\n",
    "from qiskit import Aer, transpile"
   ]
  },
  {
   "cell_type": "code",
   "execution_count": 304,
   "id": "cb78cc93-73f6-482f-adb0-26ccbf661349",
   "metadata": {},
   "outputs": [
    {
     "data": {
      "text/plain": [
       "2000"
      ]
     },
     "execution_count": 304,
     "metadata": {},
     "output_type": "execute_result"
    }
   ],
   "source": [
    "len(encoded_images)"
   ]
  },
  {
   "cell_type": "code",
   "execution_count": 363,
   "id": "ccb9b3b8-baf8-4393-be4f-d709b8c68585",
   "metadata": {},
   "outputs": [],
   "source": [
    "#tmp_img.measure_all()\n",
    "simulator = Aer.get_backend('aer_simulator')\n",
    "#tmp_img = transpile(tmp_img, simulator)\n",
    "\n",
    "shot_num = 10000\n",
    "\n",
    "#index each qubit in the binary number\n",
    "num = 16\n",
    "decoded = []\n",
    "for i in range(len(encoded_images)):\n",
    "    amplist = np.zeros(16)\n",
    "    tmp_img = encoded_images[i]\n",
    "    result = simulator.run(tmp_img, shots=shot_num).result()\n",
    "    counts = result.get_counts(tmp_img)\n",
    "    keys = list(counts.keys())\n",
    "    for k in range(len(keys) - 1):\n",
    "            binlist = [int(d) for d in str(keys[k])]\n",
    "            amplist = amplist + [x * counts[keys[k]]/shot_num for x in binlist]\n",
    "    \n",
    "    decoded.append(amplist)\n",
    "#plot_histogram(counts, title='Bell-State counts')"
   ]
  },
  {
   "cell_type": "code",
   "execution_count": 364,
   "id": "4e225b37-a71a-469e-9331-4409ce7398a5",
   "metadata": {},
   "outputs": [
    {
     "data": {
      "text/plain": [
       "array([0.7452, 0.8537, 0.9024, 0.    , 0.8002, 0.3101, 0.5191, 0.9999,\n",
       "       0.983 , 0.3652, 0.815 , 0.3643, 0.5307, 0.8461, 0.4139, 0.4913])"
      ]
     },
     "execution_count": 364,
     "metadata": {},
     "output_type": "execute_result"
    }
   ],
   "source": [
    "decoded[10]"
   ]
  },
  {
   "cell_type": "code",
   "execution_count": 343,
   "id": "13ef136f-5173-44ad-897d-71c5b07e6d18",
   "metadata": {},
   "outputs": [
    {
     "data": {
      "text/plain": [
       "<matplotlib.image.AxesImage at 0x7ff24bef0dc0>"
      ]
     },
     "execution_count": 343,
     "metadata": {},
     "output_type": "execute_result"
    },
    {
     "data": {
      "image/png": "[encoded data removed]",
      "text/plain": [
       "<Figure size 432x288 with 1 Axes>"
      ]
     },
     "metadata": {
      "needs_background": "light"
     },
     "output_type": "display_data"
    }
   ],
   "source": [
    "plt.imshow(reduced_images[700].reshape(4,4))"
   ]
  },
  {
   "cell_type": "code",
   "execution_count": 344,
   "id": "17ac94e5-34fd-4523-8fa0-e6ca1c9c6f21",
   "metadata": {},
   "outputs": [
    {
     "data": {
      "text/plain": [
       "<matplotlib.image.AxesImage at 0x7ff24bfa27c0>"
      ]
     },
     "execution_count": 344,
     "metadata": {},
     "output_type": "execute_result"
    },
    {
     "data": {
      "image/png": "[encoded data removed]",
      "text/plain": [
       "<Figure size 432x288 with 1 Axes>"
      ]
     },
     "metadata": {
      "needs_background": "light"
     },
     "output_type": "display_data"
    }
   ],
   "source": [
    "plt.imshow(np.rot90(amplist.reshape(4,4),2))"
   ]
  },
  {
   "cell_type": "code",
   "execution_count": 370,
   "id": "241d89a0-871c-4d11-9015-370b6286b1d8",
   "metadata": {},
   "outputs": [
    {
     "data": {
      "text/plain": [
       "<matplotlib.image.AxesImage at 0x7ff2486a4e50>"
      ]
     },
     "execution_count": 370,
     "metadata": {},
     "output_type": "execute_result"
    },
    {
     "data": {
      "image/png": "[encoded data removed]",
      "text/plain": [
       "<Figure size 432x288 with 1 Axes>"
      ]
     },
     "metadata": {
      "needs_background": "light"
     },
     "output_type": "display_data"
    }
   ],
   "source": [
    "plt.imshow(pca.inverse_transform(decoded).reshape(2000, 28, 28)[100])"
   ]
  },
  {
   "cell_type": "code",
   "execution_count": 346,
   "id": "c6b43b6b-acbb-49e2-b0db-b035f71f9313",
   "metadata": {},
   "outputs": [
    {
     "data": {
      "text/plain": [
       "[0, 0, 1, 0, 0, 1, 0, 1, 0, 0, 0, 1, 0, 0, 1, 1]"
      ]
     },
     "execution_count": 346,
     "metadata": {},
     "output_type": "execute_result"
    }
   ],
   "source": [
    "keys = list(counts.keys())\n",
    "range(len(keys))\n",
    "[int(d) for d in str(int(keys[4]))]\n",
    "amplist = np.zeros(16-1)\n",
    "[int(d) for d in str(keys[4])]"
   ]
  },
  {
   "cell_type": "markdown",
   "id": "fb6729bf-5ce2-4da2-9e58-9dcea43c8a42",
   "metadata": {},
   "source": [
    "<h3> Decoding </h3>"
   ]
  }
 ],
 "metadata": {
  "kernelspec": {
   "display_name": "Python 3 [IonQ]",
   "language": "python",
   "name": "python3_ionq_6vdluz"
  },
  "language_info": {
   "codemirror_mode": {
    "name": "ipython",
    "version": 3
   },
   "file_extension": ".py",
   "mimetype": "text/x-python",
   "name": "python",
   "nbconvert_exporter": "python",
   "pygments_lexer": "ipython3",
   "version": "3.9.10"
  }
 },
 "nbformat": 4,
 "nbformat_minor": 5
}
