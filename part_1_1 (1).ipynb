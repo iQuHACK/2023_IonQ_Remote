{
 "cells": [
  {
   "cell_type": "code",
   "execution_count": 19,
   "id": "16fd7539-d8ac-4736-b79b-b09290360a9f",
   "metadata": {},
   "outputs": [],
   "source": [
    "teamname = \"qcc_ducklings\"\n",
    "task = \"part 1\"\n",
    "teammates = [\"Jesús Fabián Macías Amador\",\"Sebastián Domínguez\",\"Fabián Hernández\",\"Jesús Guzmán\"]"
   ]
  },
  {
   "cell_type": "code",
   "execution_count": 2,
   "id": "a96c5a12-61ea-4c56-aa81-d6b2f41cece0",
   "metadata": {},
   "outputs": [],
   "source": [
    "import numpy as np\n",
    "import json\n",
    "import os\n",
    "import qiskit\n",
    "from collections import Counter\n",
    "import matplotlib.pyplot as plt"
   ]
  },
  {
   "cell_type": "code",
   "execution_count": 3,
   "id": "b5925c43-dea4-454c-8030-02a1dbd5aaf0",
   "metadata": {},
   "outputs": [],
   "source": [
    "from qiskit import QuantumCircuit, assemble, Aer\n",
    "from qiskit.visualization import plot_bloch_multivector, plot_histogram, plot_bloch_vector, array_to_latex, plot_state_qsphere\n",
    "from math import pi, sqrt"
   ]
  },
  {
   "cell_type": "code",
   "execution_count": 4,
   "id": "ccc03114-3372-401b-bc3f-cc38753fb36f",
   "metadata": {},
   "outputs": [],
   "source": [
    "sim = Aer.get_backend('aer_simulator') "
   ]
  },
  {
   "cell_type": "code",
   "execution_count": 14,
   "id": "10ce4466-1919-4e7e-b3b3-91ed2b806439",
   "metadata": {},
   "outputs": [],
   "source": [
    "#load the actual hackthon data (fashion-mnist)\n",
    "images=np.load('data/images.npy')*255\n",
    "labels=np.load('data/labels.npy')"
   ]
  },
  {
   "cell_type": "code",
   "execution_count": 15,
   "id": "4bd57c0a-dd8f-4c2c-ba08-8496b79a6636",
   "metadata": {},
   "outputs": [],
   "source": [
    "def normalize_image(image):\n",
    "    sum_sq = 0\n",
    "    for row in image:\n",
    "        for pixel in row:\n",
    "            sum_sq += pixel ** 2\n",
    "            \n",
    "    return image / np.sqrt(sum_sq)\n",
    "    \n",
    "def encoder(image):\n",
    "    image = normalize_image(image)\n",
    "    n = 10\n",
    "    qc = QuantumCircuit(n)\n",
    "    \n",
    "    for i in range(n):\n",
    "        qc.h(i)\n",
    "    \n",
    "    # 10 qubits, cada uno tiene 2 estados == 1024 estados a disposicion\n",
    "    size = len(image)\n",
    "    initial_state = np.zeros(2**n)\n",
    "    counter = 0\n",
    "    \n",
    "    for i in range(size):\n",
    "        for j in range(size):\n",
    "            initial_state[counter] = image[i][j]\n",
    "            counter += 1\n",
    "            \n",
    "    qc.initialize(initial_state)\n",
    "    qc.save_statevector()\n",
    "       \n",
    "    return qc\n",
    "\n",
    "def decoder(counts):\n",
    "    size = 28\n",
    "    reconstruction = np.zeros([size, size])\n",
    "\n",
    "    binaries = list(counts.keys())\n",
    "    decimals = list(map(lambda b: int(b, 2), binaries))\n",
    "\n",
    "    for b in list(counts.keys()):\n",
    "        d = int(b, 2)\n",
    "        i = int(np.floor(d / 28))\n",
    "        j = int(d % 28)\n",
    "        reconstruction[i][j] = counts[b]\n",
    "        \n",
    "    return reconstruction"
   ]
  },
  {
   "cell_type": "code",
   "execution_count": 16,
   "id": "37076875-903a-468d-b655-5881b2352d23",
   "metadata": {},
   "outputs": [],
   "source": [
    "def run_part1(image):\n",
    "    # encode the images\n",
    "    qc = encoder(image)\n",
    "    \n",
    "    qobj = assemble(qc)\n",
    "    #simulate the quantum circuit\n",
    "    result = sim.run(qobj).result()\n",
    "\n",
    "    counts = result.get_counts()\n",
    "    new_image = decoder(counts)\n",
    "    return qc,new_image"
   ]
  },
  {
   "cell_type": "code",
   "execution_count": 17,
   "id": "0e6f9d77-4178-4b73-9880-38230c3277db",
   "metadata": {},
   "outputs": [
    {
     "name": "stdout",
     "output_type": "stream",
     "text": [
      "1024\n"
     ]
    }
   ],
   "source": [
    "qc,im = run_part1(images[1001])"
   ]
  },
  {
   "cell_type": "code",
   "execution_count": 18,
   "id": "a187b561-9363-4f34-bc0e-96d969ea442d",
   "metadata": {},
   "outputs": [
    {
     "data": {
      "text/plain": [
       "<matplotlib.image.AxesImage at 0x7fdf53c15940>"
      ]
     },
     "execution_count": 18,
     "metadata": {},
     "output_type": "execute_result"
    },
    {
     "data": {
      "image/png": "[encoded data removed]",
      "text/plain": [
       "<Figure size 432x288 with 1 Axes>"
      ]
     },
     "metadata": {
      "needs_background": "light"
     },
     "output_type": "display_data"
    }
   ],
   "source": [
    "plt.imshow(im)"
   ]
  }
 ],
 "metadata": {
  "kernelspec": {
   "display_name": "Python 3 [IonQ]",
   "language": "python",
   "name": "python3_ionq_6vdluz"
  },
  "language_info": {
   "codemirror_mode": {
    "name": "ipython",
    "version": 3
   },
   "file_extension": ".py",
   "mimetype": "text/x-python",
   "name": "python",
   "nbconvert_exporter": "python",
   "pygments_lexer": "ipython3",
   "version": "3.9.10"
  }
 },
 "nbformat": 4,
 "nbformat_minor": 5
}
