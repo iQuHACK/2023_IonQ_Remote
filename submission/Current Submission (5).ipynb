{
 "cells": [
  {
   "cell_type": "code",
   "execution_count": 1,
   "id": "5393e245",
   "metadata": {},
   "outputs": [],
   "source": [
    "#pip install tensorflow"
   ]
  },
  {
   "cell_type": "code",
   "execution_count": null,
   "id": "f7155034-fac6-4159-8aeb-5f150c0ac927",
   "metadata": {},
   "outputs": [],
   "source": [
    "#pip install sklearn"
   ]
  },
  {
   "cell_type": "code",
   "execution_count": null,
   "id": "e019f2e1-ad01-49a3-b3f7-9477c7458095",
   "metadata": {},
   "outputs": [],
   "source": [
    "#pip install matplotlib"
   ]
  },
  {
   "cell_type": "code",
   "execution_count": null,
   "id": "6e750f82-596d-4031-8035-657f72eaef28",
   "metadata": {},
   "outputs": [],
   "source": [
    "#pip install qiskit"
   ]
  },
  {
   "cell_type": "markdown",
   "id": "5ae1c772",
   "metadata": {},
   "source": [
    "## prepare"
   ]
  },
  {
   "cell_type": "code",
   "execution_count": 101,
   "id": "73194ae9",
   "metadata": {},
   "outputs": [
    {
     "name": "stdout",
     "output_type": "stream",
     "text": [
      "All packages imported successfully!\n"
     ]
    }
   ],
   "source": [
    "import warnings \n",
    "warnings.filterwarnings(\"ignore\")\n",
    "\n",
    "import numpy as np\n",
    "\n",
    "# Importing standard Qiskit libraries\n",
    "import qiskit\n",
    "from typing import Dict, List\n",
    "from qiskit import QuantumCircuit, transpile, Aer, execute\n",
    "from qiskit.algorithms.optimizers import COBYLA\n",
    "from qiskit.tools.jupyter import *\n",
    "from qiskit.visualization import *\n",
    "from qiskit.providers.aer import QasmSimulator\n",
    "from qiskit_machine_learning.circuit.library import RawFeatureVector\n",
    "from qiskit.circuit import Parameter\n",
    "from qiskit.quantum_info import Statevector\n",
    "from qiskit.quantum_info.operators import Operator\n",
    "\n",
    "import pickle\n",
    "from matplotlib import pyplot as plt\n",
    "\n",
    "from tensorflow.keras.datasets import fashion_mnist\n",
    "from sklearn.preprocessing import normalize\n",
    "\n",
    "print(\"All packages imported successfully!\")"
   ]
  },
  {
   "cell_type": "code",
   "execution_count": 2,
   "id": "876e03c7",
   "metadata": {},
   "outputs": [],
   "source": [
    "(X_train, Y_train), (X_test, Y_test) = fashion_mnist.load_data()"
   ]
  },
  {
   "cell_type": "code",
   "execution_count": 3,
   "id": "972efc8b",
   "metadata": {},
   "outputs": [],
   "source": [
    "data_shape = X_train[0].shape"
   ]
  },
  {
   "cell_type": "markdown",
   "id": "d09fdbb5",
   "metadata": {},
   "source": [
    "## normalize"
   ]
  },
  {
   "cell_type": "code",
   "execution_count": 4,
   "id": "901e43e3",
   "metadata": {},
   "outputs": [
    {
     "data": {
      "text/plain": [
       "1024"
      ]
     },
     "execution_count": 4,
     "metadata": {},
     "output_type": "execute_result"
    }
   ],
   "source": [
    "2**int(np.ceil(np.log2(X_train[0].size)))"
   ]
  },
  {
   "cell_type": "code",
   "execution_count": 5,
   "id": "29e4784b",
   "metadata": {},
   "outputs": [
    {
     "data": {
      "text/plain": [
       "10"
      ]
     },
     "execution_count": 5,
     "metadata": {},
     "output_type": "execute_result"
    }
   ],
   "source": [
    "int(np.ceil(np.log2(X_train[0].size)))"
   ]
  },
  {
   "cell_type": "code",
   "execution_count": 6,
   "id": "6e3a0634",
   "metadata": {},
   "outputs": [],
   "source": [
    "def normalize(x):\n",
    "    \"\"\"\n",
    "    \"\"\"\n",
    "    x = x.flatten()\n",
    "    normalized_vector = x / np.linalg.norm(x)\n",
    "    normalized_vector = [*normalized_vector]\n",
    "\n",
    "    return normalized_vector\n",
    "\n",
    "def de_normalize(normalized_vector, x):\n",
    "    return normalized_vector * np.linalg.norm(x.flatten())"
   ]
  },
  {
   "cell_type": "code",
   "execution_count": 7,
   "id": "6dabde13",
   "metadata": {},
   "outputs": [],
   "source": [
    "normalized_vector = np.array(normalize(X_train[0]))\n",
    "de_normalized_vector = de_normalize(normalized_vector,np.array(X_train[0]))"
   ]
  },
  {
   "cell_type": "code",
   "execution_count": 8,
   "id": "f2da7bbb",
   "metadata": {},
   "outputs": [
    {
     "data": {
      "text/plain": [
       "True"
      ]
     },
     "execution_count": 8,
     "metadata": {},
     "output_type": "execute_result"
    }
   ],
   "source": [
    "np.allclose(\n",
    "        X_train[0], np.reshape(np.array(de_normalized_vector[:784]),data_shape), rtol=1e-2\n",
    "    )"
   ]
  },
  {
   "cell_type": "code",
   "execution_count": 9,
   "id": "54703421",
   "metadata": {},
   "outputs": [
    {
     "data": {
      "text/plain": [
       "(100, 784)"
      ]
     },
     "execution_count": 9,
     "metadata": {},
     "output_type": "execute_result"
    }
   ],
   "source": [
    "X_train_list = []\n",
    "for i in range(100):\n",
    "    X_train_list.append(normalize(X_train[i]))\n",
    "\n",
    "np.shape(X_train_list)"
   ]
  },
  {
   "cell_type": "code",
   "execution_count": 10,
   "id": "2ad71107",
   "metadata": {},
   "outputs": [
    {
     "data": {
      "text/plain": [
       "(100, 784)"
      ]
     },
     "execution_count": 10,
     "metadata": {},
     "output_type": "execute_result"
    }
   ],
   "source": [
    "X_test_list = []\n",
    "for i in range(100):\n",
    "    X_test_list.append(normalize(X_test[i]))\n",
    "np.shape(X_test_list)"
   ]
  },
  {
   "cell_type": "markdown",
   "id": "0638fa04",
   "metadata": {},
   "source": [
    "## encoding"
   ]
  },
  {
   "cell_type": "code",
   "execution_count": 11,
   "id": "cb2bd8e0",
   "metadata": {
    "scrolled": true
   },
   "outputs": [
    {
     "name": "stdout",
     "output_type": "stream",
     "text": [
      "before normalize:\n"
     ]
    },
    {
     "data": {
      "text/plain": [
       "<matplotlib.image.AxesImage at 0x7f65eb3f39d0>"
      ]
     },
     "metadata": {},
     "output_type": "display_data"
    },
    {
     "data": {
      "image/png": "[encoded data removed]",
      "text/plain": [
       "<Figure size 432x288 with 1 Axes>"
      ]
     },
     "metadata": {
      "needs_background": "light"
     },
     "output_type": "display_data"
    }
   ],
   "source": [
    "print('before normalize:')\n",
    "display(plt.imshow(X_train[0]))"
   ]
  },
  {
   "cell_type": "code",
   "execution_count": 12,
   "id": "c5fc7165",
   "metadata": {
    "scrolled": true
   },
   "outputs": [
    {
     "name": "stdout",
     "output_type": "stream",
     "text": [
      "after normalize:\n"
     ]
    },
    {
     "data": {
      "text/plain": [
       "<matplotlib.image.AxesImage at 0x7f65eb285b20>"
      ]
     },
     "execution_count": 12,
     "metadata": {},
     "output_type": "execute_result"
    },
    {
     "data": {
      "image/png": "[encoded data removed]",
      "text/plain": [
       "<Figure size 432x288 with 1 Axes>"
      ]
     },
     "metadata": {
      "needs_background": "light"
     },
     "output_type": "display_data"
    }
   ],
   "source": [
    "normalized_vector = normalize(X_train[0])\n",
    "#print(normalized_vector)\n",
    "print('after normalize:')\n",
    "plt.imshow(np.reshape(np.array(normalized_vector[:784]),data_shape))"
   ]
  },
  {
   "cell_type": "markdown",
   "id": "810adc31",
   "metadata": {},
   "source": [
    "## circuit"
   ]
  },
  {
   "cell_type": "code",
   "execution_count": 13,
   "id": "c9ac8af7",
   "metadata": {},
   "outputs": [
    {
     "data": {
      "text/plain": [
       "1024"
      ]
     },
     "execution_count": 13,
     "metadata": {},
     "output_type": "execute_result"
    }
   ],
   "source": [
    "state = normalized_vector\n",
    "n = 10\n",
    "qc = RawFeatureVector(2**n)\n",
    "#qc = qc.bind_parameters(state)\n",
    "#qc.measure_all()\n",
    "\n",
    "#qc_ = qc.decompose(reps=20)\n",
    "#print(qc_.depth())\n",
    "#print(f\"Circuit operations: {qc_.count_ops()}\")\n",
    "## qc.decompose(reps = 9).draw()\n",
    "qc.num_parameters"
   ]
  },
  {
   "cell_type": "markdown",
   "id": "82e19504",
   "metadata": {},
   "source": [
    "## test encoding & decoding (1st task)"
   ]
  },
  {
   "cell_type": "code",
   "execution_count": 14,
   "id": "e7f28b28",
   "metadata": {},
   "outputs": [],
   "source": [
    "import qiskit\n",
    "from qiskit import BasicAer\n",
    "\n",
    "def simulate(circ: qiskit.QuantumCircuit) -> dict:\n",
    "    \"\"\"Simulate the circuit, give the state vector as the result.\"\"\"\n",
    "    backend = BasicAer.get_backend('statevector_simulator')\n",
    "    job = execute(circ, backend,optimization_level=0)\n",
    "    result = job.result()\n",
    "    state_vector = result.get_statevector()\n",
    "    \n",
    "    histogram = dict()\n",
    "    for i in range(len(state_vector)):\n",
    "        population = abs(state_vector[i]) ** 2\n",
    "        histogram[i] = population\n",
    "    \n",
    "    return histogram"
   ]
  },
  {
   "cell_type": "code",
   "execution_count": 15,
   "id": "6c8605ca",
   "metadata": {},
   "outputs": [],
   "source": [
    "def encode_qiskit(x,num_qubit):\n",
    "    normalized_vector = normalize(x)\n",
    "    qc = RawFeatureVector(2**num_qubit)\n",
    "    # print(\"Number of pixels in each chunk is \" + str(len(qc.parameters)))\n",
    "    return qc.bind_parameters(normalized_vector)\n",
    "\n",
    "def encode_shallow(n, image):\n",
    "    # Getting the qubit number\n",
    "    qubit = int(np.ceil(np.log2(n)))\n",
    "    # print(\"Number of qubits is \" + str(qubit))\n",
    "    image = image.flatten()\n",
    "    # Discretizing the image into chunks of size n\n",
    "    state_chunks = [image[i * n:(i + 1) * n] for i in range((len(image) + n - 1) // n)]\n",
    "    # print(\"Number of pixels in each chunk is \" + str(len(state_chunks[0])))\n",
    "    # List of PQCs\n",
    "    qc_list = []\n",
    "    for i in range(len(state_chunks)) : # Initializing the encoder\n",
    "        if all(v == 0 for v in state_chunks[i]):\n",
    "            qc_list.append(state_chunks[i])\n",
    "        else:\n",
    "            qc = encode_qiskit(state_chunks[i], qubit)\n",
    "            qc_list.append(qc)\n",
    "        \n",
    "    return qc_list\n",
    "\n",
    "def decode(histogram,data):\n",
    "    new_histogram = {}\n",
    "    for key in range(len(qc.parameters)):\n",
    "        if key in histogram:\n",
    "            new_histogram[key] = histogram[key]\n",
    "        else:\n",
    "            new_histogram[key] = 0\n",
    "    #print(new_histogram)\n",
    "    after_ = np.array(list(new_histogram.values()))\n",
    "    return np.reshape(de_normalize(after_,data)[:784],data_shape)\n",
    "\n",
    "def count_gates(circuit: qiskit.QuantumCircuit) -> Dict[int, int]:\n",
    "    \"\"\"Returns the number of gate operations with each number of qubits.\"\"\"\n",
    "    return Counter([len(gate[1]) for gate in circuit.data])\n",
    "\n",
    "def image_mse(image1,image2):\n",
    "    # Using sklearns mean squared error:\n",
    "    # https://scikit-learn.org/stable/modules/generated/sklearn.metrics.mean_squared_error.html\n",
    "    return mean_squared_error(image1, image2)"
   ]
  },
  {
   "cell_type": "code",
   "execution_count": 38,
   "id": "38cd420c-bfb2-489c-852b-a2e7c1c5b530",
   "metadata": {},
   "outputs": [],
   "source": [
    "def extract_image_re(data):\n",
    "    histogram = []\n",
    "    image_re = []\n",
    "    hist_new = []\n",
    "    circuit_list = encode_shallow(16, data)\n",
    "    for i in range(len(circuit_list)):\n",
    "        if all(v == 0 for v in circuit_list[i]):\n",
    "            histogram.append(circuit_list[i])\n",
    "        else:\n",
    "            histogram.append(simulate(circuit_list[i]))\n",
    "    \n",
    "    for i in range(len(histogram)):\n",
    "        if type(histogram[i]) is dict:\n",
    "            temp = list(histogram[i].values())\n",
    "            for j in range(16):\n",
    "                hist_new.append(temp[j])\n",
    "        else:\n",
    "            for j in range(16):\n",
    "                hist_new.append(histogram[i][j])\n",
    "            \n",
    "    print(len(hist_new))\n",
    "    hist_new = hist_new / np.linalg.norm(hist_new)\n",
    "    \n",
    "    sum = 0\n",
    "    for i in range(len(hist_new)):\n",
    "        sum+=hist_new[i]**2\n",
    "    print(sum)\n",
    "    \n",
    "    image_re = de_normalize(hist_new, X_train[0])\n",
    "    print(image_re)\n",
    "    return image_re, hist_new"
   ]
  },
  {
   "cell_type": "code",
   "execution_count": 39,
   "id": "5236a514",
   "metadata": {},
   "outputs": [
    {
     "name": "stdout",
     "output_type": "stream",
     "text": [
      "784\n",
      "0.9999999999999996\n",
      "[0.00000000e+00 0.00000000e+00 0.00000000e+00 0.00000000e+00\n",
      " 0.00000000e+00 0.00000000e+00 0.00000000e+00 0.00000000e+00\n",
      " 0.00000000e+00 0.00000000e+00 0.00000000e+00 0.00000000e+00\n",
      " 0.00000000e+00 0.00000000e+00 0.00000000e+00 0.00000000e+00\n",
      " 0.00000000e+00 0.00000000e+00 0.00000000e+00 0.00000000e+00\n",
      " 0.00000000e+00 0.00000000e+00 0.00000000e+00 0.00000000e+00\n",
      " 0.00000000e+00 0.00000000e+00 0.00000000e+00 0.00000000e+00\n",
      " 0.00000000e+00 0.00000000e+00 0.00000000e+00 0.00000000e+00\n",
      " 0.00000000e+00 0.00000000e+00 0.00000000e+00 0.00000000e+00\n",
      " 0.00000000e+00 0.00000000e+00 0.00000000e+00 0.00000000e+00\n",
      " 0.00000000e+00 0.00000000e+00 0.00000000e+00 0.00000000e+00\n",
      " 0.00000000e+00 0.00000000e+00 0.00000000e+00 0.00000000e+00\n",
      " 0.00000000e+00 0.00000000e+00 0.00000000e+00 0.00000000e+00\n",
      " 0.00000000e+00 0.00000000e+00 0.00000000e+00 0.00000000e+00\n",
      " 0.00000000e+00 0.00000000e+00 0.00000000e+00 0.00000000e+00\n",
      " 0.00000000e+00 0.00000000e+00 0.00000000e+00 0.00000000e+00\n",
      " 0.00000000e+00 0.00000000e+00 0.00000000e+00 0.00000000e+00\n",
      " 0.00000000e+00 0.00000000e+00 0.00000000e+00 0.00000000e+00\n",
      " 0.00000000e+00 0.00000000e+00 0.00000000e+00 0.00000000e+00\n",
      " 0.00000000e+00 0.00000000e+00 0.00000000e+00 0.00000000e+00\n",
      " 0.00000000e+00 0.00000000e+00 0.00000000e+00 0.00000000e+00\n",
      " 0.00000000e+00 0.00000000e+00 0.00000000e+00 0.00000000e+00\n",
      " 0.00000000e+00 0.00000000e+00 0.00000000e+00 0.00000000e+00\n",
      " 0.00000000e+00 0.00000000e+00 0.00000000e+00 0.00000000e+00\n",
      " 2.59891569e-01 0.00000000e+00 0.00000000e+00 4.39216752e+01\n",
      " 1.38496217e+03 0.00000000e+00 0.00000000e+00 2.59891569e-01\n",
      " 4.15826511e+00 0.00000000e+00 0.00000000e+00 0.00000000e+00\n",
      " 0.00000000e+00 2.59891569e-01 2.59891569e-01 0.00000000e+00\n",
      " 0.00000000e+00 0.00000000e+00 0.00000000e+00 0.00000000e+00\n",
      " 0.00000000e+00 0.00000000e+00 0.00000000e+00 0.00000000e+00\n",
      " 0.00000000e+00 0.00000000e+00 0.00000000e+00 0.00000000e+00\n",
      " 6.51822388e-01 0.00000000e+00 9.38624239e+01 1.33956743e+03\n",
      " 1.00899945e+03 2.40473302e+02 1.82419393e+02 0.00000000e+00\n",
      " 0.00000000e+00 0.00000000e+00 6.25580910e-02 5.63022819e-01\n",
      " 1.00092946e+00 0.00000000e+00 0.00000000e+00 5.63022819e-01\n",
      " 0.00000000e+00 0.00000000e+00 0.00000000e+00 0.00000000e+00\n",
      " 0.00000000e+00 0.00000000e+00 0.00000000e+00 0.00000000e+00\n",
      " 0.00000000e+00 0.00000000e+00 0.00000000e+00 0.00000000e+00\n",
      " 3.77243761e-01 0.00000000e+00 1.09023447e+02 4.36093788e+02\n",
      " 3.24597298e+02 1.88160805e+02 2.17292406e+02 1.58536691e+02\n",
      " 9.81409066e+02 0.00000000e+00 0.00000000e+00 0.00000000e+00\n",
      " 0.00000000e+00 2.67151050e+02 1.85521563e+02 0.00000000e+00\n",
      " 0.00000000e+00 0.00000000e+00 0.00000000e+00 0.00000000e+00\n",
      " 0.00000000e+00 0.00000000e+00 0.00000000e+00 0.00000000e+00\n",
      " 0.00000000e+00 0.00000000e+00 0.00000000e+00 0.00000000e+00\n",
      " 0.00000000e+00 0.00000000e+00 1.48210114e+02 3.43588366e+02\n",
      " 2.64335283e+02 1.95458449e+02 7.06288281e+01 1.50128671e+02\n",
      " 1.59906529e+02 7.32938341e+01 2.52682051e+01 3.26339855e+00\n",
      " 3.01096720e+02 8.58244994e+02 2.63262843e+02 1.14263387e+01\n",
      " 0.00000000e+00 0.00000000e+00 0.00000000e+00 0.00000000e+00\n",
      " 0.00000000e+00 0.00000000e+00 0.00000000e+00 0.00000000e+00\n",
      " 0.00000000e+00 0.00000000e+00 0.00000000e+00 5.07837274e-02\n",
      " 0.00000000e+00 1.73608631e+01 1.56247768e+02 1.81335509e+02\n",
      " 1.73295034e+02 1.70129895e+02 1.70129895e+02 9.68831698e+01\n",
      " 5.88139804e+01 5.33880270e+01 5.42741202e+01 7.77282415e+01\n",
      " 7.24955511e+01 2.82382953e+01 1.07877289e+02 1.58840411e+01\n",
      " 0.00000000e+00 0.00000000e+00 0.00000000e+00 0.00000000e+00\n",
      " 0.00000000e+00 0.00000000e+00 0.00000000e+00 0.00000000e+00\n",
      " 0.00000000e+00 9.71264454e-03 9.71264454e-03 9.71264454e-03\n",
      " 0.00000000e+00 3.88505782e+02 5.22773380e+02 5.22773380e+02\n",
      " 1.74252641e+02 1.68321073e+02 1.59616305e+02 1.59616305e+02\n",
      " 1.48369436e+02 1.45621914e+02 8.63287044e+01 5.17696190e+01\n",
      " 4.85598962e+01 1.23304711e+02 1.68321073e+02 0.00000000e+00\n",
      " 0.00000000e+00 0.00000000e+00 0.00000000e+00 0.00000000e+00\n",
      " 0.00000000e+00 0.00000000e+00 0.00000000e+00 0.00000000e+00\n",
      " 0.00000000e+00 0.00000000e+00 0.00000000e+00 0.00000000e+00\n",
      " 0.00000000e+00 1.41570528e+02 2.14010810e+02 1.97232362e+02\n",
      " 2.10223082e+02 2.19755811e+02 2.33456730e+02 2.17832356e+02\n",
      " 2.12788273e+02 2.09005446e+02 2.12788273e+02 2.07126754e+02\n",
      " 2.10892618e+02 2.54556283e+02 1.26924032e+02 0.00000000e+00\n",
      " 0.00000000e+00 0.00000000e+00 0.00000000e+00 0.00000000e+00\n",
      " 0.00000000e+00 0.00000000e+00 0.00000000e+00 0.00000000e+00\n",
      " 0.00000000e+00 0.00000000e+00 0.00000000e+00 0.00000000e+00\n",
      " 0.00000000e+00 1.10735663e+02 1.54540597e+02 1.41281689e+02\n",
      " 1.34875199e+02 1.16547583e+02 9.63203164e+01 1.33611738e+02\n",
      " 1.31102653e+02 1.32354222e+02 1.34875199e+02 1.47836821e+02\n",
      " 4.68151550e+02 5.71154564e+02 3.94678840e+02 0.00000000e+00\n",
      " 0.00000000e+00 0.00000000e+00 0.00000000e+00 0.00000000e+00\n",
      " 0.00000000e+00 0.00000000e+00 0.00000000e+00 0.00000000e+00\n",
      " 0.00000000e+00 9.67255269e-03 8.70529742e-02 0.00000000e+00\n",
      " 3.28779045e-01 1.09503971e+02 1.10506290e+02 1.02615593e+02\n",
      " 1.08506217e+02 8.41674354e+01 6.52101270e+01 1.17650385e+02\n",
      " 9.87798374e+01 1.08506217e+02 1.14561232e+02 1.02615593e+02\n",
      " 1.16616101e+02 8.86082357e+01 9.97319267e+01 6.17373984e+00\n",
      " 0.00000000e+00 0.00000000e+00 0.00000000e+00 0.00000000e+00\n",
      " 0.00000000e+00 0.00000000e+00 0.00000000e+00 0.00000000e+00\n",
      " 0.00000000e+00 0.00000000e+00 3.09037876e-01 0.00000000e+00\n",
      " 8.41355617e+01 5.11079972e+02 4.23072852e+02 4.15484255e+02\n",
      " 1.44617165e+02 1.25400403e+02 1.19299119e+02 1.48624842e+02\n",
      " 1.40664264e+02 1.38059426e+02 1.49972906e+02 1.47282864e+02\n",
      " 1.82658138e+02 4.30924097e+01 8.48671856e+01 9.54295579e+00\n",
      " 0.00000000e+00 0.00000000e+00 0.00000000e+00 0.00000000e+00\n",
      " 0.00000000e+00 0.00000000e+00 0.00000000e+00 0.00000000e+00\n",
      " 0.00000000e+00 6.16150110e-02 0.00000000e+00 0.00000000e+00\n",
      " 1.16490880e+01 2.14481853e+02 2.00187171e+02 2.03714630e+02\n",
      " 2.00187171e+02 2.21814040e+02 2.07272897e+02 1.74713215e+02\n",
      " 2.28366688e+02 2.38962357e+02 2.63118559e+02 2.26276386e+02\n",
      " 2.26276386e+02 2.09899952e+02 4.06719899e+01 0.00000000e+00\n",
      " 0.00000000e+00 0.00000000e+00 4.80529182e-03 7.68846691e-02\n",
      " 1.72990505e-01 2.35459299e-01 1.92211673e-02 0.00000000e+00\n",
      " 0.00000000e+00 0.00000000e+00 0.00000000e+00 0.00000000e+00\n",
      " 1.35497228e+02 1.23211316e+02 1.13593423e+02 1.19961930e+02\n",
      " 1.18888450e+02 1.15696960e+02 1.18888450e+02 1.17819795e+02\n",
      " 1.12548891e+02 1.19961930e+02 1.26504123e+02 1.11509184e+02\n",
      " 3.68451970e+02 5.04136632e+02 4.59673371e+01 0.00000000e+00\n",
      " 0.00000000e+00 6.97766965e-02 0.00000000e+00 0.00000000e+00\n",
      " 0.00000000e+00 0.00000000e+00 0.00000000e+00 0.00000000e+00\n",
      " 0.00000000e+00 2.98024024e+01 1.63006116e+02 3.22647445e+02\n",
      " 1.06353147e+02 8.76640120e+01 9.28196355e+01 9.99229389e+01\n",
      " 9.72285119e+01 8.85130532e+01 9.10847273e+01 9.72285119e+01\n",
      " 1.02654192e+02 1.01739682e+02 9.81225625e+01 9.45709108e+01\n",
      " 1.02654192e+02 1.21803650e+02 5.17219512e+01 0.00000000e+00\n",
      " 0.00000000e+00 0.00000000e+00 0.00000000e+00 0.00000000e+00\n",
      " 1.20369953e+00 7.19247622e+00 2.49804804e+01 4.25344319e+01\n",
      " 1.32707873e+02 1.93126903e+02 1.79811905e+02 1.83096073e+02\n",
      " 1.74941381e+02 1.89753572e+02 1.48604881e+02 1.56128003e+02\n",
      " 1.01132633e+02 1.20166130e+02 1.13978370e+02 1.24382167e+02\n",
      " 7.03641975e+01 8.02864217e+01 1.41973216e+02 1.39710731e+02\n",
      " 1.23321343e+02 1.28670894e+02 1.05003391e+02 0.00000000e+00\n",
      " 0.00000000e+00 7.38033567e+00 7.94345824e+01 9.82772676e+01\n",
      " 9.57397740e+01 9.31924885e+01 9.57397740e+01 8.25511317e+01\n",
      " 7.94066174e+01 8.73823878e+01 8.25511317e+01 8.33468007e+01\n",
      " 7.63231617e+01 4.82381463e+01 1.14532445e+02 7.10740363e+01\n",
      " 8.09712422e+01 9.48868627e+01 1.24072840e+02 1.24072840e+02\n",
      " 1.02049801e+02 1.14408774e+02 1.02049801e+02 9.30234682e+01\n",
      " 1.01128363e+02 1.12461426e+02 1.26443885e+02 0.00000000e+00\n",
      " 1.88048609e-02 8.52570606e+01 1.08616877e+02 1.04839189e+02\n",
      " 1.02049801e+02 9.30234682e+01 9.30234682e+01 9.56874902e+01\n",
      " 9.24033034e+01 9.24033034e+01 9.24033034e+01 1.06420461e+02\n",
      " 1.26649144e+02 1.40721271e+01 4.94723219e+01 1.42975010e+02\n",
      " 1.15305690e+02 1.07390119e+02 7.77133220e+01 5.21460260e+01\n",
      " 8.02133233e+01 9.69657509e+01 9.15040066e+01 9.60444663e+01\n",
      " 1.00640607e+02 1.06154154e+02 1.03379002e+02 0.00000000e+00\n",
      " 1.96118900e+01 1.10861089e+02 8.00566989e+01 9.00545970e+01\n",
      " 1.00640607e+02 1.07087372e+02 1.07087372e+02 1.11814728e+02\n",
      " 1.26609412e+02 9.88354307e+01 7.68547576e+01 9.43939625e+01\n",
      " 1.20393778e+02 1.48497336e+02 1.08021770e+01 1.36248050e+01\n",
      " 2.87273990e+01 3.49990535e+01 7.21610991e+01 1.22623245e+02\n",
      " 1.24873166e+02 1.18184765e+02 1.20393778e+02 1.27143541e+02\n",
      " 1.27143541e+02 1.28286398e+02 1.34077388e+02 2.15020849e+00\n",
      " 1.23999254e+01 9.17396078e+01 9.90759547e+01 9.17396078e+01\n",
      " 8.21128569e+01 9.26412201e+01 9.81434804e+01 1.11599328e+02\n",
      " 1.02849941e+02 7.54466570e+01 8.55517695e+01 9.35472414e+01\n",
      " 8.64225198e+01 1.00012838e+02 1.26975236e+02 8.38234954e+01\n",
      " 1.09784944e+02 1.27886069e+02 1.21698962e+02 1.05949960e+02\n",
      " 1.01252104e+02 9.57552937e+01 9.30644132e+01 1.05001867e+02\n",
      " 1.03118463e+02 1.04058034e+02 1.12705924e+02 9.56402442e+00\n",
      " 4.90877974e+00 8.77977016e+01 7.13498806e+01 8.01852580e+01\n",
      " 9.35054255e+01 7.99852776e+01 7.05376620e+01 7.44020336e+01\n",
      " 7.75677268e+01 7.59766362e+01 8.40969689e+01 9.43854718e+01\n",
      " 9.88475328e+01 1.00661211e+02 9.97523110e+01 1.14789354e+02\n",
      " 1.04338032e+02 9.61579302e+01 8.16175882e+01 8.74605179e+01\n",
      " 1.00840836e+02 9.54921562e+01 9.13181454e+01 8.62317985e+01\n",
      " 9.54921562e+01 1.22494975e+02 1.23692962e+02 3.85483888e+01\n",
      " 0.00000000e+00 4.33840619e+01 1.39797299e+02 1.08573833e+02\n",
      " 9.33934916e+01 8.52320180e+01 9.76141394e+01 1.11975418e+02\n",
      " 9.61082801e+01 1.01844847e+02 1.04775484e+02 9.89557789e+01\n",
      " 1.02817107e+02 1.01844847e+02 9.23762785e+01 8.87181779e+01\n",
      " 8.69168404e+01 8.42494754e+01 8.78151997e+01 8.42494754e+01\n",
      " 9.05379905e+01 8.51339783e+01 7.15361901e+01 5.62017278e+01\n",
      " 9.35409197e+01 1.05078829e+02 1.47913319e+02 2.83886243e+01\n",
      " 0.00000000e+00 0.00000000e+00 1.83667423e+01 1.19809789e+02\n",
      " 1.50744132e+02 1.22358862e+02 1.02717583e+02 9.92260234e+01\n",
      " 1.02717583e+02 1.09881820e+02 1.14792139e+02 1.18545314e+02\n",
      " 8.73760518e+01 8.64538836e+01 9.11136461e+01 9.58957122e+01\n",
      " 1.01795632e+02 1.06846766e+02 1.07871669e+02 1.07871669e+02\n",
      " 1.08901464e+02 8.64538836e+01 8.64538836e+01 9.20602751e+01\n",
      " 9.01719094e+01 1.14123823e+02 7.06914111e+01 0.00000000e+00\n",
      " 9.90577738e-03 0.00000000e+00 0.00000000e+00 0.00000000e+00\n",
      " 1.07873916e+01 9.90577738e+01 1.22049083e+02 1.39099402e+02\n",
      " 1.41456977e+02 1.45030487e+02 1.49864506e+02 1.46231562e+02\n",
      " 1.47437590e+02 1.20952018e+02 1.19859906e+02 9.22450754e+01\n",
      " 1.95611675e+02 1.71804328e+02 1.77611390e+02 1.77611390e+02\n",
      " 1.75664979e+02 1.66093782e+02 1.47755690e+02 1.51337516e+02\n",
      " 5.25531106e+01 1.80378190e+01 0.00000000e+00 0.00000000e+00\n",
      " 0.00000000e+00 0.00000000e+00 0.00000000e+00 0.00000000e+00\n",
      " 0.00000000e+00 0.00000000e+00 0.00000000e+00 1.49510047e+02\n",
      " 3.47704302e+02 1.80907156e+02 4.84412551e+02 1.57078993e+02\n",
      " 1.14468629e+02 0.00000000e+00 0.00000000e+00 0.00000000e+00\n",
      " 0.00000000e+00 0.00000000e+00 0.00000000e+00 0.00000000e+00\n",
      " 0.00000000e+00 0.00000000e+00 0.00000000e+00 0.00000000e+00\n",
      " 0.00000000e+00 0.00000000e+00 0.00000000e+00 0.00000000e+00\n",
      " 0.00000000e+00 0.00000000e+00 0.00000000e+00 0.00000000e+00\n",
      " 0.00000000e+00 0.00000000e+00 0.00000000e+00 0.00000000e+00\n",
      " 0.00000000e+00 0.00000000e+00 0.00000000e+00 0.00000000e+00\n",
      " 0.00000000e+00 0.00000000e+00 0.00000000e+00 0.00000000e+00\n",
      " 0.00000000e+00 0.00000000e+00 0.00000000e+00 0.00000000e+00\n",
      " 0.00000000e+00 0.00000000e+00 0.00000000e+00 0.00000000e+00\n",
      " 0.00000000e+00 0.00000000e+00 0.00000000e+00 0.00000000e+00\n",
      " 0.00000000e+00 0.00000000e+00 0.00000000e+00 0.00000000e+00\n",
      " 0.00000000e+00 0.00000000e+00 0.00000000e+00 0.00000000e+00\n",
      " 0.00000000e+00 0.00000000e+00 0.00000000e+00 0.00000000e+00\n",
      " 0.00000000e+00 0.00000000e+00 0.00000000e+00 0.00000000e+00\n",
      " 0.00000000e+00 0.00000000e+00 0.00000000e+00 0.00000000e+00\n",
      " 0.00000000e+00 0.00000000e+00 0.00000000e+00 0.00000000e+00\n",
      " 0.00000000e+00 0.00000000e+00 0.00000000e+00 0.00000000e+00]\n",
      "0.7906032567632196\n"
     ]
    }
   ],
   "source": [
    "#grade part1\n",
    "#from part1 import encode_qiskit,decode\n",
    "from collections import Counter\n",
    "from sklearn.metrics import mean_squared_error\n",
    "\n",
    "n=len(X_train)\n",
    "mse=0\n",
    "gatecount=0\n",
    "\n",
    "dataset = X_train[:1]\n",
    "\n",
    "for data in dataset:\n",
    "    image_re,hist_vector = extract_image_re(data)    \n",
    "    \n",
    "    mse+=image_mse(np.asarray(data.flatten()),np.asarray(image_re))\n",
    "    \n",
    "#fidelity of reconstruction\n",
    "f=1-mse/n\n",
    "gatecount=gatecount/n\n",
    "\n",
    "#score for part1\n",
    "print(f*(0.999**gatecount))\n",
    "# score should be between 0 and 1"
   ]
  },
  {
   "cell_type": "code",
   "execution_count": 21,
   "id": "7467384b-78a6-4d06-8dd6-bc5d02f1b691",
   "metadata": {},
   "outputs": [
    {
     "name": "stdout",
     "output_type": "stream",
     "text": [
      "0.7906032567632196\n"
     ]
    }
   ],
   "source": [
    "print(f*(0.999**gatecount))"
   ]
  },
  {
   "cell_type": "code",
   "execution_count": 22,
   "id": "bd5b0865",
   "metadata": {},
   "outputs": [
    {
     "data": {
      "text/plain": [
       "<matplotlib.image.AxesImage at 0x7f65eab30f70>"
      ]
     },
     "execution_count": 22,
     "metadata": {},
     "output_type": "execute_result"
    },
    {
     "data": {
      "image/png": "[encoded data removed]",
      "text/plain": [
       "<Figure size 432x288 with 1 Axes>"
      ]
     },
     "metadata": {
      "needs_background": "light"
     },
     "output_type": "display_data"
    }
   ],
   "source": [
    "plt.imshow(data)"
   ]
  },
  {
   "cell_type": "code",
   "execution_count": 149,
   "id": "cb18382c-674a-4d65-9503-2966af425ea5",
   "metadata": {},
   "outputs": [],
   "source": [
    "# 'Accent', 'Accent_r', 'Blues', 'Blues_r', 'BrBG', 'BrBG_r', 'BuGn', 'BuGn_r', 'BuPu', 'BuPu_r', 'CMRmap', 'CMRmap_r', 'Dark2', 'Dark2_r', 'GnBu', 'GnBu_r', 'Greens', 'Greens_r', 'Greys', 'Greys_r', 'OrRd', 'OrRd_r', 'Oranges', 'Oranges_r', 'PRGn', 'PRGn_r', 'Paired', 'Paired_r', 'Pastel1', 'Pastel1_r', 'Pastel2', 'Pastel2_r', 'PiYG', 'PiYG_r', 'PuBu', 'PuBuGn', 'PuBuGn_r', 'PuBu_r', 'PuOr', 'PuOr_r', 'PuRd', 'PuRd_r', 'Purples', 'Purples_r', 'RdBu', 'RdBu_r', 'RdGy', 'RdGy_r', 'RdPu', 'RdPu_r', 'RdYlBu', 'RdYlBu_r', 'RdYlGn', 'RdYlGn_r', 'Reds', 'Reds_r', 'Set1', 'Set1_r', 'Set2', 'Set2_r', 'Set3', 'Set3_r', 'Spectral', 'Spectral_r', 'Wistia', 'Wistia_r', 'YlGn', 'YlGnBu', 'YlGnBu_r', 'YlGn_r', 'YlOrBr', 'YlOrBr_r', 'YlOrRd', 'YlOrRd_r', 'afmhot', 'afmhot_r', 'autumn', 'autumn_r', 'binary', 'binary_r', 'bone', 'bone_r', 'brg', 'brg_r', 'bwr', 'bwr_r', 'cividis', 'cividis_r', 'cool', 'cool_r', 'coolwarm', 'coolwarm_r', 'copper', 'copper_r', 'cubehelix', 'cubehelix_r', 'flag', 'flag_r', 'gist_earth', 'gist_earth_r', 'gist_gray', 'gist_gray_r', 'gist_heat', 'gist_heat_r', 'gist_ncar', 'gist_ncar_r', 'gist_rainbow', 'gist_rainbow_r', 'gist_stern', 'gist_stern_r', 'gist_yarg', 'gist_yarg_r', 'gnuplot', 'gnuplot2', 'gnuplot2_r', 'gnuplot_r', 'gray', 'gray_r', 'hot', 'hot_r', 'hsv', 'hsv_r', 'inferno', 'inferno_r', 'jet', 'jet_r', 'magma', 'magma_r', 'nipy_spectral', 'nipy_spectral_r', 'ocean', 'ocean_r', 'pink', 'pink_r', 'plasma', 'plasma_r', 'prism', 'prism_r', 'rainbow', 'rainbow_r', 'seismic', 'seismic_r', 'spring', 'spring_r', 'summer', 'summer_r', 'tab10', 'tab10_r', 'tab20', 'tab20_r', 'tab20b', 'tab20b_r', 'tab20c', 'tab20c_r', 'terrain', 'terrain_r', 'turbo', 'turbo_r', 'twilight', 'twilight_r', 'twilight_shifted', 'twilight_shifted_r', 'viridis', 'viridis_r', 'winter', 'winter_r'\n",
    "def plot_image(image):\n",
    "    # Reshape the list into a 28x28 array\n",
    "    image = np.array(image).reshape(28, 28)\n",
    "    # Plot the image using imshow\n",
    "    plt.imshow(image, cmap = \"Greys_r\")\n",
    "    # Remove the axis labels and ticks\n",
    "    plt.axis('off')\n",
    "    # Display the plot\n",
    "    plt.show()"
   ]
  },
  {
   "cell_type": "code",
   "execution_count": 24,
   "id": "7183ba07",
   "metadata": {},
   "outputs": [
    {
     "data": {
      "text/plain": [
       "<matplotlib.image.AxesImage at 0x7f65eaa1ce50>"
      ]
     },
     "execution_count": 24,
     "metadata": {},
     "output_type": "execute_result"
    },
    {
     "data": {
      "image/png": "[encoded data removed]",
      "text/plain": [
       "<Figure size 432x288 with 1 Axes>"
      ]
     },
     "metadata": {
      "needs_background": "light"
     },
     "output_type": "display_data"
    }
   ],
   "source": [
    "plt.imshow(np.array(image_re).reshape(28, 28))"
   ]
  },
  {
   "cell_type": "markdown",
   "id": "c99038b9",
   "metadata": {},
   "source": [
    "## train classifier circuit (2nd task)\n",
    "is there a way to get the best classifier?  \n",
    "\n",
    "Important Final Note: The goal of this problem is to explore quantum computing approaches to machine learning problems. To this end, the final score will take into account the degree of quantumness in the program. Preference will be given to creative solutions with a minimal amount of classical processing in the final solution.\n",
    "\n",
    "reference:   \n",
    "[1] calculate result from probability, https://github.com/ericardomuten/quantum_image_classifier  \n",
    "[2] MPS tensor circuit(ideal classifier circuit), https://journals.aps.org/prresearch/pdf/10.1103/PhysRevResearch.4.043007 , good example from qamp-mentorship https://github.com/qiskit-advocate/qamp-fall-22/issues/28   \n",
    "[3] Good idea about amplitude circuit, https://journals.aps.org/prx/pdf/10.1103/PhysRevX.7.031041"
   ]
  },
  {
   "cell_type": "code",
   "execution_count": 98,
   "id": "07d890df-f0be-4e73-9d23-a656e9bdd7e3",
   "metadata": {},
   "outputs": [],
   "source": [
    "def histogram_to_category(histogram):\n",
    "    \"\"\"This function take a histogram representations of circuit execution results, and process into labels as described in \n",
    "    the problem description.\"\"\"\n",
    "    positive=0\n",
    "    label = ''\n",
    "    for key in histogram.keys():\n",
    "        digits = bin(int(key))[2:].zfill(20)\n",
    "        if digits[-1]=='0':\n",
    "            positive+=histogram[key]\n",
    "    \n",
    "    if isclose(positive, 0, rel_tol=1e-1, abs_tol=0.0):\n",
    "        label = \"T-shirt/Top\"\n",
    "    elif isclose(positive, 1, rel_tol=1e-1, abs_tol=0.0):\n",
    "        label = \"Trousers\"\n",
    "    elif isclose(positive, 2, rel_tol=1e-1, abs_tol=0.0):\n",
    "        label = \"Pullover\"\n",
    "    elif isclose(positive, 3, rel_tol=1e-1, abs_tol=0.0):\n",
    "        label = \"Dress\"\n",
    "    elif isclose(positive, 4, rel_tol=1e-1, abs_tol=0.0):\n",
    "        label = \"Coat\"\n",
    "    elif isclose(positive, 5, rel_tol=1e-1, abs_tol=0.0):\n",
    "        label = \"Sandals\"\n",
    "    elif isclose(positive, 6, rel_tol=1e-1, abs_tol=0.0):\n",
    "        label = \"Shirt\"\n",
    "    elif isclose(positive, 7, rel_tol=1e-1, abs_tol=0.0):\n",
    "        label = \"Sneakers\"\n",
    "    elif isclose(positive, 8, rel_tol=1e-1, abs_tol=0.0):\n",
    "        label = \"Bag\"\n",
    "    elif isclose(positive, 9, rel_tol=1e-1, abs_tol=0.0):\n",
    "        label = \"Angle boots\"\n",
    "        \n",
    "    return label"
   ]
  },
  {
   "cell_type": "code",
   "execution_count": 79,
   "id": "47203d26-1dfd-4667-81f3-e8cd684d905a",
   "metadata": {},
   "outputs": [
    {
     "name": "stdout",
     "output_type": "stream",
     "text": [
      "Traceback \u001b[1;36m(most recent call last)\u001b[0m:\n",
      "\u001b[1;36m  Input \u001b[1;32mIn [79]\u001b[1;36m in \u001b[1;35m<cell line: 1>\u001b[1;36m\u001b[0m\n",
      "\u001b[1;33m    classifier = pickle.load(open(\"ansatz.pickle\", \"rb\"))\u001b[0m\n",
      "\u001b[1;31mFileNotFoundError\u001b[0m\u001b[1;31m:\u001b[0m [Errno 2] No such file or directory: 'ansatz.pickle'\n",
      "\n",
      "Use %tb to get the full traceback.\n"
     ]
    },
    {
     "data": {
      "text/html": [
       "\n",
       "<style>\n",
       ".button {\n",
       "  border: none;\n",
       "  color: white;\n",
       "  padding: 4px 8px;\n",
       "  text-align: center;\n",
       "  text-decoration: none;\n",
       "  display: inline-block;\n",
       "  font-size: 12px;\n",
       "  margin: 4px 2px;\n",
       "  transition-duration: 0.2s;\n",
       "  cursor: pointer;\n",
       "}\n",
       ".iqx-button {\n",
       "  background-color: #0f62fe; \n",
       "  color: white; \n",
       "}\n",
       ".iqx-button:hover {\n",
       "  background-color: #0043ce;\n",
       "  color: white;\n",
       "}\n",
       "</style>\n",
       "<a href=\"https://stackoverflow.com/search?q=FileNotFoundError: 2\" target='_blank'><button class='button iqx-button'>Search for solution online</button></a>\n"
      ],
      "text/plain": [
       "<IPython.core.display.HTML object>"
      ]
     },
     "metadata": {},
     "output_type": "display_data"
    }
   ],
   "source": [
    "classifier = pickle.load(open(\"circuit.pickle\", \"rb\"))"
   ]
  },
  {
   "cell_type": "code",
   "execution_count": 111,
   "id": "650b6a51-b675-41b3-930d-bcc29499e30c",
   "metadata": {},
   "outputs": [],
   "source": [
    "classifier = QuantumCircuit.from_qasm_file(\"iQuHACK/circuit.qasm\")"
   ]
  },
  {
   "cell_type": "code",
   "execution_count": 102,
   "id": "6e97150a-0c20-4363-be5f-ff632ea2ed34",
   "metadata": {},
   "outputs": [
    {
     "name": "stdout",
     "output_type": "stream",
     "text": [
      "1024\n"
     ]
    }
   ],
   "source": [
    "classify_operator = Operator(ansatz)\n",
    "hist_vec = [*hist_vector]\n",
    "hist_vec.extend(np.zeros(240))\n",
    "\n",
    "print(len(hist_vec))\n",
    "hist_vec = Statevector(data = hist_vec)\n",
    "output_statevector = hist_vec.evolve(classify_operator)"
   ]
  },
  {
   "cell_type": "code",
   "execution_count": 105,
   "id": "6cd85420-26c7-4813-b2d8-7e5f2d8fb0e0",
   "metadata": {},
   "outputs": [],
   "source": [
    "features = []\n",
    "for i in range(1024):\n",
    "    features.append(bin(i)[2:].zfill(10))\n",
    "\n",
    "output_statevector = list(i.real for i in output_statevector)\n",
    "\n",
    "hist_dictionary = dict(zip(features, output_statevector))"
   ]
  },
  {
   "cell_type": "code",
   "execution_count": 106,
   "id": "e6753673-9ee4-40f6-bc60-6c32f74cdd59",
   "metadata": {},
   "outputs": [
    {
     "data": {
      "text/plain": [
       "'Sneakers'"
      ]
     },
     "execution_count": 106,
     "metadata": {},
     "output_type": "execute_result"
    }
   ],
   "source": [
    "histogram_to_category(hist_dictionary)"
   ]
  }
 ],
 "metadata": {
  "kernelspec": {
   "display_name": "Python 3 (ipykernel)",
   "language": "python",
   "name": "python3"
  },
  "language_info": {
   "codemirror_mode": {
    "name": "ipython",
    "version": 3
   },
   "file_extension": ".py",
   "mimetype": "text/x-python",
   "name": "python",
   "nbconvert_exporter": "python",
   "pygments_lexer": "ipython3",
   "version": "3.8.13"
  },
  "toc": {
   "base_numbering": 1,
   "nav_menu": {},
   "number_sections": true,
   "sideBar": true,
   "skip_h1_title": false,
   "title_cell": "Table of Contents",
   "title_sidebar": "Contents",
   "toc_cell": false,
   "toc_position": {},
   "toc_section_display": true,
   "toc_window_display": false
  },
  "widgets": {
   "application/vnd.jupyter.widget-state+json": {
    "state": {
     "09fb4dc2adec4dbda718edf5f24ba06a": {
      "model_module": "@jupyter-widgets/controls",
      "model_module_version": "1.5.0",
      "model_name": "DescriptionStyleModel",
      "state": {
       "description_width": ""
      }
     },
     "1a73c36687e641fcbe79eab50083365a": {
      "model_module": "@jupyter-widgets/controls",
      "model_module_version": "1.5.0",
      "model_name": "DescriptionStyleModel",
      "state": {
       "description_width": ""
      }
     },
     "2064167196b641dc80359eba5a6f7481": {
      "model_module": "@jupyter-widgets/base",
      "model_module_version": "1.2.0",
      "model_name": "LayoutModel",
      "state": {
       "grid_area": "right",
       "padding": "0px 0px 0px 0px",
       "width": "70px"
      }
     },
     "3b19c2f2bec1424a8b1d7a49ca7392f8": {
      "model_module": "@jupyter-widgets/controls",
      "model_module_version": "1.5.0",
      "model_name": "HTMLModel",
      "state": {
       "layout": "IPY_MODEL_60ed032b3f0b40f598b86ba7cd470eff",
       "style": "IPY_MODEL_e1794ce0830f45f0ad786c17ecfac533",
       "value": "<h5>Status</h5>"
      }
     },
     "4c2452398d4240b5abb11e8c19a71202": {
      "model_module": "@jupyter-widgets/controls",
      "model_module_version": "1.5.0",
      "model_name": "GridBoxModel",
      "state": {
       "children": [
        "IPY_MODEL_6c2276762d484d5695c29dbf55ef29ab"
       ],
       "layout": "IPY_MODEL_84bcb41a50d243398d317e22fe6e4d99"
      }
     },
     "5e622bf48ece4e018623ae2e6506892f": {
      "model_module": "@jupyter-widgets/controls",
      "model_module_version": "1.5.0",
      "model_name": "HTMLModel",
      "state": {
       "layout": "IPY_MODEL_a6060914a26342f99f81d47c779565e9",
       "style": "IPY_MODEL_8c5122655c0344ebb87eecfc99a06346",
       "value": "<h5>Job ID</h5>"
      }
     },
     "60ed032b3f0b40f598b86ba7cd470eff": {
      "model_module": "@jupyter-widgets/base",
      "model_module_version": "1.2.0",
      "model_name": "LayoutModel",
      "state": {
       "width": "95px"
      }
     },
     "6c2276762d484d5695c29dbf55ef29ab": {
      "model_module": "@jupyter-widgets/controls",
      "model_module_version": "1.5.0",
      "model_name": "ButtonModel",
      "state": {
       "button_style": "primary",
       "description": "Clear",
       "layout": "IPY_MODEL_2064167196b641dc80359eba5a6f7481",
       "style": "IPY_MODEL_fe61c850e1f94359bfb9927c6c98c7be"
      }
     },
     "780fdb1f319e4f358204d6c0b0fc0e6b": {
      "model_module": "@jupyter-widgets/controls",
      "model_module_version": "1.5.0",
      "model_name": "HTMLModel",
      "state": {
       "layout": "IPY_MODEL_b56da9278227481ea619dd8a023cffa5",
       "style": "IPY_MODEL_be1866a60deb410895a3802f64657d3e",
       "value": "<h5>Queue</h5>"
      }
     },
     "7c5c2ea0ab594764a71629417062de67": {
      "model_module": "@jupyter-widgets/controls",
      "model_module_version": "1.5.0",
      "model_name": "HTMLModel",
      "state": {
       "layout": "IPY_MODEL_b5a3cd6bd39f4054992176176e6106fc",
       "style": "IPY_MODEL_09fb4dc2adec4dbda718edf5f24ba06a",
       "value": "<h5>Message</h5>"
      }
     },
     "80a7dfe6ab934813a3d63ce2eb3b38ac": {
      "model_module": "@jupyter-widgets/controls",
      "model_module_version": "1.5.0",
      "model_name": "DescriptionStyleModel",
      "state": {
       "description_width": ""
      }
     },
     "84bcb41a50d243398d317e22fe6e4d99": {
      "model_module": "@jupyter-widgets/base",
      "model_module_version": "1.2.0",
      "model_name": "LayoutModel",
      "state": {
       "grid_template_areas": "\n                                       \". . . . right \"\n                                        ",
       "grid_template_columns": "20% 20% 20% 20% 20%",
       "width": "100%"
      }
     },
     "8c5122655c0344ebb87eecfc99a06346": {
      "model_module": "@jupyter-widgets/controls",
      "model_module_version": "1.5.0",
      "model_name": "DescriptionStyleModel",
      "state": {
       "description_width": ""
      }
     },
     "93a0ce8cb5394e79b1bdac3e175b2516": {
      "model_module": "@jupyter-widgets/controls",
      "model_module_version": "1.5.0",
      "model_name": "HTMLModel",
      "state": {
       "layout": "IPY_MODEL_a26aebf96de24c35a3431fb919766701",
       "style": "IPY_MODEL_1a73c36687e641fcbe79eab50083365a",
       "value": "<h5>Backend</h5>"
      }
     },
     "a26aebf96de24c35a3431fb919766701": {
      "model_module": "@jupyter-widgets/base",
      "model_module_version": "1.2.0",
      "model_name": "LayoutModel",
      "state": {
       "width": "145px"
      }
     },
     "a6060914a26342f99f81d47c779565e9": {
      "model_module": "@jupyter-widgets/base",
      "model_module_version": "1.2.0",
      "model_name": "LayoutModel",
      "state": {
       "width": "190px"
      }
     },
     "b56da9278227481ea619dd8a023cffa5": {
      "model_module": "@jupyter-widgets/base",
      "model_module_version": "1.2.0",
      "model_name": "LayoutModel",
      "state": {
       "width": "70px"
      }
     },
     "b5a3cd6bd39f4054992176176e6106fc": {
      "model_module": "@jupyter-widgets/base",
      "model_module_version": "1.2.0",
      "model_name": "LayoutModel",
      "state": {}
     },
     "be1866a60deb410895a3802f64657d3e": {
      "model_module": "@jupyter-widgets/controls",
      "model_module_version": "1.5.0",
      "model_name": "DescriptionStyleModel",
      "state": {
       "description_width": ""
      }
     },
     "c01388cc2a14426cb1fbfc9ff1cbb79a": {
      "model_module": "@jupyter-widgets/controls",
      "model_module_version": "1.5.0",
      "model_name": "HTMLModel",
      "state": {
       "layout": "IPY_MODEL_f9794da160d04ab08fac5a9c13c5acc5",
       "style": "IPY_MODEL_80a7dfe6ab934813a3d63ce2eb3b38ac",
       "value": "<p style='font-family: IBM Plex Sans, Arial, Helvetica, sans-serif; font-size: 20px; font-weight: medium;'>Circuit Properties</p>"
      }
     },
     "c10e2b308bf34fa08d6b8aa85d8cb4f4": {
      "model_module": "@jupyter-widgets/controls",
      "model_module_version": "1.5.0",
      "model_name": "HBoxModel",
      "state": {
       "children": [
        "IPY_MODEL_5e622bf48ece4e018623ae2e6506892f",
        "IPY_MODEL_93a0ce8cb5394e79b1bdac3e175b2516",
        "IPY_MODEL_3b19c2f2bec1424a8b1d7a49ca7392f8",
        "IPY_MODEL_780fdb1f319e4f358204d6c0b0fc0e6b",
        "IPY_MODEL_7c5c2ea0ab594764a71629417062de67"
       ],
       "layout": "IPY_MODEL_d983cada85d745439fdfacd1e8d4353b"
      }
     },
     "d983cada85d745439fdfacd1e8d4353b": {
      "model_module": "@jupyter-widgets/base",
      "model_module_version": "1.2.0",
      "model_name": "LayoutModel",
      "state": {
       "margin": "0px 0px 0px 37px",
       "width": "600px"
      }
     },
     "e1794ce0830f45f0ad786c17ecfac533": {
      "model_module": "@jupyter-widgets/controls",
      "model_module_version": "1.5.0",
      "model_name": "DescriptionStyleModel",
      "state": {
       "description_width": ""
      }
     },
     "f9794da160d04ab08fac5a9c13c5acc5": {
      "model_module": "@jupyter-widgets/base",
      "model_module_version": "1.2.0",
      "model_name": "LayoutModel",
      "state": {
       "margin": "0px 0px 10px 0px"
      }
     },
     "fe61c850e1f94359bfb9927c6c98c7be": {
      "model_module": "@jupyter-widgets/controls",
      "model_module_version": "1.5.0",
      "model_name": "ButtonStyleModel",
      "state": {}
     }
    },
    "version_major": 2,
    "version_minor": 0
   }
  }
 },
 "nbformat": 4,
 "nbformat_minor": 5
}
