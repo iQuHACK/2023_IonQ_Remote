{
 "cells": [
  {
   "cell_type": "code",
   "execution_count": 15,
   "metadata": {},
   "outputs": [],
   "source": [
    "#pip install tensorflow"
   ]
  },
  {
   "cell_type": "markdown",
   "metadata": {},
   "source": [
    "## prepare"
   ]
  },
  {
   "cell_type": "code",
   "execution_count": 16,
   "metadata": {},
   "outputs": [],
   "source": [
    "import warnings \n",
    "warnings.filterwarnings(\"ignore\")\n",
    "\n",
    "import numpy as np\n",
    "\n",
    "# Importing standard Qiskit libraries\n",
    "import qiskit\n",
    "from typing import Dict, List\n",
    "from qiskit import QuantumCircuit, transpile, Aer, execute\n",
    "from qiskit.algorithms.optimizers import COBYLA\n",
    "from qiskit.tools.jupyter import *\n",
    "from qiskit.visualization import *\n",
    "from qiskit.providers.aer import QasmSimulator\n",
    "from qiskit_machine_learning.circuit.library import RawFeatureVector\n",
    "from qiskit.circuit import Parameter\n",
    "from qiskit.quantum_info import Statevector\n",
    "import pickle\n",
    "from matplotlib import pyplot as plt\n",
    "\n",
    "from tensorflow.keras.datasets import fashion_mnist\n",
    "from sklearn.preprocessing import normalize"
   ]
  },
  {
   "cell_type": "code",
   "execution_count": 17,
   "metadata": {},
   "outputs": [],
   "source": [
    "(X_train, Y_train), (X_test, Y_test) = fashion_mnist.load_data()"
   ]
  },
  {
   "cell_type": "code",
   "execution_count": 18,
   "metadata": {},
   "outputs": [
    {
     "data": {
      "text/plain": [
       "(28, 28)"
      ]
     },
     "execution_count": 18,
     "metadata": {},
     "output_type": "execute_result"
    }
   ],
   "source": [
    "X_train[0].shape"
   ]
  },
  {
   "cell_type": "markdown",
   "metadata": {},
   "source": [
    "## normalize"
   ]
  },
  {
   "cell_type": "code",
   "execution_count": 19,
   "metadata": {},
   "outputs": [
    {
     "data": {
      "text/plain": [
       "1024"
      ]
     },
     "execution_count": 19,
     "metadata": {},
     "output_type": "execute_result"
    }
   ],
   "source": [
    "2**int(np.ceil(np.log2(X_train[0].size)))"
   ]
  },
  {
   "cell_type": "code",
   "execution_count": 20,
   "metadata": {},
   "outputs": [
    {
     "data": {
      "text/plain": [
       "26"
      ]
     },
     "execution_count": 20,
     "metadata": {},
     "output_type": "execute_result"
    }
   ],
   "source": [
    "int(np.ceil(np.log2(X_train.size)))"
   ]
  },
  {
   "cell_type": "code",
   "execution_count": 21,
   "metadata": {},
   "outputs": [
    {
     "data": {
      "text/plain": [
       "array([0., 0., 0., 0., 0., 0., 0., 0., 0., 0., 0., 0., 0., 0., 0., 0., 0.,\n",
       "       0., 0., 0., 0., 0., 0., 0., 0., 0.])"
      ]
     },
     "execution_count": 21,
     "metadata": {},
     "output_type": "execute_result"
    }
   ],
   "source": [
    "np.zeros(int(np.ceil(np.log2(X_train.size))))"
   ]
  },
  {
   "cell_type": "code",
   "execution_count": 22,
   "metadata": {},
   "outputs": [],
   "source": [
    "def normalize(x):\n",
    "    \"\"\"\n",
    "    \"\"\"\n",
    "    x = x.flatten()\n",
    "    normalized_vector = x / np.linalg.norm(x)\n",
    "    total_size = 2**int(np.ceil(np.log2(X_train[0].size)))\n",
    "    normalized_vector = [*normalized_vector, *np.zeros(total_size-len(normalized_vector))]\n",
    "    return normalized_vector"
   ]
  },
  {
   "cell_type": "code",
   "execution_count": 23,
   "metadata": {},
   "outputs": [],
   "source": [
    "def de_normalize(normalized_vector, x):\n",
    "    return normalized_vector * np.linalg.norm(x.flatten())"
   ]
  },
  {
   "cell_type": "code",
   "execution_count": 24,
   "metadata": {},
   "outputs": [],
   "source": [
    "normalized_vector = np.array(normalize(X_train[0]))\n",
    "de_normalized_vector = de_normalize(normalized_vector,np.array(X_train[0]))"
   ]
  },
  {
   "cell_type": "code",
   "execution_count": 25,
   "metadata": {},
   "outputs": [
    {
     "data": {
      "text/plain": [
       "(100, 1024)"
      ]
     },
     "execution_count": 25,
     "metadata": {},
     "output_type": "execute_result"
    }
   ],
   "source": [
    "X_train_list = []\n",
    "for i in range(100):\n",
    "    X_train_list.append(normalize(X_train[i]))\n",
    "\n",
    "np.shape(X_train_list)"
   ]
  },
  {
   "cell_type": "code",
   "execution_count": 26,
   "metadata": {},
   "outputs": [
    {
     "data": {
      "text/plain": [
       "(100, 1024)"
      ]
     },
     "execution_count": 26,
     "metadata": {},
     "output_type": "execute_result"
    }
   ],
   "source": [
    "X_test_list = []\n",
    "for i in range(100):\n",
    "    X_test_list.append(normalize(X_test[i]))\n",
    "np.shape(X_test_list)"
   ]
  },
  {
   "cell_type": "markdown",
   "metadata": {},
   "source": [
    "## encoding"
   ]
  },
  {
   "cell_type": "code",
   "execution_count": 27,
   "metadata": {
    "scrolled": true,
    "tags": []
   },
   "outputs": [
    {
     "name": "stdout",
     "output_type": "stream",
     "text": [
      "before normalize:\n"
     ]
    },
    {
     "data": {
      "text/plain": [
       "<matplotlib.image.AxesImage at 0x1ceb76e5e70>"
      ]
     },
     "metadata": {},
     "output_type": "display_data"
    },
    {
     "data": {
      "image/png": "[encoded data removed]",
      "text/plain": [
       "<Figure size 640x480 with 1 Axes>"
      ]
     },
     "metadata": {},
     "output_type": "display_data"
    }
   ],
   "source": [
    "print('before normalize:')\n",
    "display(plt.imshow(X_train[0]))"
   ]
  },
  {
   "cell_type": "code",
   "execution_count": 28,
   "metadata": {
    "scrolled": true,
    "tags": []
   },
   "outputs": [
    {
     "name": "stdout",
     "output_type": "stream",
     "text": [
      "after normalize:\n"
     ]
    },
    {
     "data": {
      "text/plain": [
       "<matplotlib.image.AxesImage at 0x1ceb77d29b0>"
      ]
     },
     "execution_count": 28,
     "metadata": {},
     "output_type": "execute_result"
    },
    {
     "data": {
      "image/png": "[encoded data removed]",
      "text/plain": [
       "<Figure size 640x480 with 1 Axes>"
      ]
     },
     "metadata": {},
     "output_type": "display_data"
    }
   ],
   "source": [
    "normalized_vector = normalize(X_train[0])\n",
    "#print(normalized_vector)\n",
    "import matplotlib.pyplot as plt\n",
    "print('after normalize:')\n",
    "plt.imshow(np.reshape(np.array(normalized_vector[:784]),X_train[0].shape))"
   ]
  },
  {
   "cell_type": "markdown",
   "metadata": {},
   "source": [
    "## circuit"
   ]
  },
  {
   "cell_type": "code",
   "execution_count": 29,
   "metadata": {},
   "outputs": [
    {
     "data": {
      "text/plain": [
       "1024"
      ]
     },
     "execution_count": 29,
     "metadata": {},
     "output_type": "execute_result"
    }
   ],
   "source": [
    "state = normalized_vector\n",
    "n = 10\n",
    "qc = RawFeatureVector(2**n)\n",
    "#qc = qc.bind_parameters(state)\n",
    "#qc.measure_all()\n",
    "\n",
    "#qc_ = qc.decompose(reps=20)\n",
    "#print(qc_.depth())\n",
    "#print(f\"Circuit operations: {qc_.count_ops()}\")\n",
    "## qc.decompose(reps = 9).draw()\n",
    "qc.num_parameters"
   ]
  },
  {
   "cell_type": "code",
   "execution_count": 30,
   "metadata": {},
   "outputs": [],
   "source": [
    "#import pennylane as qml\n",
    "#dev = qml.device(\"default.qubit\", wires=10)\n",
    "#\n",
    "#def block(weights, wires):\n",
    "#    qml.CNOT(wires=[wires[0],wires[1]])\n",
    "#    qml.RY(weights[0], wires=wires[0])\n",
    "#    qml.RY(weights[1], wires=wires[1])\n",
    "#\n",
    "#    \n",
    "#import pennylane as qml\n",
    "#\n",
    "#n_wires = dev.num_wires\n",
    "#n_block_wires = 2\n",
    "#n_params_block = 2\n",
    "#n_blocks = qml.TTN.get_n_blocks(range(n_wires),n_block_wires)\n",
    "#n_blocks\n",
    "#    \n",
    "#@qml.qnode(dev)\n",
    "#def circuit(weights, x):\n",
    "#\n",
    "#    qml.AmplitudeEmbedding(x, wires=[i for i in range(10)],normalize=True,pad_with=True)\n",
    "#\n",
    "#    for w in weights:\n",
    "#\n",
    "#        qml.TTN(range(n_wires),n_block_wires,block, n_params_block, w)\n",
    "#        #print(w)\n",
    "#    #print(x)\n",
    "#    \n",
    "#    return qml.expval(qml.PauliZ(3))\n",
    "#np.random.seed(0)\n",
    "#num_layers = 1\n",
    "#weights_init = 2*np.pi * np.random.randn(num_layers,n_blocks, n_params_block)\n",
    "#print(weights_init.shape)\n",
    "#\n",
    "#print(qml.draw(circuit,expansion_strategy='device',wire_order=[i for i in range(10)])(weights_init,np.asarray(X_train[0])))"
   ]
  },
  {
   "cell_type": "code",
   "execution_count": 31,
   "metadata": {},
   "outputs": [],
   "source": [
    "#from qbraid import circuit_wrapper\n",
    "# maybe we can use qbraid sdk\n",
    "#TTN_circ = circuit_wrapper(n_blocks).transpile('qiskit')\n",
    "#TTN_circ.draw()\n",
    "#print(qml.draw(n_blocks)(weights))\n",
    "#qml.draw(n_blocks)([0,0,0,0])"
   ]
  },
  {
   "cell_type": "code",
   "execution_count": 32,
   "metadata": {},
   "outputs": [],
   "source": [
    "#def _block(self, qubits, symbols):\n",
    "#\n",
    "#    #assert len(qubits) == 2\n",
    "#    #assert len(qubits) == len(symbols)\n",
    "#    qc = QuantumCircuit()\n",
    "#    qc.y()\n",
    "#    \n",
    "#    #\n",
    "#    #return cirq.Circuit(\n",
    "#    #    cirq.Y(qubits[0])**symbols[0],\n",
    "#    #    cirq.Y(qubits[1])**symbols[1], cirq.CNOT(qubits[0], qubits[1]))"
   ]
  },
  {
   "cell_type": "code",
   "execution_count": 33,
   "metadata": {},
   "outputs": [],
   "source": [
    "#data_symbols = []\n",
    "#\n",
    "#ansatz = QuantumCircuit()\n",
    "#for l in range(n_layers):\n",
    "#    for idx, w in enumerate(ind_gates):\n",
    "#        ansatz.append(block(w, var_symbols[l, idx]))\n",
    "#    \n",
    "#    ## Re-encoding layer\n",
    "#    #if drc and (l < n_layers - 1):\n",
    "#    #    data_circuit, expr = cirq.flatten(\n",
    "#    #        feature_map.build(qubits, in_symbols[l]))\n",
    "#    #    circuit += data_circuit\n",
    "#    #    data_symbols += list(expr.values())"
   ]
  },
  {
   "cell_type": "code",
   "execution_count": 34,
   "metadata": {},
   "outputs": [],
   "source": [
    "from qiskit.circuit.library import RealAmplitudes, EfficientSU2\n",
    "ansatz = RealAmplitudes(10, reps=2)\n",
    "\n",
    "# todo: TTN, example: https://github.com/Gopal-Dahale/qml-hep-lhc/blob/0632e2bcf892965303faa3ebc7322bc87b9ad6b3/qml_hep_lhc/ansatzes/ttn.py\n",
    "# def tnn():\n",
    "\n",
    "#ansatz.draw()\n",
    "#ansatz_ = ansatz.decompose(reps=20)\n",
    "#print(ansatz_.depth())\n",
    "#print(f\"Circuit operations: {ansatz_.count_ops()}\")"
   ]
  },
  {
   "cell_type": "code",
   "execution_count": 35,
   "metadata": {},
   "outputs": [
    {
     "data": {
      "text/plain": [
       "784"
      ]
     },
     "execution_count": 35,
     "metadata": {},
     "output_type": "execute_result"
    }
   ],
   "source": [
    "EfficientSU2(4,reps=97).num_parameters"
   ]
  },
  {
   "cell_type": "markdown",
   "metadata": {},
   "source": [
    "## test encoding & decoding (1st task)"
   ]
  },
  {
   "cell_type": "code",
   "execution_count": 36,
   "metadata": {},
   "outputs": [],
   "source": [
    "import qiskit\n",
    "from qiskit import BasicAer\n",
    "\n",
    "def simulate(circ: qiskit.QuantumCircuit) -> dict:\n",
    "    \"\"\"Simulate the circuit, give the state vector as the result.\"\"\"\n",
    "    backend = BasicAer.get_backend('statevector_simulator')\n",
    "    job = execute(circ, backend)\n",
    "    result = job.result()\n",
    "    state_vector = result.get_statevector()\n",
    "    \n",
    "    histogram = dict()\n",
    "    for i in range(len(state_vector)):\n",
    "        population = abs(state_vector[i]) ** 2\n",
    "        if population > 1e-9:\n",
    "            histogram[i] = population\n",
    "    \n",
    "    return histogram"
   ]
  },
  {
   "cell_type": "code",
   "execution_count": 39,
   "metadata": {},
   "outputs": [
    {
     "data": {
      "text/plain": [
       "<matplotlib.image.AxesImage at 0x1ceb4abb310>"
      ]
     },
     "execution_count": 39,
     "metadata": {},
     "output_type": "execute_result"
    },
    {
     "data": {
      "image/png": "[encoded data removed]",
      "text/plain": [
       "<Figure size 640x480 with 1 Axes>"
      ]
     },
     "metadata": {},
     "output_type": "display_data"
    }
   ],
   "source": [
    "import matplotlib.pyplot as plt\n",
    "after_ = np.array(list(new_histogram.values())[:784])\n",
    "plt.imshow(np.reshape(after_,X_train[0].shape))"
   ]
  },
  {
   "cell_type": "code",
   "execution_count": 40,
   "metadata": {
    "scrolled": true
   },
   "outputs": [
    {
     "data": {
      "text/plain": [
       "<matplotlib.image.AxesImage at 0x1ceb4e0b580>"
      ]
     },
     "execution_count": 40,
     "metadata": {},
     "output_type": "execute_result"
    },
    {
     "data": {
      "image/png": "[encoded data removed]",
      "text/plain": [
       "<Figure size 640x480 with 1 Axes>"
      ]
     },
     "metadata": {},
     "output_type": "display_data"
    }
   ],
   "source": [
    "de_normalized_vector = de_normalize(after_,X_train[0])\n",
    "plt.imshow(np.reshape(after_,X_train[0].shape))"
   ]
  },
  {
   "cell_type": "code",
   "execution_count": 41,
   "metadata": {},
   "outputs": [],
   "source": [
    "from qiskit.circuit.library import StatePreparation\n",
    "def encode_qiskit(x,num_qubit=10):\n",
    "    normalized_vector = normalize(x)\n",
    "    qc = RawFeatureVector(2**num_qubit) #\n",
    "    qc = qc.bind_parameters(normalized_vector)\n",
    "    return qc\n",
    "\n",
    "def decode(histogram,data):\n",
    "    new_histogram = {}\n",
    "    for key in range(len(qc.parameters)):\n",
    "        if key in histogram:\n",
    "            new_histogram[key] = histogram[key]\n",
    "        else:\n",
    "            new_histogram[key] = 0\n",
    "    #print(new_histogram)\n",
    "    after_ = np.array(list(new_histogram.values()))\n",
    "    return np.reshape(de_normalize(after_,data)[:784],data_shape)\n",
    "\n",
    "def count_gates(circuit: qiskit.QuantumCircuit) -> Dict[int, int]:\n",
    "    \"\"\"Returns the number of gate operations with each number of qubits.\"\"\"\n",
    "    return Counter([len(gate[1]) for gate in circuit.data])\n",
    "\n",
    "def image_mse(image1,image2):\n",
    "    # Using sklearns mean squared error:\n",
    "    # https://scikit-learn.org/stable/modules/generated/sklearn.metrics.mean_squared_error.html\n",
    "    return mean_squared_error(image1, image2)"
   ]
  },
  {
   "cell_type": "code",
   "execution_count": null,
   "metadata": {},
   "outputs": [],
   "source": [
    "#grade part1\n",
    "#from part1 import encode_qiskit,decode\n",
    "from collections import Counter\n",
    "from sklearn.metrics import mean_squared_error\n",
    "\n",
    "dataset = X_train[:1]\n",
    "\n",
    "n=len(dataset)\n",
    "mse=0\n",
    "gatecount=0\n",
    "\n",
    "for data in dataset:\n",
    "    #encode image into circuit\n",
    "    circuit=encode_qiskit(data)\n",
    "    \n",
    "    #simulate circuit\n",
    "    histogram=simulate(circuit)\n",
    "    \n",
    "    gatecount+=count_gates(circuit)[2]\n",
    "    \n",
    "    #reconstruct \n",
    "    image_re=decode(histogram,data)\n",
    "    print(image_re)\n",
    "    \n",
    "    #calculate mse\n",
    "    mse+=image_mse(np.asarray(data),np.asarray(image_re))\n",
    "    \n",
    "#fidelity of reconstruction\n",
    "f=1-mse\n",
    "gatecount=gatecount/n\n",
    "\n",
    "#score for part1\n",
    "print(f*(0.999**gatecount))\n",
    "# score should be between 0 and 1"
   ]
  },
  {
   "cell_type": "code",
   "execution_count": null,
   "metadata": {},
   "outputs": [],
   "source": [
    "#traning_qc = QuantumCircuit(10,10)\n",
    "#traning_qc.append(qc,[i for i in range(10)])\n",
    "#traning_qc.append(ansatz_,[i for i in range(10)])\n",
    "##qc.append(ansatz)\n",
    "#traning_qc.draw()"
   ]
  },
  {
   "cell_type": "markdown",
   "metadata": {},
   "source": [
    "## train classifier circuit (2nd task)\n",
    "is there a way to get the best classifier?  \n",
    "\n",
    "Important Final Note: The goal of this problem is to explore quantum computing approaches to machine learning problems. To this end, the final score will take into account the degree of quantumness in the program. Preference will be given to creative solutions with a minimal amount of classical processing in the final solution.\n",
    "\n",
    "reference:   \n",
    "[1] calculate result from probability, https://github.com/ericardomuten/quantum_image_classifier  \n",
    "[2] MPS tensor circuit(ideal classifier circuit), https://journals.aps.org/prresearch/pdf/10.1103/PhysRevResearch.4.043007 , good example from qamp-mentorship https://github.com/qiskit-advocate/qamp-fall-22/issues/28   \n",
    "[3] Good idea about amplitude circuit, https://journals.aps.org/prx/pdf/10.1103/PhysRevX.7.031041"
   ]
  },
  {
   "cell_type": "code",
   "execution_count": 32,
   "metadata": {},
   "outputs": [],
   "source": [
    "from IPython.display import clear_output\n",
    "def callback_graph(weights, obj_func_eval):\n",
    "    clear_output(wait=True)\n",
    "    objective_func_vals.append(obj_func_eval)\n",
    "    plt.title(\"Objective function value against iteration\")\n",
    "    plt.xlabel(\"Iteration\")\n",
    "    plt.ylabel(\"Objective function value\")\n",
    "    plt.plot(range(len(objective_func_vals)), objective_func_vals)\n",
    "    plt.show()"
   ]
  },
  {
   "cell_type": "code",
   "execution_count": 33,
   "metadata": {},
   "outputs": [],
   "source": [
    "from qiskit_machine_learning.algorithms.classifiers import VQC\n",
    "vqc = VQC(\n",
    "    feature_map=qc,\n",
    "    ansatz=ansatz,\n",
    "    loss=\"cross_entropy\",\n",
    "    optimizer=COBYLA(maxiter=100),\n",
    "    quantum_instance=Aer.get_backend('statevector_simulator'),\n",
    "    callback=callback_graph\n",
    ")"
   ]
  },
  {
   "cell_type": "code",
   "execution_count": 34,
   "metadata": {},
   "outputs": [
    {
     "data": {
      "image/png": "[encoded data removed]",
      "text/plain": [
       "<Figure size 432x288 with 1 Axes>"
      ]
     },
     "metadata": {
      "needs_background": "light"
     },
     "output_type": "display_data"
    },
    {
     "name": "stdout",
     "output_type": "stream",
     "text": [
      "Time elapsed:  801.2947278022766\n"
     ]
    }
   ],
   "source": [
    "import time\n",
    "start = time.time()\n",
    "\n",
    "objective_func_vals = []\n",
    "vqc.fit(np.array(X_train_list),np.array(Y_train[:100]))\n",
    "plt.rcParams[\"figure.figsize\"] = (6, 4)\n",
    "\n",
    "own_elapsed = time.time() - start\n",
    "print(\"Time elapsed: \", own_elapsed)"
   ]
  },
  {
   "cell_type": "code",
   "execution_count": 35,
   "metadata": {},
   "outputs": [
    {
     "data": {
      "text/plain": [
       "0.24"
      ]
     },
     "execution_count": 35,
     "metadata": {},
     "output_type": "execute_result"
    }
   ],
   "source": [
    "vqc.score(X_test_list[:50],Y_test[:50])"
   ]
  },
  {
   "cell_type": "code",
   "execution_count": 53,
   "metadata": {},
   "outputs": [
    {
     "data": {
      "text/plain": [
       "<qiskit_machine_learning.algorithms.classifiers.vqc.VQC at 0x7f172d867280>"
      ]
     },
     "execution_count": 53,
     "metadata": {},
     "output_type": "execute_result"
    }
   ],
   "source": [
    "vqc"
   ]
  },
  {
   "cell_type": "code",
   "execution_count": 55,
   "metadata": {},
   "outputs": [
    {
     "name": "stdout",
     "output_type": "stream",
     "text": [
      "OPENQASM 2.0;\n",
      "include \"qelib1.inc\";\n",
      "gate gate_RealAmplitudes(param0,param1,param2,param3,param4,param5,param6,param7,param8,param9,param10,param11,param12,param13,param14,param15,param16,param17,param18,param19,param20,param21,param22,param23,param24,param25,param26,param27,param28,param29) q0,q1,q2,q3,q4,q5,q6,q7,q8,q9 { ry(0.115457980475161) q0; ry(1.86754040076432) q1; ry(2.08259753153251) q2; ry(0.234300570835282) q3; ry(0.515953141990566) q4; ry(1.65349395917796) q5; ry(1.08491471456546) q6; ry(1.08177932104991) q7; ry(1.40894078946757) q8; ry(0.26263646789421) q9; cx q8,q9; cx q7,q8; cx q6,q7; cx q5,q6; cx q4,q5; cx q3,q4; cx q2,q3; cx q1,q2; cx q0,q1; ry(0.233474718079866) q0; ry(-0.0939336402061521) q1; ry(0.191350773286554) q2; ry(1.21728713898372) q3; ry(-0.278541286887399) q4; ry(1.0410986521404) q5; ry(1.43966822397902) q6; ry(-0.125766054772392) q7; ry(0.587831141919945) q8; ry(0.684098279334956) q9; cx q8,q9; cx q7,q8; cx q6,q7; cx q5,q6; cx q4,q5; cx q3,q4; cx q2,q3; cx q1,q2; cx q0,q1; ry(1.10858394593622) q0; ry(0.409505677662811) q1; ry(1.12943503462716) q2; ry(0.0767765652349061) q3; ry(0.441295454568967) q4; ry(1.77246112475261) q5; ry(0.337942415009636) q6; ry(0.87410124616346) q7; ry(0.171878664200548) q8; ry(0.26780522610314) q9; }\n",
      "qreg q[10];\n",
      "gate_RealAmplitudes(0.115457980475161,1.86754040076432,2.08259753153251,0.234300570835282,0.515953141990566,1.65349395917796,1.08491471456546,1.08177932104991,1.40894078946757,0.26263646789421,0.233474718079866,-0.0939336402061521,0.191350773286554,1.21728713898372,-0.278541286887399,1.0410986521404,1.43966822397902,-0.125766054772392,0.587831141919945,0.684098279334956,1.10858394593622,0.409505677662811,1.12943503462716,0.0767765652349061,0.441295454568967,1.77246112475261,0.337942415009636,0.87410124616346,0.171878664200548,0.26780522610314) q[0],q[1],q[2],q[3],q[4],q[5],q[6],q[7],q[8],q[9];\n",
      "\n"
     ]
    }
   ],
   "source": [
    "classifier = ansatz.bind_parameters(vqc._fit_result.x).qasm()\n",
    "print(classifier)"
   ]
  },
  {
   "cell_type": "code",
   "execution_count": 56,
   "metadata": {},
   "outputs": [],
   "source": [
    "with open(\"test.qasm\", \"w\") as f:\n",
    "    f.write(classifier)"
   ]
  },
  {
   "cell_type": "code",
   "execution_count": 57,
   "metadata": {},
   "outputs": [],
   "source": [
    "vqc_recovered = QuantumCircuit.from_qasm_file(\"test.qasm\")"
   ]
  },
  {
   "cell_type": "code",
   "execution_count": 36,
   "metadata": {},
   "outputs": [],
   "source": [
    "from qiskit.algorithms.optimizers import SPSA"
   ]
  },
  {
   "cell_type": "code",
   "execution_count": 49,
   "metadata": {},
   "outputs": [],
   "source": [
    "from qiskit.utils import algorithm_globals\n",
    "algorithm_globals.random_seed = 0\n",
    "\n",
    "import numpy as np\n",
    "np.random.seed(algorithm_globals.random_seed)"
   ]
  },
  {
   "cell_type": "code",
   "execution_count": 60,
   "metadata": {},
   "outputs": [],
   "source": [
    "from qiskit.circuit.library import TwoLocal\n",
    "qc_twolocal = TwoLocal(num_qubits=10, reps=2, rotation_blocks=['ry','rz'],\n",
    "                entanglement_blocks='cx', skip_final_rotation_layer=True,\n",
    "                insert_barriers=True)"
   ]
  },
  {
   "cell_type": "code",
   "execution_count": 61,
   "metadata": {},
   "outputs": [],
   "source": [
    "vqc_twolocal_spsa300 = VQC(\n",
    "    feature_map=qc,\n",
    "    ansatz=qc_twolocal,\n",
    "    loss=\"cross_entropy\",\n",
    "    optimizer=SPSA(maxiter=100),\n",
    "    quantum_instance=Aer.get_backend('statevector_simulator'),\n",
    "    callback=callback_graph\n",
    ")"
   ]
  },
  {
   "cell_type": "code",
   "execution_count": null,
   "metadata": {},
   "outputs": [
    {
     "data": {
      "image/png": "[encoded data removed]",
      "text/plain": [
       "<Figure size 432x288 with 1 Axes>"
      ]
     },
     "metadata": {
      "needs_background": "light"
     },
     "output_type": "display_data"
    }
   ],
   "source": [
    "start = time.time()\n",
    "\n",
    "objective_func_vals = []\n",
    "vqc_twolocal_spsa300.fit(np.array(X_train_list),np.array(Y_train[:100]))\n",
    "plt.rcParams[\"figure.figsize\"] = (6, 4)\n",
    "\n",
    "own_elapsed = time.time() - start\n",
    "print(\"Time elapsed: \", own_elapsed)"
   ]
  },
  {
   "cell_type": "code",
   "execution_count": null,
   "metadata": {},
   "outputs": [],
   "source": [
    "vqc_twolocal_cobyla300.score(X_test_list[:50],Y_test[:50])"
   ]
  },
  {
   "cell_type": "code",
   "execution_count": 20,
   "metadata": {},
   "outputs": [
    {
     "name": "stdout",
     "output_type": "stream",
     "text": [
      "OPENQASM 2.0;\n",
      "include \"qelib1.inc\";\n",
      "gate gate_RealAmplitudes(param0,param1,param2,param3,param4,param5,param6,param7,param8,param9,param10,param11,param12,param13,param14,param15,param16,param17,param18,param19,param20,param21,param22,param23,param24,param25,param26,param27,param28,param29) q0,q1,q2,q3,q4,q5,q6,q7,q8,q9 { ry(0.266317714019139) q0; ry(1.32035044188513) q1; ry(0.375724625916453) q2; ry(-0.145527578194223) q3; ry(1.24796981173025) q4; ry(-0.3722525242738) q5; ry(0.98731246639232) q6; ry(1.98782341512519) q7; ry(1.66430495324693) q8; ry(0.760045740348774) q9; cx q8,q9; cx q7,q8; cx q6,q7; cx q5,q6; cx q4,q5; cx q3,q4; cx q2,q3; cx q1,q2; cx q0,q1; ry(1.76943425343952) q0; ry(1.54002486179664) q1; ry(1.5166941190635) q2; ry(2.08820456685236) q3; ry(0.502872321522427) q4; ry(0.5226897740692) q5; ry(1.34895736320983) q6; ry(0.17808386546728) q7; ry(1.48787325816064) q8; ry(1.19251464386051) q9; cx q8,q9; cx q7,q8; cx q6,q7; cx q5,q6; cx q4,q5; cx q3,q4; cx q2,q3; cx q1,q2; cx q0,q1; ry(1.63207747410879) q0; ry(0.944742510667842) q1; ry(1.4738548596109) q2; ry(0.0395594736234817) q3; ry(0.160988017972572) q4; ry(-0.139909848244233) q5; ry(0.217661325699283) q6; ry(1.51612158505368) q7; ry(0.709288700436131) q8; ry(2.00665865500557) q9; }\n",
      "qreg q[10];\n",
      "gate_RealAmplitudes(0.266317714019139,1.32035044188513,0.375724625916453,-0.145527578194223,1.24796981173025,-0.3722525242738,0.98731246639232,1.98782341512519,1.66430495324693,0.760045740348774,1.76943425343952,1.54002486179664,1.5166941190635,2.08820456685236,0.502872321522427,0.5226897740692,1.34895736320983,0.17808386546728,1.48787325816064,1.19251464386051,1.63207747410879,0.944742510667842,1.4738548596109,0.0395594736234817,0.160988017972572,-0.139909848244233,0.217661325699283,1.51612158505368,0.709288700436131,2.00665865500557) q[0],q[1],q[2],q[3],q[4],q[5],q[6],q[7],q[8],q[9];\n",
      "\n"
     ]
    }
   ],
   "source": [
    "classifier = ansatz.bind_parameters(vqc._fit_result.x).qasm()\n",
    "print(classifier)"
   ]
  },
  {
   "cell_type": "code",
   "execution_count": null,
   "metadata": {},
   "outputs": [],
   "source": [
    "##grade part 2\n",
    "#\n",
    "##load classifier circuit\n",
    "##classifier=qiskit.QuantumCircuit.from_qasm_file('part2.qasm')\n",
    "#    \n",
    "#score=0\n",
    "#\n",
    "#for data in dataset:\n",
    "#    #encode image into circuit\n",
    "#    circuit=encode_qiskit(data['image'])\n",
    "#    \n",
    "#    nq1 = circuit.width()\n",
    "#    nq2 = classifier.width()\n",
    "#    nq = max(nq1, nq2)\n",
    "#    qc = qiskit.QuantumCircuit(nq)\n",
    "#    qc.append(circuit.to_instruction(), list(range(nq1)))\n",
    "#    qc.append(classifier.to_instruction(), list(range(nq2)))\n",
    "#\n",
    "#    gatecount+=count_gates(qc)[2]\n",
    "#    \n",
    "#    #simulate circuit\n",
    "#    histogram=simulate(qc)\n",
    "#    \n",
    "#    #convert histogram to category\n",
    "#    cat=histogram_to_category(histogram)\n",
    "#    \n",
    "#    \n",
    "#    if cat==data['category']:\n",
    "#        score+=1\n",
    "##score\n",
    "#score=score/n\n",
    "#gatecount=gatecount/n\n",
    "#\n",
    "#print(score*(0.999**gatecount))"
   ]
  }
 ],
 "metadata": {
  "kernelspec": {
   "display_name": "ionq",
   "language": "python",
   "name": "ionq"
  },
  "language_info": {
   "codemirror_mode": {
    "name": "ipython",
    "version": 3
   },
   "file_extension": ".py",
   "mimetype": "text/x-python",
   "name": "python",
   "nbconvert_exporter": "python",
   "pygments_lexer": "ipython3",
   "version": "3.10.9"
  },
  "toc": {
   "base_numbering": 1,
   "nav_menu": {},
   "number_sections": true,
   "sideBar": true,
   "skip_h1_title": false,
   "title_cell": "Table of Contents",
   "title_sidebar": "Contents",
   "toc_cell": false,
   "toc_position": {},
   "toc_section_display": true,
   "toc_window_display": false
  },
  "widgets": {
   "application/vnd.jupyter.widget-state+json": {
    "state": {
     "01129f7555644e438bddefcdf79a20a9": {
      "model_module": "@jupyter-widgets/controls",
      "model_module_version": "1.5.0",
      "model_name": "DescriptionStyleModel",
      "state": {
       "description_width": ""
      }
     },
     "0853aa3888bd497c949dc547e1365817": {
      "model_module": "@jupyter-widgets/controls",
      "model_module_version": "1.5.0",
      "model_name": "DescriptionStyleModel",
      "state": {
       "description_width": ""
      }
     },
     "0d462f3fbd1e486fbfde53dea40368ec": {
      "model_module": "@jupyter-widgets/base",
      "model_module_version": "1.2.0",
      "model_name": "LayoutModel",
      "state": {
       "width": "95px"
      }
     },
     "217dee64d375487a927af567b3719d62": {
      "model_module": "@jupyter-widgets/controls",
      "model_module_version": "1.5.0",
      "model_name": "DescriptionStyleModel",
      "state": {
       "description_width": ""
      }
     },
     "22205bd9b1664c9fbb8d0f97ecec05b2": {
      "model_module": "@jupyter-widgets/base",
      "model_module_version": "1.2.0",
      "model_name": "LayoutModel",
      "state": {
       "width": "70px"
      }
     },
     "26e034e4883447c08d5dfc07e752c6ca": {
      "model_module": "@jupyter-widgets/controls",
      "model_module_version": "1.5.0",
      "model_name": "DescriptionStyleModel",
      "state": {
       "description_width": ""
      }
     },
     "283e1cbcded2433ebe4217311882c641": {
      "model_module": "@jupyter-widgets/controls",
      "model_module_version": "1.5.0",
      "model_name": "DescriptionStyleModel",
      "state": {
       "description_width": ""
      }
     },
     "2c6d8adf39f248c49707b3923989750d": {
      "model_module": "@jupyter-widgets/base",
      "model_module_version": "1.2.0",
      "model_name": "LayoutModel",
      "state": {}
     },
     "31423c8447db46e4af5eca52a7c31cef": {
      "model_module": "@jupyter-widgets/controls",
      "model_module_version": "1.5.0",
      "model_name": "HTMLModel",
      "state": {
       "layout": "IPY_MODEL_5d7b584c3e3e42b082b106a523b526af",
       "style": "IPY_MODEL_283e1cbcded2433ebe4217311882c641",
       "value": "<p style='font-family: IBM Plex Sans, Arial, Helvetica, sans-serif; font-size: 20px; font-weight: medium;'>Circuit Properties</p>"
      }
     },
     "4a7e631dfd2f4eb881827b5ea1811d70": {
      "model_module": "@jupyter-widgets/controls",
      "model_module_version": "1.5.0",
      "model_name": "GridBoxModel",
      "state": {
       "children": [
        "IPY_MODEL_7206bf28aaa34f54a0f1633f793485e4"
       ],
       "layout": "IPY_MODEL_b1bbfaad78864ab4816b0aa3b753053e"
      }
     },
     "4c306a14df5f4c8f94bad2bb018932ea": {
      "model_module": "@jupyter-widgets/controls",
      "model_module_version": "1.5.0",
      "model_name": "HTMLModel",
      "state": {
       "layout": "IPY_MODEL_6dc1e6d89c814def95b2089625ceaf24",
       "style": "IPY_MODEL_217dee64d375487a927af567b3719d62",
       "value": "<h5>Backend</h5>"
      }
     },
     "549fcb7e2eb44c3abf3a592eae8d5714": {
      "model_module": "@jupyter-widgets/controls",
      "model_module_version": "1.5.0",
      "model_name": "HTMLModel",
      "state": {
       "layout": "IPY_MODEL_22205bd9b1664c9fbb8d0f97ecec05b2",
       "style": "IPY_MODEL_26e034e4883447c08d5dfc07e752c6ca",
       "value": "<h5>Queue</h5>"
      }
     },
     "5d7b584c3e3e42b082b106a523b526af": {
      "model_module": "@jupyter-widgets/base",
      "model_module_version": "1.2.0",
      "model_name": "LayoutModel",
      "state": {
       "margin": "0px 0px 10px 0px"
      }
     },
     "698705070469409dbde3be8f5be4ea1b": {
      "model_module": "@jupyter-widgets/controls",
      "model_module_version": "1.5.0",
      "model_name": "DescriptionStyleModel",
      "state": {
       "description_width": ""
      }
     },
     "6992111baa68498a8175f77873841738": {
      "model_module": "@jupyter-widgets/controls",
      "model_module_version": "1.5.0",
      "model_name": "ButtonStyleModel",
      "state": {}
     },
     "6dc1e6d89c814def95b2089625ceaf24": {
      "model_module": "@jupyter-widgets/base",
      "model_module_version": "1.2.0",
      "model_name": "LayoutModel",
      "state": {
       "width": "145px"
      }
     },
     "7206bf28aaa34f54a0f1633f793485e4": {
      "model_module": "@jupyter-widgets/controls",
      "model_module_version": "1.5.0",
      "model_name": "ButtonModel",
      "state": {
       "button_style": "primary",
       "description": "Clear",
       "layout": "IPY_MODEL_eb80f343098c453c9f2ea1e0989ea2f9",
       "style": "IPY_MODEL_6992111baa68498a8175f77873841738"
      }
     },
     "72f5fdcc1f5e42c8b195bf0c95805c70": {
      "model_module": "@jupyter-widgets/controls",
      "model_module_version": "1.5.0",
      "model_name": "HBoxModel",
      "state": {
       "children": [
        "IPY_MODEL_d4ee0cffb08946e5beb072f0dd64a055",
        "IPY_MODEL_4c306a14df5f4c8f94bad2bb018932ea",
        "IPY_MODEL_b66900bbbfef4ab58db9e5324cbd13bb",
        "IPY_MODEL_549fcb7e2eb44c3abf3a592eae8d5714",
        "IPY_MODEL_e92cc7291e2f477a91b4867f68efd32b"
       ],
       "layout": "IPY_MODEL_bf9c597c799a4f4e8de0308fe0cca137"
      }
     },
     "a190deb8f429465193854b619df653c9": {
      "model_module": "@jupyter-widgets/base",
      "model_module_version": "1.2.0",
      "model_name": "LayoutModel",
      "state": {
       "width": "190px"
      }
     },
     "b1bbfaad78864ab4816b0aa3b753053e": {
      "model_module": "@jupyter-widgets/base",
      "model_module_version": "1.2.0",
      "model_name": "LayoutModel",
      "state": {
       "grid_template_areas": "\n                                       \". . . . right \"\n                                        ",
       "grid_template_columns": "20% 20% 20% 20% 20%",
       "width": "100%"
      }
     },
     "b66900bbbfef4ab58db9e5324cbd13bb": {
      "model_module": "@jupyter-widgets/controls",
      "model_module_version": "1.5.0",
      "model_name": "HTMLModel",
      "state": {
       "layout": "IPY_MODEL_0d462f3fbd1e486fbfde53dea40368ec",
       "style": "IPY_MODEL_698705070469409dbde3be8f5be4ea1b",
       "value": "<h5>Status</h5>"
      }
     },
     "bf9c597c799a4f4e8de0308fe0cca137": {
      "model_module": "@jupyter-widgets/base",
      "model_module_version": "1.2.0",
      "model_name": "LayoutModel",
      "state": {
       "margin": "0px 0px 0px 37px",
       "width": "600px"
      }
     },
     "d4ee0cffb08946e5beb072f0dd64a055": {
      "model_module": "@jupyter-widgets/controls",
      "model_module_version": "1.5.0",
      "model_name": "HTMLModel",
      "state": {
       "layout": "IPY_MODEL_a190deb8f429465193854b619df653c9",
       "style": "IPY_MODEL_01129f7555644e438bddefcdf79a20a9",
       "value": "<h5>Job ID</h5>"
      }
     },
     "e92cc7291e2f477a91b4867f68efd32b": {
      "model_module": "@jupyter-widgets/controls",
      "model_module_version": "1.5.0",
      "model_name": "HTMLModel",
      "state": {
       "layout": "IPY_MODEL_2c6d8adf39f248c49707b3923989750d",
       "style": "IPY_MODEL_0853aa3888bd497c949dc547e1365817",
       "value": "<h5>Message</h5>"
      }
     },
     "eb80f343098c453c9f2ea1e0989ea2f9": {
      "model_module": "@jupyter-widgets/base",
      "model_module_version": "1.2.0",
      "model_name": "LayoutModel",
      "state": {
       "grid_area": "right",
       "padding": "0px 0px 0px 0px",
       "width": "70px"
      }
     }
    },
    "version_major": 2,
    "version_minor": 0
   }
  }
 },
 "nbformat": 4,
 "nbformat_minor": 5
}
