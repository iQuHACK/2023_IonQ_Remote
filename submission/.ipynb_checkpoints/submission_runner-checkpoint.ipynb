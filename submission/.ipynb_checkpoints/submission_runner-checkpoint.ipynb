{
 "cells": [
  {
   "cell_type": "code",
   "execution_count": 1,
   "metadata": {},
   "outputs": [],
   "source": [
    "#pip install tensorflow"
   ]
  },
  {
   "cell_type": "markdown",
   "metadata": {},
   "source": [
    "## prepare"
   ]
  },
  {
   "cell_type": "code",
   "execution_count": 1,
   "metadata": {},
   "outputs": [],
   "source": [
    "import warnings \n",
    "warnings.filterwarnings(\"ignore\")\n",
    "\n",
    "import numpy as np\n",
    "\n",
    "# Importing standard Qiskit libraries\n",
    "import qiskit\n",
    "from typing import Dict, List\n",
    "from qiskit import QuantumCircuit, transpile, Aer, execute\n",
    "from qiskit.algorithms.optimizers import COBYLA\n",
    "from qiskit.tools.jupyter import *\n",
    "from qiskit.visualization import *\n",
    "from qiskit.providers.aer import QasmSimulator\n",
    "from qiskit_machine_learning.circuit.library import RawFeatureVector\n",
    "from qiskit.circuit import Parameter\n",
    "from qiskit.quantum_info import Statevector\n",
    "import pickle\n",
    "from matplotlib import pyplot as plt\n",
    "\n",
    "from tensorflow.keras.datasets import fashion_mnist\n",
    "from sklearn.preprocessing import normalize"
   ]
  },
  {
   "cell_type": "code",
   "execution_count": 2,
   "metadata": {},
   "outputs": [],
   "source": [
    "(X_train, Y_train), (X_test, Y_test) = fashion_mnist.load_data()"
   ]
  },
  {
   "cell_type": "code",
   "execution_count": 3,
   "metadata": {},
   "outputs": [],
   "source": [
    "data_shape = X_train[0].shape"
   ]
  },
  {
   "cell_type": "markdown",
   "metadata": {},
   "source": [
    "## normalize"
   ]
  },
  {
   "cell_type": "code",
   "execution_count": 5,
   "metadata": {},
   "outputs": [
    {
     "data": {
      "text/plain": [
       "784"
      ]
     },
     "execution_count": 5,
     "metadata": {},
     "output_type": "execute_result"
    }
   ],
   "source": [
    "28*28"
   ]
  },
  {
   "cell_type": "code",
   "execution_count": 8,
   "metadata": {},
   "outputs": [
    {
     "data": {
      "text/plain": [
       "1024"
      ]
     },
     "execution_count": 8,
     "metadata": {},
     "output_type": "execute_result"
    }
   ],
   "source": [
    "2**int(np.ceil(np.log2(X_train[0].size)))"
   ]
  },
  {
   "cell_type": "code",
   "execution_count": 10,
   "metadata": {},
   "outputs": [],
   "source": [
    "def normalize(x):\n",
    "    \"\"\"\n",
    "    \"\"\"\n",
    "    x = x.flatten()\n",
    "    normalized_vector = x / np.linalg.norm(x)\n",
    "    total_size = 2**int(np.ceil(np.log2(X_train[0].size)))\n",
    "    normalized_vector = [*normalized_vector, *np.zeros(total_size-len(normalized_vector))]\n",
    "    return normalized_vector\n",
    "def de_normalize(normalized_vector, x):\n",
    "    return normalized_vector * np.linalg.norm(x.flatten())"
   ]
  },
  {
   "cell_type": "code",
   "execution_count": 11,
   "metadata": {},
   "outputs": [],
   "source": [
    "normalized_vector = np.array(normalize(X_train[0]))\n",
    "de_normalized_vector = de_normalize(normalized_vector,np.array(X_train[0]))"
   ]
  },
  {
   "cell_type": "code",
   "execution_count": 12,
   "metadata": {},
   "outputs": [
    {
     "data": {
      "text/plain": [
       "True"
      ]
     },
     "execution_count": 12,
     "metadata": {},
     "output_type": "execute_result"
    }
   ],
   "source": [
    "np.allclose(\n",
    "        X_train[0], np.reshape(np.array(de_normalized_vector[:784]),data_shape), rtol=1e-2\n",
    "    )"
   ]
  },
  {
   "cell_type": "code",
   "execution_count": 15,
   "metadata": {},
   "outputs": [
    {
     "data": {
      "text/plain": [
       "(100, 1024)"
      ]
     },
     "execution_count": 15,
     "metadata": {},
     "output_type": "execute_result"
    }
   ],
   "source": [
    "X_train_list = []\n",
    "for i in range(100):\n",
    "    X_train_list.append(normalize(X_train[i]))\n",
    "\n",
    "np.shape(X_train_list)"
   ]
  },
  {
   "cell_type": "code",
   "execution_count": 16,
   "metadata": {
    "scrolled": true
   },
   "outputs": [
    {
     "data": {
      "text/plain": [
       "(100, 1024)"
      ]
     },
     "execution_count": 16,
     "metadata": {},
     "output_type": "execute_result"
    }
   ],
   "source": [
    "X_test_list = []\n",
    "for i in range(100):\n",
    "    X_test_list.append(normalize(X_test[i]))\n",
    "np.shape(X_test_list)"
   ]
  },
  {
   "cell_type": "markdown",
   "metadata": {},
   "source": [
    "## encoding"
   ]
  },
  {
   "cell_type": "code",
   "execution_count": 17,
   "metadata": {
    "scrolled": true
   },
   "outputs": [
    {
     "name": "stdout",
     "output_type": "stream",
     "text": [
      "before normalize:\n"
     ]
    },
    {
     "data": {
      "text/plain": [
       "<matplotlib.image.AxesImage at 0x26a32070850>"
      ]
     },
     "metadata": {},
     "output_type": "display_data"
    },
    {
     "data": {
      "image/png": "[encoded data removed]",
      "text/plain": [
       "<Figure size 640x480 with 1 Axes>"
      ]
     },
     "metadata": {},
     "output_type": "display_data"
    }
   ],
   "source": [
    "print('before normalize:')\n",
    "display(plt.imshow(X_train[0]))"
   ]
  },
  {
   "cell_type": "code",
   "execution_count": 18,
   "metadata": {
    "scrolled": true
   },
   "outputs": [
    {
     "name": "stdout",
     "output_type": "stream",
     "text": [
      "after normalize:\n"
     ]
    },
    {
     "data": {
      "text/plain": [
       "<matplotlib.image.AxesImage at 0x26a327e1c60>"
      ]
     },
     "execution_count": 18,
     "metadata": {},
     "output_type": "execute_result"
    },
    {
     "data": {
      "image/png": "[encoded data removed]",
      "text/plain": [
       "<Figure size 640x480 with 1 Axes>"
      ]
     },
     "metadata": {},
     "output_type": "display_data"
    }
   ],
   "source": [
    "normalized_vector = normalize(X_train[0])\n",
    "#print(normalized_vector)\n",
    "print('after normalize:')\n",
    "plt.imshow(np.reshape(np.array(normalized_vector[:784]),data_shape))"
   ]
  },
  {
   "cell_type": "code",
   "execution_count": 19,
   "metadata": {},
   "outputs": [],
   "source": [
    "import numpy as np\n",
    "import cv2\n",
    "\n",
    "def amplitude_encode(img, depth=11):\n",
    "    # Quantize image intensity values into depth levels\n",
    "    quantized = np.clip(np.round(img / (256 / depth)), 0, depth - 1).astype(np.uint8)\n",
    "    # Map quantized intensity levels to amplitude values\n",
    "    amplitudes = quantized * (256 / depth)\n",
    "    return amplitudes\n",
    "\n",
    "# Load an image\n",
    "img = X_train[0]#cv2.imread('image.jpg', cv2.IMREAD_GRAYSCALE)\n",
    "# Do amplitude encoding with a depth of 11\n",
    "encoded = amplitude_encode(img, depth=11)"
   ]
  },
  {
   "cell_type": "code",
   "execution_count": 29,
   "metadata": {},
   "outputs": [
    {
     "ename": "TypeError",
     "evalue": "'numpy.float64' object cannot be interpreted as an integer",
     "output_type": "error",
     "traceback": [
      "\u001b[1;31m---------------------------------------------------------------------------\u001b[0m",
      "\u001b[1;31mTypeError\u001b[0m                                 Traceback (most recent call last)",
      "Cell \u001b[1;32mIn[29], line 26\u001b[0m\n\u001b[0;32m     23\u001b[0m img \u001b[38;5;241m=\u001b[39m X_train[\u001b[38;5;241m0\u001b[39m]\u001b[38;5;66;03m#.imread('image.jpg', cv2.IMREAD_GRAYSCALE)\u001b[39;00m\n\u001b[0;32m     25\u001b[0m \u001b[38;5;66;03m# Cut the image into parts\u001b[39;00m\n\u001b[1;32m---> 26\u001b[0m parts \u001b[38;5;241m=\u001b[39m [img[i:i\u001b[38;5;241m+\u001b[39mpart_size, j:j\u001b[38;5;241m+\u001b[39mpart_size] \u001b[38;5;28;01mfor\u001b[39;00m i \u001b[38;5;129;01min\u001b[39;00m \u001b[38;5;28;43mrange\u001b[39;49m\u001b[43m(\u001b[49m\u001b[38;5;241;43m0\u001b[39;49m\u001b[43m,\u001b[49m\u001b[43m \u001b[49m\u001b[43mimg\u001b[49m\u001b[38;5;241;43m.\u001b[39;49m\u001b[43mshape\u001b[49m\u001b[43m[\u001b[49m\u001b[38;5;241;43m0\u001b[39;49m\u001b[43m]\u001b[49m\u001b[43m,\u001b[49m\u001b[43m \u001b[49m\u001b[43mpart_size\u001b[49m\u001b[43m)\u001b[49m\n\u001b[0;32m     27\u001b[0m          \u001b[38;5;28;01mfor\u001b[39;00m j \u001b[38;5;129;01min\u001b[39;00m \u001b[38;5;28mrange\u001b[39m(\u001b[38;5;241m0\u001b[39m, img\u001b[38;5;241m.\u001b[39mshape[\u001b[38;5;241m1\u001b[39m], part_size)]\n\u001b[0;32m     29\u001b[0m \u001b[38;5;66;03m# Initialize the quantum circuit and registers\u001b[39;00m\n\u001b[0;32m     30\u001b[0m qr \u001b[38;5;241m=\u001b[39m QuantumRegister(n_qubits)\n",
      "\u001b[1;31mTypeError\u001b[0m: 'numpy.float64' object cannot be interpreted as an integer"
     ]
    }
   ],
   "source": [
    "from qiskit import QuantumCircuit, QuantumRegister, ClassicalRegister\n",
    "from qiskit import execute, Aer\n",
    "import numpy as np\n",
    "\n",
    "# Function to angle encode a part of the image\n",
    "def angle_encode_part(part, qc, qr, cr, n_qubits):\n",
    "    # Convert the part of the image to an angle value in radians\n",
    "    angle = 2 * np.pi * part / 256\n",
    "    # Apply the angle encoding using n_qubits qubits\n",
    "    for i in range(n_qubits):\n",
    "        qc.ry(angle, qr[i])\n",
    "    # Measure the qubits\n",
    "    for i in range(n_qubits):\n",
    "        qc.measure(qr[i], cr[i])\n",
    "\n",
    "# Define the number of qubits to use for each part\n",
    "n_qubits = 4\n",
    "\n",
    "# Define the size of the parts\n",
    "part_size = 28 // np.sqrt(n_qubits)\n",
    "\n",
    "# Load the image\n",
    "img = X_train[0]#.imread('image.jpg', cv2.IMREAD_GRAYSCALE)\n",
    "\n",
    "# Cut the image into parts\n",
    "parts = [img[i:i+part_size, j:j+part_size] for i in range(0, img.shape[0], part_size)\n",
    "         for j in range(0, img.shape[1], part_size)]\n",
    "\n",
    "# Initialize the quantum circuit and registers\n",
    "qr = QuantumRegister(n_qubits)\n",
    "cr = ClassicalRegister(n_qubits)\n",
    "qc = QuantumCircuit(qr, cr)\n",
    "\n",
    "# Loop over each part and apply angle encoding\n",
    "for part in parts:\n",
    "    angle_encode_part(part, qc, qr, cr, n_qubits)\n",
    "\n",
    "# Execute the circuit on a simulator\n",
    "backend = Aer.get_backend('qasm_simulator')\n",
    "job = execute(qc, backend, shots=1)\n",
    "result = job.result()\n",
    "\n",
    "# Collect the results\n",
    "encoded_parts = [int(''.join([str(x) for x in result.get_counts(i).keys()]), 2)\n",
    "                 for i in range(len(parts))]"
   ]
  },
  {
   "cell_type": "code",
   "execution_count": null,
   "metadata": {},
   "outputs": [],
   "source": []
  },
  {
   "cell_type": "code",
   "execution_count": 17,
   "metadata": {},
   "outputs": [],
   "source": [
    "#scaler.inverse_transform(scaler.transform(X_train[0]))"
   ]
  },
  {
   "cell_type": "markdown",
   "metadata": {},
   "source": [
    "## circuit"
   ]
  },
  {
   "cell_type": "code",
   "execution_count": 18,
   "metadata": {},
   "outputs": [
    {
     "data": {
      "text/plain": [
       "1024"
      ]
     },
     "execution_count": 18,
     "metadata": {},
     "output_type": "execute_result"
    }
   ],
   "source": [
    "state = normalized_vector\n",
    "n = 10\n",
    "qc = RawFeatureVector(2**n)\n",
    "#qc = qc.bind_parameters(state)\n",
    "#qc.measure_all()\n",
    "\n",
    "#qc_ = qc.decompose(reps=20)\n",
    "#print(qc_.depth())\n",
    "#print(f\"Circuit operations: {qc_.count_ops()}\")\n",
    "## qc.decompose(reps = 9).draw()\n",
    "qc.num_parameters"
   ]
  },
  {
   "cell_type": "markdown",
   "metadata": {},
   "source": [
    "## test encoding & decoding (1st task)"
   ]
  },
  {
   "cell_type": "code",
   "execution_count": 19,
   "metadata": {},
   "outputs": [],
   "source": [
    "import qiskit\n",
    "from qiskit import BasicAer\n",
    "\n",
    "def simulate(circ: qiskit.QuantumCircuit) -> dict:\n",
    "    \"\"\"Simulate the circuit, give the state vector as the result.\"\"\"\n",
    "    backend = BasicAer.get_backend('statevector_simulator')\n",
    "    job = execute(circ, backend,optimization_level=0,shots=1024)\n",
    "    result = job.result()\n",
    "    state_vector = result.get_statevector()\n",
    "    \n",
    "    histogram = dict()\n",
    "    for i in range(len(state_vector)):\n",
    "        population = abs(state_vector[i]) ** 2\n",
    "        if population > 1e-9:\n",
    "            histogram[i] = population\n",
    "    \n",
    "    return histogram"
   ]
  },
  {
   "cell_type": "code",
   "execution_count": 20,
   "metadata": {
    "scrolled": true
   },
   "outputs": [],
   "source": [
    "#histogram = simulate(qc.bind_parameters(normalized_vector))\n",
    "#print(histogram)\n",
    "#new_histogram = {}\n",
    "#\n",
    "#for key in range(len(qc.parameters)):\n",
    "#    if key in histogram:\n",
    "#        new_histogram[key] = histogram[key]\n",
    "#    else:\n",
    "#        new_histogram[key] = 0\n",
    "#print(new_histogram)"
   ]
  },
  {
   "cell_type": "code",
   "execution_count": 21,
   "metadata": {},
   "outputs": [],
   "source": [
    "#import matplotlib.pyplot as plt\n",
    "#after_ = np.array(list(new_histogram.values())[:784])\n",
    "#plt.imshow(np.reshape(after_,data_shape))"
   ]
  },
  {
   "cell_type": "code",
   "execution_count": 22,
   "metadata": {
    "scrolled": true
   },
   "outputs": [],
   "source": [
    "#de_normalized_vector = de_normalize(after_,X_train[0])\n",
    "#plt.imshow(np.reshape(after_,data_shape))"
   ]
  },
  {
   "cell_type": "code",
   "execution_count": 27,
   "metadata": {},
   "outputs": [],
   "source": [
    "from qiskit.circuit.library import StatePreparation\n",
    "def encode_qiskit(x,num_qubit=10):\n",
    "    normalized_vector = normalize(x)\n",
    "    qc = RawFeatureVector(2**num_qubit) #\n",
    "    qc = qc.bind_parameters(normalized_vector)\n",
    "    return qc\n",
    "\n",
    "def decode(histogram,data):\n",
    "    new_histogram = {}\n",
    "    for key in range(len(qc.parameters)):\n",
    "        if key in histogram:\n",
    "            new_histogram[key] = histogram[key]\n",
    "        else:\n",
    "            new_histogram[key] = 0\n",
    "    #print(new_histogram)\n",
    "    after_ = np.array(list(new_histogram.values()))\n",
    "    return np.reshape(de_normalize(after_,data)[:784],data_shape)\n",
    "\n",
    "def count_gates(circuit: qiskit.QuantumCircuit) -> Dict[int, int]:\n",
    "    \"\"\"Returns the number of gate operations with each number of qubits.\"\"\"\n",
    "    return Counter([len(gate[1]) for gate in circuit.data])\n",
    "\n",
    "def image_mse(image1,image2):\n",
    "    # Using sklearns mean squared error:\n",
    "    # https://scikit-learn.org/stable/modules/generated/sklearn.metrics.mean_squared_error.html\n",
    "    return mean_squared_error(image1, image2)"
   ]
  },
  {
   "cell_type": "code",
   "execution_count": 28,
   "metadata": {},
   "outputs": [
    {
     "name": "stdout",
     "output_type": "stream",
     "text": [
      "[[0.00000000e+00 0.00000000e+00 0.00000000e+00 0.00000000e+00\n",
      "  0.00000000e+00 0.00000000e+00 0.00000000e+00 0.00000000e+00\n",
      "  0.00000000e+00 0.00000000e+00 0.00000000e+00 0.00000000e+00\n",
      "  0.00000000e+00 0.00000000e+00 0.00000000e+00 0.00000000e+00\n",
      "  0.00000000e+00 0.00000000e+00 0.00000000e+00 0.00000000e+00\n",
      "  0.00000000e+00 0.00000000e+00 0.00000000e+00 0.00000000e+00\n",
      "  0.00000000e+00 0.00000000e+00 0.00000000e+00 0.00000000e+00]\n",
      " [0.00000000e+00 0.00000000e+00 0.00000000e+00 0.00000000e+00\n",
      "  0.00000000e+00 0.00000000e+00 0.00000000e+00 0.00000000e+00\n",
      "  0.00000000e+00 0.00000000e+00 0.00000000e+00 0.00000000e+00\n",
      "  0.00000000e+00 0.00000000e+00 0.00000000e+00 0.00000000e+00\n",
      "  0.00000000e+00 0.00000000e+00 0.00000000e+00 0.00000000e+00\n",
      "  0.00000000e+00 0.00000000e+00 0.00000000e+00 0.00000000e+00\n",
      "  0.00000000e+00 0.00000000e+00 0.00000000e+00 0.00000000e+00]\n",
      " [0.00000000e+00 0.00000000e+00 0.00000000e+00 0.00000000e+00\n",
      "  0.00000000e+00 0.00000000e+00 0.00000000e+00 0.00000000e+00\n",
      "  0.00000000e+00 0.00000000e+00 0.00000000e+00 0.00000000e+00\n",
      "  0.00000000e+00 0.00000000e+00 0.00000000e+00 0.00000000e+00\n",
      "  0.00000000e+00 0.00000000e+00 0.00000000e+00 0.00000000e+00\n",
      "  0.00000000e+00 0.00000000e+00 0.00000000e+00 0.00000000e+00\n",
      "  0.00000000e+00 0.00000000e+00 0.00000000e+00 0.00000000e+00]\n",
      " [0.00000000e+00 0.00000000e+00 0.00000000e+00 0.00000000e+00\n",
      "  0.00000000e+00 0.00000000e+00 0.00000000e+00 0.00000000e+00\n",
      "  0.00000000e+00 0.00000000e+00 0.00000000e+00 0.00000000e+00\n",
      "  2.53682360e-04 0.00000000e+00 0.00000000e+00 4.28723188e-02\n",
      "  1.35187330e+00 0.00000000e+00 0.00000000e+00 2.53682360e-04\n",
      "  4.05891776e-03 0.00000000e+00 0.00000000e+00 0.00000000e+00\n",
      "  0.00000000e+00 2.53682360e-04 2.53682360e-04 0.00000000e+00]\n",
      " [0.00000000e+00 0.00000000e+00 0.00000000e+00 0.00000000e+00\n",
      "  0.00000000e+00 0.00000000e+00 0.00000000e+00 0.00000000e+00\n",
      "  0.00000000e+00 0.00000000e+00 0.00000000e+00 0.00000000e+00\n",
      "  2.28314124e-03 0.00000000e+00 3.28772339e-01 4.69210893e+00\n",
      "  4.09164279e+00 9.75154992e-01 7.39737762e-01 0.00000000e+00\n",
      "  0.00000000e+00 0.00000000e+00 2.53682360e-04 2.28314124e-03\n",
      "  4.05891776e-03 0.00000000e+00 0.00000000e+00 2.28314124e-03]\n",
      " [0.00000000e+00 0.00000000e+00 0.00000000e+00 0.00000000e+00\n",
      "  0.00000000e+00 0.00000000e+00 0.00000000e+00 0.00000000e+00\n",
      "  0.00000000e+00 0.00000000e+00 0.00000000e+00 0.00000000e+00\n",
      "  9.13256496e-03 0.00000000e+00 2.63931127e+00 1.05572451e+01\n",
      "  7.85806478e+00 4.55512046e+00 5.26035742e+00 3.83796043e+00\n",
      "  1.34197968e-01 0.00000000e+00 0.00000000e+00 0.00000000e+00\n",
      "  0.00000000e+00 3.65302598e-02 2.53682360e-02 0.00000000e+00]\n",
      " [0.00000000e+00 0.00000000e+00 0.00000000e+00 0.00000000e+00\n",
      "  0.00000000e+00 0.00000000e+00 0.00000000e+00 0.00000000e+00\n",
      "  0.00000000e+00 0.00000000e+00 0.00000000e+00 0.00000000e+00\n",
      "  0.00000000e+00 0.00000000e+00 6.09471870e+00 1.41290927e+01\n",
      "  1.08700354e+01 8.03767190e+00 2.90440934e+00 6.17361391e+00\n",
      "  6.57570045e+00 3.01400012e+00 1.03908295e+00 1.34197968e-01\n",
      "  1.50408271e+00 4.28723188e+00 1.31508935e+00 5.70785310e-02]\n",
      " [0.00000000e+00 0.00000000e+00 0.00000000e+00 0.00000000e+00\n",
      "  0.00000000e+00 0.00000000e+00 0.00000000e+00 0.00000000e+00\n",
      "  0.00000000e+00 0.00000000e+00 0.00000000e+00 2.53682360e-04\n",
      "  0.00000000e+00 1.20778172e+00 1.08700354e+01 1.26153701e+01\n",
      "  1.20560005e+01 1.18358042e+01 1.18358042e+01 6.74008662e+00\n",
      "  4.09164279e+00 3.71416343e+00 3.77580825e+00 5.40749319e+00\n",
      "  5.04345900e+00 1.96451620e+00 7.50493894e+00 1.10504036e+00]\n",
      " [0.00000000e+00 0.00000000e+00 0.00000000e+00 0.00000000e+00\n",
      "  0.00000000e+00 0.00000000e+00 0.00000000e+00 0.00000000e+00\n",
      "  0.00000000e+00 2.53682360e-04 2.53682360e-04 2.53682360e-04\n",
      "  0.00000000e+00 1.01472944e+01 1.36541993e+01 1.36541993e+01\n",
      "  1.37721616e+01 1.33033566e+01 1.26153701e+01 1.26153701e+01\n",
      "  1.17264671e+01 1.15093150e+01 6.82304076e+00 4.09164279e+00\n",
      "  3.83796043e+00 9.74546154e+00 1.33033566e+01 0.00000000e+00]\n",
      " [0.00000000e+00 0.00000000e+00 0.00000000e+00 0.00000000e+00\n",
      "  0.00000000e+00 0.00000000e+00 0.00000000e+00 0.00000000e+00\n",
      "  0.00000000e+00 0.00000000e+00 0.00000000e+00 0.00000000e+00\n",
      "  0.00000000e+00 8.49556856e+00 1.28426695e+01 1.18358042e+01\n",
      "  1.26153701e+01 1.31874238e+01 1.40096083e+01 1.30719983e+01\n",
      "  1.27287661e+01 1.25024814e+01 1.27287661e+01 1.23901001e+01\n",
      "  1.26153701e+01 1.52272837e+01 7.59245935e+00 0.00000000e+00]\n",
      " [0.00000000e+00 0.00000000e+00 0.00000000e+00 0.00000000e+00\n",
      "  0.00000000e+00 0.00000000e+00 0.00000000e+00 0.00000000e+00\n",
      "  0.00000000e+00 0.00000000e+00 0.00000000e+00 0.00000000e+00\n",
      "  0.00000000e+00 9.44941423e+00 1.31874238e+01 1.20560005e+01\n",
      "  1.15093150e+01 9.94536324e+00 8.21930847e+00 1.14015000e+01\n",
      "  1.11873921e+01 1.12941924e+01 1.15093150e+01 1.26153701e+01\n",
      "  1.22782262e+01 1.49796897e+01 1.03512550e+01 0.00000000e+00]\n",
      " [0.00000000e+00 0.00000000e+00 0.00000000e+00 0.00000000e+00\n",
      "  0.00000000e+00 0.00000000e+00 0.00000000e+00 0.00000000e+00\n",
      "  0.00000000e+00 2.53682360e-04 2.28314124e-03 0.00000000e+00\n",
      "  3.65302598e-02 1.21668597e+01 1.22782262e+01 1.14015000e+01\n",
      "  1.20560005e+01 9.35174652e+00 7.24542189e+00 1.30719983e+01\n",
      "  1.09753136e+01 1.20560005e+01 1.27287661e+01 1.14015000e+01\n",
      "  1.29570802e+01 9.84515871e+00 1.10810992e+01 6.85957102e-01]\n",
      " [0.00000000e+00 0.00000000e+00 0.00000000e+00 0.00000000e+00\n",
      "  0.00000000e+00 0.00000000e+00 0.00000000e+00 0.00000000e+00\n",
      "  0.00000000e+00 0.00000000e+00 9.13256496e-03 0.00000000e+00\n",
      "  2.48634081e+00 1.51032330e+01 1.25024814e+01 1.22782262e+01\n",
      "  1.20560005e+01 1.04539964e+01 9.94536324e+00 1.23901001e+01\n",
      "  1.17264671e+01 1.15093150e+01 1.25024814e+01 1.22782262e+01\n",
      "  1.52272837e+01 3.59239590e+00 7.07494734e+00 7.95547881e-01]\n",
      " [0.00000000e+00 0.00000000e+00 0.00000000e+00 0.00000000e+00\n",
      "  0.00000000e+00 0.00000000e+00 0.00000000e+00 0.00000000e+00\n",
      "  0.00000000e+00 4.05891776e-03 0.00000000e+00 0.00000000e+00\n",
      "  7.67389139e-01 1.41290927e+01 1.31874238e+01 1.34197968e+01\n",
      "  1.31874238e+01 1.46121039e+01 1.36541993e+01 1.15093150e+01\n",
      "  1.20560005e+01 1.26153701e+01 1.38906313e+01 1.19456487e+01\n",
      "  1.19456487e+01 1.10810992e+01 2.14716750e+00 0.00000000e+00]\n",
      " [0.00000000e+00 0.00000000e+00 2.53682360e-04 4.05891776e-03\n",
      "  9.13256496e-03 1.24304356e-02 1.01472944e-03 0.00000000e+00\n",
      "  0.00000000e+00 0.00000000e+00 0.00000000e+00 0.00000000e+00\n",
      "  1.42490845e+01 1.29570802e+01 1.19456487e+01 1.26153701e+01\n",
      "  1.25024814e+01 1.21668597e+01 1.25024814e+01 1.23901001e+01\n",
      "  1.18358042e+01 1.26153701e+01 1.33033566e+01 1.17264671e+01\n",
      "  1.20560005e+01 1.64956955e+01 1.50408271e+00 0.00000000e+00]\n",
      " [0.00000000e+00 2.28314124e-03 0.00000000e+00 0.00000000e+00\n",
      "  0.00000000e+00 0.00000000e+00 0.00000000e+00 0.00000000e+00\n",
      "  0.00000000e+00 9.75154992e-01 5.33367162e+00 1.05572451e+01\n",
      "  1.31874238e+01 1.08700354e+01 1.15093150e+01 1.23901001e+01\n",
      "  1.20560005e+01 1.09753136e+01 1.12941924e+01 1.20560005e+01\n",
      "  1.27287661e+01 1.26153701e+01 1.21668597e+01 1.17264671e+01\n",
      "  1.27287661e+01 1.51032330e+01 6.41334374e+00 0.00000000e+00]\n",
      " [0.00000000e+00 0.00000000e+00 0.00000000e+00 0.00000000e+00\n",
      "  8.21930847e-02 4.91129049e-01 1.70576019e+00 2.90440934e+00\n",
      "  9.06178758e+00 1.31874238e+01 1.22782262e+01 1.25024814e+01\n",
      "  1.19456487e+01 1.29570802e+01 1.01472944e+01 1.06610012e+01\n",
      "  1.12941924e+01 1.34197968e+01 1.27287661e+01 1.38906313e+01\n",
      "  7.85806478e+00 8.96614933e+00 1.58551475e+01 1.56024799e+01\n",
      "  1.37721616e+01 1.43695836e+01 1.17264671e+01 0.00000000e+00]\n",
      " [0.00000000e+00 8.24213988e-01 8.87101845e+00 1.09753136e+01\n",
      "  1.27287661e+01 1.23901001e+01 1.27287661e+01 1.09753136e+01\n",
      "  1.05572451e+01 1.16176374e+01 1.09753136e+01 1.10810992e+01\n",
      "  1.01472944e+01 6.41334374e+00 1.52272837e+01 9.44941423e+00\n",
      "  1.07652646e+01 1.26153701e+01 1.64956955e+01 1.64956955e+01\n",
      "  1.23901001e+01 1.38906313e+01 1.23901001e+01 1.12941924e+01\n",
      "  1.22782262e+01 1.36541993e+01 1.53518417e+01 0.00000000e+00]\n",
      " [2.28314124e-03 1.03512550e+01 1.31874238e+01 1.27287661e+01\n",
      "  1.23901001e+01 1.12941924e+01 1.12941924e+01 1.16176374e+01\n",
      "  1.06610012e+01 1.06610012e+01 1.06610012e+01 1.22782262e+01\n",
      "  1.46121039e+01 1.62356710e+00 5.70785310e+00 1.64956955e+01\n",
      "  1.33033566e+01 1.23901001e+01 8.96614933e+00 6.01633085e+00\n",
      "  9.25458618e+00 1.11873921e+01 1.05572451e+01 1.10810992e+01\n",
      "  1.25024814e+01 1.31874238e+01 1.28426695e+01 0.00000000e+00]\n",
      " [2.43636539e+00 1.37721616e+01 9.94536324e+00 1.11873921e+01\n",
      "  1.25024814e+01 1.33033566e+01 1.33033566e+01 1.38906313e+01\n",
      "  1.57285600e+01 1.22782262e+01 9.54758930e+00 1.17264671e+01\n",
      "  1.19456487e+01 1.47341252e+01 1.07180797e+00 1.35187330e+00\n",
      "  2.85037500e+00 3.47265783e+00 7.15993093e+00 1.21668597e+01\n",
      "  1.23901001e+01 1.17264671e+01 1.19456487e+01 1.26153701e+01\n",
      "  1.26153701e+01 1.27287661e+01 1.33033566e+01 2.13346865e-01]\n",
      " [1.42696328e+00 1.05572451e+01 1.14015000e+01 1.05572451e+01\n",
      "  9.44941423e+00 1.06610012e+01 1.12941924e+01 1.28426695e+01\n",
      "  1.18358042e+01 8.68227877e+00 9.84515871e+00 1.07652646e+01\n",
      "  9.94536324e+00 1.15093150e+01 1.46121039e+01 9.64627174e+00\n",
      "  1.30719983e+01 1.52272837e+01 1.44905901e+01 1.26153701e+01\n",
      "  1.20560005e+01 1.14015000e+01 1.10810992e+01 1.25024814e+01\n",
      "  1.22782262e+01 1.23901001e+01 1.34197968e+01 1.13878011e+00]\n",
      " [5.84484158e-01 1.04539964e+01 8.49556856e+00 9.54758930e+00\n",
      "  1.15093150e+01 9.84515871e+00 8.68227877e+00 9.15793320e+00\n",
      "  9.54758930e+00 9.35174652e+00 1.03512550e+01 1.16176374e+01\n",
      "  1.21668597e+01 1.23901001e+01 1.22782262e+01 1.41290927e+01\n",
      "  1.28426695e+01 1.18358042e+01 1.00460751e+01 1.07652646e+01\n",
      "  8.77639493e+00 8.31088780e+00 7.94761466e+00 7.50493894e+00\n",
      "  8.31088780e+00 1.06610012e+01 1.07652646e+01 3.35494921e+00]\n",
      " [0.00000000e+00 3.77580825e+00 1.21668597e+01 9.44941423e+00\n",
      "  8.12823650e+00 7.41792589e+00 8.49556856e+00 9.74546154e+00\n",
      "  1.05572451e+01 1.11873921e+01 1.15093150e+01 1.08700354e+01\n",
      "  1.12941924e+01 1.11873921e+01 1.01472944e+01 9.74546154e+00\n",
      "  9.54758930e+00 9.25458618e+00 9.64627174e+00 9.25458618e+00\n",
      "  9.94536324e+00 9.35174652e+00 7.85806478e+00 6.17361391e+00\n",
      "  7.07494734e+00 7.94761466e+00 1.11873921e+01 2.14716750e+00]\n",
      " [0.00000000e+00 0.00000000e+00 1.38916460e+00 9.06178758e+00\n",
      "  1.14015000e+01 9.25458618e+00 7.76902228e+00 7.50493894e+00\n",
      "  7.76902228e+00 8.31088780e+00 8.68227877e+00 8.96614933e+00\n",
      "  9.06178758e+00 8.96614933e+00 9.44941423e+00 9.94536324e+00\n",
      "  1.05572451e+01 1.10810992e+01 1.11873921e+01 1.11873921e+01\n",
      "  1.12941924e+01 8.96614933e+00 8.96614933e+00 9.54758930e+00\n",
      "  9.35174652e+00 1.18358042e+01 7.33142021e+00 0.00000000e+00]\n",
      " [1.01472944e-03 0.00000000e+00 0.00000000e+00 0.00000000e+00\n",
      "  1.10504036e+00 1.01472944e+01 1.25024814e+01 1.42490845e+01\n",
      "  1.44905901e+01 1.48566537e+01 1.53518417e+01 1.49796897e+01\n",
      "  1.51032330e+01 1.23901001e+01 1.22782262e+01 9.44941423e+00\n",
      "  9.25458618e+00 8.12823650e+00 8.40297449e+00 8.40297449e+00\n",
      "  8.31088780e+00 7.85806478e+00 6.99047111e+00 7.15993093e+00\n",
      "  2.48634081e+00 8.53387459e-01 0.00000000e+00 0.00000000e+00]\n",
      " [0.00000000e+00 0.00000000e+00 0.00000000e+00 0.00000000e+00\n",
      "  0.00000000e+00 0.00000000e+00 0.00000000e+00 4.05891776e-01\n",
      "  9.43952062e-01 4.91129049e-01 1.31508935e+00 4.26440047e-01\n",
      "  3.10760891e-01 0.00000000e+00 0.00000000e+00 0.00000000e+00\n",
      "  0.00000000e+00 0.00000000e+00 0.00000000e+00 0.00000000e+00\n",
      "  0.00000000e+00 0.00000000e+00 0.00000000e+00 0.00000000e+00\n",
      "  0.00000000e+00 0.00000000e+00 0.00000000e+00 0.00000000e+00]\n",
      " [0.00000000e+00 0.00000000e+00 0.00000000e+00 0.00000000e+00\n",
      "  0.00000000e+00 0.00000000e+00 0.00000000e+00 0.00000000e+00\n",
      "  0.00000000e+00 0.00000000e+00 0.00000000e+00 0.00000000e+00\n",
      "  0.00000000e+00 0.00000000e+00 0.00000000e+00 0.00000000e+00\n",
      "  0.00000000e+00 0.00000000e+00 0.00000000e+00 0.00000000e+00\n",
      "  0.00000000e+00 0.00000000e+00 0.00000000e+00 0.00000000e+00\n",
      "  0.00000000e+00 0.00000000e+00 0.00000000e+00 0.00000000e+00]\n",
      " [0.00000000e+00 0.00000000e+00 0.00000000e+00 0.00000000e+00\n",
      "  0.00000000e+00 0.00000000e+00 0.00000000e+00 0.00000000e+00\n",
      "  0.00000000e+00 0.00000000e+00 0.00000000e+00 0.00000000e+00\n",
      "  0.00000000e+00 0.00000000e+00 0.00000000e+00 0.00000000e+00\n",
      "  0.00000000e+00 0.00000000e+00 0.00000000e+00 0.00000000e+00\n",
      "  0.00000000e+00 0.00000000e+00 0.00000000e+00 0.00000000e+00\n",
      "  0.00000000e+00 0.00000000e+00 0.00000000e+00 0.00000000e+00]]\n",
      "-17758.718677708395\n"
     ]
    }
   ],
   "source": [
    "#grade part1\n",
    "#from part1 import encode_qiskit,decode\n",
    "from collections import Counter\n",
    "from sklearn.metrics import mean_squared_error\n",
    "\n",
    "dataset = X_train[:1]\n",
    "\n",
    "n=len(dataset)\n",
    "mse=0\n",
    "gatecount=0\n",
    "\n",
    "for data in dataset:\n",
    "    #encode image into circuit\n",
    "    circuit=encode_qiskit(data)\n",
    "    \n",
    "    #simulate circuit\n",
    "    histogram=simulate(circuit)\n",
    "    \n",
    "    gatecount+=count_gates(circuit)[2]\n",
    "    \n",
    "    #reconstruct \n",
    "    image_re=decode(histogram,data)\n",
    "    print(image_re)\n",
    "    \n",
    "    #calculate mse\n",
    "    mse+=image_mse(np.asarray(data),np.asarray(image_re))\n",
    "    \n",
    "#fidelity of reconstruction\n",
    "f=1-mse\n",
    "gatecount=gatecount/n\n",
    "\n",
    "#score for part1\n",
    "print(f*(0.999**gatecount))\n",
    "# score should be between 0 and 1"
   ]
  },
  {
   "cell_type": "code",
   "execution_count": 25,
   "metadata": {},
   "outputs": [],
   "source": [
    "def multiply_by_51(lst):\n",
    "    new_list = []\n",
    "    for element in lst:\n",
    "        new_list.append(element * 51)\n",
    "    return new_list"
   ]
  },
  {
   "cell_type": "code",
   "execution_count": 26,
   "metadata": {},
   "outputs": [
    {
     "data": {
      "text/plain": [
       "<matplotlib.image.AxesImage at 0x1f338286770>"
      ]
     },
     "execution_count": 26,
     "metadata": {},
     "output_type": "execute_result"
    },
    {
     "data": {
      "image/png": "[encoded data removed]",
      "text/plain": [
       "<Figure size 640x480 with 1 Axes>"
      ]
     },
     "metadata": {},
     "output_type": "display_data"
    }
   ],
   "source": [
    "plt.imshow(data)"
   ]
  },
  {
   "cell_type": "code",
   "execution_count": 31,
   "metadata": {},
   "outputs": [
    {
     "data": {
      "text/plain": [
       "<matplotlib.image.AxesImage at 0x1f3388be1a0>"
      ]
     },
     "execution_count": 31,
     "metadata": {},
     "output_type": "execute_result"
    },
    {
     "data": {
      "image/png": "[encoded data removed]",
      "text/plain": [
       "<Figure size 640x480 with 1 Axes>"
      ]
     },
     "metadata": {},
     "output_type": "display_data"
    }
   ],
   "source": [
    "list(list(de_normalize(image_re,data)[:784]))\n",
    "plt.imshow(np.reshape(multiply_by_51(list(de_normalize(image_re,data)[:784])),data_shape))"
   ]
  },
  {
   "cell_type": "markdown",
   "metadata": {},
   "source": [
    "## train classifier circuit (2nd task)\n",
    "is there a way to get the best classifier?  \n",
    "\n",
    "Important Final Note: The goal of this problem is to explore quantum computing approaches to machine learning problems. To this end, the final score will take into account the degree of quantumness in the program. Preference will be given to creative solutions with a minimal amount of classical processing in the final solution.\n",
    "\n",
    "reference:   \n",
    "[1] calculate result from probability, https://github.com/ericardomuten/quantum_image_classifier  \n",
    "[2] MPS tensor circuit(ideal classifier circuit), https://journals.aps.org/prresearch/pdf/10.1103/PhysRevResearch.4.043007 , good example from qamp-mentorship https://github.com/qiskit-advocate/qamp-fall-22/issues/28   \n",
    "[3] Good idea about amplitude circuit, https://journals.aps.org/prx/pdf/10.1103/PhysRevX.7.031041"
   ]
  },
  {
   "cell_type": "code",
   "execution_count": 14,
   "metadata": {},
   "outputs": [],
   "source": [
    "from IPython.display import clear_output\n",
    "def callback_graph(weights, obj_func_eval):\n",
    "    clear_output(wait=True)\n",
    "    objective_func_vals.append(obj_func_eval)\n",
    "    plt.title(\"Objective function value against iteration\")\n",
    "    plt.xlabel(\"Iteration\")\n",
    "    plt.ylabel(\"Objective function value\")\n",
    "    plt.plot(range(len(objective_func_vals)), objective_func_vals)\n",
    "    plt.show()"
   ]
  },
  {
   "cell_type": "code",
   "execution_count": 15,
   "metadata": {},
   "outputs": [],
   "source": [
    "from qiskit_machine_learning.algorithms.classifiers import VQC\n",
    "from qiskit.algorithms.optimizers import SPSA\n",
    "vqc = VQC(\n",
    "    feature_map=qc,\n",
    "    ansatz=ansatz,\n",
    "    loss=\"cross_entropy\",\n",
    "    optimizer=COBYLA(maxiter=100),\n",
    "    quantum_instance=Aer.get_backend('statevector_simulator'),\n",
    "    callback=callback_graph\n",
    ")"
   ]
  },
  {
   "cell_type": "code",
   "execution_count": 16,
   "metadata": {},
   "outputs": [
    {
     "data": {
      "image/png": "[encoded data removed]",
      "text/plain": [
       "<Figure size 640x480 with 1 Axes>"
      ]
     },
     "metadata": {},
     "output_type": "display_data"
    },
    {
     "name": "stdout",
     "output_type": "stream",
     "text": [
      "Time elapsed:  1189.4153316020966\n"
     ]
    }
   ],
   "source": [
    "import time\n",
    "start = time.time()\n",
    "\n",
    "objective_func_vals = []\n",
    "vqc.fit(np.array(X_train_list),np.array(Y_train[:100]))\n",
    "plt.rcParams[\"figure.figsize\"] = (6, 4)\n",
    "\n",
    "own_elapsed = time.time() - start\n",
    "print(\"Time elapsed: \", own_elapsed)"
   ]
  },
  {
   "cell_type": "code",
   "execution_count": 17,
   "metadata": {},
   "outputs": [
    {
     "data": {
      "text/plain": [
       "0.4"
      ]
     },
     "execution_count": 17,
     "metadata": {},
     "output_type": "execute_result"
    }
   ],
   "source": [
    "vqc.score(X_test_list[:50],Y_test[:50])"
   ]
  },
  {
   "cell_type": "code",
   "execution_count": 20,
   "metadata": {},
   "outputs": [
    {
     "name": "stdout",
     "output_type": "stream",
     "text": [
      "OPENQASM 2.0;\n",
      "include \"qelib1.inc\";\n",
      "gate gate_RealAmplitudes(param0,param1,param2,param3,param4,param5,param6,param7,param8,param9,param10,param11,param12,param13,param14,param15,param16,param17,param18,param19,param20,param21,param22,param23,param24,param25,param26,param27,param28,param29) q0,q1,q2,q3,q4,q5,q6,q7,q8,q9 { ry(0.266317714019139) q0; ry(1.32035044188513) q1; ry(0.375724625916453) q2; ry(-0.145527578194223) q3; ry(1.24796981173025) q4; ry(-0.3722525242738) q5; ry(0.98731246639232) q6; ry(1.98782341512519) q7; ry(1.66430495324693) q8; ry(0.760045740348774) q9; cx q8,q9; cx q7,q8; cx q6,q7; cx q5,q6; cx q4,q5; cx q3,q4; cx q2,q3; cx q1,q2; cx q0,q1; ry(1.76943425343952) q0; ry(1.54002486179664) q1; ry(1.5166941190635) q2; ry(2.08820456685236) q3; ry(0.502872321522427) q4; ry(0.5226897740692) q5; ry(1.34895736320983) q6; ry(0.17808386546728) q7; ry(1.48787325816064) q8; ry(1.19251464386051) q9; cx q8,q9; cx q7,q8; cx q6,q7; cx q5,q6; cx q4,q5; cx q3,q4; cx q2,q3; cx q1,q2; cx q0,q1; ry(1.63207747410879) q0; ry(0.944742510667842) q1; ry(1.4738548596109) q2; ry(0.0395594736234817) q3; ry(0.160988017972572) q4; ry(-0.139909848244233) q5; ry(0.217661325699283) q6; ry(1.51612158505368) q7; ry(0.709288700436131) q8; ry(2.00665865500557) q9; }\n",
      "qreg q[10];\n",
      "gate_RealAmplitudes(0.266317714019139,1.32035044188513,0.375724625916453,-0.145527578194223,1.24796981173025,-0.3722525242738,0.98731246639232,1.98782341512519,1.66430495324693,0.760045740348774,1.76943425343952,1.54002486179664,1.5166941190635,2.08820456685236,0.502872321522427,0.5226897740692,1.34895736320983,0.17808386546728,1.48787325816064,1.19251464386051,1.63207747410879,0.944742510667842,1.4738548596109,0.0395594736234817,0.160988017972572,-0.139909848244233,0.217661325699283,1.51612158505368,0.709288700436131,2.00665865500557) q[0],q[1],q[2],q[3],q[4],q[5],q[6],q[7],q[8],q[9];\n",
      "\n"
     ]
    }
   ],
   "source": [
    "classifier = ansatz.bind_parameters(vqc._fit_result.x).qasm()\n",
    "print(classifier)"
   ]
  },
  {
   "cell_type": "code",
   "execution_count": null,
   "metadata": {},
   "outputs": [],
   "source": [
    "# todo: histogram_to_category\n",
    "#def histogram_to_category():\n"
   ]
  },
  {
   "cell_type": "code",
   "execution_count": null,
   "metadata": {},
   "outputs": [],
   "source": [
    "##grade part 2\n",
    "#\n",
    "##load classifier circuit\n",
    "##classifier=qiskit.QuantumCircuit.from_qasm_file('part2.qasm')\n",
    "#    \n",
    "#score=0\n",
    "#\n",
    "#for data in dataset:\n",
    "#    #encode image into circuit\n",
    "#    circuit=encode_qiskit(data['image'])\n",
    "#    \n",
    "#    nq1 = circuit.width()\n",
    "#    nq2 = classifier.width()\n",
    "#    nq = max(nq1, nq2)\n",
    "#    qc = qiskit.QuantumCircuit(nq)\n",
    "#    qc.append(circuit.to_instruction(), list(range(nq1)))\n",
    "#    qc.append(classifier.to_instruction(), list(range(nq2)))\n",
    "#\n",
    "#    gatecount+=count_gates(qc)[2]\n",
    "#    \n",
    "#    #simulate circuit\n",
    "#    histogram=simulate(qc)\n",
    "#    \n",
    "#    #convert histogram to category\n",
    "#    cat=histogram_to_category(histogram)\n",
    "#    \n",
    "#    \n",
    "#    if cat==data['category']:\n",
    "#        score+=1\n",
    "##score\n",
    "#score=score/n\n",
    "#gatecount=gatecount/n\n",
    "#\n",
    "#print(score*(0.999**gatecount))"
   ]
  }
 ],
 "metadata": {
  "kernelspec": {
   "display_name": "ionq",
   "language": "python",
   "name": "ionq"
  },
  "language_info": {
   "codemirror_mode": {
    "name": "ipython",
    "version": 3
   },
   "file_extension": ".py",
   "mimetype": "text/x-python",
   "name": "python",
   "nbconvert_exporter": "python",
   "pygments_lexer": "ipython3",
   "version": "3.10.9"
  },
  "toc": {
   "base_numbering": 1,
   "nav_menu": {},
   "number_sections": true,
   "sideBar": true,
   "skip_h1_title": false,
   "title_cell": "Table of Contents",
   "title_sidebar": "Contents",
   "toc_cell": false,
   "toc_position": {},
   "toc_section_display": true,
   "toc_window_display": false
  },
  "widgets": {
   "application/vnd.jupyter.widget-state+json": {
    "state": {
     "133691b27fa14898ae18af0787aeaef9": {
      "model_module": "@jupyter-widgets/controls",
      "model_module_version": "1.5.0",
      "model_name": "HTMLModel",
      "state": {
       "layout": "IPY_MODEL_325f0396d7b9410bba8021bbe35f813a",
       "style": "IPY_MODEL_5488374837ae4a9284ee055d8e6dc4ca",
       "value": "<h5>Backend</h5>"
      }
     },
     "14a021df54ea41dd800c6d49a1fb3ba9": {
      "model_module": "@jupyter-widgets/base",
      "model_module_version": "1.2.0",
      "model_name": "LayoutModel",
      "state": {}
     },
     "14b920e77c4046b2b739ce5e65ba6c87": {
      "model_module": "@jupyter-widgets/controls",
      "model_module_version": "1.5.0",
      "model_name": "HBoxModel",
      "state": {
       "children": [
        "IPY_MODEL_a42326a6516c48c9b45a061832e1b9e4",
        "IPY_MODEL_133691b27fa14898ae18af0787aeaef9",
        "IPY_MODEL_d36e5003b5bb4905b2f34cc06dab577e",
        "IPY_MODEL_8b5e3e1c7c8b478eadaddcebb1bab545",
        "IPY_MODEL_29e0bc1980f04ee5a4de1c3353ca43e1"
       ],
       "layout": "IPY_MODEL_95dbd7627f214404917e790abc4a0bac"
      }
     },
     "1a8a97e4934d4946b30b1b3ea93a6488": {
      "model_module": "@jupyter-widgets/base",
      "model_module_version": "1.2.0",
      "model_name": "LayoutModel",
      "state": {
       "width": "190px"
      }
     },
     "29e0bc1980f04ee5a4de1c3353ca43e1": {
      "model_module": "@jupyter-widgets/controls",
      "model_module_version": "1.5.0",
      "model_name": "HTMLModel",
      "state": {
       "layout": "IPY_MODEL_14a021df54ea41dd800c6d49a1fb3ba9",
       "style": "IPY_MODEL_7cc1a68d44ca46bdaf3b815627f44cb2",
       "value": "<h5>Message</h5>"
      }
     },
     "325f0396d7b9410bba8021bbe35f813a": {
      "model_module": "@jupyter-widgets/base",
      "model_module_version": "1.2.0",
      "model_name": "LayoutModel",
      "state": {
       "width": "145px"
      }
     },
     "4de8f8e67ba84e68acc93c41fb388ea3": {
      "model_module": "@jupyter-widgets/controls",
      "model_module_version": "1.5.0",
      "model_name": "HTMLModel",
      "state": {
       "layout": "IPY_MODEL_a14371b37a3941f991ce693be9cd4d38",
       "style": "IPY_MODEL_5be42b0bad7e42a99d879056ebabf46d",
       "value": "<p style='font-family: IBM Plex Sans, Arial, Helvetica, sans-serif; font-size: 20px; font-weight: medium;'>Circuit Properties</p>"
      }
     },
     "5488374837ae4a9284ee055d8e6dc4ca": {
      "model_module": "@jupyter-widgets/controls",
      "model_module_version": "1.5.0",
      "model_name": "DescriptionStyleModel",
      "state": {
       "description_width": ""
      }
     },
     "5be42b0bad7e42a99d879056ebabf46d": {
      "model_module": "@jupyter-widgets/controls",
      "model_module_version": "1.5.0",
      "model_name": "DescriptionStyleModel",
      "state": {
       "description_width": ""
      }
     },
     "7695b5f41549481193e03d22f11ad7be": {
      "model_module": "@jupyter-widgets/controls",
      "model_module_version": "1.5.0",
      "model_name": "DescriptionStyleModel",
      "state": {
       "description_width": ""
      }
     },
     "7cc1a68d44ca46bdaf3b815627f44cb2": {
      "model_module": "@jupyter-widgets/controls",
      "model_module_version": "1.5.0",
      "model_name": "DescriptionStyleModel",
      "state": {
       "description_width": ""
      }
     },
     "8b5e3e1c7c8b478eadaddcebb1bab545": {
      "model_module": "@jupyter-widgets/controls",
      "model_module_version": "1.5.0",
      "model_name": "HTMLModel",
      "state": {
       "layout": "IPY_MODEL_d04bd44ae10f4782855b04d120889b06",
       "style": "IPY_MODEL_c6c8b591acda4e488e8afb052f4fe29b",
       "value": "<h5>Queue</h5>"
      }
     },
     "95dbd7627f214404917e790abc4a0bac": {
      "model_module": "@jupyter-widgets/base",
      "model_module_version": "1.2.0",
      "model_name": "LayoutModel",
      "state": {
       "margin": "0px 0px 0px 37px",
       "width": "600px"
      }
     },
     "a14371b37a3941f991ce693be9cd4d38": {
      "model_module": "@jupyter-widgets/base",
      "model_module_version": "1.2.0",
      "model_name": "LayoutModel",
      "state": {
       "margin": "0px 0px 10px 0px"
      }
     },
     "a42326a6516c48c9b45a061832e1b9e4": {
      "model_module": "@jupyter-widgets/controls",
      "model_module_version": "1.5.0",
      "model_name": "HTMLModel",
      "state": {
       "layout": "IPY_MODEL_1a8a97e4934d4946b30b1b3ea93a6488",
       "style": "IPY_MODEL_e09458876777468d80ebae8aaa409834",
       "value": "<h5>Job ID</h5>"
      }
     },
     "c6c8b591acda4e488e8afb052f4fe29b": {
      "model_module": "@jupyter-widgets/controls",
      "model_module_version": "1.5.0",
      "model_name": "DescriptionStyleModel",
      "state": {
       "description_width": ""
      }
     },
     "cc709643ef9d420387ecaf1e16125ec3": {
      "model_module": "@jupyter-widgets/controls",
      "model_module_version": "1.5.0",
      "model_name": "GridBoxModel",
      "state": {
       "children": [
        "IPY_MODEL_f2c63bb964454e8f8d97f39429d02343"
       ],
       "layout": "IPY_MODEL_db133fac447c42cba07b68d7bf884952"
      }
     },
     "d04bd44ae10f4782855b04d120889b06": {
      "model_module": "@jupyter-widgets/base",
      "model_module_version": "1.2.0",
      "model_name": "LayoutModel",
      "state": {
       "width": "70px"
      }
     },
     "d36e5003b5bb4905b2f34cc06dab577e": {
      "model_module": "@jupyter-widgets/controls",
      "model_module_version": "1.5.0",
      "model_name": "HTMLModel",
      "state": {
       "layout": "IPY_MODEL_fb539075b7f042f9bdd58552f7479014",
       "style": "IPY_MODEL_7695b5f41549481193e03d22f11ad7be",
       "value": "<h5>Status</h5>"
      }
     },
     "db133fac447c42cba07b68d7bf884952": {
      "model_module": "@jupyter-widgets/base",
      "model_module_version": "1.2.0",
      "model_name": "LayoutModel",
      "state": {
       "grid_template_areas": "\n                                       \". . . . right \"\n                                        ",
       "grid_template_columns": "20% 20% 20% 20% 20%",
       "width": "100%"
      }
     },
     "e09458876777468d80ebae8aaa409834": {
      "model_module": "@jupyter-widgets/controls",
      "model_module_version": "1.5.0",
      "model_name": "DescriptionStyleModel",
      "state": {
       "description_width": ""
      }
     },
     "f1ebeebc10804474ab5638703d2165ee": {
      "model_module": "@jupyter-widgets/controls",
      "model_module_version": "1.5.0",
      "model_name": "ButtonStyleModel",
      "state": {}
     },
     "f2c63bb964454e8f8d97f39429d02343": {
      "model_module": "@jupyter-widgets/controls",
      "model_module_version": "1.5.0",
      "model_name": "ButtonModel",
      "state": {
       "button_style": "primary",
       "description": "Clear",
       "layout": "IPY_MODEL_fd52f04fbda04dcdbb42cc4a48af47bc",
       "style": "IPY_MODEL_f1ebeebc10804474ab5638703d2165ee"
      }
     },
     "fb539075b7f042f9bdd58552f7479014": {
      "model_module": "@jupyter-widgets/base",
      "model_module_version": "1.2.0",
      "model_name": "LayoutModel",
      "state": {
       "width": "95px"
      }
     },
     "fd52f04fbda04dcdbb42cc4a48af47bc": {
      "model_module": "@jupyter-widgets/base",
      "model_module_version": "1.2.0",
      "model_name": "LayoutModel",
      "state": {
       "grid_area": "right",
       "padding": "0px 0px 0px 0px",
       "width": "70px"
      }
     }
    },
    "version_major": 2,
    "version_minor": 0
   }
  }
 },
 "nbformat": 4,
 "nbformat_minor": 5
}
