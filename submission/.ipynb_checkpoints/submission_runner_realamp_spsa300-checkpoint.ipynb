{
 "cells": [
  {
   "cell_type": "code",
   "execution_count": null,
   "metadata": {},
   "outputs": [],
   "source": [
    "#pip install tensorflow"
   ]
  },
  {
   "cell_type": "markdown",
   "metadata": {},
   "source": [
    "## prepare"
   ]
  },
  {
   "cell_type": "code",
   "execution_count": 1,
   "metadata": {},
   "outputs": [
    {
     "name": "stderr",
     "output_type": "stream",
     "text": [
      "2023-01-29 12:25:25.456820: I tensorflow/core/platform/cpu_feature_guard.cc:193] This TensorFlow binary is optimized with oneAPI Deep Neural Network Library (oneDNN) to use the following CPU instructions in performance-critical operations:  AVX2 FMA\n",
      "To enable them in other operations, rebuild TensorFlow with the appropriate compiler flags.\n",
      "2023-01-29 12:25:25.593958: W tensorflow/compiler/xla/stream_executor/platform/default/dso_loader.cc:64] Could not load dynamic library 'libcudart.so.11.0'; dlerror: libcudart.so.11.0: cannot open shared object file: No such file or directory\n",
      "2023-01-29 12:25:25.593990: I tensorflow/compiler/xla/stream_executor/cuda/cudart_stub.cc:29] Ignore above cudart dlerror if you do not have a GPU set up on your machine.\n",
      "2023-01-29 12:25:26.611421: W tensorflow/compiler/xla/stream_executor/platform/default/dso_loader.cc:64] Could not load dynamic library 'libnvinfer.so.7'; dlerror: libnvinfer.so.7: cannot open shared object file: No such file or directory\n",
      "2023-01-29 12:25:26.611602: W tensorflow/compiler/xla/stream_executor/platform/default/dso_loader.cc:64] Could not load dynamic library 'libnvinfer_plugin.so.7'; dlerror: libnvinfer_plugin.so.7: cannot open shared object file: No such file or directory\n",
      "2023-01-29 12:25:26.611622: W tensorflow/compiler/tf2tensorrt/utils/py_utils.cc:38] TF-TRT Warning: Cannot dlopen some TensorRT libraries. If you would like to use Nvidia GPU with TensorRT, please make sure the missing libraries mentioned above are installed properly.\n"
     ]
    }
   ],
   "source": [
    "import warnings \n",
    "warnings.filterwarnings(\"ignore\")\n",
    "\n",
    "import numpy as np\n",
    "\n",
    "# Importing standard Qiskit libraries\n",
    "from qiskit import QuantumCircuit, transpile, Aer, execute\n",
    "from qiskit.algorithms.optimizers import COBYLA\n",
    "from qiskit.tools.jupyter import *\n",
    "from qiskit.visualization import *\n",
    "from qiskit.providers.aer import QasmSimulator\n",
    "from qiskit_machine_learning.circuit.library import RawFeatureVector\n",
    "from qiskit.circuit import Parameter\n",
    "from qiskit.quantum_info import Statevector\n",
    "import pickle\n",
    "\n",
    "from tensorflow.keras.datasets import fashion_mnist\n",
    "from sklearn.preprocessing import normalize"
   ]
  },
  {
   "cell_type": "code",
   "execution_count": 2,
   "metadata": {},
   "outputs": [],
   "source": [
    "(X_train, Y_train), (X_test, Y_test) = fashion_mnist.load_data()"
   ]
  },
  {
   "cell_type": "code",
   "execution_count": 3,
   "metadata": {},
   "outputs": [
    {
     "data": {
      "text/plain": [
       "(28, 28)"
      ]
     },
     "execution_count": 3,
     "metadata": {},
     "output_type": "execute_result"
    }
   ],
   "source": [
    "X_train[0].shape"
   ]
  },
  {
   "cell_type": "markdown",
   "metadata": {},
   "source": [
    "## normalize"
   ]
  },
  {
   "cell_type": "code",
   "execution_count": 4,
   "metadata": {},
   "outputs": [
    {
     "data": {
      "text/plain": [
       "1024"
      ]
     },
     "execution_count": 4,
     "metadata": {},
     "output_type": "execute_result"
    }
   ],
   "source": [
    "2**int(np.ceil(np.log2(X_train[0].size)))"
   ]
  },
  {
   "cell_type": "code",
   "execution_count": 5,
   "metadata": {},
   "outputs": [
    {
     "data": {
      "text/plain": [
       "26"
      ]
     },
     "execution_count": 5,
     "metadata": {},
     "output_type": "execute_result"
    }
   ],
   "source": [
    "int(np.ceil(np.log2(X_train.size)))"
   ]
  },
  {
   "cell_type": "code",
   "execution_count": 6,
   "metadata": {},
   "outputs": [
    {
     "data": {
      "text/plain": [
       "array([0., 0., 0., 0., 0., 0., 0., 0., 0., 0., 0., 0., 0., 0., 0., 0., 0.,\n",
       "       0., 0., 0., 0., 0., 0., 0., 0., 0.])"
      ]
     },
     "execution_count": 6,
     "metadata": {},
     "output_type": "execute_result"
    }
   ],
   "source": [
    "np.zeros(int(np.ceil(np.log2(X_train.size))))"
   ]
  },
  {
   "cell_type": "code",
   "execution_count": 7,
   "metadata": {},
   "outputs": [],
   "source": [
    "def normalize(x):\n",
    "    \"\"\"\n",
    "    \"\"\"\n",
    "    x = x.flatten()\n",
    "    normalized_vector = x / np.linalg.norm(x)\n",
    "    total_size = 2**int(np.ceil(np.log2(X_train[0].size)))\n",
    "    normalized_vector = [*normalized_vector, *np.zeros(total_size-len(normalized_vector))]\n",
    "    return normalized_vector"
   ]
  },
  {
   "cell_type": "code",
   "execution_count": 8,
   "metadata": {},
   "outputs": [],
   "source": [
    "def de_normalize(normalized_vector, x):\n",
    "    return normalized_vector * np.linalg.norm(x.flatten())"
   ]
  },
  {
   "cell_type": "code",
   "execution_count": 9,
   "metadata": {},
   "outputs": [],
   "source": [
    "normalized_vector = np.array(normalize(X_train[0]))\n",
    "de_normalized_vector = de_normalize(normalized_vector,np.array(X_train[0]))"
   ]
  },
  {
   "cell_type": "code",
   "execution_count": 10,
   "metadata": {},
   "outputs": [
    {
     "data": {
      "text/plain": [
       "(100, 1024)"
      ]
     },
     "execution_count": 10,
     "metadata": {},
     "output_type": "execute_result"
    }
   ],
   "source": [
    "X_train_list = []\n",
    "for i in range(100):\n",
    "    X_train_list.append(normalize(X_train[i]))\n",
    "\n",
    "np.shape(X_train_list)"
   ]
  },
  {
   "cell_type": "code",
   "execution_count": 11,
   "metadata": {},
   "outputs": [
    {
     "data": {
      "text/plain": [
       "(100, 1024)"
      ]
     },
     "execution_count": 11,
     "metadata": {},
     "output_type": "execute_result"
    }
   ],
   "source": [
    "X_test_list = []\n",
    "for i in range(100):\n",
    "    X_test_list.append(normalize(X_test[i]))\n",
    "np.shape(X_test_list)"
   ]
  },
  {
   "cell_type": "markdown",
   "metadata": {},
   "source": [
    "## encoding"
   ]
  },
  {
   "cell_type": "code",
   "execution_count": 12,
   "metadata": {
    "scrolled": true,
    "tags": []
   },
   "outputs": [
    {
     "name": "stdout",
     "output_type": "stream",
     "text": [
      "before normalize:\n",
      "Traceback \u001b[1;36m(most recent call last)\u001b[0m:\n",
      "\u001b[1;36m  Input \u001b[1;32mIn [12]\u001b[1;36m in \u001b[1;35m<cell line: 2>\u001b[1;36m\u001b[0m\n",
      "\u001b[1;33m    display(plt.imshow(X_train[0]))\u001b[0m\n",
      "\u001b[1;31mNameError\u001b[0m\u001b[1;31m:\u001b[0m name 'plt' is not defined\n",
      "\n",
      "Use %tb to get the full traceback.\n"
     ]
    },
    {
     "data": {
      "text/html": [
       "\n",
       "<style>\n",
       ".button {\n",
       "  border: none;\n",
       "  color: white;\n",
       "  padding: 4px 8px;\n",
       "  text-align: center;\n",
       "  text-decoration: none;\n",
       "  display: inline-block;\n",
       "  font-size: 12px;\n",
       "  margin: 4px 2px;\n",
       "  transition-duration: 0.2s;\n",
       "  cursor: pointer;\n",
       "}\n",
       ".iqx-button {\n",
       "  background-color: #0f62fe; \n",
       "  color: white; \n",
       "}\n",
       ".iqx-button:hover {\n",
       "  background-color: #0043ce;\n",
       "  color: white;\n",
       "}\n",
       "</style>\n",
       "<a href=\"https://stackoverflow.com/search?q=NameError: name 'plt' is not defined\" target='_blank'><button class='button iqx-button'>Search for solution online</button></a>\n"
      ],
      "text/plain": [
       "<IPython.core.display.HTML object>"
      ]
     },
     "metadata": {},
     "output_type": "display_data"
    }
   ],
   "source": [
    "print('before normalize:')\n",
    "display(plt.imshow(X_train[0]))"
   ]
  },
  {
   "cell_type": "code",
   "execution_count": 14,
   "metadata": {
    "scrolled": true,
    "tags": []
   },
   "outputs": [
    {
     "name": "stdout",
     "output_type": "stream",
     "text": [
      "after normalize:\n"
     ]
    },
    {
     "data": {
      "text/plain": [
       "<matplotlib.image.AxesImage at 0x7fed75336eb0>"
      ]
     },
     "execution_count": 14,
     "metadata": {},
     "output_type": "execute_result"
    },
    {
     "data": {
      "image/png": "[encoded data removed]",
      "text/plain": [
       "<Figure size 432x288 with 1 Axes>"
      ]
     },
     "metadata": {
      "needs_background": "light"
     },
     "output_type": "display_data"
    }
   ],
   "source": [
    "normalized_vector = normalize(X_train[0])\n",
    "#print(normalized_vector)\n",
    "import matplotlib.pyplot as plt\n",
    "print('after normalize:')\n",
    "plt.imshow(np.reshape(np.array(normalized_vector[:784]),X_train[0].shape))"
   ]
  },
  {
   "cell_type": "markdown",
   "metadata": {},
   "source": [
    "## circuit"
   ]
  },
  {
   "cell_type": "code",
   "execution_count": 15,
   "metadata": {},
   "outputs": [
    {
     "data": {
      "text/plain": [
       "1024"
      ]
     },
     "execution_count": 15,
     "metadata": {},
     "output_type": "execute_result"
    }
   ],
   "source": [
    "state = normalized_vector\n",
    "n = 10\n",
    "qc = RawFeatureVector(2**n)\n",
    "#qc = qc.bind_parameters(state)\n",
    "#qc.measure_all()\n",
    "\n",
    "#qc_ = qc.decompose(reps=20)\n",
    "#print(qc_.depth())\n",
    "#print(f\"Circuit operations: {qc_.count_ops()}\")\n",
    "## qc.decompose(reps = 9).draw()\n",
    "qc.num_parameters"
   ]
  },
  {
   "cell_type": "code",
   "execution_count": 16,
   "metadata": {},
   "outputs": [],
   "source": [
    "#import pennylane as qml\n",
    "#dev = qml.device(\"default.qubit\", wires=10)\n",
    "#\n",
    "#def block(weights, wires):\n",
    "#    qml.CNOT(wires=[wires[0],wires[1]])\n",
    "#    qml.RY(weights[0], wires=wires[0])\n",
    "#    qml.RY(weights[1], wires=wires[1])\n",
    "#\n",
    "#    \n",
    "#import pennylane as qml\n",
    "#\n",
    "#n_wires = dev.num_wires\n",
    "#n_block_wires = 2\n",
    "#n_params_block = 2\n",
    "#n_blocks = qml.TTN.get_n_blocks(range(n_wires),n_block_wires)\n",
    "#n_blocks\n",
    "#    \n",
    "#@qml.qnode(dev)\n",
    "#def circuit(weights, x):\n",
    "#\n",
    "#    qml.AmplitudeEmbedding(x, wires=[i for i in range(10)],normalize=True,pad_with=True)\n",
    "#\n",
    "#    for w in weights:\n",
    "#\n",
    "#        qml.TTN(range(n_wires),n_block_wires,block, n_params_block, w)\n",
    "#        #print(w)\n",
    "#    #print(x)\n",
    "#    \n",
    "#    return qml.expval(qml.PauliZ(3))\n",
    "#np.random.seed(0)\n",
    "#num_layers = 1\n",
    "#weights_init = 2*np.pi * np.random.randn(num_layers,n_blocks, n_params_block)\n",
    "#print(weights_init.shape)\n",
    "#\n",
    "#print(qml.draw(circuit,expansion_strategy='device',wire_order=[i for i in range(10)])(weights_init,np.asarray(X_train[0])))"
   ]
  },
  {
   "cell_type": "code",
   "execution_count": 17,
   "metadata": {},
   "outputs": [],
   "source": [
    "#from qbraid import circuit_wrapper\n",
    "# maybe we can use qbraid sdk\n",
    "#TTN_circ = circuit_wrapper(n_blocks).transpile('qiskit')\n",
    "#TTN_circ.draw()\n",
    "#print(qml.draw(n_blocks)(weights))\n",
    "#qml.draw(n_blocks)([0,0,0,0])"
   ]
  },
  {
   "cell_type": "code",
   "execution_count": 18,
   "metadata": {},
   "outputs": [],
   "source": [
    "#def _block(self, qubits, symbols):\n",
    "#\n",
    "#    #assert len(qubits) == 2\n",
    "#    #assert len(qubits) == len(symbols)\n",
    "#    qc = QuantumCircuit()\n",
    "#    qc.y()\n",
    "#    \n",
    "#    #\n",
    "#    #return cirq.Circuit(\n",
    "#    #    cirq.Y(qubits[0])**symbols[0],\n",
    "#    #    cirq.Y(qubits[1])**symbols[1], cirq.CNOT(qubits[0], qubits[1]))"
   ]
  },
  {
   "cell_type": "code",
   "execution_count": 19,
   "metadata": {},
   "outputs": [],
   "source": [
    "#data_symbols = []\n",
    "#\n",
    "#ansatz = QuantumCircuit()\n",
    "#for l in range(n_layers):\n",
    "#    for idx, w in enumerate(ind_gates):\n",
    "#        ansatz.append(block(w, var_symbols[l, idx]))\n",
    "#    \n",
    "#    ## Re-encoding layer\n",
    "#    #if drc and (l < n_layers - 1):\n",
    "#    #    data_circuit, expr = cirq.flatten(\n",
    "#    #        feature_map.build(qubits, in_symbols[l]))\n",
    "#    #    circuit += data_circuit\n",
    "#    #    data_symbols += list(expr.values())"
   ]
  },
  {
   "cell_type": "code",
   "execution_count": 20,
   "metadata": {},
   "outputs": [],
   "source": [
    "from qiskit.circuit.library import RealAmplitudes, EfficientSU2\n",
    "ansatz = RealAmplitudes(10, reps=2)\n",
    "\n",
    "# todo: TTN, example: https://github.com/Gopal-Dahale/qml-hep-lhc/blob/0632e2bcf892965303faa3ebc7322bc87b9ad6b3/qml_hep_lhc/ansatzes/ttn.py\n",
    "# def tnn():\n",
    "\n",
    "#ansatz.draw()\n",
    "#ansatz_ = ansatz.decompose(reps=20)\n",
    "#print(ansatz_.depth())\n",
    "#print(f\"Circuit operations: {ansatz_.count_ops()}\")"
   ]
  },
  {
   "cell_type": "code",
   "execution_count": 21,
   "metadata": {},
   "outputs": [
    {
     "data": {
      "text/plain": [
       "784"
      ]
     },
     "execution_count": 21,
     "metadata": {},
     "output_type": "execute_result"
    }
   ],
   "source": [
    "EfficientSU2(4,reps=97).num_parameters"
   ]
  },
  {
   "cell_type": "markdown",
   "metadata": {},
   "source": [
    "## test encoding & decoding (1st task)"
   ]
  },
  {
   "cell_type": "code",
   "execution_count": 22,
   "metadata": {},
   "outputs": [],
   "source": [
    "import qiskit\n",
    "from qiskit import BasicAer\n",
    "\n",
    "def simulate(circ: qiskit.QuantumCircuit) -> dict:\n",
    "    \"\"\"Simulate the circuit, give the state vector as the result.\"\"\"\n",
    "    backend = BasicAer.get_backend('statevector_simulator')\n",
    "    job = execute(circ, backend)\n",
    "    result = job.result()\n",
    "    state_vector = result.get_statevector()\n",
    "    \n",
    "    histogram = dict()\n",
    "    for i in range(len(state_vector)):\n",
    "        population = abs(state_vector[i]) ** 2\n",
    "        if population > 1e-9:\n",
    "            histogram[i] = population\n",
    "    \n",
    "    return histogram"
   ]
  },
  {
   "cell_type": "code",
   "execution_count": 23,
   "metadata": {
    "scrolled": true
   },
   "outputs": [
    {
     "name": "stdout",
     "output_type": "stream",
     "text": [
      "{96: 6.435473980059361e-08, 99: 1.0875951026300376e-05, 100: 0.0003429464083973666, 103: 6.435473980063946e-08, 104: 1.029675836809481e-06, 109: 6.435473980059199e-08, 110: 6.435473980059214e-08, 124: 5.791926582053541e-07, 126: 8.340374278157023e-05, 127: 0.001190305267351793, 128: 0.0010379775982437844, 129: 0.00024737961979348535, 130: 0.0001876584212585344, 134: 6.435473980058929e-08, 135: 5.791926582053047e-07, 136: 1.0296758368094123e-06, 139: 5.791926582052729e-07, 152: 2.3167706328214167e-06, 154: 0.0006695467128853881, 155: 0.0026781868515415525, 156: 0.001993452420063207, 157: 0.00115555370785948, 158: 0.001334459884505117, 159: 0.0009736228584431939, 160: 3.4043657354514076e-05, 165: 9.26708253128558e-06, 166: 6.435473980059434e-06, 182: 0.0015461226237092687, 183: 0.003584301587933887, 184: 0.0027575362457156727, 185: 0.0020390155758420324, 186: 0.0007367974159770059, 187: 0.0015661369477872724, 188: 0.0016681392103712123, 189: 0.0007645986635708676, 190: 0.0002635970142232365, 191: 3.4043657354514835e-05, 192: 0.0003815592522777261, 193: 0.0010875951026300475, 194: 0.00033361497112628283, 195: 1.4479816455133771e-05, 207: 6.435473980075541e-08, 209: 0.000306392916190634, 210: 0.0027575362457156745, 211: 0.0032002968555437643, 212: 0.003058394654283475, 213: 0.0030025347401365417, 214: 0.0030025347401365565, 215: 0.0017098410817619984, 216: 0.0010379775982437946, 217: 0.0009422177454205038, 218: 0.0009578559471920467, 219: 0.0013717856335894697, 220: 0.0012794365819756217, 221: 0.0004983631050158022, 222: 0.0019038706222607787, 223: 0.00028032924657138745, 233: 6.435473980060936e-08, 234: 6.435473980058451e-08, 235: 6.435473980058954e-08, 237: 0.002574189592023769, 238: 0.0034638295150271944, 239: 0.0034638295150271887, 240: 0.0034937544690344857, 241: 0.003374826909882975, 242: 0.003200296855543776, 243: 0.003200296855543769, 244: 0.0029747978472825015, 245: 0.0029197101900131847, 246: 0.0017308850816767848, 247: 0.0010379775982437827, 248: 0.000973622858443201, 249: 0.0024722516841796482, 250: 0.003374826909882971, 265: 0.0021551758811821187, 266: 0.003257958702405072, 267: 0.0030025347401365417, 268: 0.0032002968555437943, 269: 0.0033454167937941024, 270: 0.00355399050548784, 271: 0.0033161353871848376, 272: 0.003229063424234597, 273: 0.0031716589963324826, 274: 0.0032290634242346373, 275: 0.0031431498466008246, 276: 0.003200296855543774, 277: 0.00386289325653068, 278: 0.001926073007491985, 293: 0.0023971497028323577, 294: 0.003345416793794097, 295: 0.003058394654283433, 296: 0.002919710190013182, 297: 0.0025229632191425115, 298: 0.002085093569539262, 299: 0.0028923594255979177, 300: 0.0028380440252061883, 301: 0.0028651373706622637, 302: 0.002919710190013154, 303: 0.0032002968555437535, 304: 0.0031147694063487544, 305: 0.003800083030485298, 306: 0.0026259308028234686, 317: 6.435473980071711e-08, 318: 5.79192658206503e-07, 320: 9.267082531285525e-06, 321: 0.0030865176755763145, 322: 0.003114769406348769, 323: 0.00289235942559792, 324: 0.0030583946542834676, 325: 0.002372373128009121, 326: 0.0018380357234447726, 327: 0.0033161353871848332, 328: 0.0027842434627329423, 329: 0.0030583946542834715, 330: 0.003229063424234639, 331: 0.002892359425597907, 332: 0.003286982690055168, 333: 0.0024975430969212706, 334: 0.0028110793892297636, 335: 0.0001740152164208061, 346: 2.3167706328212727e-06, 348: 0.0006307408047856239, 349: 0.003831423788768177, 350: 0.0031716589963325034, 351: 0.0031147694063487622, 352: 0.0030583946542834884, 353: 0.0026519944724426995, 354: 0.002522963219142512, 355: 0.0031431498466008385, 356: 0.002974797847282503, 357: 0.0029197101900131765, 358: 0.003171658996332502, 359: 0.00311476940634879, 360: 0.003862893256530698, 361: 0.0009113274703162244, 362: 0.0017947893382987824, 363: 0.00020181646401466416, 373: 1.0296758368095188e-06, 376: 0.00019467308789680263, 377: 0.0035843015879339227, 378: 0.003345416793794104, 379: 0.0034043657354514488, 380: 0.003345416793794111, 381: 0.0037068330125142497, 382: 0.003463829515027196, 383: 0.0029197101900131656, 384: 0.0030583946542834376, 385: 0.0032002968555437748, 386: 0.0035238081325213782, 387: 0.003030400342470205, 388: 0.0030304003424701832, 389: 0.002811079389229744, 390: 0.0005446985176722273, 394: 6.435473980056566e-08, 395: 1.0296758368089881e-06, 396: 2.316770632820139e-06, 397: 3.153382250227464e-06, 398: 2.574189592022458e-07, 404: 0.0036147413798595907, 405: 0.003286982690055168, 406: 0.003030400342470197, 407: 0.0032002968555437422, 408: 0.0031716589963325255, 409: 0.003086517675576311, 410: 0.0031716589963324974, 411: 0.0031431498466008324, 412: 0.0030025347401365417, 413: 0.003200296855543771, 414: 0.0033748269098829607, 415: 0.002974797847282472, 416: 0.003058394654283453, 417: 0.004184666955533652, 418: 0.00038155925227772113, 421: 5.791926582066301e-07, 429: 0.0002473796197934845, 430: 0.0013530584043075016, 431: 0.002678186851541544, 432: 0.0033454167937940994, 433: 0.0027575362457156615, 434: 0.0029197101900131847, 435: 0.0031431498466008394, 436: 0.003058394654283443, 437: 0.0027842434627329093, 438: 0.002865137370662268, 439: 0.0030583946542834567, 440: 0.0032290634242346183, 441: 0.0032002968555437518, 442: 0.003086517675576302, 443: 0.002974797847282463, 444: 0.0032290634242346104, 445: 0.003831423788768192, 446: 0.00162695217689884, 452: 2.085093569539324e-05, 453: 0.00012459077625395182, 454: 0.0004327212704192003, 455: 0.0007367974159770074, 456: 0.002298815660417052, 457: 0.0033454167937941154, 458: 0.0031147694063487917, 459: 0.0031716589963324956, 460: 0.003030400342470196, 461: 0.003286982690055165, 462: 0.0025741895920237995, 463: 0.0027045079401199915, 464: 0.002865137370662268, 465: 0.0034043657354514514, 466: 0.0032290634242346144, 467: 0.0035238081325213487, 468: 0.0019934524200632244, 469: 0.0022745539235122132, 470: 0.004022171237537163, 471: 0.0039580739166957864, 472: 0.0034937544690344306, 473: 0.00364530988126486, 474: 0.002974797847282465, 477: 0.00020908854961212945, 478: 0.0022504208960869698, 479: 0.002784243462732909, 480: 0.0032290634242346065, 481: 0.003143149846600816, 482: 0.0032290634242346083, 483: 0.0027842434627329024, 484: 0.0026781868515415503, 485: 0.0029471896639080295, 486: 0.0027842434627329046, 487: 0.0028110793892297584, 488: 0.002574189592023789, 489: 0.0016269521768988216, 490: 0.0038628932565307026, 491: 0.002397149702832337, 492: 0.0027309577381780157, 493: 0.0032002968555437587, 494: 0.004184666955533625, 495: 0.004184666955533652, 496: 0.003143149846600844, 497: 0.003523808132521348, 498: 0.0031431498466008363, 499: 0.0028651373706622637, 500: 0.003114769406348764, 501: 0.003463829515027178, 502: 0.0038944914337727694, 504: 5.791926582052186e-07, 505: 0.0026259308028234603, 506: 0.003345416793794113, 507: 0.003229063424234628, 508: 0.0031431498466008294, 509: 0.00286513737066227, 510: 0.0028651373706622585, 511: 0.0029471896639080026, 512: 0.0027045079401199915, 513: 0.0027045079401199893, 514: 0.002704507940119987, 515: 0.003114769406348769, 516: 0.0037068330125142666, 517: 0.0004118703347238052, 518: 0.0014479816455133844, 519: 0.004184666955533671, 520: 0.003374826909882987, 521: 0.003143149846600851, 522: 0.0022745539235122145, 523: 0.001526237009110899, 524: 0.002347725262665498, 525: 0.0028380440252062295, 526: 0.002678186851541547, 527: 0.0028110793892297797, 528: 0.003171658996332466, 529: 0.0033454167937940903, 530: 0.0032579587024050864, 532: 0.000618062921044907, 533: 0.0034937544690344783, 534: 0.002522963219142507, 535: 0.0028380440252062243, 536: 0.0031716589963324965, 537: 0.003374826909882975, 538: 0.0033748269098829806, 539: 0.0035238081325213544, 540: 0.00399005822237665, 541: 0.003114769406348788, 542: 0.002422054987135201, 543: 0.0029747978472824863, 544: 0.00303040034247021, 545: 0.0037377876423583434, 546: 0.0002718987756575123, 547: 0.0003429464083973691, 548: 0.0007230898563994767, 549: 0.000880952033130339, 550: 0.0018163481761319723, 551: 0.003086517675576315, 552: 0.003143149846600823, 553: 0.002974797847282469, 554: 0.0030304003424701798, 555: 0.0032002968555437643, 556: 0.003200296855543765, 557: 0.0032290634242346217, 558: 0.003374826909882971, 559: 5.412233617229877e-05, 560: 0.0003619954113783457, 561: 0.002678186851541548, 562: 0.0028923594255979316, 563: 0.002678186851541554, 564: 0.002397149702832335, 565: 0.002704507940119972, 566: 0.0028651373706622854, 567: 0.0032579587024050847, 568: 0.0030025347401365335, 569: 0.002202540969675343, 570: 0.002497543096921267, 571: 0.002730957738178015, 572: 0.002522963219142512, 573: 0.0029197101900131795, 574: 0.003706833012514242, 575: 0.0024470889809176093, 576: 0.0033161353871848384, 577: 0.003862893256530654, 578: 0.0036760070921497343, 579: 0.0032002968555437535, 580: 0.003058394654283475, 581: 0.002892359425597915, 582: 0.002811079389229784, 583: 0.003171658996332507, 584: 0.00311476940634879, 585: 0.0031431498466008433, 586: 0.0034043657354514414, 587: 0.0002888884269648676, 588: 0.00014827332050056986, 589: 0.002651994472442707, 590: 0.002155175881182113, 591: 0.002422054987135176, 592: 0.00291971019001318, 593: 0.0024975430969212645, 594: 0.002202540969675374, 595: 0.0023232061068014656, 596: 0.002422054987135174, 597: 0.0023723731280091086, 598: 0.002625930802823485, 599: 0.0029471896639080295, 600: 0.003086517675576291, 601: 0.003143149846600827, 602: 0.003114769406348784, 603: 0.003584301587933916, 604: 0.0032579587024050877, 605: 0.0030025347401365136, 606: 0.00254851205084332, 607: 0.0027309577381780265, 608: 0.0022264165781413774, 609: 0.002108325630607274, 610: 0.0020161696432128224, 611: 0.0019038706222607876, 612: 0.0021083256306072837, 613: 0.002704507940119988, 614: 0.0027309577381780374, 615: 0.0008510914338628575, 617: 0.000957855947192049, 618: 0.0030865176755762967, 619: 0.0023971497028323447, 620: 0.0020619902179508454, 621: 0.0018817969465091842, 622: 0.002155175881182092, 623: 0.0024722516841796252, 624: 0.0026781868515415633, 625: 0.0028380440252062378, 626: 0.0029197101900131674, 627: 0.0027575362457156593, 628: 0.002865137370662257, 629: 0.0028380440252062213, 630: 0.002574189592023771, 631: 0.0024722516841796218, 632: 0.0024220549871351647, 633: 0.0023477252626654906, 634: 0.0024470889809175907, 635: 0.002347725262665489, 636: 0.0025229632191424993, 637: 0.0023723731280091134, 638: 0.0019934524200632357, 639: 0.001566136947787275, 640: 0.0017947893382987854, 641: 0.002016169643212822, 642: 0.0028380440252062126, 643: 0.0005446985176722298, 646: 0.00035240655514805354, 647: 0.00229881566041703, 648: 0.0028923594255979034, 649: 0.0023477252626654846, 650: 0.0019708639063931842, 651: 0.0019038706222607804, 652: 0.0019708639063932055, 653: 0.002108325630607263, 654: 0.0022025409696753416, 655: 0.002274553923512201, 656: 0.002298815660417042, 657: 0.002274553923512229, 658: 0.0023971497028323556, 659: 0.002522963219142536, 660: 0.002678186851541545, 661: 0.002811079389229781, 662: 0.0028380440252062065, 663: 0.002838044025206217, 664: 0.00286513737066225, 665: 0.002274553923512197, 666: 0.0022745539235121993, 667: 0.0024220549871351764, 668: 0.0023723731280091364, 669: 0.0030025347401365404, 670: 0.0018598519802371749, 672: 2.5741895920236366e-07, 676: 0.0002803292465713921, 677: 0.0025741895920237947, 678: 0.0031716589963325034, 679: 0.0036147413798595924, 680: 0.0036760070921497386, 681: 0.00376887098168201, 682: 0.0038944914337727954, 683: 0.0038000830304853184, 684: 0.0038314237887681814, 685: 0.0031431498466008216, 686: 0.003114769406348761, 687: 0.002397149702832347, 688: 0.002347725262665483, 689: 0.0020619902179508346, 690: 0.0021316864011548787, 691: 0.0021316864011548826, 692: 0.0021083256306072594, 693: 0.001993452420063207, 694: 0.0017733592099451697, 695: 0.0018163481761319723, 696: 0.0006307408047856226, 697: 0.0002164893446891982, 707: 0.00010296758368095236, 708: 0.00023946398679801627, 709: 0.00012459077625395234, 710: 0.0003336149711262838, 711: 0.00010818031760480079, 712: 7.883455625573016e-05}\n"
     ]
    }
   ],
   "source": [
    "histogram = simulate(qc.bind_parameters(normalized_vector))\n",
    "print(histogram)"
   ]
  },
  {
   "cell_type": "code",
   "execution_count": 24,
   "metadata": {},
   "outputs": [
    {
     "name": "stdout",
     "output_type": "stream",
     "text": [
      "{0: 0, 1: 0, 2: 0, 3: 0, 4: 0, 5: 0, 6: 0, 7: 0, 8: 0, 9: 0, 10: 0, 11: 0, 12: 0, 13: 0, 14: 0, 15: 0, 16: 0, 17: 0, 18: 0, 19: 0, 20: 0, 21: 0, 22: 0, 23: 0, 24: 0, 25: 0, 26: 0, 27: 0, 28: 0, 29: 0, 30: 0, 31: 0, 32: 0, 33: 0, 34: 0, 35: 0, 36: 0, 37: 0, 38: 0, 39: 0, 40: 0, 41: 0, 42: 0, 43: 0, 44: 0, 45: 0, 46: 0, 47: 0, 48: 0, 49: 0, 50: 0, 51: 0, 52: 0, 53: 0, 54: 0, 55: 0, 56: 0, 57: 0, 58: 0, 59: 0, 60: 0, 61: 0, 62: 0, 63: 0, 64: 0, 65: 0, 66: 0, 67: 0, 68: 0, 69: 0, 70: 0, 71: 0, 72: 0, 73: 0, 74: 0, 75: 0, 76: 0, 77: 0, 78: 0, 79: 0, 80: 0, 81: 0, 82: 0, 83: 0, 84: 0, 85: 0, 86: 0, 87: 0, 88: 0, 89: 0, 90: 0, 91: 0, 92: 0, 93: 0, 94: 0, 95: 0, 96: 6.435473980059361e-08, 97: 0, 98: 0, 99: 1.0875951026300376e-05, 100: 0.0003429464083973666, 101: 0, 102: 0, 103: 6.435473980063946e-08, 104: 1.029675836809481e-06, 105: 0, 106: 0, 107: 0, 108: 0, 109: 6.435473980059199e-08, 110: 6.435473980059214e-08, 111: 0, 112: 0, 113: 0, 114: 0, 115: 0, 116: 0, 117: 0, 118: 0, 119: 0, 120: 0, 121: 0, 122: 0, 123: 0, 124: 5.791926582053541e-07, 125: 0, 126: 8.340374278157023e-05, 127: 0.001190305267351793, 128: 0.0010379775982437844, 129: 0.00024737961979348535, 130: 0.0001876584212585344, 131: 0, 132: 0, 133: 0, 134: 6.435473980058929e-08, 135: 5.791926582053047e-07, 136: 1.0296758368094123e-06, 137: 0, 138: 0, 139: 5.791926582052729e-07, 140: 0, 141: 0, 142: 0, 143: 0, 144: 0, 145: 0, 146: 0, 147: 0, 148: 0, 149: 0, 150: 0, 151: 0, 152: 2.3167706328214167e-06, 153: 0, 154: 0.0006695467128853881, 155: 0.0026781868515415525, 156: 0.001993452420063207, 157: 0.00115555370785948, 158: 0.001334459884505117, 159: 0.0009736228584431939, 160: 3.4043657354514076e-05, 161: 0, 162: 0, 163: 0, 164: 0, 165: 9.26708253128558e-06, 166: 6.435473980059434e-06, 167: 0, 168: 0, 169: 0, 170: 0, 171: 0, 172: 0, 173: 0, 174: 0, 175: 0, 176: 0, 177: 0, 178: 0, 179: 0, 180: 0, 181: 0, 182: 0.0015461226237092687, 183: 0.003584301587933887, 184: 0.0027575362457156727, 185: 0.0020390155758420324, 186: 0.0007367974159770059, 187: 0.0015661369477872724, 188: 0.0016681392103712123, 189: 0.0007645986635708676, 190: 0.0002635970142232365, 191: 3.4043657354514835e-05, 192: 0.0003815592522777261, 193: 0.0010875951026300475, 194: 0.00033361497112628283, 195: 1.4479816455133771e-05, 196: 0, 197: 0, 198: 0, 199: 0, 200: 0, 201: 0, 202: 0, 203: 0, 204: 0, 205: 0, 206: 0, 207: 6.435473980075541e-08, 208: 0, 209: 0.000306392916190634, 210: 0.0027575362457156745, 211: 0.0032002968555437643, 212: 0.003058394654283475, 213: 0.0030025347401365417, 214: 0.0030025347401365565, 215: 0.0017098410817619984, 216: 0.0010379775982437946, 217: 0.0009422177454205038, 218: 0.0009578559471920467, 219: 0.0013717856335894697, 220: 0.0012794365819756217, 221: 0.0004983631050158022, 222: 0.0019038706222607787, 223: 0.00028032924657138745, 224: 0, 225: 0, 226: 0, 227: 0, 228: 0, 229: 0, 230: 0, 231: 0, 232: 0, 233: 6.435473980060936e-08, 234: 6.435473980058451e-08, 235: 6.435473980058954e-08, 236: 0, 237: 0.002574189592023769, 238: 0.0034638295150271944, 239: 0.0034638295150271887, 240: 0.0034937544690344857, 241: 0.003374826909882975, 242: 0.003200296855543776, 243: 0.003200296855543769, 244: 0.0029747978472825015, 245: 0.0029197101900131847, 246: 0.0017308850816767848, 247: 0.0010379775982437827, 248: 0.000973622858443201, 249: 0.0024722516841796482, 250: 0.003374826909882971, 251: 0, 252: 0, 253: 0, 254: 0, 255: 0, 256: 0, 257: 0, 258: 0, 259: 0, 260: 0, 261: 0, 262: 0, 263: 0, 264: 0, 265: 0.0021551758811821187, 266: 0.003257958702405072, 267: 0.0030025347401365417, 268: 0.0032002968555437943, 269: 0.0033454167937941024, 270: 0.00355399050548784, 271: 0.0033161353871848376, 272: 0.003229063424234597, 273: 0.0031716589963324826, 274: 0.0032290634242346373, 275: 0.0031431498466008246, 276: 0.003200296855543774, 277: 0.00386289325653068, 278: 0.001926073007491985, 279: 0, 280: 0, 281: 0, 282: 0, 283: 0, 284: 0, 285: 0, 286: 0, 287: 0, 288: 0, 289: 0, 290: 0, 291: 0, 292: 0, 293: 0.0023971497028323577, 294: 0.003345416793794097, 295: 0.003058394654283433, 296: 0.002919710190013182, 297: 0.0025229632191425115, 298: 0.002085093569539262, 299: 0.0028923594255979177, 300: 0.0028380440252061883, 301: 0.0028651373706622637, 302: 0.002919710190013154, 303: 0.0032002968555437535, 304: 0.0031147694063487544, 305: 0.003800083030485298, 306: 0.0026259308028234686, 307: 0, 308: 0, 309: 0, 310: 0, 311: 0, 312: 0, 313: 0, 314: 0, 315: 0, 316: 0, 317: 6.435473980071711e-08, 318: 5.79192658206503e-07, 319: 0, 320: 9.267082531285525e-06, 321: 0.0030865176755763145, 322: 0.003114769406348769, 323: 0.00289235942559792, 324: 0.0030583946542834676, 325: 0.002372373128009121, 326: 0.0018380357234447726, 327: 0.0033161353871848332, 328: 0.0027842434627329423, 329: 0.0030583946542834715, 330: 0.003229063424234639, 331: 0.002892359425597907, 332: 0.003286982690055168, 333: 0.0024975430969212706, 334: 0.0028110793892297636, 335: 0.0001740152164208061, 336: 0, 337: 0, 338: 0, 339: 0, 340: 0, 341: 0, 342: 0, 343: 0, 344: 0, 345: 0, 346: 2.3167706328212727e-06, 347: 0, 348: 0.0006307408047856239, 349: 0.003831423788768177, 350: 0.0031716589963325034, 351: 0.0031147694063487622, 352: 0.0030583946542834884, 353: 0.0026519944724426995, 354: 0.002522963219142512, 355: 0.0031431498466008385, 356: 0.002974797847282503, 357: 0.0029197101900131765, 358: 0.003171658996332502, 359: 0.00311476940634879, 360: 0.003862893256530698, 361: 0.0009113274703162244, 362: 0.0017947893382987824, 363: 0.00020181646401466416, 364: 0, 365: 0, 366: 0, 367: 0, 368: 0, 369: 0, 370: 0, 371: 0, 372: 0, 373: 1.0296758368095188e-06, 374: 0, 375: 0, 376: 0.00019467308789680263, 377: 0.0035843015879339227, 378: 0.003345416793794104, 379: 0.0034043657354514488, 380: 0.003345416793794111, 381: 0.0037068330125142497, 382: 0.003463829515027196, 383: 0.0029197101900131656, 384: 0.0030583946542834376, 385: 0.0032002968555437748, 386: 0.0035238081325213782, 387: 0.003030400342470205, 388: 0.0030304003424701832, 389: 0.002811079389229744, 390: 0.0005446985176722273, 391: 0, 392: 0, 393: 0, 394: 6.435473980056566e-08, 395: 1.0296758368089881e-06, 396: 2.316770632820139e-06, 397: 3.153382250227464e-06, 398: 2.574189592022458e-07, 399: 0, 400: 0, 401: 0, 402: 0, 403: 0, 404: 0.0036147413798595907, 405: 0.003286982690055168, 406: 0.003030400342470197, 407: 0.0032002968555437422, 408: 0.0031716589963325255, 409: 0.003086517675576311, 410: 0.0031716589963324974, 411: 0.0031431498466008324, 412: 0.0030025347401365417, 413: 0.003200296855543771, 414: 0.0033748269098829607, 415: 0.002974797847282472, 416: 0.003058394654283453, 417: 0.004184666955533652, 418: 0.00038155925227772113, 419: 0, 420: 0, 421: 5.791926582066301e-07, 422: 0, 423: 0, 424: 0, 425: 0, 426: 0, 427: 0, 428: 0, 429: 0.0002473796197934845, 430: 0.0013530584043075016, 431: 0.002678186851541544, 432: 0.0033454167937940994, 433: 0.0027575362457156615, 434: 0.0029197101900131847, 435: 0.0031431498466008394, 436: 0.003058394654283443, 437: 0.0027842434627329093, 438: 0.002865137370662268, 439: 0.0030583946542834567, 440: 0.0032290634242346183, 441: 0.0032002968555437518, 442: 0.003086517675576302, 443: 0.002974797847282463, 444: 0.0032290634242346104, 445: 0.003831423788768192, 446: 0.00162695217689884, 447: 0, 448: 0, 449: 0, 450: 0, 451: 0, 452: 2.085093569539324e-05, 453: 0.00012459077625395182, 454: 0.0004327212704192003, 455: 0.0007367974159770074, 456: 0.002298815660417052, 457: 0.0033454167937941154, 458: 0.0031147694063487917, 459: 0.0031716589963324956, 460: 0.003030400342470196, 461: 0.003286982690055165, 462: 0.0025741895920237995, 463: 0.0027045079401199915, 464: 0.002865137370662268, 465: 0.0034043657354514514, 466: 0.0032290634242346144, 467: 0.0035238081325213487, 468: 0.0019934524200632244, 469: 0.0022745539235122132, 470: 0.004022171237537163, 471: 0.0039580739166957864, 472: 0.0034937544690344306, 473: 0.00364530988126486, 474: 0.002974797847282465, 475: 0, 476: 0, 477: 0.00020908854961212945, 478: 0.0022504208960869698, 479: 0.002784243462732909, 480: 0.0032290634242346065, 481: 0.003143149846600816, 482: 0.0032290634242346083, 483: 0.0027842434627329024, 484: 0.0026781868515415503, 485: 0.0029471896639080295, 486: 0.0027842434627329046, 487: 0.0028110793892297584, 488: 0.002574189592023789, 489: 0.0016269521768988216, 490: 0.0038628932565307026, 491: 0.002397149702832337, 492: 0.0027309577381780157, 493: 0.0032002968555437587, 494: 0.004184666955533625, 495: 0.004184666955533652, 496: 0.003143149846600844, 497: 0.003523808132521348, 498: 0.0031431498466008363, 499: 0.0028651373706622637, 500: 0.003114769406348764, 501: 0.003463829515027178, 502: 0.0038944914337727694, 503: 0, 504: 5.791926582052186e-07, 505: 0.0026259308028234603, 506: 0.003345416793794113, 507: 0.003229063424234628, 508: 0.0031431498466008294, 509: 0.00286513737066227, 510: 0.0028651373706622585, 511: 0.0029471896639080026, 512: 0.0027045079401199915, 513: 0.0027045079401199893, 514: 0.002704507940119987, 515: 0.003114769406348769, 516: 0.0037068330125142666, 517: 0.0004118703347238052, 518: 0.0014479816455133844, 519: 0.004184666955533671, 520: 0.003374826909882987, 521: 0.003143149846600851, 522: 0.0022745539235122145, 523: 0.001526237009110899, 524: 0.002347725262665498, 525: 0.0028380440252062295, 526: 0.002678186851541547, 527: 0.0028110793892297797, 528: 0.003171658996332466, 529: 0.0033454167937940903, 530: 0.0032579587024050864, 531: 0, 532: 0.000618062921044907, 533: 0.0034937544690344783, 534: 0.002522963219142507, 535: 0.0028380440252062243, 536: 0.0031716589963324965, 537: 0.003374826909882975, 538: 0.0033748269098829806, 539: 0.0035238081325213544, 540: 0.00399005822237665, 541: 0.003114769406348788, 542: 0.002422054987135201, 543: 0.0029747978472824863, 544: 0.00303040034247021, 545: 0.0037377876423583434, 546: 0.0002718987756575123, 547: 0.0003429464083973691, 548: 0.0007230898563994767, 549: 0.000880952033130339, 550: 0.0018163481761319723, 551: 0.003086517675576315, 552: 0.003143149846600823, 553: 0.002974797847282469, 554: 0.0030304003424701798, 555: 0.0032002968555437643, 556: 0.003200296855543765, 557: 0.0032290634242346217, 558: 0.003374826909882971, 559: 5.412233617229877e-05, 560: 0.0003619954113783457, 561: 0.002678186851541548, 562: 0.0028923594255979316, 563: 0.002678186851541554, 564: 0.002397149702832335, 565: 0.002704507940119972, 566: 0.0028651373706622854, 567: 0.0032579587024050847, 568: 0.0030025347401365335, 569: 0.002202540969675343, 570: 0.002497543096921267, 571: 0.002730957738178015, 572: 0.002522963219142512, 573: 0.0029197101900131795, 574: 0.003706833012514242, 575: 0.0024470889809176093, 576: 0.0033161353871848384, 577: 0.003862893256530654, 578: 0.0036760070921497343, 579: 0.0032002968555437535, 580: 0.003058394654283475, 581: 0.002892359425597915, 582: 0.002811079389229784, 583: 0.003171658996332507, 584: 0.00311476940634879, 585: 0.0031431498466008433, 586: 0.0034043657354514414, 587: 0.0002888884269648676, 588: 0.00014827332050056986, 589: 0.002651994472442707, 590: 0.002155175881182113, 591: 0.002422054987135176, 592: 0.00291971019001318, 593: 0.0024975430969212645, 594: 0.002202540969675374, 595: 0.0023232061068014656, 596: 0.002422054987135174, 597: 0.0023723731280091086, 598: 0.002625930802823485, 599: 0.0029471896639080295, 600: 0.003086517675576291, 601: 0.003143149846600827, 602: 0.003114769406348784, 603: 0.003584301587933916, 604: 0.0032579587024050877, 605: 0.0030025347401365136, 606: 0.00254851205084332, 607: 0.0027309577381780265, 608: 0.0022264165781413774, 609: 0.002108325630607274, 610: 0.0020161696432128224, 611: 0.0019038706222607876, 612: 0.0021083256306072837, 613: 0.002704507940119988, 614: 0.0027309577381780374, 615: 0.0008510914338628575, 616: 0, 617: 0.000957855947192049, 618: 0.0030865176755762967, 619: 0.0023971497028323447, 620: 0.0020619902179508454, 621: 0.0018817969465091842, 622: 0.002155175881182092, 623: 0.0024722516841796252, 624: 0.0026781868515415633, 625: 0.0028380440252062378, 626: 0.0029197101900131674, 627: 0.0027575362457156593, 628: 0.002865137370662257, 629: 0.0028380440252062213, 630: 0.002574189592023771, 631: 0.0024722516841796218, 632: 0.0024220549871351647, 633: 0.0023477252626654906, 634: 0.0024470889809175907, 635: 0.002347725262665489, 636: 0.0025229632191424993, 637: 0.0023723731280091134, 638: 0.0019934524200632357, 639: 0.001566136947787275, 640: 0.0017947893382987854, 641: 0.002016169643212822, 642: 0.0028380440252062126, 643: 0.0005446985176722298, 644: 0, 645: 0, 646: 0.00035240655514805354, 647: 0.00229881566041703, 648: 0.0028923594255979034, 649: 0.0023477252626654846, 650: 0.0019708639063931842, 651: 0.0019038706222607804, 652: 0.0019708639063932055, 653: 0.002108325630607263, 654: 0.0022025409696753416, 655: 0.002274553923512201, 656: 0.002298815660417042, 657: 0.002274553923512229, 658: 0.0023971497028323556, 659: 0.002522963219142536, 660: 0.002678186851541545, 661: 0.002811079389229781, 662: 0.0028380440252062065, 663: 0.002838044025206217, 664: 0.00286513737066225, 665: 0.002274553923512197, 666: 0.0022745539235121993, 667: 0.0024220549871351764, 668: 0.0023723731280091364, 669: 0.0030025347401365404, 670: 0.0018598519802371749, 671: 0, 672: 2.5741895920236366e-07, 673: 0, 674: 0, 675: 0, 676: 0.0002803292465713921, 677: 0.0025741895920237947, 678: 0.0031716589963325034, 679: 0.0036147413798595924, 680: 0.0036760070921497386, 681: 0.00376887098168201, 682: 0.0038944914337727954, 683: 0.0038000830304853184, 684: 0.0038314237887681814, 685: 0.0031431498466008216, 686: 0.003114769406348761, 687: 0.002397149702832347, 688: 0.002347725262665483, 689: 0.0020619902179508346, 690: 0.0021316864011548787, 691: 0.0021316864011548826, 692: 0.0021083256306072594, 693: 0.001993452420063207, 694: 0.0017733592099451697, 695: 0.0018163481761319723, 696: 0.0006307408047856226, 697: 0.0002164893446891982, 698: 0, 699: 0, 700: 0, 701: 0, 702: 0, 703: 0, 704: 0, 705: 0, 706: 0, 707: 0.00010296758368095236, 708: 0.00023946398679801627, 709: 0.00012459077625395234, 710: 0.0003336149711262838, 711: 0.00010818031760480079, 712: 7.883455625573016e-05, 713: 0, 714: 0, 715: 0, 716: 0, 717: 0, 718: 0, 719: 0, 720: 0, 721: 0, 722: 0, 723: 0, 724: 0, 725: 0, 726: 0, 727: 0, 728: 0, 729: 0, 730: 0, 731: 0, 732: 0, 733: 0, 734: 0, 735: 0, 736: 0, 737: 0, 738: 0, 739: 0, 740: 0, 741: 0, 742: 0, 743: 0, 744: 0, 745: 0, 746: 0, 747: 0, 748: 0, 749: 0, 750: 0, 751: 0, 752: 0, 753: 0, 754: 0, 755: 0, 756: 0, 757: 0, 758: 0, 759: 0, 760: 0, 761: 0, 762: 0, 763: 0, 764: 0, 765: 0, 766: 0, 767: 0, 768: 0, 769: 0, 770: 0, 771: 0, 772: 0, 773: 0, 774: 0, 775: 0, 776: 0, 777: 0, 778: 0, 779: 0, 780: 0, 781: 0, 782: 0, 783: 0, 784: 0, 785: 0, 786: 0, 787: 0, 788: 0, 789: 0, 790: 0, 791: 0, 792: 0, 793: 0, 794: 0, 795: 0, 796: 0, 797: 0, 798: 0, 799: 0, 800: 0, 801: 0, 802: 0, 803: 0, 804: 0, 805: 0, 806: 0, 807: 0, 808: 0, 809: 0, 810: 0, 811: 0, 812: 0, 813: 0, 814: 0, 815: 0, 816: 0, 817: 0, 818: 0, 819: 0, 820: 0, 821: 0, 822: 0, 823: 0, 824: 0, 825: 0, 826: 0, 827: 0, 828: 0, 829: 0, 830: 0, 831: 0, 832: 0, 833: 0, 834: 0, 835: 0, 836: 0, 837: 0, 838: 0, 839: 0, 840: 0, 841: 0, 842: 0, 843: 0, 844: 0, 845: 0, 846: 0, 847: 0, 848: 0, 849: 0, 850: 0, 851: 0, 852: 0, 853: 0, 854: 0, 855: 0, 856: 0, 857: 0, 858: 0, 859: 0, 860: 0, 861: 0, 862: 0, 863: 0, 864: 0, 865: 0, 866: 0, 867: 0, 868: 0, 869: 0, 870: 0, 871: 0, 872: 0, 873: 0, 874: 0, 875: 0, 876: 0, 877: 0, 878: 0, 879: 0, 880: 0, 881: 0, 882: 0, 883: 0, 884: 0, 885: 0, 886: 0, 887: 0, 888: 0, 889: 0, 890: 0, 891: 0, 892: 0, 893: 0, 894: 0, 895: 0, 896: 0, 897: 0, 898: 0, 899: 0, 900: 0, 901: 0, 902: 0, 903: 0, 904: 0, 905: 0, 906: 0, 907: 0, 908: 0, 909: 0, 910: 0, 911: 0, 912: 0, 913: 0, 914: 0, 915: 0, 916: 0, 917: 0, 918: 0, 919: 0, 920: 0, 921: 0, 922: 0, 923: 0, 924: 0, 925: 0, 926: 0, 927: 0, 928: 0, 929: 0, 930: 0, 931: 0, 932: 0, 933: 0, 934: 0, 935: 0, 936: 0, 937: 0, 938: 0, 939: 0, 940: 0, 941: 0, 942: 0, 943: 0, 944: 0, 945: 0, 946: 0, 947: 0, 948: 0, 949: 0, 950: 0, 951: 0, 952: 0, 953: 0, 954: 0, 955: 0, 956: 0, 957: 0, 958: 0, 959: 0, 960: 0, 961: 0, 962: 0, 963: 0, 964: 0, 965: 0, 966: 0, 967: 0, 968: 0, 969: 0, 970: 0, 971: 0, 972: 0, 973: 0, 974: 0, 975: 0, 976: 0, 977: 0, 978: 0, 979: 0, 980: 0, 981: 0, 982: 0, 983: 0, 984: 0, 985: 0, 986: 0, 987: 0, 988: 0, 989: 0, 990: 0, 991: 0, 992: 0, 993: 0, 994: 0, 995: 0, 996: 0, 997: 0, 998: 0, 999: 0, 1000: 0, 1001: 0, 1002: 0, 1003: 0, 1004: 0, 1005: 0, 1006: 0, 1007: 0, 1008: 0, 1009: 0, 1010: 0, 1011: 0, 1012: 0, 1013: 0, 1014: 0, 1015: 0, 1016: 0, 1017: 0, 1018: 0, 1019: 0, 1020: 0, 1021: 0, 1022: 0, 1023: 0}\n"
     ]
    }
   ],
   "source": [
    "new_histogram = {}\n",
    "\n",
    "for key in range(len(qc.parameters)):\n",
    "    if key in histogram:\n",
    "        new_histogram[key] = histogram[key]\n",
    "    else:\n",
    "        new_histogram[key] = 0\n",
    "print(new_histogram)"
   ]
  },
  {
   "cell_type": "code",
   "execution_count": 25,
   "metadata": {},
   "outputs": [
    {
     "data": {
      "text/plain": [
       "<matplotlib.image.AxesImage at 0x7fed74ef5ca0>"
      ]
     },
     "execution_count": 25,
     "metadata": {},
     "output_type": "execute_result"
    },
    {
     "data": {
      "image/png": "[encoded data removed]",
      "text/plain": [
       "<Figure size 432x288 with 1 Axes>"
      ]
     },
     "metadata": {
      "needs_background": "light"
     },
     "output_type": "display_data"
    }
   ],
   "source": [
    "import matplotlib.pyplot as plt\n",
    "after_ = np.array(list(new_histogram.values())[:784])\n",
    "plt.imshow(np.reshape(after_,X_train[0].shape))"
   ]
  },
  {
   "cell_type": "code",
   "execution_count": 26,
   "metadata": {
    "scrolled": true
   },
   "outputs": [
    {
     "data": {
      "text/plain": [
       "<matplotlib.image.AxesImage at 0x7fed7490c160>"
      ]
     },
     "execution_count": 26,
     "metadata": {},
     "output_type": "execute_result"
    },
    {
     "data": {
      "image/png": "[encoded data removed]",
      "text/plain": [
       "<Figure size 432x288 with 1 Axes>"
      ]
     },
     "metadata": {
      "needs_background": "light"
     },
     "output_type": "display_data"
    }
   ],
   "source": [
    "de_normalized_vector = de_normalize(after_,X_train[0])\n",
    "plt.imshow(np.reshape(after_,X_train[0].shape))"
   ]
  },
  {
   "cell_type": "code",
   "execution_count": 27,
   "metadata": {},
   "outputs": [],
   "source": [
    "def encode_qiskit(x,num_qubit=10):\n",
    "    normalized_vector = normalize(x)\n",
    "    qc = RawFeatureVector(2**num_qubit)\n",
    "    qc.bind_parameters(normalized_vector)\n",
    "    return qc"
   ]
  },
  {
   "cell_type": "code",
   "execution_count": 28,
   "metadata": {},
   "outputs": [],
   "source": [
    "def decode(histogram):\n",
    "    new_histogram = {}\n",
    "\n",
    "    for key in range(len(qc.parameters)):\n",
    "        if key in histogram:\n",
    "            new_histogram[key] = histogram[key]\n",
    "        else:\n",
    "            new_histogram[key] = 0\n",
    "    #print(new_histogram)\n",
    "    after_ = np.array(list(new_histogram.values())[:784])\n",
    "    return after_"
   ]
  },
  {
   "cell_type": "code",
   "execution_count": 30,
   "metadata": {},
   "outputs": [
    {
     "name": "stdout",
     "output_type": "stream",
     "text": [
      "Traceback \u001b[1;36m(most recent call last)\u001b[0m:\n",
      "\u001b[1;36m  Input \u001b[1;32mIn [30]\u001b[1;36m in \u001b[1;35m<cell line: 2>\u001b[1;36m\u001b[0m\n",
      "\u001b[1;33m    from part1 import encode_qiskit,decode\u001b[0m\n",
      "\u001b[1;31mModuleNotFoundError\u001b[0m\u001b[1;31m:\u001b[0m No module named 'part1'\n",
      "\n",
      "Use %tb to get the full traceback.\n"
     ]
    },
    {
     "data": {
      "text/html": [
       "\n",
       "<style>\n",
       ".button {\n",
       "  border: none;\n",
       "  color: white;\n",
       "  padding: 4px 8px;\n",
       "  text-align: center;\n",
       "  text-decoration: none;\n",
       "  display: inline-block;\n",
       "  font-size: 12px;\n",
       "  margin: 4px 2px;\n",
       "  transition-duration: 0.2s;\n",
       "  cursor: pointer;\n",
       "}\n",
       ".iqx-button {\n",
       "  background-color: #0f62fe; \n",
       "  color: white; \n",
       "}\n",
       ".iqx-button:hover {\n",
       "  background-color: #0043ce;\n",
       "  color: white;\n",
       "}\n",
       "</style>\n",
       "<a href=\"https://stackoverflow.com/search?q=ModuleNotFoundError: No module named 'part1'\" target='_blank'><button class='button iqx-button'>Search for solution online</button></a>\n"
      ],
      "text/plain": [
       "<IPython.core.display.HTML object>"
      ]
     },
     "metadata": {},
     "output_type": "display_data"
    }
   ],
   "source": [
    "#grade part1\n",
    "from part1 import encode_qiskit,decode\n",
    "\n",
    "n=len(dataset)\n",
    "mse=0\n",
    "gatecount=0\n",
    "\n",
    "for data in (X_train,Y_train):\n",
    "    #encode image into circuit\n",
    "    circuit=encode_qiskit(data[0])\n",
    "    \n",
    "    #simulate circuit\n",
    "    histogram=simulate(circuit)\n",
    "    \n",
    "    gatecount+=count_gates(circuit)[2]\n",
    "    \n",
    "    #reconstruct \n",
    "    image_re=decode(histogram)\n",
    "    \n",
    "    #calculate mse\n",
    "    mse+=image_mse(np.asarray(data['image']),np.asarray(image_re))\n",
    "    \n",
    "#fidelity of reconstruction\n",
    "f=1-mse\n",
    "gatecount=gatecount/n\n",
    "\n",
    "#score for part1\n",
    "print(f*(0.999**gatecount))"
   ]
  },
  {
   "cell_type": "code",
   "execution_count": 31,
   "metadata": {},
   "outputs": [],
   "source": [
    "#traning_qc = QuantumCircuit(10,10)\n",
    "#traning_qc.append(qc,[i for i in range(10)])\n",
    "#traning_qc.append(ansatz_,[i for i in range(10)])\n",
    "##qc.append(ansatz)\n",
    "#traning_qc.draw()"
   ]
  },
  {
   "cell_type": "markdown",
   "metadata": {},
   "source": [
    "## train classifier circuit (2nd task)\n",
    "is there a way to get the best classifier?  \n",
    "\n",
    "Important Final Note: The goal of this problem is to explore quantum computing approaches to machine learning problems. To this end, the final score will take into account the degree of quantumness in the program. Preference will be given to creative solutions with a minimal amount of classical processing in the final solution.\n",
    "\n",
    "reference:   \n",
    "[1] calculate result from probability, https://github.com/ericardomuten/quantum_image_classifier  \n",
    "[2] MPS tensor circuit(ideal classifier circuit), https://journals.aps.org/prresearch/pdf/10.1103/PhysRevResearch.4.043007 , good example from qamp-mentorship https://github.com/qiskit-advocate/qamp-fall-22/issues/28   \n",
    "[3] Good idea about amplitude circuit, https://journals.aps.org/prx/pdf/10.1103/PhysRevX.7.031041"
   ]
  },
  {
   "cell_type": "code",
   "execution_count": 32,
   "metadata": {},
   "outputs": [],
   "source": [
    "from qiskit.utils import algorithm_globals\n",
    "algorithm_globals.random_seed = 0\n",
    "\n",
    "import numpy as np\n",
    "np.random.seed(algorithm_globals.random_seed)"
   ]
  },
  {
   "cell_type": "code",
   "execution_count": 33,
   "metadata": {},
   "outputs": [],
   "source": [
    "from IPython.display import clear_output\n",
    "def callback_graph(weights, obj_func_eval):\n",
    "    clear_output(wait=True)\n",
    "    objective_func_vals.append(obj_func_eval)\n",
    "    plt.title(\"Objective function value against iteration\")\n",
    "    plt.xlabel(\"Iteration\")\n",
    "    plt.ylabel(\"Objective function value\")\n",
    "    plt.plot(range(len(objective_func_vals)), objective_func_vals)\n",
    "    plt.show()"
   ]
  },
  {
   "cell_type": "code",
   "execution_count": 34,
   "metadata": {},
   "outputs": [],
   "source": [
    "from qiskit.algorithms.optimizers import SPSA"
   ]
  },
  {
   "cell_type": "code",
   "execution_count": 39,
   "metadata": {},
   "outputs": [],
   "source": [
    "from qiskit_machine_learning.algorithms.classifiers import VQC\n",
    "vqc = VQC(\n",
    "    feature_map=qc,\n",
    "    ansatz=RealAmplitudes(10, reps=2),\n",
    "    loss=\"cross_entropy\",\n",
    "    optimizer=SPSA(maxiter=300),\n",
    "    quantum_instance=Aer.get_backend('qasm_simulator'),\n",
    "    callback=callback_graph\n",
    ")"
   ]
  },
  {
   "cell_type": "code",
   "execution_count": 40,
   "metadata": {},
   "outputs": [
    {
     "data": {
      "image/png": "[encoded data removed]",
      "text/plain": [
       "<Figure size 432x288 with 1 Axes>"
      ]
     },
     "metadata": {
      "needs_background": "light"
     },
     "output_type": "display_data"
    },
    {
     "name": "stdout",
     "output_type": "stream",
     "text": [
      "Time elapsed:  5874.684581756592\n"
     ]
    }
   ],
   "source": [
    "import time\n",
    "start = time.time()\n",
    "\n",
    "objective_func_vals = []\n",
    "vqc.fit(np.array(X_train_list),np.array(Y_train[:100]))\n",
    "plt.rcParams[\"figure.figsize\"] = (6, 4)\n",
    "\n",
    "own_elapsed = time.time() - start\n",
    "print(\"Time elapsed: \", own_elapsed)"
   ]
  },
  {
   "cell_type": "code",
   "execution_count": 41,
   "metadata": {},
   "outputs": [
    {
     "data": {
      "text/plain": [
       "0.3"
      ]
     },
     "execution_count": 41,
     "metadata": {},
     "output_type": "execute_result"
    }
   ],
   "source": [
    "vqc.score(X_test_list[:50],Y_test[:50])"
   ]
  },
  {
   "cell_type": "code",
   "execution_count": 43,
   "metadata": {},
   "outputs": [
    {
     "name": "stdout",
     "output_type": "stream",
     "text": [
      "OPENQASM 2.0;\n",
      "include \"qelib1.inc\";\n",
      "gate gate_RealAmplitudes(param0,param1,param2,param3,param4,param5,param6,param7,param8,param9,param10,param11,param12,param13,param14,param15,param16,param17,param18,param19,param20,param21,param22,param23,param24,param25,param26,param27,param28,param29) q0,q1,q2,q3,q4,q5,q6,q7,q8,q9 { ry(0.166885338964307) q0; ry(-0.562428401027246) q1; ry(0.48893589557941) q2; ry(1.0000212324066) q3; ry(0.997292670049591) q4; ry(0.516642028823444) q5; ry(-0.52976583280007) q6; ry(0.44621090925359) q7; ry(-0.812837886101786) q8; ry(0.00690999905273608) q9; cx q8,q9; cx q7,q8; cx q6,q7; cx q5,q6; cx q4,q5; cx q3,q4; cx q2,q3; cx q1,q2; cx q0,q1; ry(0.732554878640012) q0; ry(1.09250685549609) q1; ry(0.946119425708376) q2; ry(1.22520608932305) q3; ry(-0.256892484303682) q4; ry(0.849713315449811) q5; ry(-0.172935171560596) q6; ry(-0.792282689543016) q7; ry(0.105879168563046) q8; ry(0.451929686680044) q9; cx q8,q9; cx q7,q8; cx q6,q7; cx q5,q6; cx q4,q5; cx q3,q4; cx q2,q3; cx q1,q2; cx q0,q1; ry(-0.717816606765696) q0; ry(-0.406893365206504) q1; ry(0.786417140426462) q2; ry(0.715868574401998) q3; ry(1.68834007060239) q4; ry(0.16240900497929) q5; ry(0.021691745395356) q6; ry(-0.45492053378632) q7; ry(1.68422609585115) q8; ry(0.668468430274114) q9; }\n",
      "qreg q[10];\n",
      "gate_RealAmplitudes(0.166885338964307,-0.562428401027246,0.48893589557941,1.0000212324066,0.997292670049591,0.516642028823444,-0.52976583280007,0.44621090925359,-0.812837886101786,0.00690999905273608,0.732554878640012,1.09250685549609,0.946119425708376,1.22520608932305,-0.256892484303682,0.849713315449811,-0.172935171560596,-0.792282689543016,0.105879168563046,0.451929686680044,-0.717816606765696,-0.406893365206504,0.786417140426462,0.715868574401998,1.68834007060239,0.16240900497929,0.021691745395356,-0.45492053378632,1.68422609585115,0.668468430274114) q[0],q[1],q[2],q[3],q[4],q[5],q[6],q[7],q[8],q[9];\n",
      "\n"
     ]
    }
   ],
   "source": [
    "classifier = ansatz.bind_parameters(vqc._fit_result.x).qasm()\n",
    "print(classifier)"
   ]
  },
  {
   "cell_type": "code",
   "execution_count": 44,
   "metadata": {},
   "outputs": [],
   "source": [
    "with open(\"best_vqc.qasm\", \"w\") as f:\n",
    "    f.write(classifier)"
   ]
  },
  {
   "cell_type": "code",
   "execution_count": 36,
   "metadata": {},
   "outputs": [],
   "source": [
    "from qiskit.algorithms.optimizers import SPSA"
   ]
  },
  {
   "cell_type": "code",
   "execution_count": 47,
   "metadata": {},
   "outputs": [],
   "source": [
    "vqc_esu2_spsa300 = VQC(\n",
    "    feature_map=qc,\n",
    "    ansatz=EfficientSU2(num_qubits=10, reps=20),\n",
    "    loss=\"cross_entropy\",\n",
    "    optimizer=SPSA(maxiter=300),\n",
    "    quantum_instance=Aer.get_backend('statevector_simulator'),\n",
    "    callback=callback_graph\n",
    ")"
   ]
  },
  {
   "cell_type": "code",
   "execution_count": null,
   "metadata": {},
   "outputs": [
    {
     "data": {
      "image/png": "[encoded data removed]",
      "text/plain": [
       "<Figure size 432x288 with 1 Axes>"
      ]
     },
     "metadata": {
      "needs_background": "light"
     },
     "output_type": "display_data"
    }
   ],
   "source": [
    "start = time.time()\n",
    "\n",
    "objective_func_vals = []\n",
    "vqc_esu2_spsa300.fit(np.array(X_train_list),np.array(Y_train[:100]))\n",
    "plt.rcParams[\"figure.figsize\"] = (6, 4)\n",
    "\n",
    "own_elapsed = time.time() - start\n",
    "print(\"Time elapsed: \", own_elapsed)"
   ]
  },
  {
   "cell_type": "code",
   "execution_count": null,
   "metadata": {},
   "outputs": [],
   "source": [
    "vqc_esu2_spsa300.score(X_test_list[:50],Y_test[:50])"
   ]
  },
  {
   "cell_type": "code",
   "execution_count": 20,
   "metadata": {},
   "outputs": [
    {
     "name": "stdout",
     "output_type": "stream",
     "text": [
      "OPENQASM 2.0;\n",
      "include \"qelib1.inc\";\n",
      "gate gate_RealAmplitudes(param0,param1,param2,param3,param4,param5,param6,param7,param8,param9,param10,param11,param12,param13,param14,param15,param16,param17,param18,param19,param20,param21,param22,param23,param24,param25,param26,param27,param28,param29) q0,q1,q2,q3,q4,q5,q6,q7,q8,q9 { ry(0.266317714019139) q0; ry(1.32035044188513) q1; ry(0.375724625916453) q2; ry(-0.145527578194223) q3; ry(1.24796981173025) q4; ry(-0.3722525242738) q5; ry(0.98731246639232) q6; ry(1.98782341512519) q7; ry(1.66430495324693) q8; ry(0.760045740348774) q9; cx q8,q9; cx q7,q8; cx q6,q7; cx q5,q6; cx q4,q5; cx q3,q4; cx q2,q3; cx q1,q2; cx q0,q1; ry(1.76943425343952) q0; ry(1.54002486179664) q1; ry(1.5166941190635) q2; ry(2.08820456685236) q3; ry(0.502872321522427) q4; ry(0.5226897740692) q5; ry(1.34895736320983) q6; ry(0.17808386546728) q7; ry(1.48787325816064) q8; ry(1.19251464386051) q9; cx q8,q9; cx q7,q8; cx q6,q7; cx q5,q6; cx q4,q5; cx q3,q4; cx q2,q3; cx q1,q2; cx q0,q1; ry(1.63207747410879) q0; ry(0.944742510667842) q1; ry(1.4738548596109) q2; ry(0.0395594736234817) q3; ry(0.160988017972572) q4; ry(-0.139909848244233) q5; ry(0.217661325699283) q6; ry(1.51612158505368) q7; ry(0.709288700436131) q8; ry(2.00665865500557) q9; }\n",
      "qreg q[10];\n",
      "gate_RealAmplitudes(0.266317714019139,1.32035044188513,0.375724625916453,-0.145527578194223,1.24796981173025,-0.3722525242738,0.98731246639232,1.98782341512519,1.66430495324693,0.760045740348774,1.76943425343952,1.54002486179664,1.5166941190635,2.08820456685236,0.502872321522427,0.5226897740692,1.34895736320983,0.17808386546728,1.48787325816064,1.19251464386051,1.63207747410879,0.944742510667842,1.4738548596109,0.0395594736234817,0.160988017972572,-0.139909848244233,0.217661325699283,1.51612158505368,0.709288700436131,2.00665865500557) q[0],q[1],q[2],q[3],q[4],q[5],q[6],q[7],q[8],q[9];\n",
      "\n"
     ]
    }
   ],
   "source": [
    "classifier = ansatz.bind_parameters(vqc._fit_result.x).qasm()\n",
    "print(classifier)"
   ]
  },
  {
   "cell_type": "code",
   "execution_count": null,
   "metadata": {},
   "outputs": [],
   "source": [
    "# todo: histogram_to_category\n",
    "#def histogram_to_category():\n"
   ]
  },
  {
   "cell_type": "code",
   "execution_count": null,
   "metadata": {},
   "outputs": [],
   "source": [
    "##grade part 2\n",
    "#\n",
    "##load classifier circuit\n",
    "##classifier=qiskit.QuantumCircuit.from_qasm_file('part2.qasm')\n",
    "#    \n",
    "#score=0\n",
    "#\n",
    "#for data in dataset:\n",
    "#    #encode image into circuit\n",
    "#    circuit=encode_qiskit(data['image'])\n",
    "#    \n",
    "#    nq1 = circuit.width()\n",
    "#    nq2 = classifier.width()\n",
    "#    nq = max(nq1, nq2)\n",
    "#    qc = qiskit.QuantumCircuit(nq)\n",
    "#    qc.append(circuit.to_instruction(), list(range(nq1)))\n",
    "#    qc.append(classifier.to_instruction(), list(range(nq2)))\n",
    "#\n",
    "#    gatecount+=count_gates(qc)[2]\n",
    "#    \n",
    "#    #simulate circuit\n",
    "#    histogram=simulate(qc)\n",
    "#    \n",
    "#    #convert histogram to category\n",
    "#    cat=histogram_to_category(histogram)\n",
    "#    \n",
    "#    \n",
    "#    if cat==data['category']:\n",
    "#        score+=1\n",
    "##score\n",
    "#score=score/n\n",
    "#gatecount=gatecount/n\n",
    "#\n",
    "#print(score*(0.999**gatecount))"
   ]
  }
 ],
 "metadata": {
  "kernelspec": {
   "display_name": "Python 3",
   "language": "python",
   "name": "python3"
  },
  "language_info": {
   "codemirror_mode": {
    "name": "ipython",
    "version": 3
   },
   "file_extension": ".py",
   "mimetype": "text/x-python",
   "name": "python",
   "nbconvert_exporter": "python",
   "pygments_lexer": "ipython3",
   "version": "3.8.5"
  },
  "toc": {
   "base_numbering": 1,
   "nav_menu": {},
   "number_sections": true,
   "sideBar": true,
   "skip_h1_title": false,
   "title_cell": "Table of Contents",
   "title_sidebar": "Contents",
   "toc_cell": false,
   "toc_position": {},
   "toc_section_display": true,
   "toc_window_display": false
  },
  "widgets": {
   "application/vnd.jupyter.widget-state+json": {
    "state": {
     "0ba76706d2c44f5b8079dadbf9eae644": {
      "model_module": "@jupyter-widgets/base",
      "model_module_version": "1.2.0",
      "model_name": "LayoutModel",
      "state": {
       "grid_area": "right",
       "padding": "0px 0px 0px 0px",
       "width": "70px"
      }
     },
     "0f9f3e72f13b494c838f67865f9e754a": {
      "model_module": "@jupyter-widgets/controls",
      "model_module_version": "1.5.0",
      "model_name": "DescriptionStyleModel",
      "state": {
       "description_width": ""
      }
     },
     "2c61f71bdc9b4deebcd3e1777dc5766e": {
      "model_module": "@jupyter-widgets/controls",
      "model_module_version": "1.5.0",
      "model_name": "HTMLModel",
      "state": {
       "layout": "IPY_MODEL_767826b914d54f70bb5157f346d1cb93",
       "style": "IPY_MODEL_4879fc589bd94ce5942e7476dd0f334a",
       "value": "<h5>Message</h5>"
      }
     },
     "2c94492e14424196ba309fa46f774c67": {
      "model_module": "@jupyter-widgets/base",
      "model_module_version": "1.2.0",
      "model_name": "LayoutModel",
      "state": {
       "grid_template_areas": "\n                                       \". . . . right \"\n                                        ",
       "grid_template_columns": "20% 20% 20% 20% 20%",
       "width": "100%"
      }
     },
     "2f9478e6a8394b069e15a4f0d988626c": {
      "model_module": "@jupyter-widgets/controls",
      "model_module_version": "1.5.0",
      "model_name": "DescriptionStyleModel",
      "state": {
       "description_width": ""
      }
     },
     "35b3eeee622c40409e47c6f3c1abd7bf": {
      "model_module": "@jupyter-widgets/controls",
      "model_module_version": "1.5.0",
      "model_name": "GridBoxModel",
      "state": {
       "children": [
        "IPY_MODEL_cb0c25ba5d6241788a20a1d68882bc9f"
       ],
       "layout": "IPY_MODEL_2c94492e14424196ba309fa46f774c67"
      }
     },
     "37c62e31818245549375a731d0e461a4": {
      "model_module": "@jupyter-widgets/controls",
      "model_module_version": "1.5.0",
      "model_name": "DescriptionStyleModel",
      "state": {
       "description_width": ""
      }
     },
     "3c7d3faff2fd4a0db555c4fe70c5c14a": {
      "model_module": "@jupyter-widgets/controls",
      "model_module_version": "1.5.0",
      "model_name": "ButtonStyleModel",
      "state": {}
     },
     "4879fc589bd94ce5942e7476dd0f334a": {
      "model_module": "@jupyter-widgets/controls",
      "model_module_version": "1.5.0",
      "model_name": "DescriptionStyleModel",
      "state": {
       "description_width": ""
      }
     },
     "5e7774ce7df04e92a1cf2d0053476e73": {
      "model_module": "@jupyter-widgets/controls",
      "model_module_version": "1.5.0",
      "model_name": "HTMLModel",
      "state": {
       "layout": "IPY_MODEL_f7e534254a5b416ea439079965a8951a",
       "style": "IPY_MODEL_37c62e31818245549375a731d0e461a4",
       "value": "<h5>Status</h5>"
      }
     },
     "6e78fe288f494bc7b7055a1cbf4fd588": {
      "model_module": "@jupyter-widgets/base",
      "model_module_version": "1.2.0",
      "model_name": "LayoutModel",
      "state": {
       "width": "70px"
      }
     },
     "767826b914d54f70bb5157f346d1cb93": {
      "model_module": "@jupyter-widgets/base",
      "model_module_version": "1.2.0",
      "model_name": "LayoutModel",
      "state": {}
     },
     "7f437d31eeb24f069d386ef17b056adc": {
      "model_module": "@jupyter-widgets/controls",
      "model_module_version": "1.5.0",
      "model_name": "DescriptionStyleModel",
      "state": {
       "description_width": ""
      }
     },
     "844c4eb47f0246808cae2c1c15e62668": {
      "model_module": "@jupyter-widgets/controls",
      "model_module_version": "1.5.0",
      "model_name": "HTMLModel",
      "state": {
       "layout": "IPY_MODEL_dac1a80538854f7cb39e6708480ca33a",
       "style": "IPY_MODEL_0f9f3e72f13b494c838f67865f9e754a",
       "value": "<p style='font-family: IBM Plex Sans, Arial, Helvetica, sans-serif; font-size: 20px; font-weight: medium;'>Circuit Properties</p>"
      }
     },
     "8c97b2f86c544568b21de0bcf766a11a": {
      "model_module": "@jupyter-widgets/base",
      "model_module_version": "1.2.0",
      "model_name": "LayoutModel",
      "state": {
       "width": "190px"
      }
     },
     "900fa225eff145fb8fd961bef128e435": {
      "model_module": "@jupyter-widgets/controls",
      "model_module_version": "1.5.0",
      "model_name": "DescriptionStyleModel",
      "state": {
       "description_width": ""
      }
     },
     "9a7a59b64a164e8f949155f062fb8877": {
      "model_module": "@jupyter-widgets/controls",
      "model_module_version": "1.5.0",
      "model_name": "HTMLModel",
      "state": {
       "layout": "IPY_MODEL_aebbd7756d974e8c8865b15b5d8cbac9",
       "style": "IPY_MODEL_7f437d31eeb24f069d386ef17b056adc",
       "value": "<h5>Backend</h5>"
      }
     },
     "aebbd7756d974e8c8865b15b5d8cbac9": {
      "model_module": "@jupyter-widgets/base",
      "model_module_version": "1.2.0",
      "model_name": "LayoutModel",
      "state": {
       "width": "145px"
      }
     },
     "c776185e67b248f89fb2da4ecea7e64f": {
      "model_module": "@jupyter-widgets/controls",
      "model_module_version": "1.5.0",
      "model_name": "HTMLModel",
      "state": {
       "layout": "IPY_MODEL_8c97b2f86c544568b21de0bcf766a11a",
       "style": "IPY_MODEL_900fa225eff145fb8fd961bef128e435",
       "value": "<h5>Job ID</h5>"
      }
     },
     "cb0c25ba5d6241788a20a1d68882bc9f": {
      "model_module": "@jupyter-widgets/controls",
      "model_module_version": "1.5.0",
      "model_name": "ButtonModel",
      "state": {
       "button_style": "primary",
       "description": "Clear",
       "layout": "IPY_MODEL_0ba76706d2c44f5b8079dadbf9eae644",
       "style": "IPY_MODEL_3c7d3faff2fd4a0db555c4fe70c5c14a"
      }
     },
     "d4f675734b714276a0ed85daaa6bc674": {
      "model_module": "@jupyter-widgets/controls",
      "model_module_version": "1.5.0",
      "model_name": "HBoxModel",
      "state": {
       "children": [
        "IPY_MODEL_c776185e67b248f89fb2da4ecea7e64f",
        "IPY_MODEL_9a7a59b64a164e8f949155f062fb8877",
        "IPY_MODEL_5e7774ce7df04e92a1cf2d0053476e73",
        "IPY_MODEL_ef5d3c53b9d249fc89769a1ca3c4d5a3",
        "IPY_MODEL_2c61f71bdc9b4deebcd3e1777dc5766e"
       ],
       "layout": "IPY_MODEL_f02d7c03dbc34222b1a387d12fac3125"
      }
     },
     "dac1a80538854f7cb39e6708480ca33a": {
      "model_module": "@jupyter-widgets/base",
      "model_module_version": "1.2.0",
      "model_name": "LayoutModel",
      "state": {
       "margin": "0px 0px 10px 0px"
      }
     },
     "ef5d3c53b9d249fc89769a1ca3c4d5a3": {
      "model_module": "@jupyter-widgets/controls",
      "model_module_version": "1.5.0",
      "model_name": "HTMLModel",
      "state": {
       "layout": "IPY_MODEL_6e78fe288f494bc7b7055a1cbf4fd588",
       "style": "IPY_MODEL_2f9478e6a8394b069e15a4f0d988626c",
       "value": "<h5>Queue</h5>"
      }
     },
     "f02d7c03dbc34222b1a387d12fac3125": {
      "model_module": "@jupyter-widgets/base",
      "model_module_version": "1.2.0",
      "model_name": "LayoutModel",
      "state": {
       "margin": "0px 0px 0px 37px",
       "width": "600px"
      }
     },
     "f7e534254a5b416ea439079965a8951a": {
      "model_module": "@jupyter-widgets/base",
      "model_module_version": "1.2.0",
      "model_name": "LayoutModel",
      "state": {
       "width": "95px"
      }
     }
    },
    "version_major": 2,
    "version_minor": 0
   }
  }
 },
 "nbformat": 4,
 "nbformat_minor": 5
}
