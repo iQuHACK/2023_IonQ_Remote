{
 "cells": [
  {
   "cell_type": "code",
   "execution_count": null,
   "id": "741b396e-1c49-4f23-a46d-fa47f4ca2f46",
   "metadata": {},
   "outputs": [],
   "source": [
    "# part 2\n",
    "\n",
    "def encode(image):\n",
    "    circuit=cirq.Circuit()\n",
    "    if image[0][0]==0:\n",
    "        circuit.append(cirq.rx(np.pi).on(cirq.LineQubit(0)))\n",
    "    return circuit\n",
    "\n",
    "\n",
    "def run_part2(image):\n",
    "\n",
    "    #load the quantum classifier circuit\n",
    "    with open('part2.pickle', 'rb') as f:\n",
    "        classifier=pickle.load(f)\n",
    "    \n",
    "    #encode image into circuit\n",
    "    circuit=encode(image)\n",
    "    \n",
    "    #append with classifier circuit\n",
    "    \n",
    "    circuit.append(classifier)\n",
    "    \n",
    "    #simulate circuit\n",
    "    histogram=simulate(circuit)\n",
    "        \n",
    "    #convert histogram to category\n",
    "    label=histogram_to_category(histogram)\n",
    "        \n",
    "    return circuit,label"
   ]
  }
 ],
 "metadata": {
  "kernelspec": {
   "display_name": "Python 3 [Default]",
   "language": "python",
   "name": "python3"
  },
  "language_info": {
   "codemirror_mode": {
    "name": "ipython",
    "version": 3
   },
   "file_extension": ".py",
   "mimetype": "text/x-python",
   "name": "python",
   "nbconvert_exporter": "python",
   "pygments_lexer": "ipython3",
   "version": "3.9.10"
  }
 },
 "nbformat": 4,
 "nbformat_minor": 5
}
