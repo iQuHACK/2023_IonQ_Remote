{
 "cells": [
  {
   "cell_type": "code",
   "execution_count": 1,
   "id": "57013974",
   "metadata": {},
   "outputs": [],
   "source": [
    "import numpy as np \n",
    "from sklearn.decomposition import PCA\n",
    "from sklearn.datasets import load_digits\n",
    "import matplotlib.pyplot as plt \n",
    "from qiskit import QuantumCircuit , execute , Aer \n",
    "from qiskit_machine_learning.circuit.library import RawFeatureVector"
   ]
  },
  {
   "cell_type": "code",
   "execution_count": 2,
   "id": "7e8c5a74",
   "metadata": {},
   "outputs": [
    {
     "data": {
      "text/plain": [
       "(8, 8)"
      ]
     },
     "execution_count": 2,
     "metadata": {},
     "output_type": "execute_result"
    }
   ],
   "source": [
    "data = np.load(\"data.npy\")\n",
    "labels = np.load(\"labels.npy\")\n",
    "plt.imshow(two,cmap='gray')"
   ]
  },
  {
   "cell_type": "code",
   "execution_count": 15,
   "id": "369f9970",
   "metadata": {},
   "outputs": [],
   "source": [
    "def normal_this( x ):\n",
    "    for sample in x :\n",
    "    \n",
    "        o = 0 \n",
    "        for k in sample :\n",
    "                o += float(k)*float(k)\n",
    "                \n",
    "        o = np.sqrt(o)\n",
    "        \n",
    "        for i in range(len(sample)):\n",
    "               sample[i]  /=  o "
   ]
  },
  {
   "cell_type": "code",
   "execution_count": 17,
   "id": "4259480e",
   "metadata": {},
   "outputs": [],
   "source": [
    "l = labels.reshape(2000,-1)#re shape from (2000,28,28) to (2000,784) \n",
    "l.shape\n",
    "normal_this(l)"
   ]
  },
  {
   "cell_type": "code",
   "execution_count": 18,
   "id": "c4078524",
   "metadata": {},
   "outputs": [],
   "source": [
    "qc = QuantumCircuit(6) \n",
    "r = RawFeatureVector(1024)\n",
    "padded = np.pad(l ,() )\n",
    "qc = r.bind_parameters(l) #this is just for the decoding part , in the 2nd part u  dont need it "
   ]
  },
  {
   "cell_type": "code",
   "execution_count": null,
   "id": "3fb135a4",
   "metadata": {},
   "outputs": [],
   "source": [
    "qc.measure_all()\n",
    "\n",
    "backend = Aer.get_backend(\"aer_simulator_statevector\")\n",
    "\n",
    "job = execute(qc , backend , shots=10000 )\n",
    "\n",
    "re= job.result()\n",
    "counts = re.get_counts()\n",
    "counts = {int(k, 2): v for k, v in counts.items()}\n",
    "highest_count = counts[max(counts , key=counts.get)]\n",
    "\n",
    "tem = np.zeros(484)\n",
    "for i in range(484): \n",
    "    if i in counts:\n",
    "        tem[i] = counts[i]\n",
    "        tem[i] = (255 * tem[i])/highest_count\n",
    "\n",
    "tem = tem.reshape(22,22)\n",
    "plt.imshow(tem , cmap='gray')"
   ]
  },
  {
   "cell_type": "code",
   "execution_count": null,
   "id": "a2b19785",
   "metadata": {},
   "outputs": [],
   "source": []
  }
 ],
 "metadata": {
  "kernelspec": {
   "display_name": "Python 3 (ipykernel)",
   "language": "python",
   "name": "python3"
  },
  "language_info": {
   "codemirror_mode": {
    "name": "ipython",
    "version": 3
   },
   "file_extension": ".py",
   "mimetype": "text/x-python",
   "name": "python",
   "nbconvert_exporter": "python",
   "pygments_lexer": "ipython3",
   "version": "3.9.7"
  }
 },
 "nbformat": 4,
 "nbformat_minor": 5
}
