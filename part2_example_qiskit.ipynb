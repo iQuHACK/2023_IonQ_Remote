{
 "cells": [
  {
   "cell_type": "code",
   "execution_count": 75,
   "id": "8dc5cd59-8b27-4e4d-bf28-7618b7cccc56",
   "metadata": {},
   "outputs": [],
   "source": [
    "import qiskit\n",
    "from qiskit import quantum_info\n",
    "from qiskit.execute_function import execute\n",
    "from qiskit import BasicAer\n",
    "import numpy as np\n",
    "import pickle\n",
    "import json\n",
    "import os\n",
    "from collections import Counter\n",
    "from sklearn.metrics import mean_squared_error\n",
    "from typing import Dict, List\n",
    "import matplotlib.pyplot as plt\n",
    "\n",
    "from qiskit import Aer, execute\n",
    "from qiskit.circuit import QuantumCircuit, Parameter, ParameterVector\n",
    "from qiskit.circuit.library import PauliFeatureMap, ZFeatureMap, ZZFeatureMap\n",
    "from qiskit.circuit.library import TwoLocal, NLocal, RealAmplitudes, EfficientSU2\n",
    "from qiskit.circuit.library import HGate, RXGate, RYGate, RZGate, CXGate, CRXGate, CRZGate\n",
    "from qiskit_machine_learning.kernels import QuantumKernel\n",
    "\n",
    "#define utility functions\n",
    "\n",
    "def simulate(circuit: qiskit.QuantumCircuit) -> dict:\n",
    "    \"\"\"Simulate the circuit, give the state vector as the result.\"\"\"\n",
    "    backend = BasicAer.get_backend('statevector_simulator')\n",
    "    job = execute(circuit, backend)\n",
    "    result = job.result()\n",
    "    state_vector = result.get_statevector()\n",
    "    \n",
    "    histogram = dict()\n",
    "    for i in range(len(state_vector)):\n",
    "        population = abs(state_vector[i]) ** 2\n",
    "        if population > 1e-9:\n",
    "            histogram[i] = population\n",
    "    \n",
    "    return histogram\n",
    "\n",
    "\n",
    "def histogram_to_category(histogram):\n",
    "    \"\"\"This function take a histogram representations of circuit execution results, and process into labels as described in \n",
    "    the problem description.\"\"\"\n",
    "    assert abs(sum(histogram.values())-1)<1e-8\n",
    "    positive=0\n",
    "    for key in histogram.keys():\n",
    "        digits = bin(int(key))[2:].zfill(20)\n",
    "        if digits[-1]=='0':\n",
    "            positive+=histogram[key]\n",
    "        \n",
    "    return positive\n",
    "\n",
    "\n",
    "def count_gates(circuit: qiskit.QuantumCircuit) -> Dict[int, int]:\n",
    "    \"\"\"Returns the number of gate operations with each number of qubits.\"\"\"\n",
    "    counter = Counter([len(gate[1]) for gate in circuit.data])\n",
    "    #feel free to comment out the following two lines. But make sure you don't have k-qubit gates in your circuit\n",
    "    #for k>2\n",
    "    for i in range(2,20):\n",
    "        assert counter[i]==0\n",
    "        \n",
    "    return counter\n",
    "\n",
    "\n",
    "def image_mse(image1,image2):\n",
    "    # Using sklearns mean squared error:\n",
    "    # https://scikit-learn.org/stable/modules/generated/sklearn.metrics.mean_squared_error.html\n",
    "    return mean_squared_error(image1, image2)"
   ]
  },
  {
   "cell_type": "code",
   "execution_count": 76,
   "id": "3df9c97b-a975-4108-90ab-db9c69c87a04",
   "metadata": {},
   "outputs": [],
   "source": [
    "#load the mock data (for testing only)\n",
    "files=os.listdir(\"mock_data\")\n",
    "dataset=list()\n",
    "for file in files:\n",
    "    with open('mock_data/'+file, \"r\") as infile:\n",
    "        loaded = json.load(infile)\n",
    "        dataset.append(loaded)"
   ]
  },
  {
   "cell_type": "code",
   "execution_count": 77,
   "id": "e069be74-3663-401a-a6d6-e53773487bca",
   "metadata": {},
   "outputs": [
    {
     "data": {
      "text/plain": [
       "<matplotlib.image.AxesImage at 0x7fcf729e0670>"
      ]
     },
     "execution_count": 115,
     "metadata": {},
     "output_type": "execute_result"
    },
    {
     "data": {
      "image/png": "[encoded data removed]",
      "text/plain": [
       "<Figure size 432x288 with 1 Axes>"
      ]
     },
     "metadata": {
      "needs_background": "light"
     },
     "output_type": "display_data"
    }
   ],
   "source": [
    "#load the actual hackthon data (fashion-mnist)\n",
    "images=np.load('data/images.npy')\n",
    "images=images*255\n",
    "labels=np.load('data/labels.npy')\n",
    "#you can visualize it\n",
    "import matplotlib.pyplot as plt\n",
    "plt.figure()\n",
    "plt.imshow(images[1100])\n",
    "\n",
    "# for i in range(1980,2000):\n",
    "#     print(labels[i])\n",
    "#     plt.figure()\n",
    "#     plt.imshow(images[i], plt.cm.gray_r)"
   ]
  },
  {
   "cell_type": "code",
   "execution_count": 84,
   "id": "09ec6586-4ce2-46f1-9402-52db08f41bab",
   "metadata": {},
   "outputs": [
    {
     "name": "stdout",
     "output_type": "stream",
     "text": [
      "[-0.19771525 -0.26633466  0.74022161 -0.35041695 -0.00508334 -0.02686129\n",
      " -0.13896993 -0.23913458  0.21552322 -0.34542597 -0.03193802 -0.21618143] True\n"
     ]
    }
   ],
   "source": [
    "# Data processing\n",
    "from sklearn import datasets\n",
    "from sklearn.model_selection import train_test_split\n",
    "from sklearn import datasets\n",
    "from sklearn.model_selection import train_test_split\n",
    "from sklearn.svm import SVC\n",
    "from sklearn.decomposition import PCA\n",
    "from sklearn.preprocessing import StandardScaler, MinMaxScaler\n",
    "\n",
    "# sample_train, sample_test, label_train, label_test = train_test_split(\n",
    "     # digits.data, digits.target, test_size=0.2, random_state=22)\n",
    "\n",
    "im_test=images.reshape(2000, 28*28)\n",
    "im_lab=labels\n",
    "sample_train, sample_test, label_train, label_test = train_test_split(\n",
    "     im_test, im_lab, test_size=0.2, random_state=1)\n",
    "n_dim  = 12\n",
    "\n",
    "pca = PCA(n_components=n_dim).fit(sample_train)\n",
    "sample_train = pca.transform(sample_train)\n",
    "sample_test = pca.transform(sample_test)\n",
    "\n",
    "# Normalise\n",
    "std_scale = StandardScaler().fit(sample_train)\n",
    "sample_train = std_scale.transform(sample_train)\n",
    "sample_test = std_scale.transform(sample_test)\n",
    "\n",
    "# Scale\n",
    "samples = np.append(sample_train, sample_test, axis=0)\n",
    "minmax_scale = MinMaxScaler((-1, 1)).fit(samples)\n",
    "sample_train = minmax_scale.transform(sample_train)\n",
    "sample_test = minmax_scale.transform(sample_test)\n",
    "\n",
    "# Select\n",
    "train_size = 1600\n",
    "sample_train = sample_train[:train_size]\n",
    "label_train = label_train[:train_size]\n",
    "\n",
    "test_size = 400\n",
    "sample_test = sample_test[:test_size]\n",
    "label_test = label_test[:test_size]\n",
    "\n",
    "print(sample_train[0], label_train[0])\n",
    "# print(sample_test[0], label_test[0])\n"
   ]
  },
  {
   "cell_type": "code",
   "execution_count": 118,
   "id": "47862561-2b6c-41a8-92cf-5e6c9d4540ad",
   "metadata": {},
   "outputs": [],
   "source": [
    "qc=RealAmplitudes(6, reps=1,entanglement=[[2,3], [0,1],[1,2],[3,4],[4,5]])\n",
    "# qc=RealAmplitudes(1, reps=1,entanglement=[[0,1]])\n",
    "encode = qc.bind_parameters(sample_train[0])\n",
    "encode.measure_all()\n",
    "encode.decompose().draw(\"mpl\")\n",
    "\n",
    "with open('quantum_classifier.pickle', 'wb') as fh:\n",
    "   pickle.dump(encode, fh)\n"
   ]
  },
  {
   "cell_type": "code",
   "execution_count": 119,
   "id": "6e2bfbb8-7149-44c4-bef7-cf39ea8aecca",
   "metadata": {},
   "outputs": [],
   "source": [
    "# encode_map = ZZFeatureMap(feature_dimension=n_dim, reps=2, entanglement='linear', insert_barriers=True)\n",
    "# encode_circuit = encode_map.bind_parameters(sample_train[0])\n",
    "# # print(type(encode_circuit))\n",
    "# encode_circuit.decompose().draw(output='mpl')"
   ]
  },
  {
   "cell_type": "code",
   "execution_count": 120,
   "id": "1a54e903-a646-415d-8335-e983df40e3a2",
   "metadata": {},
   "outputs": [],
   "source": [
    "zz_map = ZZFeatureMap(feature_dimension=n_dim, reps=2, entanglement='linear', insert_barriers=True)\n",
    "zz_kernel = QuantumKernel(feature_map=zz_map, quantum_instance=Aer.get_backend('statevector_simulator'))\n",
    "\n",
    "zz_circuit = zz_kernel.construct_circuit(sample_train[0], sample_train[1])\n",
    "# zz_circuit.decompose().draw(output='mpl')\n",
    "\n",
    "\n",
    "backend = Aer.get_backend('qasm_simulator')\n",
    "job = execute(zz_circuit, backend, shots=8192, \n",
    "              seed_simulator=1024, seed_transpiler=1024)\n",
    "counts = job.result().get_counts(zz_circuit)\n",
    "\n",
    "# full_circuit = encode_circuit.decompose()+zz_circuit.decompose()\n",
    "# full_circuit.draw(output='mpl')"
   ]
  },
  {
   "cell_type": "code",
   "execution_count": 121,
   "id": "cd1bfad7-8d99-4c8b-a582-cfe2e2772001",
   "metadata": {},
   "outputs": [
    {
     "name": "stdout",
     "output_type": "stream",
     "text": [
      "(1600, 1600)\n"
     ]
    },
    {
     "data": {
      "image/png": "[encoded data removed]",
      "text/plain": [
       "<Figure size 720x360 with 2 Axes>"
      ]
     },
     "metadata": {
      "needs_background": "light"
     },
     "output_type": "display_data"
    }
   ],
   "source": [
    "matrix_train = zz_kernel.evaluate(x_vec=sample_train)\n",
    "matrix_test = zz_kernel.evaluate(x_vec=sample_test, y_vec=sample_train)\n",
    "\n",
    "fig, axs = plt.subplots(1, 2, figsize=(10, 5))\n",
    "axs[0].imshow(np.asmatrix(matrix_train),\n",
    "              interpolation='nearest', origin='upper', cmap='Blues')\n",
    "axs[0].set_title(\"training kernel matrix\")\n",
    "axs[1].imshow(np.asmatrix(matrix_test),\n",
    "              interpolation='nearest', origin='upper', cmap='Reds')\n",
    "axs[1].set_title(\"testing kernel matrix\")\n",
    "print(matrix_train.shape)\n",
    "plt.show()"
   ]
  },
  {
   "cell_type": "code",
   "execution_count": 122,
   "id": "1b886027-0a34-453c-bc6e-212b71d62b07",
   "metadata": {},
   "outputs": [
    {
     "name": "stdout",
     "output_type": "stream",
     "text": [
      "accuracy (sim):  1.0\n",
      "[ True False False ... False  True False] [ True False False ... False  True False]\n"
     ]
    }
   ],
   "source": [
    "svc = SVC(kernel='precomputed')\n",
    "# train SVM\n",
    "svc.fit(matrix_train, label_train)\n",
    "\n",
    "# score SVM on training data\n",
    "y_predict = svc.predict(matrix_train)\n",
    "print('accuracy (sim): ', sum(y_predict == label_train)/(len(label_train)))\n",
    "\n",
    "print(label_train, y_predict)"
   ]
  },
  {
   "cell_type": "code",
   "execution_count": 123,
   "id": "52ba7315-4a52-4852-9e7d-3c9872af6b00",
   "metadata": {},
   "outputs": [],
   "source": [
    "hist=simulate(encode_circuit)"
   ]
  },
  {
   "cell_type": "code",
   "execution_count": null,
   "id": "c6c5e0b0-2a60-4604-81ad-c5d1af73a2d0",
   "metadata": {},
   "outputs": [],
   "source": []
  },
  {
   "cell_type": "code",
   "execution_count": null,
   "id": "4504332b-4850-40c2-be17-9a93d1275fef",
   "metadata": {},
   "outputs": [],
   "source": []
  },
  {
   "cell_type": "code",
   "execution_count": null,
   "id": "0f13aa8a-2470-4298-a60f-4e7ee5a2084c",
   "metadata": {},
   "outputs": [],
   "source": []
  },
  {
   "cell_type": "code",
   "execution_count": null,
   "id": "fedefece-336f-46d3-bfdd-402dd21f4a40",
   "metadata": {},
   "outputs": [],
   "source": []
  }
 ],
 "metadata": {
  "kernelspec": {
   "display_name": "Python 3 [Default]",
   "language": "python",
   "name": "python3"
  },
  "language_info": {
   "codemirror_mode": {
    "name": "ipython",
    "version": 3
   },
   "file_extension": ".py",
   "mimetype": "text/x-python",
   "name": "python",
   "nbconvert_exporter": "python",
   "pygments_lexer": "ipython3",
   "version": "3.9.10"
  }
 },
 "nbformat": 4,
 "nbformat_minor": 5
}
