{
 "cells": [
  {
   "cell_type": "markdown",
   "metadata": {
    "id": "B1ZX-i0W-Q5k"
   },
   "source": [
    "# iQuHACK 2023\n",
    "\n",
    "* Team name: HaQ\n",
    "\n",
    "We chose to tackle the IonQ remote challenge.\n",
    "\n",
    "This challenge had two major components: data encoding and decoding, and classification."
   ]
  },
  {
   "cell_type": "code",
   "execution_count": 1,
   "metadata": {
    "colab": {
     "base_uri": "https://localhost:8080/"
    },
    "id": "4jA8w04GAqx4",
    "outputId": "9bce1fbd-e27b-4a34-8620-da866b920d93"
   },
   "outputs": [],
   "source": [
    "# Preamble: install everything we need\n",
    " #!pip install qiskit numpy matplotlib scipy qiskit_machine_learning sklearn"
   ]
  },
  {
   "cell_type": "code",
   "execution_count": 2,
   "metadata": {
    "id": "Sq7gRsfhAgw-"
   },
   "outputs": [],
   "source": [
    "# Preamble: import everything we need\n",
    "import numpy as np\n",
    "import qiskit\n",
    "import matplotlib.pyplot as plt\n",
    "import scipy.fftpack\n",
    "import qiskit_machine_learning.neural_networks\n",
    "import qiskit_machine_learning.algorithms\n",
    "import sklearn\n",
    "import pickle"
   ]
  },
  {
   "cell_type": "code",
   "execution_count": 3,
   "metadata": {
    "id": "6k_cW2ZjQ2VE"
   },
   "outputs": [],
   "source": [
    "# Provided by IonQ\n",
    "def simulate(circuit: qiskit.QuantumCircuit) -> dict:\n",
    "    \"\"\"Simulate the circuit, give the state vector as the result.\"\"\"\n",
    "    backend = qiskit.BasicAer.get_backend('statevector_simulator')\n",
    "    job = qiskit.execute_function.execute(circuit, backend)\n",
    "    result = job.result()\n",
    "    state_vector = result.get_statevector()\n",
    "    \n",
    "    histogram = dict()\n",
    "    for i in range(len(state_vector)):\n",
    "        population = abs(state_vector[i]) ** 2\n",
    "        if population > 1e-9:\n",
    "            histogram[i] = population\n",
    "    \n",
    "    return histogram"
   ]
  },
  {
   "cell_type": "code",
   "execution_count": 4,
   "metadata": {
    "id": "jDLM8EpOZg5P"
   },
   "outputs": [],
   "source": [
    "# Helper functions\n",
    "def bin_array(num, m):\n",
    "    \"\"\"Convert a positive integer num into an m-bit bit vector\"\"\"\n",
    "    return np.array(list(np.binary_repr(num).zfill(m))).astype(np.int8)\n",
    "\n",
    "\n",
    "def shift_bit_length(x):\n",
    "    return 1<<(x-1).bit_length()"
   ]
  },
  {
   "cell_type": "markdown",
   "metadata": {
    "id": "8eqHpaJDAfww"
   },
   "source": [
    "## Encoding\n",
    "\n",
    "Our input data are images of clothes, as part of the MNIST fashion dataset. So, for an image of $N \\times N$ pixels, we consider some $N\\times N$ matrix $D$, such that $D_{ij}$ is the brightness of the pixel in position $(i, j)$, normalized to be in the $[0,1]$ range.\n",
    "\n",
    "It's easy to perform a straight-forward block-encoding of the matrix $D$, which\n",
    "we started by doing: we note that we want a transformation that acts as\n",
    "\n",
    "$$ \\def\\ket#1{\\vert{#1}\\rangle} \\ket{i} \\ket{j} \\ket{0} \\mapsto\n",
    "      \\ket{i} \\ket{j} (\\sqrt{D_{ij}} \\ket{0} + \\ldots \\ket{1}) $$\n",
    "\n",
    "which we can achieve with a controlled $R_y$ rotation on an auxilliary (the block-encoding) qubit, i.e.,\n",
    "\n",
    "$$ D = \\Pi_{i=1}^N \\Pi_{j=1}^N \\vert i \\rangle\\langle i \\vert \\otimes\n",
    "  \\vert j \\rangle \\langle j \\vert \\otimes R_y(2 \\arccos \\sqrt{D_{ij}})$$\n",
    "\n",
    "Let this block-encoding of $D$ be $U_D$.\n",
    "\n",
    "From this encoding, producing an FRQI encoding simply corresponds to applying\n",
    "$U_D$ to a uniform superposition on the possible input indices.\n",
    "\n",
    "$$ \\vert \\mbox{FRQI} \\rangle = U_D (H^{\\otimes n} \\vert 0^n \\rangle \\otimes\n",
    "  H^{\\otimes n} \\vert 0^n \\rangle) $$\n",
    "\n",
    "Then, decoding the image is just a matter of estimating the odds of measuring\n",
    "$0$ in the last register, given that we measured a particular index position in\n",
    "the first two registers:\n",
    "\n",
    "$$ \\tilde{D_{ij}} = \\mbox{Prob}[i \\oplus j \\oplus 0 | i \\oplus j] $$\n",
    "\n",
    "Since we provided as input a uniform superposition of indices, we measure a given index with uniform probability.\n",
    "\n",
    "We can see that this scheme works well:"
   ]
  },
  {
   "cell_type": "code",
   "execution_count": 5,
   "metadata": {
    "id": "lX3hMxN9EBDH"
   },
   "outputs": [],
   "source": [
    "def block_encoding(data):\n",
    "    \"\"\"Performs a block-encoding of the input data.\n",
    "    \n",
    "    Arguments:\n",
    "        data      A numpy array that describes an NxN image in black & white,\n",
    "                  with 0 corresponding to darkest, and 1 to brightest.\n",
    "    \n",
    "    Returns:\n",
    "        A qiskit quantum circuit block-encoding the data in an auxiliary qubit.\n",
    "    \"\"\"\n",
    "    # Check the dimensions of the input data\n",
    "    r, c = np.shape(data)\n",
    "    if r != c:\n",
    "        raise ValueError(\"Error: Please provide a square image.\")\n",
    "    \n",
    "    # Calculate how many qubits we'll need to represent indices into this data.\n",
    "    n_qubits = int(np.ceil(np.log2(r)))\n",
    "    print(f\"Log: considering {n_qubits} qubits to index image side {r}\")\n",
    "    \n",
    "    # Normalize the data to have infinity norm 1 (otherwise we can't BE it).\n",
    "    # Also, just in case, to be positive semidefinite.\n",
    "    data = (data + np.min(data)) / (np.max(data) - np.min(data))\n",
    "    \n",
    "    # What will hold our final BEing circuit.\n",
    "    qubits = qiskit.QuantumRegister(2*n_qubits+1)\n",
    "    circuit = qiskit.QuantumCircuit(qubits)\n",
    "\n",
    "    for index_i in range(r):\n",
    "        # Write i in binary.\n",
    "        i_bin_str = '{ind:0{q}b}'.format(q=n_qubits, ind=index_i)\n",
    "        i_binary = tuple(int(b) for b in i_bin_str)\n",
    "        \n",
    "        for index_j in range(c):\n",
    "            # Write j in binary.\n",
    "            j_bin_str = '{ind:0{q}b}'.format(q=n_qubits, ind=index_j)\n",
    "            j_binary = tuple(int(b) for b in j_bin_str)\n",
    "            \n",
    "            # We are going to implement the action of D as a rotation, so we need\n",
    "            # to know the ocrresponding angle.\n",
    "            # Note that cirq's definition of rx considers the angle to be\n",
    "            #  (arg)/2.\n",
    "            angle = 2. * np.arccos(np.sqrt(data[index_i, index_j]))\n",
    "            \n",
    "            # The rotation is controlled by the relevant index register qubits.\n",
    "            rotation = qiskit.circuit.library.RYGate(angle)\n",
    "            rotation = rotation.control(num_ctrl_qubits=2*n_qubits,\n",
    "                                        ctrl_state=(i_bin_str + j_bin_str)[::-1])\n",
    "            circuit.append(rotation, qubits)\n",
    "    \n",
    "    return circuit"
   ]
  },
  {
   "cell_type": "code",
   "execution_count": 6,
   "metadata": {
    "id": "JbuOI9RqGTqO"
   },
   "outputs": [],
   "source": [
    "def frqi_encode(data):\n",
    "    \"\"\"Performs an FRQI encoding of the input data.\n",
    "    \n",
    "    Arguments:\n",
    "        data      A numpy array that describes an NxN image in black & white,\n",
    "                  with 0 corresponding to darkest, and 1 to brightest.\n",
    "    \n",
    "    Returns:\n",
    "        A qiskit quantum circuit with an FRQI encoding of the data.\n",
    "    \"\"\"\n",
    "    be_circuit = block_encoding(data)\n",
    "    n_qubits = len(be_circuit.qubits)\n",
    "    diffusion_circuit = qiskit.QuantumCircuit(n_qubits)\n",
    "    for q_i in range(n_qubits-1):\n",
    "        diffusion_circuit.h(q_i)\n",
    "    diffusion_circuit.compose(be_circuit, inplace=True)\n",
    "    return diffusion_circuit"
   ]
  },
  {
   "cell_type": "code",
   "execution_count": 7,
   "metadata": {
    "colab": {
     "base_uri": "https://localhost:8080/",
     "height": 1000
    },
    "id": "31cmGUcZGFOo",
    "outputId": "bb7764f8-437b-47f1-bd3f-2ea48fab572a"
   },
   "outputs": [
    {
     "name": "stdout",
     "output_type": "stream",
     "text": [
      "Log: considering 2 qubits to index image side 4\n",
      "     ┌───┐                                                                 »\n",
      "q_0: ┤ H ├────o──────────o─────────────o─────────────o─────────────o───────»\n",
      "     ├───┤    │          │             │             │             │       »\n",
      "q_1: ┤ H ├────o──────────o─────────────o─────────────o─────────────■───────»\n",
      "     ├───┤    │          │             │             │             │       »\n",
      "q_2: ┤ H ├────o──────────o─────────────■─────────────■─────────────o───────»\n",
      "     ├───┤    │          │             │             │             │       »\n",
      "q_3: ┤ H ├────o──────────■─────────────o─────────────■─────────────o───────»\n",
      "     └───┘┌───┴───┐┌─────┴──────┐┌─────┴──────┐┌─────┴──────┐┌─────┴──────┐»\n",
      "q_4: ─────┤ Ry(0) ├┤ Ry(0.6435) ├┤ Ry(1.3694) ├┤ Ry(2.2143) ├┤ Ry(0.9273) ├»\n",
      "          └───────┘└────────────┘└────────────┘└────────────┘└────────────┘»\n",
      "«                                                                        »\n",
      "«q_0: ──────o─────────────o─────────────o────────────■───────────■───────»\n",
      "«           │             │             │            │           │       »\n",
      "«q_1: ──────■─────────────■─────────────■────────────o───────────o───────»\n",
      "«           │             │             │            │           │       »\n",
      "«q_2: ──────o─────────────■─────────────■────────────o───────────o───────»\n",
      "«           │             │             │            │           │       »\n",
      "«q_3: ──────■─────────────o─────────────■────────────o───────────■───────»\n",
      "«     ┌─────┴──────┐┌─────┴──────┐┌─────┴──────┐┌────┴────┐┌─────┴──────┐»\n",
      "«q_4: ┤ Ry(1.1593) ├┤ Ry(1.7722) ├┤ Ry(2.4981) ├┤ Ry(π/2) ├┤ Ry(1.7722) ├»\n",
      "«     └────────────┘└────────────┘└────────────┘└─────────┘└────────────┘»\n",
      "«                                                                          \n",
      "«q_0: ──────■───────────■──────────■─────────────■───────────■────────■────\n",
      "«           │           │          │             │           │        │    \n",
      "«q_1: ──────o───────────o──────────■─────────────■───────────■────────■────\n",
      "«           │           │          │             │           │        │    \n",
      "«q_2: ──────■───────────■──────────o─────────────o───────────■────────■────\n",
      "«           │           │          │             │           │        │    \n",
      "«q_3: ──────o───────────■──────────o─────────────■───────────o────────■────\n",
      "«     ┌─────┴──────┐┌───┴───┐┌─────┴──────┐┌─────┴──────┐┌───┴───┐┌───┴───┐\n",
      "«q_4: ┤ Ry(2.2143) ├┤ Ry(π) ├┤ Ry(2.2143) ├┤ Ry(2.4981) ├┤ Ry(π) ├┤ Ry(π) ├\n",
      "«     └────────────┘└───────┘└────────────┘└────────────┘└───────┘└───────┘\n"
     ]
    },
    {
     "data": {
      "image/png": "[encoded data removed]",
      "text/plain": [
       "<Figure size 640x480 with 1 Axes>"
      ]
     },
     "metadata": {},
     "output_type": "display_data"
    },
    {
     "data": {
      "image/png": "[encoded data removed]",
      "text/plain": [
       "<Figure size 640x480 with 1 Axes>"
      ]
     },
     "metadata": {},
     "output_type": "display_data"
    }
   ],
   "source": [
    "def test():\n",
    "    data = np.array([[1.0, 0.9, 0.6, 0.2],\n",
    "                     [0.8, 0.7, 0.4, 0.1],\n",
    "                     [0.5, 0.4, 0.2, 0.0],\n",
    "                     [0.2, 0.1, 0.0, 0.0]])\n",
    "    circuit = frqi_encode(data)\n",
    "    print(circuit)\n",
    "    histogram = simulate(circuit)\n",
    "\n",
    "    image_re = np.zeros(data.shape)\n",
    "    for i in range(4):\n",
    "        for j in range(4):\n",
    "            key = (i << 2) + j\n",
    "            key = '{:04b}'.format(key)\n",
    "            key = int(key[::-1], 2)\n",
    "            image_re[i, j] = histogram.get(key, 0.)\n",
    "\n",
    "    plt.imshow(data)\n",
    "    plt.show()\n",
    "    plt.imshow(image_re)\n",
    "    plt.show()\n",
    "\n",
    "test()\n",
    "del test"
   ]
  },
  {
   "cell_type": "markdown",
   "metadata": {
    "id": "NgCqqcXwD-co"
   },
   "source": [
    "### Doing better\n",
    "\n",
    "However, such a scheme requires one multi-controlled gate for each pixel of the \n",
    "image, i.e., if the image is $N \\times N$, it requires $N^2$ multi-controlled gates. Furthermore, each of these multi-controlled gates is controlled by every\n",
    "qubit in the indices register, meaning each gate has $2n$ controls. \n",
    "\n",
    "This was too demanding for our present case, so we took a different approach: instead of block-encoding (and the FRQI-encoding) the image itself, and inspired by, for example, the JPEG image format, we start by performing a Discrete Cosine Transformation on our input data.\n",
    "\n",
    "This results in many zeroed entries, or very small entries, in the data, that we can consider in a single global phase shift. For the remaining non-small entries, which are, in principle, much fewer than $N^2$, we can have a controlled rotation as before for the necessary offset.\n",
    "\n",
    "We further compress the input data by truncating high frequencies before we encode it into the quantum circuit."
   ]
  },
  {
   "cell_type": "code",
   "execution_count": 8,
   "metadata": {
    "id": "iPja6QmuSwXq"
   },
   "outputs": [],
   "source": [
    "def compress(image, size, eps=0):\n",
    "    \"\"\"Converts an image into its 2D-DCT, with some normalization.\"\"\"\n",
    "    a = scipy.fftpack.dctn(image)\n",
    "    comp_freqs = a[:size,:size]\n",
    "    max_freq = np.max(np.abs(comp_freqs))\n",
    "    return comp_freqs/max_freq, max_freq\n",
    "\n",
    "def decompress(freqs, scale, size):\n",
    "    \"\"\"Converts an image in 2D-DCT space back to real space.\"\"\"\n",
    "    new_freqs = np.zeros((size, size))\n",
    "    s = freqs.shape[0]\n",
    "    new_freqs[:s,:s] = freqs/scale\n",
    "    reconstructed_image = scipy.fftpack.idctn(new_freqs)\n",
    "    return reconstructed_image"
   ]
  },
  {
   "cell_type": "code",
   "execution_count": 9,
   "metadata": {
    "id": "dwgPuq3ZAZMq"
   },
   "outputs": [],
   "source": [
    "def encode(image, eps=1e-6):\n",
    "    if image.shape[0] != image.shape[1]:\n",
    "        raise ValueError('Image must be square.')\n",
    "    if np.min(image) < 0:\n",
    "        raise ValueError('Image cannot have negative entries.')\n",
    "    \n",
    "    image_side = image.shape[0]\n",
    "    n = int(np.ceil(np.log2(image_side)))\n",
    "    \n",
    "    q = qiskit.QuantumRegister(2*n+1)\n",
    "    ct= qiskit.QuantumCircuit(q)\n",
    "        \n",
    "    # The DCT maps onto [-1, 1]; since we'll be estimating probabilities,\n",
    "    # we need the domain to be [0, 1].\n",
    "    image /= np.max(np.abs(image))\n",
    "    image += 1\n",
    "    image /= 2\n",
    "    \n",
    "    ct.h([qi for qi in q][:-1])\n",
    "    \n",
    "    for i in range(len(image)):\n",
    "        for j in range(len(image[0])):\n",
    "            \n",
    "            aux_i = bin(i)[2:].zfill(n)\n",
    "            aux_j = bin(j)[2:].zfill(n)\n",
    "            \n",
    "            theta = (image[i,j] - 0.5)*np.pi/2\n",
    "            \n",
    "            if abs(theta)>eps:\n",
    "                rotation = qiskit.circuit.library.RYGate(2.*theta)\n",
    "                rotation = rotation.control(num_ctrl_qubits=2*n,\n",
    "                                            ctrl_state=(aux_i + aux_j))\n",
    "                ct.append(rotation, q)\n",
    "    ct.ry(2 * np.pi/4, q[-1])\n",
    "            \n",
    "    return ct"
   ]
  },
  {
   "cell_type": "code",
   "execution_count": 10,
   "metadata": {
    "id": "3-O7XIH6TITB"
   },
   "outputs": [],
   "source": [
    "def decode(histogram, image_side):\n",
    "    # This function considers that the histogram is actually the probabilities\n",
    "    # computed via the wavefunction.\n",
    "    index_reg_qubits = int(np.ceil(np.log2(image_side)))\n",
    "    total_qubits = 2*index_reg_qubits + 1\n",
    "    n_pixels = image_side**2\n",
    "\n",
    "    # The matix to which we'll place our reconstructed image...\n",
    "    data = np.zeros((image_side, image_side))\n",
    "    \n",
    "    for key in range(2**total_qubits):\n",
    "        arr = bin_array(key, total_qubits)\n",
    "        if arr[0]==0:\n",
    "            arr_1, arr_2 = np.split(arr[1:], 2)\n",
    "            c_1 = arr_1[::-1].dot(2**np.arange(arr_1.size)[::-1])\n",
    "            c_2 = arr_2[::-1].dot(2**np.arange(arr_2.size)[::-1])\n",
    "            data[c_2,c_1] = (4/np.pi) * np.arccos(np.sqrt(histogram.get(key,0.) * n_pixels)) - 1\n",
    "            #print(key, arr_1, arr_2, c_1, c_2)\n",
    "\n",
    "    return data"
   ]
  },
  {
   "cell_type": "code",
   "execution_count": 11,
   "metadata": {
    "colab": {
     "base_uri": "https://localhost:8080/",
     "height": 771
    },
    "id": "9EGJOGB7NaO6",
    "outputId": "9ef23155-c875-4954-a6ee-b9e5b5d9ef1e"
   },
   "outputs": [
    {
     "name": "stdout",
     "output_type": "stream",
     "text": [
      "      ┌───┐                                                                   \n",
      "q6_0: ┤ H ├─────o────────────■──────────────o──────────────■──────────────────\n",
      "      ├───┤     │            │              │              │                  \n",
      "q6_1: ┤ H ├─────o────────────o──────────────■──────────────■──────────────────\n",
      "      └───┘┌────┴────┐┌──────┴──────┐┌──────┴──────┐┌──────┴──────┐┌─────────┐\n",
      "q6_2: ─────┤ Ry(π/2) ├┤ Ry(0.61208) ├┤ Ry(0.65966) ├┤ Ry(0.17207) ├┤ Ry(π/2) ├\n",
      "           └─────────┘└─────────────┘└─────────────┘└─────────────┘└─────────┘\n"
     ]
    },
    {
     "data": {
      "image/png": "[encoded data removed]",
      "text/plain": [
       "<Figure size 640x480 with 1 Axes>"
      ]
     },
     "metadata": {},
     "output_type": "display_data"
    },
    {
     "data": {
      "image/png": "[encoded data removed]",
      "text/plain": [
       "<Figure size 640x480 with 1 Axes>"
      ]
     },
     "metadata": {},
     "output_type": "display_data"
    }
   ],
   "source": [
    "def test():\n",
    "    data = np.array([[1.0, 0.9, 0.6, 0.2],\n",
    "                        [0.8, 0.7, 0.4, 0.1],\n",
    "                        [0.5, 0.4, 0.2, 0.0],\n",
    "                        [0.2, 0.1, 0.0, 0.0]])\n",
    "\n",
    "    freqs, scale = compress(data, 2)\n",
    "    circuit=encode(freqs.copy(), eps=5e-2)\n",
    "    print(circuit)\n",
    "    histogram=simulate(circuit)\n",
    "    freqs_re=decode(histogram, freqs.shape[0])\n",
    "    image_re = decompress(freqs_re, scale, data.shape[0])\n",
    "\n",
    "    plt.imshow(data)\n",
    "    plt.show()\n",
    "    plt.imshow(image_re)\n",
    "    plt.show()\n",
    "\n",
    "test()\n",
    "del test"
   ]
  },
  {
   "cell_type": "markdown",
   "metadata": {
    "id": "DKWmZT7pabzA"
   },
   "source": [
    "As shown above, this encoding scheme saves us gate depth and width, and works well.\n",
    "\n",
    "We collected the relevant functions above into `submission_part1.py`."
   ]
  },
  {
   "cell_type": "markdown",
   "metadata": {
    "id": "pJegnGolahz1"
   },
   "source": [
    "## Classification\n",
    "\n",
    "Now that we have an encoding and decoding scheme, we moved onto classification.\n",
    "\n",
    "We chose to use a Quantum Convolutional Neural Network, for which Qiskit has already some facilities.\n",
    "\n",
    "As described by the [Qiskit documentation][qcnn], the convolutional layers and the pooling layers are of the following stucture:\n",
    "\n",
    "[qcnn]: https://qiskit.org/documentation/machine-learning/tutorials/11_quantum_convolutional_neural_networks.html"
   ]
  },
  {
   "cell_type": "code",
   "execution_count": 12,
   "metadata": {
    "colab": {
     "base_uri": "https://localhost:8080/"
    },
    "id": "iYOuerHgagmt",
    "outputId": "f5c8e528-2588-4d45-e26e-f6091312279b"
   },
   "outputs": [],
   "source": [
    "def conv_circuit(params):\n",
    "    target = qiskit.circuit.QuantumCircuit(2)\n",
    "    target.rz(-np.pi / 2, 1)\n",
    "    target.cx(1, 0)\n",
    "    target.rz(params[0], 0)\n",
    "    target.ry(params[1], 1)\n",
    "    target.cx(0, 1)\n",
    "    target.ry(params[2], 1)\n",
    "    target.cx(1, 0)\n",
    "    target.rz(np.pi / 2, 0)\n",
    "    return target\n",
    "\n",
    "def conv_layer(num_qubits, param_prefix, do_barrier=False):\n",
    "    qc = qiskit.circuit.QuantumCircuit(num_qubits,\n",
    "                                       name=\"Convolutional Layer\")\n",
    "    qubits = list(range(num_qubits))\n",
    "    param_index = 0\n",
    "    params = qiskit.circuit.ParameterVector(param_prefix,\n",
    "                                            length=num_qubits * 3)\n",
    "    for q1, q2 in zip(qubits[0::2], qubits[1::2]):\n",
    "        qc = qc.compose(\n",
    "            conv_circuit(params[param_index : (param_index + 3)]),\n",
    "            [q1, q2])\n",
    "        if do_barrier:\n",
    "            qc.barrier()\n",
    "        param_index += 3\n",
    "    for q1, q2 in zip(qubits[1::2], qubits[2::2] + [0]):\n",
    "        qc = qc.compose(\n",
    "            conv_circuit(params[param_index : (param_index + 3)]),\n",
    "            [q1, q2])\n",
    "        if do_barrier:\n",
    "            qc.barrier()\n",
    "        param_index += 3\n",
    "\n",
    "    qc_inst = qc.to_instruction()\n",
    "\n",
    "    qc = qiskit.circuit.QuantumCircuit(num_qubits)\n",
    "    qc.append(qc_inst, qubits)\n",
    "    return qc"
   ]
  },
  {
   "cell_type": "code",
   "execution_count": 13,
   "metadata": {},
   "outputs": [
    {
     "name": "stdout",
     "output_type": "stream",
     "text": [
      "Convolution gadget:\n",
      "                 ┌───┐┌──────────┐                 ┌───┐┌─────────┐\n",
      "q_0: ────────────┤ X ├┤ Rz(θ[0]) ├──■──────────────┤ X ├┤ Rz(π/2) ├\n",
      "     ┌──────────┐└─┬─┘├──────────┤┌─┴─┐┌──────────┐└─┬─┘└─────────┘\n",
      "q_1: ┤ Rz(-π/2) ├──■──┤ Ry(θ[1]) ├┤ X ├┤ Ry(θ[2]) ├──■─────────────\n",
      "     └──────────┘     └──────────┘└───┘└──────────┘                \n",
      "\n",
      "Convolution layer:\n",
      "                 ┌───┐┌──────────┐                 ┌───┐┌─────────┐ ░ »\n",
      "q_0: ────────────┤ X ├┤ Rz(θ[0]) ├──■──────────────┤ X ├┤ Rz(π/2) ├─░─»\n",
      "     ┌──────────┐└─┬─┘├──────────┤┌─┴─┐┌──────────┐└─┬─┘└─────────┘ ░ »\n",
      "q_1: ┤ Rz(-π/2) ├──■──┤ Ry(θ[1]) ├┤ X ├┤ Ry(θ[2]) ├──■──────────────░─»\n",
      "     └──────────┘     └──────────┘└───┘└──────────┘                 ░ »\n",
      "q_2: ───────────────────────────────────────────────────────────────░─»\n",
      "                                                                    ░ »\n",
      "q_3: ───────────────────────────────────────────────────────────────░─»\n",
      "                                                                    ░ »\n",
      "«                                                                    ░ »\n",
      "«q_0: ───────────────────────────────────────────────────────────────░─»\n",
      "«                                                                    ░ »\n",
      "«q_1: ───────────────────────────────────────────────────────────────░─»\n",
      "«                 ┌───┐┌──────────┐                 ┌───┐┌─────────┐ ░ »\n",
      "«q_2: ────────────┤ X ├┤ Rz(θ[3]) ├──■──────────────┤ X ├┤ Rz(π/2) ├─░─»\n",
      "«     ┌──────────┐└─┬─┘├──────────┤┌─┴─┐┌──────────┐└─┬─┘└─────────┘ ░ »\n",
      "«q_3: ┤ Rz(-π/2) ├──■──┤ Ry(θ[4]) ├┤ X ├┤ Ry(θ[5]) ├──■──────────────░─»\n",
      "«     └──────────┘     └──────────┘└───┘└──────────┘                 ░ »\n",
      "«                                                                    ░ »\n",
      "«q_0: ───────────────────────────────────────────────────────────────░─»\n",
      "«                 ┌───┐┌──────────┐                 ┌───┐┌─────────┐ ░ »\n",
      "«q_1: ────────────┤ X ├┤ Rz(θ[6]) ├──■──────────────┤ X ├┤ Rz(π/2) ├─░─»\n",
      "«     ┌──────────┐└─┬─┘├──────────┤┌─┴─┐┌──────────┐└─┬─┘└─────────┘ ░ »\n",
      "«q_2: ┤ Rz(-π/2) ├──■──┤ Ry(θ[7]) ├┤ X ├┤ Ry(θ[8]) ├──■──────────────░─»\n",
      "«     └──────────┘     └──────────┘└───┘└──────────┘                 ░ »\n",
      "«q_3: ───────────────────────────────────────────────────────────────░─»\n",
      "«                                                                    ░ »\n",
      "«     ┌──────────┐     ┌───────────┐┌───┐┌───────────┐                 ░ \n",
      "«q_0: ┤ Rz(-π/2) ├──■──┤ Ry(θ[10]) ├┤ X ├┤ Ry(θ[11]) ├──■──────────────░─\n",
      "«     └──────────┘  │  └───────────┘└─┬─┘└───────────┘  │              ░ \n",
      "«q_1: ──────────────┼─────────────────┼─────────────────┼──────────────░─\n",
      "«                   │                 │                 │              ░ \n",
      "«q_2: ──────────────┼─────────────────┼─────────────────┼──────────────░─\n",
      "«                 ┌─┴─┐ ┌──────────┐  │               ┌─┴─┐┌─────────┐ ░ \n",
      "«q_3: ────────────┤ X ├─┤ Rz(θ[9]) ├──■───────────────┤ X ├┤ Rz(π/2) ├─░─\n",
      "«                 └───┘ └──────────┘                  └───┘└─────────┘ ░ \n"
     ]
    }
   ],
   "source": [
    "def show_conv():\n",
    "    params = qiskit.circuit.ParameterVector(\"θ\", length=3)\n",
    "    circuit = conv_circuit(params)\n",
    "    print(\"Convolution gadget:\")\n",
    "    print(circuit)\n",
    "    print('')\n",
    "    print(\"Convolution layer:\")\n",
    "    circuit = conv_layer(4, \"θ\", True)\n",
    "    print(circuit.decompose())\n",
    "\n",
    "show_conv()\n",
    "del show_conv"
   ]
  },
  {
   "cell_type": "code",
   "execution_count": 14,
   "metadata": {
    "colab": {
     "base_uri": "https://localhost:8080/"
    },
    "id": "2pWZQ0LfbyBV",
    "outputId": "e190b323-77d7-4339-c153-9530651d4751"
   },
   "outputs": [],
   "source": [
    "def pool_circuit(params):\n",
    "    target = qiskit.circuit.QuantumCircuit(2)\n",
    "    target.rz(-np.pi / 2, 1)\n",
    "    target.cx(1, 0)\n",
    "    target.rz(params[0], 0)\n",
    "    target.ry(params[1], 1)\n",
    "    target.cx(0, 1)\n",
    "    target.ry(params[2], 1)\n",
    "\n",
    "    return target\n",
    "\n",
    "def pool_layer(sources, sinks, param_prefix, do_barrier=False):\n",
    "    num_qubits = len(sources) + len(sinks)\n",
    "    qc = qiskit.circuit.QuantumCircuit(num_qubits, name=\"Pooling Layer\")\n",
    "    param_index = 0\n",
    "    params = qiskit.circuit.ParameterVector(\n",
    "        param_prefix, length=num_qubits // 2 * 3)\n",
    "    for source, sink in zip(sources, sinks):\n",
    "        qc = qc.compose(\n",
    "            pool_circuit(params[param_index : (param_index + 3)]),\n",
    "            [source, sink])\n",
    "        if do_barrier:\n",
    "            qc.barrier()\n",
    "        param_index += 3\n",
    "\n",
    "    qc_inst = qc.to_instruction()\n",
    "\n",
    "    qc = qiskit.circuit.QuantumCircuit(num_qubits)\n",
    "    qc.append(qc_inst, range(num_qubits))\n",
    "    return qc\n"
   ]
  },
  {
   "cell_type": "code",
   "execution_count": 15,
   "metadata": {},
   "outputs": [
    {
     "name": "stdout",
     "output_type": "stream",
     "text": [
      "Pooling gadget:\n",
      "                 ┌───┐┌──────────┐                 \n",
      "q_0: ────────────┤ X ├┤ Rz(θ[0]) ├──■──────────────\n",
      "     ┌──────────┐└─┬─┘├──────────┤┌─┴─┐┌──────────┐\n",
      "q_1: ┤ Rz(-π/2) ├──■──┤ Ry(θ[1]) ├┤ X ├┤ Ry(θ[2]) ├\n",
      "     └──────────┘     └──────────┘└───┘└──────────┘\n",
      "\n",
      "Pooling layer:\n",
      "                 ┌───┐┌──────────┐                  ░                  »\n",
      "q_0: ────────────┤ X ├┤ Rz(θ[0]) ├──■───────────────░──────────────────»\n",
      "                 └─┬─┘└──────────┘  │               ░             ┌───┐»\n",
      "q_1: ──────────────┼────────────────┼───────────────░─────────────┤ X ├»\n",
      "     ┌──────────┐  │  ┌──────────┐┌─┴─┐┌──────────┐ ░             └─┬─┘»\n",
      "q_2: ┤ Rz(-π/2) ├──■──┤ Ry(θ[1]) ├┤ X ├┤ Ry(θ[2]) ├─░───────────────┼──»\n",
      "     └──────────┘     └──────────┘└───┘└──────────┘ ░ ┌──────────┐  │  »\n",
      "q_3: ───────────────────────────────────────────────░─┤ Rz(-π/2) ├──■──»\n",
      "                                                    ░ └──────────┘     »\n",
      "«                                   ░ \n",
      "«q_0: ──────────────────────────────░─\n",
      "«     ┌──────────┐                  ░ \n",
      "«q_1: ┤ Rz(θ[3]) ├──■───────────────░─\n",
      "«     └──────────┘  │               ░ \n",
      "«q_2: ──────────────┼───────────────░─\n",
      "«     ┌──────────┐┌─┴─┐┌──────────┐ ░ \n",
      "«q_3: ┤ Ry(θ[4]) ├┤ X ├┤ Ry(θ[5]) ├─░─\n",
      "«     └──────────┘└───┘└──────────┘ ░ \n"
     ]
    }
   ],
   "source": [
    "def show_pool():\n",
    "    params = qiskit.circuit.ParameterVector(\"θ\", length=3)\n",
    "    circuit = pool_circuit(params)\n",
    "    print('Pooling gadget:')\n",
    "    print(circuit)\n",
    "    print('')\n",
    "\n",
    "    sources = [0, 1]\n",
    "    sinks = [2, 3]\n",
    "    circuit = pool_layer(sources, sinks, \"θ\", True)\n",
    "    print('Pooling layer:')\n",
    "    print(circuit.decompose())\n",
    "\n",
    "show_pool()\n",
    "del show_pool"
   ]
  },
  {
   "cell_type": "markdown",
   "metadata": {},
   "source": [
    "To train the circuit, we de-biased the training data, and used the encoder circuit defined before and a QCNN."
   ]
  },
  {
   "cell_type": "code",
   "execution_count": 16,
   "metadata": {},
   "outputs": [],
   "source": [
    "# Load the images\n",
    "images=np.load('data/images.npy')\n",
    "labels=np.load('data/labels.npy')\n",
    "\n",
    "# De-bias them by subtracting the average pixel-by-pixel, and convert to\n",
    "# frequency space with the previously described compressions.\n",
    "ind = 500\n",
    "n = 100\n",
    "s = 4\n",
    "main_images = images[ind-n//2:ind+n//2]\n",
    "mean_image = np.mean(images, axis=0)\n",
    "main_images -= mean_image\n",
    "train_images = np.zeros((main_images.shape[0],s,s))\n",
    "scales = np.zeros(main_images.shape[0])\n",
    "for i, image in enumerate(main_images):\n",
    "    train_images[i], scales[i] = compress(image, s)\n",
    "mean_image = np.mean(train_images, axis=0)\n",
    "train_images -= mean_image\n",
    "train_images = train_images.reshape(n, -1)\n",
    "train_labels = labels[ind-n//2:ind+n//2].astype(int)*2-1\n",
    "\n",
    "# A circuit that's like our encoder, but with parameters\n",
    "def encode_par(parV, eps=1e-6):\n",
    "    image_side = int(np.sqrt(len(parV)))\n",
    "    n = int(np.log2(np.sqrt(len(parV))))\n",
    "    q = qiskit.QuantumRegister(shift_bit_length(2*n+1))\n",
    "    ct= qiskit.QuantumCircuit(q)\n",
    "    ct.h([qi for qi in q][:2*n])\n",
    "    for i in range(image_side):\n",
    "        for j in range(image_side):\n",
    "            \n",
    "            aux_i = bin(i)[2:].zfill(n)\n",
    "            aux_j = bin(j)[2:].zfill(n)\n",
    "            \n",
    "            theta = (parV[i*image_side+j]-0.5)*np.pi/2\n",
    "            \n",
    "            rotation = qiskit.circuit.library.RYGate(2.*theta)\n",
    "            rotation = rotation.control(num_ctrl_qubits=2*n,\n",
    "                                        ctrl_state=(aux_i + aux_j)[::-1])\n",
    "            ct.append(rotation, q[:2*n+1])\n",
    "                        \n",
    "    ct.ry(2 * np.pi/4, q[2*n])\n",
    "    return ct\n",
    "\n",
    "\n",
    "# Classifier circuit\n",
    "\n",
    "ip = qiskit.circuit.ParameterVector('ip',s*s)\n",
    "my_feature = encode_par(ip)\n",
    "\n",
    "ns = 8\n",
    "ansatz = qiskit.QuantumCircuit(ns, name=\"Ansatz\")\n",
    "\n",
    "# First Convolutional Layer\n",
    "ansatz.compose(conv_layer(8, \"с1\"), list(range(ns)), inplace=True)\n",
    "\n",
    "# First Pooling Layer\n",
    "ansatz.compose(pool_layer([0, 1, 2, 3], [4, 5, 6, 7], \"p1\"), list(range(ns)), inplace=True)\n",
    "\n",
    "# Second Convolutional Layer\n",
    "ansatz.compose(conv_layer(4, \"c2\"), list(range(ns-4,ns)), inplace=True)\n",
    "\n",
    "# Second Pooling Layer\n",
    "ansatz.compose(pool_layer([0, 1], [2, 3], \"p2\"), list(range(ns-4,ns)), inplace=True)\n",
    "\n",
    "# Third Convolutional Layer\n",
    "ansatz.compose(conv_layer(2, \"c3\"), list(range(ns-2,ns)), inplace=True)\n",
    "\n",
    "# Third Pooling Layer\n",
    "ansatz.compose(pool_layer([0], [1], \"p3\"), list(range(ns-2, ns)), inplace=True)\n",
    "\n",
    "# Combining the feature map and ansatz\n",
    "circuit = qiskit.circuit.QuantumCircuit(ns)\n",
    "circuit.compose(my_feature, range(ns), inplace=True)\n",
    "circuit.compose(ansatz, range(ns), inplace=True)\n",
    "\n",
    "observable = qiskit.quantum_info.SparsePauliOp.from_list([(\"Z\" + \"I\" * (ns-1), 1)])\n",
    "\n",
    "qnn = qiskit_machine_learning.neural_networks.EstimatorQNN(\n",
    "    circuit=circuit.decompose(),\n",
    "    observables=observable,\n",
    "    input_params=ip,\n",
    "    weight_params=ansatz.parameters,\n",
    ")"
   ]
  },
  {
   "cell_type": "code",
   "execution_count": 17,
   "metadata": {},
   "outputs": [],
   "source": [
    "# Some training code happened here..."
   ]
  },
  {
   "cell_type": "code",
   "execution_count": 18,
   "metadata": {},
   "outputs": [],
   "source": [
    "# As a result of the training, we got the following parameters:\n",
    "z  = np.array([ 4.40915235,  6.52873949,  2.62546124,  3.91387339,  4.9497765 ,\n",
    "                2.62739788,  2.0552807 ,  3.83929892,  3.93059645,  3.9862811 ,\n",
    "                1.73723624,  5.82758484,  3.35878987,  1.25370737,  2.40156679,\n",
    "                2.86229793,  3.85382256,  5.77348475,  3.4018505 ,  4.04055393,\n",
    "                5.60453714,  1.04502188,  2.11401349,  2.8923522 ,  2.71072237,\n",
    "                0.85170449,  3.8329942 ,  0.33914147,  4.89248346,  3.37171498,\n",
    "               -0.34056465,  7.47001984,  2.999777  ,  1.88050825,  4.4156078 ,\n",
    "                1.88007755,  2.00028482,  3.88661107,  3.63344216,  1.0027487 ,\n",
    "                3.09287266,  4.51187333,  5.46401369,  4.17056999,  3.96817476,\n",
    "                2.2028267 ,  4.26402264,  6.55991307,  4.2626135 ,  6.77456872,\n",
    "                5.54586944,  4.41026913,  2.26757171,  5.48302949,  1.89272335,\n",
    "                4.60376351,  2.95875064,  4.24336279,  3.24841277,  5.04963784,\n",
    "                4.91593089,  3.12195921,  3.07004934])"
   ]
  },
  {
   "cell_type": "code",
   "execution_count": 19,
   "metadata": {},
   "outputs": [
    {
     "name": "stdout",
     "output_type": "stream",
     "text": [
      "                 ┌───┐┌───────────────┐                        ┌───┐┌─────────┐»\n",
      "q_0: ────────────┤ X ├┤ Rz(1.0027487) ├───■────────────────────┤ X ├┤ Rz(π/2) ├»\n",
      "     ┌──────────┐└─┬─┘├───────────────┴┐┌─┴─┐┌────────────────┐└─┬─┘└─────────┘»\n",
      "q_1: ┤ Rz(-π/2) ├──■──┤ Ry(3.09287266) ├┤ X ├┤ Ry(4.51187333) ├──■─────────────»\n",
      "     └──────────┘┌───┐├────────────────┤└───┘└────────────────┘┌───┐┌─────────┐»\n",
      "q_2: ────────────┤ X ├┤ Rz(5.46401369) ├──■────────────────────┤ X ├┤ Rz(π/2) ├»\n",
      "     ┌──────────┐└─┬─┘├────────────────┤┌─┴─┐┌────────────────┐└─┬─┘└─────────┘»\n",
      "q_3: ┤ Rz(-π/2) ├──■──┤ Ry(4.17056999) ├┤ X ├┤ Ry(3.96817476) ├──■─────────────»\n",
      "     └──────────┘┌───┐├───────────────┬┘└───┘└────────────────┘┌───┐┌─────────┐»\n",
      "q_4: ────────────┤ X ├┤ Rz(2.2028267) ├───■────────────────────┤ X ├┤ Rz(π/2) ├»\n",
      "     ┌──────────┐└─┬─┘├───────────────┴┐┌─┴─┐┌────────────────┐└─┬─┘└─────────┘»\n",
      "q_5: ┤ Rz(-π/2) ├──■──┤ Ry(4.26402264) ├┤ X ├┤ Ry(6.55991307) ├──■─────────────»\n",
      "     └──────────┘┌───┐├───────────────┬┘└───┘└────────────────┘┌───┐┌─────────┐»\n",
      "q_6: ────────────┤ X ├┤ Rz(4.2626135) ├───■────────────────────┤ X ├┤ Rz(π/2) ├»\n",
      "     ┌──────────┐└─┬─┘├───────────────┴┐┌─┴─┐┌────────────────┐└─┬─┘└─────────┘»\n",
      "q_7: ┤ Rz(-π/2) ├──■──┤ Ry(6.77456872) ├┤ X ├┤ Ry(5.54586944) ├──■─────────────»\n",
      "     └──────────┘     └────────────────┘└───┘└────────────────┘                »\n",
      "«     ┌──────────┐          ┌────────────────┐     ┌───┐┌────────────────┐     »\n",
      "«q_0: ┤ Rz(-π/2) ├───────■──┤ Ry(3.12195921) ├─────┤ X ├┤ Ry(3.07004934) ├─────»\n",
      "«     └──────────┘┌───┐  │  ├────────────────┤     └─┬─┘└────────────────┘┌───┐»\n",
      "«q_1: ────────────┤ X ├──┼──┤ Rz(4.41026913) ├──■────┼────────────────────┤ X ├»\n",
      "«     ┌──────────┐└─┬─┘  │  ├────────────────┤┌─┴─┐  │  ┌────────────────┐└─┬─┘»\n",
      "«q_2: ┤ Rz(-π/2) ├──■────┼──┤ Ry(2.26757171) ├┤ X ├──┼──┤ Ry(5.48302949) ├──■──»\n",
      "«     └──────────┘┌───┐  │  ├────────────────┤└───┘  │  └────────────────┘┌───┐»\n",
      "«q_3: ────────────┤ X ├──┼──┤ Rz(1.89272335) ├──■────┼────────────────────┤ X ├»\n",
      "«     ┌──────────┐└─┬─┘  │  ├────────────────┤┌─┴─┐  │  ┌────────────────┐└─┬─┘»\n",
      "«q_4: ┤ Rz(-π/2) ├──■────┼──┤ Ry(4.60376351) ├┤ X ├──┼──┤ Ry(2.95875064) ├──■──»\n",
      "«     └──────────┘┌───┐  │  ├────────────────┤└───┘  │  └────────────────┘┌───┐»\n",
      "«q_5: ────────────┤ X ├──┼──┤ Rz(4.24336279) ├──■────┼────────────────────┤ X ├»\n",
      "«     ┌──────────┐└─┬─┘  │  ├────────────────┤┌─┴─┐  │  ┌────────────────┐└─┬─┘»\n",
      "«q_6: ┤ Rz(-π/2) ├──■────┼──┤ Ry(3.24841277) ├┤ X ├──┼──┤ Ry(5.04963784) ├──■──»\n",
      "«     └──────────┘     ┌─┴─┐├────────────────┤└───┘  │  └────────────────┘     »\n",
      "«q_7: ─────────────────┤ X ├┤ Rz(4.91593089) ├───────■─────────────────────────»\n",
      "«                      └───┘└────────────────┘                                 »\n",
      "«                         ┌───┐    ┌───────────────┐                  »\n",
      "«q_0: ──■─────────────────┤ X ├────┤ Rz(3.4018505) ├──────────────────»\n",
      "«       │  ┌─────────┐    └─┬─┘    └───────────────┘      ┌───┐       »\n",
      "«q_1: ──┼──┤ Rz(π/2) ├──────┼─────────────────────────────┤ X ├───────»\n",
      "«       │  └─────────┘      │            ┌───┐            └─┬─┘       »\n",
      "«q_2: ──┼───────────────────┼────────────┤ X ├──────────────┼─────────»\n",
      "«       │  ┌─────────┐      │            └─┬─┘              │         »\n",
      "«q_3: ──┼──┤ Rz(π/2) ├──────┼──────────────┼────────────────┼─────────»\n",
      "«       │  ├─────────┴┐     │              │                │         »\n",
      "«q_4: ──┼──┤ Rz(-π/2) ├─────■──────────────┼────────────────┼─────────»\n",
      "«       │  ├─────────┬┘┌──────────┐        │                │         »\n",
      "«q_5: ──┼──┤ Rz(π/2) ├─┤ Rz(-π/2) ├────────┼────────────────■─────────»\n",
      "«       │  ├─────────┴┐└──────────┘        │        ┌────────────────┐»\n",
      "«q_6: ──┼──┤ Rz(-π/2) ├────────────────────■────────┤ Ry(0.85170449) ├»\n",
      "«     ┌─┴─┐├─────────┬┘┌──────────┐                 └────────────────┘»\n",
      "«q_7: ┤ X ├┤ Rz(π/2) ├─┤ Rz(-π/2) ├───────────────────────────────────»\n",
      "«     └───┘└─────────┘ └──────────┘                                   »\n",
      "«                                                               »\n",
      "«q_0: ─────────────────────────────────────────────────■────────»\n",
      "«     ┌────────────────┐                               │        »\n",
      "«q_1: ┤ Rz(1.04502188) ├───────────────────────────────┼────────»\n",
      "«     ├────────────────┤                               │        »\n",
      "«q_2: ┤ Rz(2.71072237) ├─────────────■─────────────────┼────────»\n",
      "«     └────────────────┘┌───┐        │                 │        »\n",
      "«q_3: ──────────────────┤ X ├────────┼─────────────────┼────────»\n",
      "«     ┌────────────────┐└─┬─┘        │               ┌─┴─┐      »\n",
      "«q_4: ┤ Ry(4.04055393) ├──┼──────────┼───────────────┤ X ├──────»\n",
      "«     ├────────────────┤  │          │               └───┘      »\n",
      "«q_5: ┤ Ry(2.11401349) ├──┼──────────┼──────────────────────────»\n",
      "«     └────────────────┘  │        ┌─┴─┐       ┌───────────────┐»\n",
      "«q_6: ────────────────────┼────────┤ X ├───────┤ Ry(3.8329942) ├»\n",
      "«                         │  ┌─────┴───┴──────┐└───────────────┘»\n",
      "«q_7: ────────────────────■──┤ Ry(4.89248346) ├─────────────────»\n",
      "«                            └────────────────┘                 »\n",
      "«                                                                    »\n",
      "«q_0: ───────────────────────────────────────────────────────────────»\n",
      "«                                                                    »\n",
      "«q_1: ────────────────────■──────────────────────────────────────────»\n",
      "«                         │                                          »\n",
      "«q_2: ────────────────────┼──────────────────────────────────────────»\n",
      "«     ┌────────────────┐  │                                          »\n",
      "«q_3: ┤ Rz(0.33914147) ├──┼────■─────────────────────────────────────»\n",
      "«     ├────────────────┤  │    │                                ┌───┐»\n",
      "«q_4: ┤ Ry(5.60453714) ├──┼────┼────────────────────────────────┤ X ├»\n",
      "«     └────────────────┘┌─┴─┐  │  ┌───────────────┐ ┌──────────┐└─┬─┘»\n",
      "«q_5: ──────────────────┤ X ├──┼──┤ Ry(2.8923522) ├─┤ Rz(-π/2) ├──■──»\n",
      "«                       └───┘  │  └───────────────┘ └──────────┘┌───┐»\n",
      "«q_6: ─────────────────────────┼────────────────────────────────┤ X ├»\n",
      "«                            ┌─┴─┐┌────────────────┐┌──────────┐└─┬─┘»\n",
      "«q_7: ───────────────────────┤ X ├┤ Ry(3.37171498) ├┤ Rz(-π/2) ├──■──»\n",
      "«                            └───┘└────────────────┘└──────────┘     »\n",
      "«                                                                          »\n",
      "«q_0: ─────────────────────────────────────────────────────────────────────»\n",
      "«                                                                          »\n",
      "«q_1: ─────────────────────────────────────────────────────────────────────»\n",
      "«                                                                          »\n",
      "«q_2: ─────────────────────────────────────────────────────────────────────»\n",
      "«                                                                          »\n",
      "«q_3: ─────────────────────────────────────────────────────────────────────»\n",
      "«     ┌────────────────┐                       ┌───┐┌─────────┐┌──────────┐»\n",
      "«q_4: ┤ Rz(4.40915235) ├──■────────────────────┤ X ├┤ Rz(π/2) ├┤ Rz(-π/2) ├»\n",
      "«     ├────────────────┤┌─┴─┐┌────────────────┐└─┬─┘└─────────┘└──────────┘»\n",
      "«q_5: ┤ Ry(6.52873949) ├┤ X ├┤ Ry(2.62546124) ├──■─────────────────────────»\n",
      "«     ├────────────────┤└───┘└────────────────┘┌───┐┌─────────┐┌──────────┐»\n",
      "«q_6: ┤ Rz(3.91387339) ├──■────────────────────┤ X ├┤ Rz(π/2) ├┤ Rz(-π/2) ├»\n",
      "«     ├───────────────┬┘┌─┴─┐┌────────────────┐└─┬─┘└─────────┘└──────────┘»\n",
      "«q_7: ┤ Ry(4.9497765) ├─┤ X ├┤ Ry(2.62739788) ├──■─────────────────────────»\n",
      "«     └───────────────┘ └───┘└────────────────┘                            »\n",
      "«                                                                          »\n",
      "«q_0: ─────────────────────────────────────────────────────────────────────»\n",
      "«                                                                          »\n",
      "«q_1: ─────────────────────────────────────────────────────────────────────»\n",
      "«                                                                          »\n",
      "«q_2: ─────────────────────────────────────────────────────────────────────»\n",
      "«                                                                          »\n",
      "«q_3: ─────────────────────────────────────────────────────────────────────»\n",
      "«          ┌────────────────┐                       ┌───┐┌────────────────┐»\n",
      "«q_4: ──■──┤ Ry(1.73723624) ├───────────────────────┤ X ├┤ Ry(5.82758484) ├»\n",
      "«       │  └─────┬───┬──────┘┌───────────────┐      └─┬─┘└────────────────┘»\n",
      "«q_5: ──┼────────┤ X ├───────┤ Rz(2.0552807) ├───■────┼────────────────────»\n",
      "«       │        └─┬─┘       ├───────────────┴┐┌─┴─┐  │  ┌────────────────┐»\n",
      "«q_6: ──┼──────────■─────────┤ Ry(3.83929892) ├┤ X ├──┼──┤ Ry(3.93059645) ├»\n",
      "«     ┌─┴─┐┌───────────────┐ └────────────────┘└───┘  │  └────────────────┘»\n",
      "«q_7: ┤ X ├┤ Rz(3.9862811) ├──────────────────────────■────────────────────»\n",
      "«     └───┘└───────────────┘                                               »\n",
      "«                                                               »\n",
      "«q_0: ──────────────────────────────────────────────────────────»\n",
      "«                                                               »\n",
      "«q_1: ──────────────────────────────────────────────────────────»\n",
      "«                                                               »\n",
      "«q_2: ──────────────────────────────────────────────────────────»\n",
      "«                                                               »\n",
      "«q_3: ──────────────────────────────────────────────────────────»\n",
      "«                              ┌───┐    ┌─────────────────┐     »\n",
      "«q_4: ───────■─────────────────┤ X ├────┤ Rz(-0.34056465) ├─────»\n",
      "«     ┌───┐  │  ┌─────────┐    └─┬─┘    └─────────────────┘┌───┐»\n",
      "«q_5: ┤ X ├──┼──┤ Rz(π/2) ├──────┼─────────────────────────┤ X ├»\n",
      "«     └─┬─┘  │  ├─────────┴┐     │       ┌────────────────┐└─┬─┘»\n",
      "«q_6: ──■────┼──┤ Rz(-π/2) ├─────■───────┤ Ry(7.47001984) ├──┼──»\n",
      "«          ┌─┴─┐├─────────┬┘┌──────────┐ └────────────────┘  │  »\n",
      "«q_7: ─────┤ X ├┤ Rz(π/2) ├─┤ Rz(-π/2) ├─────────────────────■──»\n",
      "«          └───┘└─────────┘ └──────────┘                        »\n",
      "«                                                                           »\n",
      "«q_0: ──────────────────────────────────────────────────────────────────────»\n",
      "«                                                                           »\n",
      "«q_1: ──────────────────────────────────────────────────────────────────────»\n",
      "«                                                                           »\n",
      "«q_2: ──────────────────────────────────────────────────────────────────────»\n",
      "«                                                                           »\n",
      "«q_3: ──────────────────────────────────────────────────────────────────────»\n",
      "«                                                                           »\n",
      "«q_4: ────────■─────────────────────────────────────────────────────────────»\n",
      "«             │        ┌────────────────┐                                   »\n",
      "«q_5: ────────┼────────┤ Rz(1.88050825) ├──■────────────────────────────────»\n",
      "«           ┌─┴─┐      └┬──────────────┬┘  │                                »\n",
      "«q_6: ──────┤ X ├───────┤ Ry(2.999777) ├───┼────────────────────────────────»\n",
      "«     ┌─────┴───┴─────┐ └──────────────┘ ┌─┴─┐┌────────────────┐┌──────────┐»\n",
      "«q_7: ┤ Ry(4.4156078) ├──────────────────┤ X ├┤ Ry(1.88007755) ├┤ Rz(-π/2) ├»\n",
      "«     └───────────────┘                  └───┘└────────────────┘└──────────┘»\n",
      "«                                                                   »\n",
      "«q_0: ──────────────────────────────────────────────────────────────»\n",
      "«                                                                   »\n",
      "«q_1: ──────────────────────────────────────────────────────────────»\n",
      "«                                                                   »\n",
      "«q_2: ──────────────────────────────────────────────────────────────»\n",
      "«                                                                   »\n",
      "«q_3: ──────────────────────────────────────────────────────────────»\n",
      "«                                                                   »\n",
      "«q_4: ──────────────────────────────────────────────────────────────»\n",
      "«                                                                   »\n",
      "«q_5: ──────────────────────────────────────────────────────────────»\n",
      "«     ┌───┐┌────────────────┐                       ┌───┐┌─────────┐»\n",
      "«q_6: ┤ X ├┤ Rz(3.35878987) ├──■────────────────────┤ X ├┤ Rz(π/2) ├»\n",
      "«     └─┬─┘├────────────────┤┌─┴─┐┌────────────────┐└─┬─┘└─────────┘»\n",
      "«q_7: ──■──┤ Ry(1.25370737) ├┤ X ├┤ Ry(2.40156679) ├──■─────────────»\n",
      "«          └────────────────┘└───┘└────────────────┘                »\n",
      "«                                                                    »\n",
      "«q_0: ───────────────────────────────────────────────────────────────»\n",
      "«                                                                    »\n",
      "«q_1: ───────────────────────────────────────────────────────────────»\n",
      "«                                                                    »\n",
      "«q_2: ───────────────────────────────────────────────────────────────»\n",
      "«                                                                    »\n",
      "«q_3: ───────────────────────────────────────────────────────────────»\n",
      "«                                                                    »\n",
      "«q_4: ───────────────────────────────────────────────────────────────»\n",
      "«                                                                    »\n",
      "«q_5: ───────────────────────────────────────────────────────────────»\n",
      "«     ┌──────────┐     ┌────────────────┐┌───┐┌────────────────┐     »\n",
      "«q_6: ┤ Rz(-π/2) ├──■──┤ Ry(3.85382256) ├┤ X ├┤ Ry(5.77348475) ├──■──»\n",
      "«     └──────────┘┌─┴─┐├────────────────┤└─┬─┘└────────────────┘┌─┴─┐»\n",
      "«q_7: ────────────┤ X ├┤ Rz(2.86229793) ├──■────────────────────┤ X ├»\n",
      "«                 └───┘└────────────────┘                       └───┘»\n",
      "«                                                                          \n",
      "«q_0: ─────────────────────────────────────────────────────────────────────\n",
      "«                                                                          \n",
      "«q_1: ─────────────────────────────────────────────────────────────────────\n",
      "«                                                                          \n",
      "«q_2: ─────────────────────────────────────────────────────────────────────\n",
      "«                                                                          \n",
      "«q_3: ─────────────────────────────────────────────────────────────────────\n",
      "«                                                                          \n",
      "«q_4: ─────────────────────────────────────────────────────────────────────\n",
      "«                                                                          \n",
      "«q_5: ─────────────────────────────────────────────────────────────────────\n",
      "«                            ┌───┐┌────────────────┐                       \n",
      "«q_6: ───────────────────────┤ X ├┤ Rz(2.00028482) ├──■────────────────────\n",
      "«     ┌─────────┐┌──────────┐└─┬─┘├────────────────┤┌─┴─┐┌────────────────┐\n",
      "«q_7: ┤ Rz(π/2) ├┤ Rz(-π/2) ├──■──┤ Ry(3.88661107) ├┤ X ├┤ Ry(3.63344216) ├\n",
      "«     └─────────┘└──────────┘     └────────────────┘└───┘└────────────────┘\n"
     ]
    }
   ],
   "source": [
    "# Assign those parameters to our QNN\n",
    "filled_ansatz = ansatz.assign_parameters(z).decompose()\n",
    "print(filled_ansatz)"
   ]
  },
  {
   "cell_type": "code",
   "execution_count": 20,
   "metadata": {},
   "outputs": [],
   "source": [
    "output_optimized = qiskit.transpile(filled_ansatz,\n",
    "                                    basis_gates=['u','cx'],\n",
    "                                    optimization_level=3)"
   ]
  },
  {
   "cell_type": "code",
   "execution_count": 21,
   "metadata": {},
   "outputs": [
    {
     "name": "stdout",
     "output_type": "stream",
     "text": [
      "Operation count before transpilation:\n",
      "OrderedDict([('rz', 56), ('cx', 56), ('ry', 42)])\n",
      "Operation count after transpilation:\n",
      "OrderedDict([('u', 68), ('cx', 50)])\n"
     ]
    }
   ],
   "source": [
    "print('Operation count before transpilation:')\n",
    "print(filled_ansatz.count_ops())\n",
    "\n",
    "print('Operation count after transpilation:')\n",
    "print(output_optimized.count_ops())"
   ]
  },
  {
   "cell_type": "code",
   "execution_count": 22,
   "metadata": {},
   "outputs": [
    {
     "data": {
      "text/plain": [
       "'OPENQASM 2.0;\\ninclude \"qelib1.inc\";\\nqreg q[8];\\nrz(-pi/2) q[1];\\ncx q[1],q[0];\\nrz(1.0027487) q[0];\\nry(3.09287266) q[1];\\ncx q[0],q[1];\\nry(4.51187333) q[1];\\ncx q[1],q[0];\\nrz(pi/2) q[0];\\nrz(-pi/2) q[0];\\nrz(-pi/2) q[3];\\ncx q[3],q[2];\\nrz(5.46401369) q[2];\\nry(4.17056999) q[3];\\ncx q[2],q[3];\\nry(3.96817476) q[3];\\ncx q[3],q[2];\\nrz(pi/2) q[2];\\nrz(-pi/2) q[2];\\ncx q[2],q[1];\\nrz(4.41026913) q[1];\\nry(2.26757171) q[2];\\ncx q[1],q[2];\\nry(5.48302949) q[2];\\ncx q[2],q[1];\\nrz(pi/2) q[1];\\nrz(-pi/2) q[5];\\ncx q[5],q[4];\\nrz(2.2028267) q[4];\\nry(4.26402264) q[5];\\ncx q[4],q[5];\\nry(6.55991307) q[5];\\ncx q[5],q[4];\\nrz(pi/2) q[4];\\nrz(-pi/2) q[4];\\ncx q[4],q[3];\\nrz(1.89272335) q[3];\\nry(4.60376351) q[4];\\ncx q[3],q[4];\\nry(2.95875064) q[4];\\ncx q[4],q[3];\\nrz(pi/2) q[3];\\nrz(-pi/2) q[4];\\nrz(-pi/2) q[7];\\ncx q[7],q[6];\\nrz(4.2626135) q[6];\\nry(6.77456872) q[7];\\ncx q[6],q[7];\\nry(5.54586944) q[7];\\ncx q[7],q[6];\\ncx q[0],q[7];\\nry(3.12195921) q[0];\\nrz(pi/2) q[6];\\nrz(-pi/2) q[6];\\ncx q[6],q[5];\\nrz(4.24336279) q[5];\\nry(3.24841277) q[6];\\ncx q[5],q[6];\\nry(5.04963784) q[6];\\ncx q[6],q[5];\\nrz(pi/2) q[5];\\nrz(-pi/2) q[5];\\ncx q[5],q[1];\\nrz(1.04502188) q[1];\\nry(2.11401349) q[5];\\ncx q[1],q[5];\\nry(2.8923522) q[5];\\nrz(-pi/2) q[5];\\nrz(-pi/2) q[6];\\ncx q[6],q[2];\\nrz(2.71072237) q[2];\\nry(0.85170449) q[6];\\ncx q[2],q[6];\\nry(3.8329942) q[6];\\nrz(4.91593089) q[7];\\ncx q[7],q[0];\\nry(3.07004934) q[0];\\ncx q[0],q[7];\\ncx q[4],q[0];\\nrz(3.4018505) q[0];\\nry(4.04055393) q[4];\\ncx q[0],q[4];\\nry(5.60453714) q[4];\\ncx q[5],q[4];\\nrz(4.40915235) q[4];\\nry(6.52873949) q[5];\\ncx q[4],q[5];\\nry(2.62546124) q[5];\\ncx q[5],q[4];\\nrz(pi/2) q[4];\\nrz(-pi/2) q[4];\\nrz(pi/2) q[7];\\nrz(-pi/2) q[7];\\ncx q[7],q[3];\\nrz(0.33914147) q[3];\\nry(4.89248346) q[7];\\ncx q[3],q[7];\\nry(3.37171498) q[7];\\nrz(-pi/2) q[7];\\ncx q[7],q[6];\\nrz(3.91387339) q[6];\\nry(4.9497765) q[7];\\ncx q[6],q[7];\\nry(2.62739788) q[7];\\ncx q[7],q[6];\\ncx q[4],q[7];\\nry(1.73723624) q[4];\\nrz(pi/2) q[6];\\nrz(-pi/2) q[6];\\ncx q[6],q[5];\\nrz(2.0552807) q[5];\\nry(3.83929892) q[6];\\ncx q[5],q[6];\\nry(3.93059645) q[6];\\ncx q[6],q[5];\\nrz(pi/2) q[5];\\nrz(-pi/2) q[6];\\nrz(3.9862811) q[7];\\ncx q[7],q[4];\\nry(5.82758484) q[4];\\ncx q[4],q[7];\\ncx q[6],q[4];\\nrz(-0.34056465) q[4];\\nry(7.47001984) q[6];\\ncx q[4],q[6];\\nry(2.999777) q[6];\\nrz(pi/2) q[7];\\nrz(-pi/2) q[7];\\ncx q[7],q[5];\\nrz(1.88050825) q[5];\\nry(4.4156078) q[7];\\ncx q[5],q[7];\\nry(1.88007755) q[7];\\nrz(-pi/2) q[7];\\ncx q[7],q[6];\\nrz(3.35878987) q[6];\\nry(1.25370737) q[7];\\ncx q[6],q[7];\\nry(2.40156679) q[7];\\ncx q[7],q[6];\\nrz(pi/2) q[6];\\nrz(-pi/2) q[6];\\ncx q[6],q[7];\\nry(3.85382256) q[6];\\nrz(2.86229793) q[7];\\ncx q[7],q[6];\\nry(5.77348475) q[6];\\ncx q[6],q[7];\\nrz(pi/2) q[7];\\nrz(-pi/2) q[7];\\ncx q[7],q[6];\\nrz(2.00028482) q[6];\\nry(3.88661107) q[7];\\ncx q[6],q[7];\\nry(3.63344216) q[7];\\n'"
      ]
     },
     "execution_count": 22,
     "metadata": {},
     "output_type": "execute_result"
    }
   ],
   "source": [
    "# Save it to a .pickle file, to load it in submission_part2.\n",
    "with open('submission_classifier.pickle', 'wb') as outfile:\n",
    "    pickle.dump(filled_ansatz, outfile)\n",
    "\n",
    "filled_ansatz.qasm(filename='submission_classifier.qasm')"
   ]
  },
  {
   "cell_type": "markdown",
   "metadata": {},
   "source": [
    "## Testing our Results"
   ]
  },
  {
   "cell_type": "code",
   "execution_count": 23,
   "metadata": {},
   "outputs": [
    {
     "data": {
      "image/png": "[encoded data removed]",
      "text/plain": [
       "<Figure size 640x480 with 1 Axes>"
      ]
     },
     "metadata": {},
     "output_type": "display_data"
    },
    {
     "name": "stdout",
     "output_type": "stream",
     "text": [
      "True\n"
     ]
    },
    {
     "data": {
      "image/png": "[encoded data removed]",
      "text/plain": [
       "<Figure size 640x480 with 1 Axes>"
      ]
     },
     "metadata": {},
     "output_type": "display_data"
    },
    {
     "name": "stdout",
     "output_type": "stream",
     "text": [
      "True\n"
     ]
    }
   ],
   "source": [
    "import submission_part1\n",
    "import submission_part2\n",
    "\n",
    "im = images[0]\n",
    "l = labels[0]\n",
    "\n",
    "plt.imshow(im)\n",
    "plt.show()\n",
    "print(l)\n",
    "\n",
    "_, dec = submission_part1.run_part1(im)\n",
    "plt.imshow(dec)\n",
    "plt.show()\n",
    "\n",
    "_, ll = submission_part2.run_part2(im)\n",
    "print(ll)"
   ]
  },
  {
   "cell_type": "code",
   "execution_count": null,
   "metadata": {},
   "outputs": [],
   "source": []
  }
 ],
 "metadata": {
  "colab": {
   "provenance": []
  },
  "kernelspec": {
   "display_name": "Python 3.10.8 ('venv': venv)",
   "language": "python",
   "name": "python3"
  },
  "language_info": {
   "codemirror_mode": {
    "name": "ipython",
    "version": 3
   },
   "file_extension": ".py",
   "mimetype": "text/x-python",
   "name": "python",
   "nbconvert_exporter": "python",
   "pygments_lexer": "ipython3",
   "version": "3.10.8"
  },
  "vscode": {
   "interpreter": {
    "hash": "fd3af20f9597acedc42622847a7adbe16ca7b0a18189e839035cb22e62c10599"
   }
  }
 },
 "nbformat": 4,
 "nbformat_minor": 4
}
