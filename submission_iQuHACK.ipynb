{
 "cells": [
  {
   "cell_type": "markdown",
   "metadata": {
    "id": "B1ZX-i0W-Q5k"
   },
   "source": [
    "# iQuHACK 2023\n",
    "\n",
    "* Team name: HaQ\n",
    "\n",
    "We chose to tackle the IonQ remote challenge.\n",
    "\n",
    "This challenge had two major components: data encoding and decoding, and classification."
   ]
  },
  {
   "cell_type": "code",
   "execution_count": 124,
   "metadata": {
    "colab": {
     "base_uri": "https://localhost:8080/"
    },
    "id": "4jA8w04GAqx4",
    "outputId": "9bce1fbd-e27b-4a34-8620-da866b920d93"
   },
   "outputs": [
    {
     "name": "stdout",
     "output_type": "stream",
     "text": [
      "Looking in indexes: https://pypi.org/simple, https://us-python.pkg.dev/colab-wheels/public/simple/\n",
      "Requirement already satisfied: qiskit in /usr/local/lib/python3.8/dist-packages (0.40.0)\n",
      "Requirement already satisfied: numpy in /usr/local/lib/python3.8/dist-packages (1.21.6)\n",
      "Requirement already satisfied: matplotlib in /usr/local/lib/python3.8/dist-packages (3.2.2)\n",
      "Requirement already satisfied: scipy in /usr/local/lib/python3.8/dist-packages (1.7.3)\n",
      "Requirement already satisfied: qiskit-terra==0.23.0 in /usr/local/lib/python3.8/dist-packages (from qiskit) (0.23.0)\n",
      "Requirement already satisfied: qiskit-ibmq-provider==0.19.2 in /usr/local/lib/python3.8/dist-packages (from qiskit) (0.19.2)\n",
      "Requirement already satisfied: qiskit-aer==0.11.2 in /usr/local/lib/python3.8/dist-packages (from qiskit) (0.11.2)\n",
      "Requirement already satisfied: urllib3>=1.21.1 in /usr/local/lib/python3.8/dist-packages (from qiskit-ibmq-provider==0.19.2->qiskit) (1.24.3)\n",
      "Requirement already satisfied: requests-ntlm>=1.1.0 in /usr/local/lib/python3.8/dist-packages (from qiskit-ibmq-provider==0.19.2->qiskit) (1.1.0)\n",
      "Requirement already satisfied: websocket-client>=1.0.1 in /usr/local/lib/python3.8/dist-packages (from qiskit-ibmq-provider==0.19.2->qiskit) (1.5.0)\n",
      "Requirement already satisfied: requests>=2.19 in /usr/local/lib/python3.8/dist-packages (from qiskit-ibmq-provider==0.19.2->qiskit) (2.25.1)\n",
      "Requirement already satisfied: python-dateutil>=2.8.0 in /usr/local/lib/python3.8/dist-packages (from qiskit-ibmq-provider==0.19.2->qiskit) (2.8.2)\n",
      "Requirement already satisfied: websockets>=10.0 in /usr/local/lib/python3.8/dist-packages (from qiskit-ibmq-provider==0.19.2->qiskit) (10.4)\n",
      "Requirement already satisfied: psutil>=5 in /usr/local/lib/python3.8/dist-packages (from qiskit-terra==0.23.0->qiskit) (5.4.8)\n",
      "Requirement already satisfied: sympy>=1.3 in /usr/local/lib/python3.8/dist-packages (from qiskit-terra==0.23.0->qiskit) (1.7.1)\n",
      "Requirement already satisfied: ply>=3.10 in /usr/local/lib/python3.8/dist-packages (from qiskit-terra==0.23.0->qiskit) (3.11)\n",
      "Requirement already satisfied: symengine>=0.9 in /usr/local/lib/python3.8/dist-packages (from qiskit-terra==0.23.0->qiskit) (0.9.2)\n",
      "Requirement already satisfied: rustworkx>=0.12.0 in /usr/local/lib/python3.8/dist-packages (from qiskit-terra==0.23.0->qiskit) (0.12.1)\n",
      "Requirement already satisfied: dill>=0.3 in /usr/local/lib/python3.8/dist-packages (from qiskit-terra==0.23.0->qiskit) (0.3.6)\n",
      "Requirement already satisfied: stevedore>=3.0.0 in /usr/local/lib/python3.8/dist-packages (from qiskit-terra==0.23.0->qiskit) (4.1.1)\n",
      "Requirement already satisfied: kiwisolver>=1.0.1 in /usr/local/lib/python3.8/dist-packages (from matplotlib) (1.4.4)\n",
      "Requirement already satisfied: cycler>=0.10 in /usr/local/lib/python3.8/dist-packages (from matplotlib) (0.11.0)\n",
      "Requirement already satisfied: pyparsing!=2.0.4,!=2.1.2,!=2.1.6,>=2.0.1 in /usr/local/lib/python3.8/dist-packages (from matplotlib) (3.0.9)\n",
      "Requirement already satisfied: six>=1.5 in /usr/local/lib/python3.8/dist-packages (from python-dateutil>=2.8.0->qiskit-ibmq-provider==0.19.2->qiskit) (1.15.0)\n",
      "Requirement already satisfied: certifi>=2017.4.17 in /usr/local/lib/python3.8/dist-packages (from requests>=2.19->qiskit-ibmq-provider==0.19.2->qiskit) (2022.12.7)\n",
      "Requirement already satisfied: idna<3,>=2.5 in /usr/local/lib/python3.8/dist-packages (from requests>=2.19->qiskit-ibmq-provider==0.19.2->qiskit) (2.10)\n",
      "Requirement already satisfied: chardet<5,>=3.0.2 in /usr/local/lib/python3.8/dist-packages (from requests>=2.19->qiskit-ibmq-provider==0.19.2->qiskit) (4.0.0)\n",
      "Requirement already satisfied: ntlm-auth>=1.0.2 in /usr/local/lib/python3.8/dist-packages (from requests-ntlm>=1.1.0->qiskit-ibmq-provider==0.19.2->qiskit) (1.5.0)\n",
      "Requirement already satisfied: cryptography>=1.3 in /usr/local/lib/python3.8/dist-packages (from requests-ntlm>=1.1.0->qiskit-ibmq-provider==0.19.2->qiskit) (39.0.0)\n",
      "Requirement already satisfied: pbr!=2.1.0,>=2.0.0 in /usr/local/lib/python3.8/dist-packages (from stevedore>=3.0.0->qiskit-terra==0.23.0->qiskit) (5.11.1)\n",
      "Requirement already satisfied: mpmath>=0.19 in /usr/local/lib/python3.8/dist-packages (from sympy>=1.3->qiskit-terra==0.23.0->qiskit) (1.2.1)\n",
      "Requirement already satisfied: cffi>=1.12 in /usr/local/lib/python3.8/dist-packages (from cryptography>=1.3->requests-ntlm>=1.1.0->qiskit-ibmq-provider==0.19.2->qiskit) (1.15.1)\n",
      "Requirement already satisfied: pycparser in /usr/local/lib/python3.8/dist-packages (from cffi>=1.12->cryptography>=1.3->requests-ntlm>=1.1.0->qiskit-ibmq-provider==0.19.2->qiskit) (2.21)\n"
     ]
    }
   ],
   "source": [
    "# Preamble: install everything we need\n",
    "!pip install qiskit numpy matplotlib scipy"
   ]
  },
  {
   "cell_type": "code",
   "execution_count": 125,
   "metadata": {
    "id": "Sq7gRsfhAgw-"
   },
   "outputs": [],
   "source": [
    "# Preamble: import everything we need\n",
    "import numpy as np\n",
    "import qiskit\n",
    "import matplotlib.pyplot as plt\n",
    "import scipy.fftpack"
   ]
  },
  {
   "cell_type": "code",
   "execution_count": 126,
   "metadata": {
    "id": "6k_cW2ZjQ2VE"
   },
   "outputs": [],
   "source": [
    "# Provided by IonQ\n",
    "def simulate(circuit: qiskit.QuantumCircuit) -> dict:\n",
    "    \"\"\"Simulate the circuit, give the state vector as the result.\"\"\"\n",
    "    backend = qiskit.BasicAer.get_backend('statevector_simulator')\n",
    "    job = qiskit.execute_function.execute(circuit, backend)\n",
    "    result = job.result()\n",
    "    state_vector = result.get_statevector()\n",
    "    \n",
    "    histogram = dict()\n",
    "    for i in range(len(state_vector)):\n",
    "        population = abs(state_vector[i]) ** 2\n",
    "        if population > 1e-9:\n",
    "            histogram[i] = population\n",
    "    \n",
    "    return histogram"
   ]
  },
  {
   "cell_type": "code",
   "execution_count": 144,
   "metadata": {
    "id": "jDLM8EpOZg5P"
   },
   "outputs": [],
   "source": [
    "# Helper function\n",
    "def bin_array(num, m):\n",
    "    \"\"\"Convert a positive integer num into an m-bit bit vector\"\"\"\n",
    "    return np.array(list(np.binary_repr(num).zfill(m))).astype(np.int8)"
   ]
  },
  {
   "cell_type": "markdown",
   "metadata": {
    "id": "8eqHpaJDAfww"
   },
   "source": [
    "## Encoding\n",
    "\n",
    "Our input data are images of clothes, as part of the MNIST fashion dataset. So, for an image of $N \\times N$ pixels, we consider some $N\\times N$ matrix $D$, such that $D_{ij}$ is the brightness of the pixel in position $(i, j)$, normalized to be in the $[0,1]$ range.\n",
    "\n",
    "It's easy to perform a straight-forward block-encoding of the matrix $D$, which\n",
    "we started by doing: we note that we want a transformation that acts as\n",
    "\n",
    "$$ \\def\\ket#1{\\vert{#1}\\rangle} \\ket{i} \\ket{j} \\ket{0} \\mapsto\n",
    "      \\ket{i} \\ket{j} (\\sqrt{D_{ij}} \\ket{0} + \\ldots \\ket{1}) $$\n",
    "\n",
    "which we can achieve with a controlled $R_y$ rotation on an auxilliary (the block-encoding) qubit, i.e.,\n",
    "\n",
    "$$ D = \\Pi_{i=1}^N \\Pi_{j=1}^N \\vert i \\rangle\\langle i \\vert \\otimes\n",
    "  \\vert j \\rangle \\langle j \\vert \\otimes R_y(2 \\arccos \\sqrt{D_{ij}})$$\n",
    "\n",
    "Let this block-encoding of $D$ be $U_D$.\n",
    "\n",
    "From this encoding, producing an FRQI encoding simply corresponds to applying\n",
    "$U_D$ to a uniform superposition on the possible input indices.\n",
    "\n",
    "$$ \\vert \\mbox{FRQI} \\rangle = U_D (H^{\\otimes n} \\vert 0^n \\rangle \\otimes\n",
    "  H^{\\otimes n} \\vert 0^n \\rangle) $$\n",
    "\n",
    "Then, decoding the image is just a matter of estimating the odds of measuring\n",
    "$0$ in the last register, given that we measured a particular index position in\n",
    "the first two registers:\n",
    "\n",
    "$$ \\tilde{D_{ij}} = \\mbox{Prob}[i \\oplus j \\oplus 0 | i \\oplus j] $$\n",
    "\n",
    "Since we provided as input a uniform superposition of indices, we measure a given index with uniform probability.\n",
    "\n",
    "We can see that this scheme works well:"
   ]
  },
  {
   "cell_type": "code",
   "execution_count": 146,
   "metadata": {
    "id": "lX3hMxN9EBDH"
   },
   "outputs": [],
   "source": [
    "def block_encoding(data):\n",
    "    \"\"\"Performs a block-encoding of the input data.\n",
    "    \n",
    "    Arguments:\n",
    "        data      A numpy array that describes an NxN image in black & white,\n",
    "                  with 0 corresponding to darkest, and 1 to brightest.\n",
    "    \n",
    "    Returns:\n",
    "        A qiskit quantum circuit block-encoding the data in an auxiliary qubit.\n",
    "    \"\"\"\n",
    "    # Check the dimensions of the input data\n",
    "    r, c = np.shape(data)\n",
    "    if r != c:\n",
    "        raise ValueError(\"Error: Please provide a square image.\")\n",
    "    \n",
    "    # Calculate how many qubits we'll need to represent indices into this data.\n",
    "    n_qubits = int(np.ceil(np.log2(r)))\n",
    "    print(f\"Log: considering {n_qubits} qubits to index image side {r}\")\n",
    "    \n",
    "    # Normalize the data to have infinity norm 1 (otherwise we can't BE it).\n",
    "    # Also, just in case, to be positive semidefinite.\n",
    "    data = (data + np.min(data)) / (np.max(data) - np.min(data))\n",
    "    \n",
    "    # What will hold our final BEing circuit.\n",
    "    qubits = qiskit.QuantumRegister(2*n_qubits+1)\n",
    "    circuit = qiskit.QuantumCircuit(qubits)\n",
    "\n",
    "    for index_i in range(r):\n",
    "        # Write i in binary.\n",
    "        i_bin_str = '{ind:0{q}b}'.format(q=n_qubits, ind=index_i)\n",
    "        i_binary = tuple(int(b) for b in i_bin_str)\n",
    "        \n",
    "        for index_j in range(c):\n",
    "            # Write j in binary.\n",
    "            j_bin_str = '{ind:0{q}b}'.format(q=n_qubits, ind=index_j)\n",
    "            j_binary = tuple(int(b) for b in j_bin_str)\n",
    "            \n",
    "            # We are going to implement the action of D as a rotation, so we need\n",
    "            # to know the ocrresponding angle.\n",
    "            # Note that cirq's definition of rx considers the angle to be\n",
    "            #  (arg)/2.\n",
    "            angle = 2. * np.arccos(np.sqrt(data[index_i, index_j]))\n",
    "            \n",
    "            # The rotation is controlled by the relevant index register qubits.\n",
    "            rotation = qiskit.circuit.library.RYGate(angle)\n",
    "            rotation = rotation.control(num_ctrl_qubits=2*n_qubits,\n",
    "                                        ctrl_state=(i_bin_str + j_bin_str)[::-1])\n",
    "            circuit.append(rotation, qubits)\n",
    "    \n",
    "    return circuit"
   ]
  },
  {
   "cell_type": "code",
   "execution_count": 147,
   "metadata": {
    "id": "JbuOI9RqGTqO"
   },
   "outputs": [],
   "source": [
    "def frqi_encode(data):\n",
    "    \"\"\"Performs an FRQI encoding of the input data.\n",
    "    \n",
    "    Arguments:\n",
    "        data      A numpy array that describes an NxN image in black & white,\n",
    "                  with 0 corresponding to darkest, and 1 to brightest.\n",
    "    \n",
    "    Returns:\n",
    "        A qiskit quantum circuit with an FRQI encoding of the data.\n",
    "    \"\"\"\n",
    "    be_circuit = block_encoding(data)\n",
    "    n_qubits = len(be_circuit.qubits)\n",
    "    diffusion_circuit = qiskit.QuantumCircuit(n_qubits)\n",
    "    for q_i in range(n_qubits-1):\n",
    "        diffusion_circuit.h(q_i)\n",
    "    diffusion_circuit.compose(be_circuit, inplace=True)\n",
    "    return diffusion_circuit"
   ]
  },
  {
   "cell_type": "code",
   "execution_count": 148,
   "metadata": {
    "colab": {
     "base_uri": "https://localhost:8080/",
     "height": 1000
    },
    "id": "31cmGUcZGFOo",
    "outputId": "bb7764f8-437b-47f1-bd3f-2ea48fab572a"
   },
   "outputs": [
    {
     "name": "stdout",
     "output_type": "stream",
     "text": [
      "Log: considering 2 qubits to index image side 4\n",
      "     ┌───┐                                                                 »\n",
      "q_0: ┤ H ├────o──────────o─────────────o─────────────o─────────────o───────»\n",
      "     ├───┤    │          │             │             │             │       »\n",
      "q_1: ┤ H ├────o──────────o─────────────o─────────────o─────────────■───────»\n",
      "     ├───┤    │          │             │             │             │       »\n",
      "q_2: ┤ H ├────o──────────o─────────────■─────────────■─────────────o───────»\n",
      "     ├───┤    │          │             │             │             │       »\n",
      "q_3: ┤ H ├────o──────────■─────────────o─────────────■─────────────o───────»\n",
      "     └───┘┌───┴───┐┌─────┴──────┐┌─────┴──────┐┌─────┴──────┐┌─────┴──────┐»\n",
      "q_4: ─────┤ Ry(0) ├┤ Ry(0.6435) ├┤ Ry(1.3694) ├┤ Ry(2.2143) ├┤ Ry(0.9273) ├»\n",
      "          └───────┘└────────────┘└────────────┘└────────────┘└────────────┘»\n",
      "«                                                                        »\n",
      "«q_0: ──────o─────────────o─────────────o────────────■───────────■───────»\n",
      "«           │             │             │            │           │       »\n",
      "«q_1: ──────■─────────────■─────────────■────────────o───────────o───────»\n",
      "«           │             │             │            │           │       »\n",
      "«q_2: ──────o─────────────■─────────────■────────────o───────────o───────»\n",
      "«           │             │             │            │           │       »\n",
      "«q_3: ──────■─────────────o─────────────■────────────o───────────■───────»\n",
      "«     ┌─────┴──────┐┌─────┴──────┐┌─────┴──────┐┌────┴────┐┌─────┴──────┐»\n",
      "«q_4: ┤ Ry(1.1593) ├┤ Ry(1.7722) ├┤ Ry(2.4981) ├┤ Ry(π/2) ├┤ Ry(1.7722) ├»\n",
      "«     └────────────┘└────────────┘└────────────┘└─────────┘└────────────┘»\n",
      "«                                                                          \n",
      "«q_0: ──────■───────────■──────────■─────────────■───────────■────────■────\n",
      "«           │           │          │             │           │        │    \n",
      "«q_1: ──────o───────────o──────────■─────────────■───────────■────────■────\n",
      "«           │           │          │             │           │        │    \n",
      "«q_2: ──────■───────────■──────────o─────────────o───────────■────────■────\n",
      "«           │           │          │             │           │        │    \n",
      "«q_3: ──────o───────────■──────────o─────────────■───────────o────────■────\n",
      "«     ┌─────┴──────┐┌───┴───┐┌─────┴──────┐┌─────┴──────┐┌───┴───┐┌───┴───┐\n",
      "«q_4: ┤ Ry(2.2143) ├┤ Ry(π) ├┤ Ry(2.2143) ├┤ Ry(2.4981) ├┤ Ry(π) ├┤ Ry(π) ├\n",
      "«     └────────────┘└───────┘└────────────┘└────────────┘└───────┘└───────┘\n"
     ]
    },
    {
     "data": {
      "image/png": "[encoded data removed]",
      "text/plain": [
       "<Figure size 432x288 with 1 Axes>"
      ]
     },
     "metadata": {
      "needs_background": "light"
     },
     "output_type": "display_data"
    },
    {
     "data": {
      "image/png": "[encoded data removed]",
      "text/plain": [
       "<Figure size 432x288 with 1 Axes>"
      ]
     },
     "metadata": {
      "needs_background": "light"
     },
     "output_type": "display_data"
    }
   ],
   "source": [
    "def test():\n",
    "    data = np.array([[1.0, 0.9, 0.6, 0.2],\n",
    "                     [0.8, 0.7, 0.4, 0.1],\n",
    "                     [0.5, 0.4, 0.2, 0.0],\n",
    "                     [0.2, 0.1, 0.0, 0.0]])\n",
    "    circuit = frqi_encode(data)\n",
    "    print(circuit)\n",
    "    histogram = simulate(circuit)\n",
    "\n",
    "    image_re = np.zeros(data.shape)\n",
    "    for i in range(4):\n",
    "        for j in range(4):\n",
    "            key = (i << 2) + j\n",
    "            key = '{:04b}'.format(key)\n",
    "            key = int(key[::-1], 2)\n",
    "            image_re[i, j] = histogram.get(key, 0.)\n",
    "\n",
    "    plt.imshow(data)\n",
    "    plt.show()\n",
    "    plt.imshow(image_re)\n",
    "    plt.show()\n",
    "\n",
    "test()\n",
    "del test"
   ]
  },
  {
   "cell_type": "markdown",
   "metadata": {
    "id": "NgCqqcXwD-co"
   },
   "source": [
    "### Doing better\n",
    "\n",
    "However, such a scheme requires one multi-controlled gate for each pixel of the \n",
    "image, i.e., if the image is $N \\times N$, it requires $N^2$ multi-controlled gates. Furthermore, each of these multi-controlled gates is controlled by every\n",
    "qubit in the indices register, meaning each gate has $2n$ controls. \n",
    "\n",
    "This was too demanding for our present case, so we took a different approach: instead of block-encoding (and the FRQI-encoding) the image itself, and inspired by, for example, the JPEG image format, we start by performing a Discrete Cosine Transformation on our input data.\n",
    "\n",
    "This results in many zeroed entries, or very small entries, in the data, that we can consider in a single global phase shift. For the remaining non-small entries, which are, in principle, much fewer than $N^2$, we can have a controlled rotation as before for the necessary offset.\n",
    "\n",
    "We further compress the input data by truncating high frequencies before we encode it into the quantum circuit."
   ]
  },
  {
   "cell_type": "code",
   "execution_count": 130,
   "metadata": {
    "id": "iPja6QmuSwXq"
   },
   "outputs": [],
   "source": [
    "def compress(image, size, eps=0):\n",
    "    \"\"\"Converts an image into its 2D-DCT, with some normalization.\"\"\"\n",
    "    a = scipy.fftpack.dctn(image)\n",
    "    comp_freqs = a[:size,:size]\n",
    "    max_freq = np.max(np.abs(comp_freqs))\n",
    "    return comp_freqs/max_freq, max_freq\n",
    "\n",
    "def decompress(freqs, scale, size):\n",
    "    \"\"\"Converts an image in 2D-DCT space back to real space.\"\"\"\n",
    "    new_freqs = np.zeros((size, size))\n",
    "    s = freqs.shape[0]\n",
    "    new_freqs[:s,:s] = freqs/scale\n",
    "    reconstructed_image = scipy.fftpack.idctn(new_freqs)\n",
    "    return reconstructed_image"
   ]
  },
  {
   "cell_type": "code",
   "execution_count": 131,
   "metadata": {
    "id": "dwgPuq3ZAZMq"
   },
   "outputs": [],
   "source": [
    "def encode(image, eps=1e-6):\n",
    "    if image.shape[0] != image.shape[1]:\n",
    "        raise ValueError('Image must be square.')\n",
    "    if np.min(image) < 0:\n",
    "        raise ValueError('Image cannot have negative entries.')\n",
    "    \n",
    "    image_side = image.shape[0]\n",
    "    n = image_side.bit_length() - 1\n",
    "    \n",
    "    q = qiskit.QuantumRegister(2*n+1)\n",
    "    ct= qiskit.QuantumCircuit(q)\n",
    "        \n",
    "    # The DCT maps onto [-1, 1]; since we'll be estimating probabilities,\n",
    "    # we need the domain to be [0, 1].\n",
    "    image /= np.max(np.abs(image))\n",
    "    image += 1\n",
    "    image /= 2\n",
    "    \n",
    "    ct.h([qi for qi in q][:-1])\n",
    "    \n",
    "    for i in range(len(image)):\n",
    "        for j in range(len(image[0])):\n",
    "            \n",
    "            aux_i = bin(i)[2:].zfill(n)\n",
    "            aux_j = bin(j)[2:].zfill(n)\n",
    "            \n",
    "            theta = (image[i,j] - 0.5)*np.pi/2\n",
    "            \n",
    "            if abs(theta)>eps:\n",
    "                rotation = qiskit.circuit.library.RYGate(2.*theta)\n",
    "                rotation = rotation.control(num_ctrl_qubits=2*n,\n",
    "                                            ctrl_state=(aux_i + aux_j))\n",
    "                ct.append(rotation, q)\n",
    "    ct.ry(2 * np.pi/4, q[-1])\n",
    "            \n",
    "    return ct"
   ]
  },
  {
   "cell_type": "code",
   "execution_count": 132,
   "metadata": {
    "id": "3-O7XIH6TITB"
   },
   "outputs": [],
   "source": [
    "def decode(histogram, image_side):\n",
    "    # This function considers that the histogram is actually the probabilities\n",
    "    # computed via the wavefunction.\n",
    "    index_reg_qubits = int(np.ceil(np.log2(image_side)))\n",
    "    total_qubits = 2*index_reg_qubits + 1\n",
    "    n_pixels = image_side**2\n",
    "\n",
    "    # The matix to which we'll place our reconstructed image...\n",
    "    data = np.zeros((image_side, image_side))\n",
    "    \n",
    "    for key in range(2**total_qubits):\n",
    "        arr = bin_array(key, total_qubits)\n",
    "        if arr[0]==0:\n",
    "            arr_1, arr_2 = np.split(arr[1:], 2)\n",
    "            c_1 = arr_1[::-1].dot(2**np.arange(arr_1.size)[::-1])\n",
    "            c_2 = arr_2[::-1].dot(2**np.arange(arr_2.size)[::-1])\n",
    "            data[c_2,c_1] = (4/np.pi) * np.arccos(np.sqrt(histogram.get(key,0.) * n_pixels)) - 1\n",
    "            #print(key, arr_1, arr_2, c_1, c_2)\n",
    "\n",
    "    return data"
   ]
  },
  {
   "cell_type": "code",
   "execution_count": 133,
   "metadata": {
    "colab": {
     "base_uri": "https://localhost:8080/",
     "height": 771
    },
    "id": "9EGJOGB7NaO6",
    "outputId": "9ef23155-c875-4954-a6ee-b9e5b5d9ef1e"
   },
   "outputs": [
    {
     "name": "stdout",
     "output_type": "stream",
     "text": [
      "        ┌───┐                                                        »\n",
      "q171_0: ┤ H ├─────o────────────■──────────────o──────────────■───────»\n",
      "        ├───┤     │            │              │              │       »\n",
      "q171_1: ┤ H ├─────o────────────o──────────────■──────────────■───────»\n",
      "        └───┘┌────┴────┐┌──────┴──────┐┌──────┴──────┐┌──────┴──────┐»\n",
      "q171_2: ─────┤ Ry(π/2) ├┤ Ry(0.61208) ├┤ Ry(0.65966) ├┤ Ry(0.17207) ├»\n",
      "             └─────────┘└─────────────┘└─────────────┘└─────────────┘»\n",
      "«                   \n",
      "«q171_0: ───────────\n",
      "«                   \n",
      "«q171_1: ───────────\n",
      "«        ┌─────────┐\n",
      "«q171_2: ┤ Ry(π/2) ├\n",
      "«        └─────────┘\n"
     ]
    },
    {
     "data": {
      "image/png": "[encoded data removed]",
      "text/plain": [
       "<Figure size 432x288 with 1 Axes>"
      ]
     },
     "metadata": {
      "needs_background": "light"
     },
     "output_type": "display_data"
    },
    {
     "data": {
      "image/png": "[encoded data removed]",
      "text/plain": [
       "<Figure size 432x288 with 1 Axes>"
      ]
     },
     "metadata": {
      "needs_background": "light"
     },
     "output_type": "display_data"
    }
   ],
   "source": [
    "def test():\n",
    "    data = np.array([[1.0, 0.9, 0.6, 0.2],\n",
    "                        [0.8, 0.7, 0.4, 0.1],\n",
    "                        [0.5, 0.4, 0.2, 0.0],\n",
    "                        [0.2, 0.1, 0.0, 0.0]])\n",
    "\n",
    "    freqs, scale = compress(data, 2)\n",
    "    circuit=encode(freqs.copy(), eps=5e-2)\n",
    "    print(circuit)\n",
    "    histogram=simulate(circuit)\n",
    "    freqs_re=decode(histogram, freqs.shape[0])\n",
    "    image_re = decompress(freqs_re, scale, data.shape[0])\n",
    "\n",
    "    plt.imshow(data)\n",
    "    plt.show()\n",
    "    plt.imshow(image_re)\n",
    "    plt.show()\n",
    "\n",
    "test()\n",
    "del test"
   ]
  },
  {
   "cell_type": "markdown",
   "metadata": {
    "id": "DKWmZT7pabzA"
   },
   "source": [
    "As shown above, this encoding scheme saves us gate depth and width, and works well.\n",
    "\n",
    "We collected the relevant functions above into `submission_part1.py`."
   ]
  },
  {
   "cell_type": "markdown",
   "metadata": {
    "id": "pJegnGolahz1"
   },
   "source": [
    "## Classification\n",
    "\n",
    "Now that we have an encoding and decoding scheme, we moved onto classification.\n",
    "\n",
    "We chose to use a Quantum Convolutional Neural Network, for which Qiskit has already some facilities.\n",
    "\n",
    "As described by the [Qiskit documentation][qcnn], the convolutional layers and the pooling layers are of the following stucture:\n",
    "\n",
    "[qcnn]: https://qiskit.org/documentation/machine-learning/tutorials/11_quantum_convolutional_neural_networks.html"
   ]
  },
  {
   "cell_type": "code",
   "execution_count": 157,
   "metadata": {
    "colab": {
     "base_uri": "https://localhost:8080/"
    },
    "id": "iYOuerHgagmt",
    "outputId": "f5c8e528-2588-4d45-e26e-f6091312279b"
   },
   "outputs": [
    {
     "name": "stdout",
     "output_type": "stream",
     "text": [
      "Convolution gadget:\n",
      "                 ┌───┐┌──────────┐                 ┌───┐┌─────────┐\n",
      "q_0: ────────────┤ X ├┤ Rz(θ[0]) ├──■──────────────┤ X ├┤ Rz(π/2) ├\n",
      "     ┌──────────┐└─┬─┘├──────────┤┌─┴─┐┌──────────┐└─┬─┘└─────────┘\n",
      "q_1: ┤ Rz(-π/2) ├──■──┤ Ry(θ[1]) ├┤ X ├┤ Ry(θ[2]) ├──■─────────────\n",
      "     └──────────┘     └──────────┘└───┘└──────────┘                \n",
      "\n",
      "Convolution layer:\n",
      "                 ┌───┐┌──────────┐                 ┌───┐┌─────────┐ ░ »\n",
      "q_0: ────────────┤ X ├┤ Rz(θ[0]) ├──■──────────────┤ X ├┤ Rz(π/2) ├─░─»\n",
      "     ┌──────────┐└─┬─┘├──────────┤┌─┴─┐┌──────────┐└─┬─┘└─────────┘ ░ »\n",
      "q_1: ┤ Rz(-π/2) ├──■──┤ Ry(θ[1]) ├┤ X ├┤ Ry(θ[2]) ├──■──────────────░─»\n",
      "     └──────────┘     └──────────┘└───┘└──────────┘                 ░ »\n",
      "q_2: ───────────────────────────────────────────────────────────────░─»\n",
      "                                                                    ░ »\n",
      "q_3: ───────────────────────────────────────────────────────────────░─»\n",
      "                                                                    ░ »\n",
      "«                                                                    ░ »\n",
      "«q_0: ───────────────────────────────────────────────────────────────░─»\n",
      "«                                                                    ░ »\n",
      "«q_1: ───────────────────────────────────────────────────────────────░─»\n",
      "«                 ┌───┐┌──────────┐                 ┌───┐┌─────────┐ ░ »\n",
      "«q_2: ────────────┤ X ├┤ Rz(θ[3]) ├──■──────────────┤ X ├┤ Rz(π/2) ├─░─»\n",
      "«     ┌──────────┐└─┬─┘├──────────┤┌─┴─┐┌──────────┐└─┬─┘└─────────┘ ░ »\n",
      "«q_3: ┤ Rz(-π/2) ├──■──┤ Ry(θ[4]) ├┤ X ├┤ Ry(θ[5]) ├──■──────────────░─»\n",
      "«     └──────────┘     └──────────┘└───┘└──────────┘                 ░ »\n",
      "«                                                                    ░ »\n",
      "«q_0: ───────────────────────────────────────────────────────────────░─»\n",
      "«                 ┌───┐┌──────────┐                 ┌───┐┌─────────┐ ░ »\n",
      "«q_1: ────────────┤ X ├┤ Rz(θ[6]) ├──■──────────────┤ X ├┤ Rz(π/2) ├─░─»\n",
      "«     ┌──────────┐└─┬─┘├──────────┤┌─┴─┐┌──────────┐└─┬─┘└─────────┘ ░ »\n",
      "«q_2: ┤ Rz(-π/2) ├──■──┤ Ry(θ[7]) ├┤ X ├┤ Ry(θ[8]) ├──■──────────────░─»\n",
      "«     └──────────┘     └──────────┘└───┘└──────────┘                 ░ »\n",
      "«q_3: ───────────────────────────────────────────────────────────────░─»\n",
      "«                                                                    ░ »\n",
      "«     ┌──────────┐     ┌───────────┐┌───┐┌───────────┐                 ░ \n",
      "«q_0: ┤ Rz(-π/2) ├──■──┤ Ry(θ[10]) ├┤ X ├┤ Ry(θ[11]) ├──■──────────────░─\n",
      "«     └──────────┘  │  └───────────┘└─┬─┘└───────────┘  │              ░ \n",
      "«q_1: ──────────────┼─────────────────┼─────────────────┼──────────────░─\n",
      "«                   │                 │                 │              ░ \n",
      "«q_2: ──────────────┼─────────────────┼─────────────────┼──────────────░─\n",
      "«                 ┌─┴─┐ ┌──────────┐  │               ┌─┴─┐┌─────────┐ ░ \n",
      "«q_3: ────────────┤ X ├─┤ Rz(θ[9]) ├──■───────────────┤ X ├┤ Rz(π/2) ├─░─\n",
      "«                 └───┘ └──────────┘                  └───┘└─────────┘ ░ \n"
     ]
    }
   ],
   "source": [
    "def show_conv():\n",
    "    def conv_circuit(params):\n",
    "        target = qiskit.circuit.QuantumCircuit(2)\n",
    "        target.rz(-np.pi / 2, 1)\n",
    "        target.cx(1, 0)\n",
    "        target.rz(params[0], 0)\n",
    "        target.ry(params[1], 1)\n",
    "        target.cx(0, 1)\n",
    "        target.ry(params[2], 1)\n",
    "        target.cx(1, 0)\n",
    "        target.rz(np.pi / 2, 0)\n",
    "        return target\n",
    "\n",
    "    def conv_layer(num_qubits, param_prefix):\n",
    "        qc = qiskit.circuit.QuantumCircuit(num_qubits,\n",
    "                                           name=\"Convolutional Layer\")\n",
    "        qubits = list(range(num_qubits))\n",
    "        param_index = 0\n",
    "        params = qiskit.circuit.ParameterVector(param_prefix,\n",
    "                                                length=num_qubits * 3)\n",
    "        for q1, q2 in zip(qubits[0::2], qubits[1::2]):\n",
    "            qc = qc.compose(\n",
    "                conv_circuit(params[param_index : (param_index + 3)]),\n",
    "                [q1, q2])\n",
    "            qc.barrier()\n",
    "            param_index += 3\n",
    "        for q1, q2 in zip(qubits[1::2], qubits[2::2] + [0]):\n",
    "            qc = qc.compose(\n",
    "                conv_circuit(params[param_index : (param_index + 3)]),\n",
    "                [q1, q2])\n",
    "            qc.barrier()\n",
    "            param_index += 3\n",
    "\n",
    "        qc_inst = qc.to_instruction()\n",
    "\n",
    "        qc = qiskit.circuit.QuantumCircuit(num_qubits)\n",
    "        qc.append(qc_inst, qubits)\n",
    "        return qc\n",
    "\n",
    "    params = qiskit.circuit.ParameterVector(\"θ\", length=3)\n",
    "    circuit = conv_circuit(params)\n",
    "    print(\"Convolution gadget:\")\n",
    "    print(circuit)\n",
    "    print('')\n",
    "    print(\"Convolution layer:\")\n",
    "    circuit = conv_layer(4, \"θ\")\n",
    "    print(circuit.decompose())\n",
    "\n",
    "show_conv()\n",
    "del show_conv"
   ]
  },
  {
   "cell_type": "code",
   "execution_count": 158,
   "metadata": {
    "colab": {
     "base_uri": "https://localhost:8080/"
    },
    "id": "2pWZQ0LfbyBV",
    "outputId": "e190b323-77d7-4339-c153-9530651d4751"
   },
   "outputs": [
    {
     "name": "stdout",
     "output_type": "stream",
     "text": [
      "Pooling gadget:\n",
      "                 ┌───┐┌──────────┐                 \n",
      "q_0: ────────────┤ X ├┤ Rz(θ[0]) ├──■──────────────\n",
      "     ┌──────────┐└─┬─┘├──────────┤┌─┴─┐┌──────────┐\n",
      "q_1: ┤ Rz(-π/2) ├──■──┤ Ry(θ[1]) ├┤ X ├┤ Ry(θ[2]) ├\n",
      "     └──────────┘     └──────────┘└───┘└──────────┘\n",
      "\n",
      "Pooling layer:\n",
      "                 ┌───┐┌──────────┐                  ░                  »\n",
      "q_0: ────────────┤ X ├┤ Rz(θ[0]) ├──■───────────────░──────────────────»\n",
      "                 └─┬─┘└──────────┘  │               ░             ┌───┐»\n",
      "q_1: ──────────────┼────────────────┼───────────────░─────────────┤ X ├»\n",
      "     ┌──────────┐  │  ┌──────────┐┌─┴─┐┌──────────┐ ░             └─┬─┘»\n",
      "q_2: ┤ Rz(-π/2) ├──■──┤ Ry(θ[1]) ├┤ X ├┤ Ry(θ[2]) ├─░───────────────┼──»\n",
      "     └──────────┘     └──────────┘└───┘└──────────┘ ░ ┌──────────┐  │  »\n",
      "q_3: ───────────────────────────────────────────────░─┤ Rz(-π/2) ├──■──»\n",
      "                                                    ░ └──────────┘     »\n",
      "«                                   ░ \n",
      "«q_0: ──────────────────────────────░─\n",
      "«     ┌──────────┐                  ░ \n",
      "«q_1: ┤ Rz(θ[3]) ├──■───────────────░─\n",
      "«     └──────────┘  │               ░ \n",
      "«q_2: ──────────────┼───────────────░─\n",
      "«     ┌──────────┐┌─┴─┐┌──────────┐ ░ \n",
      "«q_3: ┤ Ry(θ[4]) ├┤ X ├┤ Ry(θ[5]) ├─░─\n",
      "«     └──────────┘└───┘└──────────┘ ░ \n"
     ]
    }
   ],
   "source": [
    "def show_pool():\n",
    "    def pool_circuit(params):\n",
    "        target = qiskit.circuit.QuantumCircuit(2)\n",
    "        target.rz(-np.pi / 2, 1)\n",
    "        target.cx(1, 0)\n",
    "        target.rz(params[0], 0)\n",
    "        target.ry(params[1], 1)\n",
    "        target.cx(0, 1)\n",
    "        target.ry(params[2], 1)\n",
    "\n",
    "        return target\n",
    "\n",
    "    def pool_layer(sources, sinks, param_prefix):\n",
    "        num_qubits = len(sources) + len(sinks)\n",
    "        qc = qiskit.circuit.QuantumCircuit(num_qubits, name=\"Pooling Layer\")\n",
    "        param_index = 0\n",
    "        params = qiskit.circuit.ParameterVector(\n",
    "            param_prefix, length=num_qubits // 2 * 3)\n",
    "        for source, sink in zip(sources, sinks):\n",
    "            qc = qc.compose(\n",
    "                pool_circuit(params[param_index : (param_index + 3)]),\n",
    "                [source, sink])\n",
    "            qc.barrier()\n",
    "            param_index += 3\n",
    "\n",
    "        qc_inst = qc.to_instruction()\n",
    "\n",
    "        qc = qiskit.circuit.QuantumCircuit(num_qubits)\n",
    "        qc.append(qc_inst, range(num_qubits))\n",
    "        return qc\n",
    "\n",
    "    params = qiskit.circuit.ParameterVector(\"θ\", length=3)\n",
    "    circuit = pool_circuit(params)\n",
    "    print('Pooling gadget:')\n",
    "    print(circuit)\n",
    "    print('')\n",
    "\n",
    "    sources = [0, 1]\n",
    "    sinks = [2, 3]\n",
    "    circuit = pool_layer(sources, sinks, \"θ\")\n",
    "    print('Pooling layer:')\n",
    "    print(circuit.decompose())\n",
    "\n",
    "show_pool()\n",
    "del show_pool\n"
   ]
  },
  {
   "cell_type": "code",
   "execution_count": null,
   "metadata": {
    "id": "Ae1Vt1PpcwOb"
   },
   "outputs": [],
   "source": []
  }
 ],
 "metadata": {
  "colab": {
   "provenance": []
  },
  "kernelspec": {
   "display_name": "Python 3 [Default]",
   "language": "python",
   "name": "python3"
  },
  "language_info": {
   "codemirror_mode": {
    "name": "ipython",
    "version": 3
   },
   "file_extension": ".py",
   "mimetype": "text/x-python",
   "name": "python",
   "nbconvert_exporter": "python",
   "pygments_lexer": "ipython3",
   "version": "3.9.10"
  }
 },
 "nbformat": 4,
 "nbformat_minor": 4
}
