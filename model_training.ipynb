{
 "cells": [
  {
   "cell_type": "markdown",
   "source": [
    "# Part 1"
   ],
   "metadata": {
    "id": "OKtqLLE5tSGq",
    "pycharm": {
     "name": "#%% md\n"
    }
   }
  },
  {
   "cell_type": "code",
   "execution_count": 67,
   "metadata": {
    "id": "kDaWVwOiWlgP",
    "executionInfo": {
     "status": "ok",
     "timestamp": 1674990971197,
     "user_tz": -420,
     "elapsed": 2,
     "user": {
      "displayName": "Nguyen Tuyen",
      "userId": "02227545183480780476"
     }
    },
    "pycharm": {
     "name": "#%%\n"
    }
   },
   "outputs": [],
   "source": [
    "import qiskit\n",
    "from qiskit import quantum_info\n",
    "from qiskit.execute_function import execute\n",
    "from qiskit import BasicAer\n",
    "import numpy as np\n",
    "import pickle\n",
    "import json\n",
    "import os\n",
    "from collections import Counter\n",
    "from sklearn.metrics import mean_squared_error\n",
    "from typing import Dict, List\n",
    "import matplotlib.pyplot as plt\n",
    "import cv2\n",
    "\n",
    "#define utility functions\n",
    "\n",
    "def simulate(circuit: qiskit.QuantumCircuit) -> dict:\n",
    "    \"\"\"Simulate the circuit, give the state vector as the result.\"\"\"\n",
    "    backend = BasicAer.get_backend('statevector_simulator')\n",
    "    job = execute(circuit, backend)\n",
    "    result = job.result()\n",
    "    state_vector = result.get_statevector()\n",
    "    \n",
    "    histogram = dict()\n",
    "    for i in range(len(state_vector)):\n",
    "        population = abs(state_vector[i]) ** 2\n",
    "        if population > 1e-9:\n",
    "            histogram[i] = population\n",
    "    \n",
    "    return histogram\n",
    "\n",
    "\n",
    "def histogram_to_category(histogram):\n",
    "    \"\"\"This function take a histogram representations of circuit execution results, and process into labels as described in \n",
    "    the problem description.\"\"\"\n",
    "    assert abs(sum(histogram.values())-1)<1e-8\n",
    "    positive=0\n",
    "    for key in histogram.keys():\n",
    "        digits = bin(int(key))[2:].zfill(20)\n",
    "        if digits[-1]=='0':\n",
    "            positive+=histogram[key]\n",
    "        \n",
    "    return positive\n",
    "\n",
    "\n",
    "def count_gates(circuit: qiskit.QuantumCircuit) -> Dict[int, int]:\n",
    "    \"\"\"Returns the number of gate operations with each number of qubits.\"\"\"\n",
    "    counter = Counter([len(gate[1]) for gate in circuit.data])\n",
    "    #feel free to comment out the following two lines. But make sure you don't have k-qubit gates in your circuit\n",
    "    #for k>2\n",
    "    for i in range(2,20):\n",
    "        assert counter[i]==0\n",
    "        \n",
    "    return counter\n",
    "\n",
    "\n",
    "def image_mse(image1,image2):\n",
    "    # Using sklearns mean squared error:\n",
    "    # https://scikit-learn.org/stable/modules/generated/sklearn.metrics.mean_squared_error.html\n",
    "    return mean_squared_error(image1, image2)"
   ]
  },
  {
   "cell_type": "markdown",
   "source": [
    "# Part 2"
   ],
   "metadata": {
    "id": "u3f1y6AeZLgB",
    "pycharm": {
     "name": "#%% md\n"
    }
   }
  },
  {
   "cell_type": "code",
   "source": [
    "from qiskit_machine_learning.circuit.library import RawFeatureVector\n",
    "from qiskit import QuantumCircuit, Aer\n",
    "from qiskit.circuit import Parameter, ParameterVector\n",
    "import numpy as np\n",
    "from sklearn.utils import shuffle\n",
    "import matplotlib.pyplot as plt\n",
    "import tensorflow as tf\n",
    "import cv2\n",
    "\n",
    "%matplotlib inline"
   ],
   "metadata": {
    "id": "E1iWcrkCdzfp",
    "executionInfo": {
     "status": "ok",
     "timestamp": 1674982476979,
     "user_tz": -420,
     "elapsed": 886,
     "user": {
      "displayName": "Nguyen Tuyen",
      "userId": "02227545183480780476"
     }
    },
    "pycharm": {
     "name": "#%%\n"
    }
   },
   "execution_count": 3,
   "outputs": []
  },
  {
   "cell_type": "code",
   "source": [
    "def amplitude_encode(img_data):\n",
    "    \n",
    "    # Calculate the RMS value\n",
    "    rms = np.sqrt(np.sum(np.sum(img_data**2, axis=1)))\n",
    "    \n",
    "    # Create normalized image\n",
    "    image_norm = []\n",
    "    for arr in img_data:\n",
    "        for ele in arr:\n",
    "            image_norm.append(ele / rms)\n",
    "        \n",
    "    # Return the normalized image as a numpy array\n",
    "    return np.array(image_norm)"
   ],
   "metadata": {
    "id": "AbDRvNTT0g8K",
    "executionInfo": {
     "status": "ok",
     "timestamp": 1674982477490,
     "user_tz": -420,
     "elapsed": 5,
     "user": {
      "displayName": "Nguyen Tuyen",
      "userId": "02227545183480780476"
     }
    },
    "pycharm": {
     "name": "#%%\n"
    }
   },
   "execution_count": 5,
   "outputs": []
  },
  {
   "cell_type": "code",
   "source": [
    "\n",
    "def preprocess_image(images):\n",
    "    images_norm = []\n",
    "    for i in range(images.shape[0]):\n",
    "        im = cv2.resize(images[i], dsize=(16, 16))\n",
    "        norm = amplitude_encode(im)\n",
    "        images_norm.append(norm)\n",
    "    return np.stack(images_norm, axis=0)\n",
    "preprocess_images = preprocess_image(images)\n",
    "preprocess_images.shape"
   ],
   "metadata": {
    "colab": {
     "base_uri": "https://localhost:8080/"
    },
    "id": "WJEM9XLLu8ZB",
    "executionInfo": {
     "status": "ok",
     "timestamp": 1674982486566,
     "user_tz": -420,
     "elapsed": 8222,
     "user": {
      "displayName": "Nguyen Tuyen",
      "userId": "02227545183480780476"
     }
    },
    "outputId": "f276e3d1-8865-47bc-a69e-2c4367ffa6c3",
    "pycharm": {
     "name": "#%%\n"
    }
   },
   "execution_count": 6,
   "outputs": [
    {
     "output_type": "execute_result",
     "data": {
      "text/plain": [
       "(2000, 256)"
      ]
     },
     "metadata": {},
     "execution_count": 6
    }
   ]
  },
  {
   "cell_type": "code",
   "source": [
    "labels = np.array(labels*1)\n",
    "print(np.unique(labels, return_counts=True))"
   ],
   "metadata": {
    "colab": {
     "base_uri": "https://localhost:8080/"
    },
    "id": "zm6s_3yRdziP",
    "executionInfo": {
     "status": "ok",
     "timestamp": 1674982486567,
     "user_tz": -420,
     "elapsed": 8,
     "user": {
      "displayName": "Nguyen Tuyen",
      "userId": "02227545183480780476"
     }
    },
    "outputId": "bccc69da-c1d1-46ae-aecb-4d5ff2da5b06",
    "pycharm": {
     "name": "#%%\n"
    }
   },
   "execution_count": 7,
   "outputs": [
    {
     "output_type": "stream",
     "name": "stdout",
     "text": [
      "(array([0, 1]), array([1500,  500]))\n"
     ]
    }
   ]
  },
  {
   "cell_type": "code",
   "source": [
    "def filter_data(x, y):\n",
    "    x_filtered = []\n",
    "    y_filtered = []\n",
    "    for i in range(2):\n",
    "        keep = (y == i)\n",
    "        x_i, y_i = x[keep], y[keep]\n",
    "\n",
    "        \n",
    "        x_i = x_i[:20]\n",
    "        y_i = y_i[:20]\n",
    "\n",
    "        x_filtered.append(x_i)\n",
    "        y_filtered.append(y_i)\n",
    "\n",
    "    \n",
    "\n",
    "    return np.concatenate(x_filtered, axis=0), np.concatenate(y_filtered, axis=0)\n",
    "\n",
    "x_filtered, y_filtered = filter_data(preprocess_images, labels)\n",
    "print(x_filtered.shape)\n",
    "print(np.unique(y_filtered, return_counts=True))"
   ],
   "metadata": {
    "colab": {
     "base_uri": "https://localhost:8080/"
    },
    "id": "fy7-o80lMgRL",
    "executionInfo": {
     "status": "ok",
     "timestamp": 1674982486567,
     "user_tz": -420,
     "elapsed": 6,
     "user": {
      "displayName": "Nguyen Tuyen",
      "userId": "02227545183480780476"
     }
    },
    "outputId": "5354ec5f-eeb4-4084-abef-b1a42d9189d2",
    "pycharm": {
     "name": "#%%\n"
    }
   },
   "execution_count": 8,
   "outputs": [
    {
     "output_type": "stream",
     "name": "stdout",
     "text": [
      "(40, 256)\n",
      "(array([0, 1]), array([20, 20]))\n"
     ]
    }
   ]
  },
  {
   "cell_type": "code",
   "source": [
    "from sklearn.model_selection import train_test_split\n",
    "X_train, X_test, y_train, y_test = train_test_split(x_filtered, y_filtered, test_size=0.2, shuffle=True, random_state=0)\n",
    "print(X_train.shape)\n",
    "print(X_test.shape)\n",
    "print(np.unique(y_train, return_counts=True))\n",
    "print(np.unique(y_test, return_counts=True))"
   ],
   "metadata": {
    "colab": {
     "base_uri": "https://localhost:8080/"
    },
    "id": "FIPiV7M4myW5",
    "executionInfo": {
     "status": "ok",
     "timestamp": 1674982486567,
     "user_tz": -420,
     "elapsed": 4,
     "user": {
      "displayName": "Nguyen Tuyen",
      "userId": "02227545183480780476"
     }
    },
    "outputId": "4a220b45-9c77-4c1c-82a4-9d238af66e26",
    "pycharm": {
     "name": "#%%\n"
    }
   },
   "execution_count": 9,
   "outputs": [
    {
     "output_type": "stream",
     "name": "stdout",
     "text": [
      "(32, 256)\n",
      "(8, 256)\n",
      "(array([0, 1]), array([16, 16]))\n",
      "(array([0, 1]), array([4, 4]))\n"
     ]
    }
   ]
  },
  {
   "cell_type": "code",
   "source": [
    "def encode_image_part2():\n",
    "    # NOTE: can actually resize the image to make it larger i.e. use n = 32\n",
    "    # n = 16\n",
    "\n",
    "    # im = cv2.resize(image, dsize=(n, n))\n",
    "\n",
    "    # image_norm = amplitude_encode(im)\n",
    "    data_qb = 8  # math.log2(n*n)\n",
    "    anc_qb = 1\n",
    "    total_qb = data_qb + anc_qb\n",
    "\n",
    "    # Initialize the amplitude permutation unitary\n",
    "    D2n_1 = np.roll(np.identity(2**total_qb), 1, axis=1)\n",
    "\n",
    "    ancilla = qiskit.QuantumCircuit(1)\n",
    "    amp_cir = RawFeatureVector(256)\n",
    "    \n",
    "    qc = qiskit.QuantumCircuit(total_qb)\n",
    "    qc.append(ancilla.to_instruction(), list(range(1)))\n",
    "    qc.append(amp_cir.to_instruction(), list(range(1, total_qb)))\n",
    "   \n",
    "    # qc.initialize(image, range(1, total_qb))\n",
    "    qc.h(0)\n",
    "    qc.unitary(D2n_1, range(total_qb))\n",
    "    qc.h(0)\n",
    "    # display(qc.draw('mpl', fold=-1))\n",
    "    return qc"
   ],
   "metadata": {
    "id": "ZjbvFp_Au8cI",
    "executionInfo": {
     "status": "ok",
     "timestamp": 1674982489445,
     "user_tz": -420,
     "elapsed": 539,
     "user": {
      "displayName": "Nguyen Tuyen",
      "userId": "02227545183480780476"
     }
    },
    "pycharm": {
     "name": "#%%\n"
    }
   },
   "execution_count": 10,
   "outputs": []
  },
  {
   "cell_type": "code",
   "source": [
    "import itertools\n",
    "\n",
    "# def entangler(bits, entangling_arrangement=\"chain\", type_entangles=\"cnot\"):\n",
    "#         circuit = qiskit.QuantumCircuit(bits)\n",
    "#         if entangling_arrangement == \"chain\":\n",
    "#             index = [[2 * j, 2 * j + 1] for j in range(bits // 2)] + [\n",
    "#                 [2 * j + 1, 2 * j + 2] for j in range((bits - 1) // 2)]\n",
    "#         elif entangling_arrangement == \"all\":\n",
    "#             index = list(itertools.chain(*[[np.random.permutation([i, j]) for j in range(i + 1, bits)] for i in range(bits) - 1)]))\n",
    "#         for this_bits, next_bits in index:\n",
    "#             if this_bits < next_bits:\n",
    "#                 a = this_bits\n",
    "#                 b = next_bits\n",
    "#             else:\n",
    "#                 a = next_bits\n",
    "#                 b = this_bits\n",
    "#             if type_entangles == 'cnot':\n",
    "#                 circuit.cnot(bits[a], bits[b])\n",
    "#             elif type_entangles == 'cphase':\n",
    "#                 circuit.cp(np.pi, bits[a], bits[b])\n",
    "#         return circuit\n",
    "\n",
    "def layerX(bits, params=None, gen_params=None):\n",
    "        \"\"\"\n",
    "        if params = None, a gen_params function should be used\n",
    "        \"\"\"\n",
    "        circuit = qiskit.QuantumCircuit(bits)\n",
    "        for i, qubit in enumerate(range(bits)):\n",
    "            if len(params)==0:\n",
    "                if gen_params == None:\n",
    "                    raise ValueError(\"gen_params function is None. Should pass a param generating function\")\n",
    "                circuit.rx(gen_params(learning_params), qubit)\n",
    "            else:\n",
    "                circuit.rx(params[i], qubit)\n",
    "        return circuit\n",
    "\n",
    "def layerY(bits, params=None, gen_params=None):\n",
    "        \"\"\"\n",
    "        if params = None, a gen_params function should be used\n",
    "        \"\"\"\n",
    "        circuit = qiskit.QuantumCircuit(bits)\n",
    "        for i, qubit in enumerate(range(bits)):\n",
    "            if len(params)==0:\n",
    "                if gen_params == None:\n",
    "                    raise ValueError(\"gen_params function is None. Should pass a param generating function\")\n",
    "                circuit.ry(gen_params(learning_params), qubit)\n",
    "            else:\n",
    "                circuit.ry(params[i], qubit)\n",
    "        return circuit\n",
    "\n",
    "def layerZ(bits, params=None, gen_params=None):\n",
    "        \"\"\"\n",
    "        if params = None, a gen_params function should be used\n",
    "        \"\"\"\n",
    "        circuit = qiskit.QuantumCircuit(bits)\n",
    "        for i, qubit in enumerate(range(bits)):\n",
    "            if len(params)==0:\n",
    "                if gen_params == None:\n",
    "                    raise ValueError(\"gen_params function is None. Should pass a param generating function\")\n",
    "                circuit.rz(gen_params(learning_params), qubit)\n",
    "            else:\n",
    "                circuit.rz(params[i], qubit)\n",
    "        return circuit\n",
    "\n",
    "def _get_new_param(learning_params):\n",
    "        new_param = Parameter(\"p\" + str(len(learning_params)))\n",
    "        learning_params.append(new_param)\n",
    "        return new_param\n",
    "        \n",
    "\n",
    "def classifier_cir(bits, gen_params=None, params=[]):\n",
    "    circuit = qiskit.QuantumCircuit(bits)\n",
    "    for i in range(0,6,2):\n",
    "        circuit.append(layerX(bits,params=params[i*(bits):(i+1)*(bits)] ,gen_params=gen_params).to_instruction(), list(range((bits))))\n",
    "        circuit.append(layerZ(bits, params=params[(i+1)*(bits):(i+2)*(bits)],gen_params=gen_params).to_instruction(), list(range((bits))))\n",
    "        for i in range(bits-1):\n",
    "            circuit.cnot(i, i+1)  \n",
    "    return circuit"
   ],
   "metadata": {
    "id": "z1hnqKHDfegT",
    "executionInfo": {
     "status": "ok",
     "timestamp": 1674982795440,
     "user_tz": -420,
     "elapsed": 416,
     "user": {
      "displayName": "Nguyen Tuyen",
      "userId": "02227545183480780476"
     }
    },
    "pycharm": {
     "name": "#%%\n"
    }
   },
   "execution_count": 25,
   "outputs": []
  },
  {
   "cell_type": "code",
   "source": [
    "# Define Optimizer\n",
    "import numpy as np\n",
    "\n",
    "def SPSA_gradient(loss, currentParams, gradientCoefficient):\n",
    "    r'''Computes an estimator of the gradient using the procedure\n",
    "    described in the SPSA algorithm.\n",
    "    \n",
    "    Inputs:\n",
    "        loss: The loss function\n",
    "        currentParams: The current value for the parameters\n",
    "        gradientCoefficient: The coefficient c_n, which controls how much the current parameters are\n",
    "                                               perturbed when computing the gradient\n",
    "    \n",
    "    Returns:\n",
    "        gradient: The SPSA-based gradient of the loss function at currentParams'''\n",
    "    \n",
    "    numParams = len(currentParams)\n",
    "    # Generate a random perturbation using the Rademacher distribution\n",
    "    randomPerturbation = 2*np.random.binomial(1, .5, size=numParams) - 1\n",
    "    \n",
    "    gradient = (loss(currentParams + gradientCoefficient*randomPerturbation) - loss(currentParams - gradientCoefficient*randomPerturbation))\\\n",
    "                        /(gradientCoefficient*randomPerturbation)\n",
    "    \n",
    "    return gradient\n",
    "\n",
    "def SPSA_update(loss, currentParams, updateCoefficient, gradientCoefficient):\n",
    "    r'''Performs a parameter update according to the SPSA approach.\n",
    "    \n",
    "    NOTE: This function isn't aware of the notion of iterations, or anything of that sort.\n",
    "    \n",
    "    Inputs:\n",
    "        loss: The loss function\n",
    "        currentParams: The current value for the parameters\n",
    "        updateCoefficient: The coefficient a_n, which controls how the current parameters are updated\n",
    "                                            when including the gradient\n",
    "        gradientCoefficient: The coefficient c_n, which controls how much the current parameters are\n",
    "                                               perturbed when computing the gradient\n",
    "    Returns:\n",
    "        The updated parameter values'''\n",
    "    \n",
    "    grad = SPSA_gradient(loss, currentParams, gradientCoefficient)\n",
    "    \n",
    "    return currentParams - updateCoefficient*grad"
   ],
   "metadata": {
    "id": "UslR1OHcdzdY",
    "executionInfo": {
     "status": "ok",
     "timestamp": 1674982795961,
     "user_tz": -420,
     "elapsed": 5,
     "user": {
      "displayName": "Nguyen Tuyen",
      "userId": "02227545183480780476"
     }
    },
    "pycharm": {
     "name": "#%%\n"
    }
   },
   "execution_count": 26,
   "outputs": []
  },
  {
   "cell_type": "code",
   "source": [
    "y_train"
   ],
   "metadata": {
    "colab": {
     "base_uri": "https://localhost:8080/"
    },
    "id": "uVw-LkuDrPDb",
    "executionInfo": {
     "status": "ok",
     "timestamp": 1674982796375,
     "user_tz": -420,
     "elapsed": 2,
     "user": {
      "displayName": "Nguyen Tuyen",
      "userId": "02227545183480780476"
     }
    },
    "outputId": "2fb8a91d-f397-456f-b4d2-72927937381e",
    "pycharm": {
     "name": "#%%\n"
    }
   },
   "execution_count": 27,
   "outputs": [
    {
     "output_type": "execute_result",
     "data": {
      "text/plain": [
       "array([0, 1, 1, 1, 1, 0, 1, 1, 1, 0, 1, 0, 0, 0, 0, 0, 1, 0, 1, 0, 1, 0,\n",
       "       1, 1, 0, 1, 1, 0, 0, 1, 0, 0])"
      ]
     },
     "metadata": {},
     "execution_count": 27
    }
   ]
  },
  {
   "cell_type": "code",
   "source": [
    "def loss(params, dataCircuits):\n",
    "\n",
    "    qcs = [d.bind_parameters(dict(zip(learning_params, params)))for d in dataCircuits]\n",
    "    prediction_loss = 0\n",
    "    \n",
    "\n",
    "    job = execute(qcs, backend)\n",
    "    results = job.result()\n",
    "    \n",
    "    state_vectors = [results.get_statevector(i) for i in range(len(X_train))]\n",
    "    print(len(list(state_vectors)))\n",
    "    for k,state_vector in enumerate(list(state_vectors)): \n",
    "        histogram = dict()\n",
    "        for i in range(len(state_vector)):\n",
    "            population = abs(state_vector[i]) ** 2\n",
    "            if population > 1e-9:\n",
    "                histogram[i] = population\n",
    "        \n",
    "        positive=0\n",
    "        for key in histogram.keys():\n",
    "            digits = bin(int(key))[2:].zfill(20)\n",
    "            if digits[-1]=='0':\n",
    "                positive+=histogram[key]\n",
    "        if positive > 0.5:\n",
    "            prediction = 1\n",
    "        else:\n",
    "            prediction = 0\n",
    "        \n",
    "        prediction_loss += np.abs(y_train[k] - prediction)**2\n",
    "\n",
    "    return prediction_loss\n",
    "    \n"
   ],
   "metadata": {
    "id": "A6Gr2nHSnLCJ",
    "executionInfo": {
     "status": "ok",
     "timestamp": 1674982800108,
     "user_tz": -420,
     "elapsed": 3,
     "user": {
      "displayName": "Nguyen Tuyen",
      "userId": "02227545183480780476"
     }
    },
    "pycharm": {
     "name": "#%%\n"
    }
   },
   "execution_count": 29,
   "outputs": []
  },
  {
   "cell_type": "code",
   "source": [
    "import qiskit\n",
    "from qiskit import quantum_info\n",
    "from qiskit.execute_function import execute\n",
    "from qiskit import BasicAer\n",
    "import numpy as np\n",
    "import pickle\n",
    "import json\n",
    "import os\n",
    "from collections import Counter\n",
    "from sklearn.metrics import mean_squared_error\n",
    "from typing import Dict, List\n",
    "\n",
    "c = 1\n",
    "a = c/5\n",
    "\n",
    "\n",
    "\n",
    "lossList = []\n",
    "cList = []\n",
    "aList = []\n",
    "paramsList = []\n",
    "\n",
    "\n",
    "learning_params = ParameterVector(\"param\", length=54)\n",
    "currentParams = np.random.uniform(-np.pi, np.pi, size=54)\n",
    "backend = BasicAer.get_backend('statevector_simulator')\n",
    "for j in range(10):\n",
    "    print(j)\n",
    "    cj = c/(j+1)**(1/3)\n",
    "    aj = a/(j+1)\n",
    "    aList.append(aj)\n",
    "    cList.append(cj)\n",
    "\n",
    "    np.random.seed(j)\n",
    "    \n",
    "    circuit=encode_image_part2()\n",
    "        \n",
    "    classifier = classifier_cir(9, params=learning_params)\n",
    "    \n",
    "    \n",
    "    #append with classifier circuit\n",
    "    nq1 = circuit.width()\n",
    "    nq2 = classifier.width()\n",
    "    nq = max(nq1, nq2)\n",
    "    qc = qiskit.QuantumCircuit(nq)\n",
    "    qc.append(circuit.to_instruction(), list(range(nq1)))\n",
    "    qc.append(classifier.to_instruction(), list(range(nq2)))\n",
    "\n",
    "    input_params = qc.parameters[54:]\n",
    "\n",
    "    dataCircuits = [qc.bind_parameters(dict(zip(input_params, x))) for x in X_train]\n",
    "\n",
    "\n",
    "    L = lambda x: loss(x, dataCircuits)\n",
    "\n",
    "    lossList.append(L(currentParams))\n",
    "\n",
    "    # Update the parameters\n",
    "    currentParams = SPSA_update(L, currentParams, aj, cj)     \n",
    "\n",
    "    paramsList.append(currentParams)\n",
    "\n",
    "lossList.append(L(currentParams))"
   ],
   "metadata": {
    "colab": {
     "base_uri": "https://localhost:8080/"
    },
    "id": "aCs5GdEomnqJ",
    "executionInfo": {
     "status": "ok",
     "timestamp": 1674987386018,
     "user_tz": -420,
     "elapsed": 4585912,
     "user": {
      "displayName": "Nguyen Tuyen",
      "userId": "02227545183480780476"
     }
    },
    "outputId": "4ab1f695-da53-4c7b-c1fa-9c1e7cbc7220",
    "pycharm": {
     "name": "#%%\n"
    }
   },
   "execution_count": 30,
   "outputs": [
    {
     "output_type": "stream",
     "name": "stdout",
     "text": [
      "0\n",
      "32\n",
      "32\n",
      "32\n",
      "1\n",
      "32\n",
      "32\n",
      "32\n",
      "2\n",
      "32\n",
      "32\n",
      "32\n",
      "3\n",
      "32\n",
      "32\n",
      "32\n",
      "4\n",
      "32\n",
      "32\n",
      "32\n",
      "5\n",
      "32\n",
      "32\n",
      "32\n",
      "6\n",
      "32\n",
      "32\n",
      "32\n",
      "7\n",
      "32\n",
      "32\n",
      "32\n",
      "8\n",
      "32\n",
      "32\n",
      "32\n",
      "9\n",
      "32\n",
      "32\n",
      "32\n",
      "32\n"
     ]
    }
   ]
  },
  {
   "cell_type": "code",
   "source": [
    "fig = plt.figure(figsize=(15, 10))\n",
    "\n",
    "ax = fig.add_subplot(2, 2, 1)\n",
    "ax.plot(lossList)\n",
    "\n",
    "ax = fig.add_subplot(2, 2, 2)\n",
    "ax.plot(aList, label='a')\n",
    "ax.plot(cList, label='c')\n",
    "ax.legend(loc=0)\n",
    "ax.set_yscale('log')\n",
    "\n",
    "# ax = fig.add_subplot(2, 2, 4)\n",
    "# for j in range(len(paramsList[0])):\n",
    "#     ax.plot([p[j] for p in paramsList], label='t{0}'.format(j))\n",
    "ax.legend(loc=0)"
   ],
   "metadata": {
    "colab": {
     "base_uri": "https://localhost:8080/",
     "height": 312
    },
    "id": "Nf_TLvxRoLyb",
    "executionInfo": {
     "status": "ok",
     "timestamp": 1674987386714,
     "user_tz": -420,
     "elapsed": 708,
     "user": {
      "displayName": "Nguyen Tuyen",
      "userId": "02227545183480780476"
     }
    },
    "outputId": "0bced664-7aee-414c-8e2b-81fdad64ab04",
    "pycharm": {
     "name": "#%%\n"
    }
   },
   "execution_count": 31,
   "outputs": [
    {
     "output_type": "execute_result",
     "data": {
      "text/plain": [
       "<matplotlib.legend.Legend at 0x7f062b341190>"
      ]
     },
     "metadata": {},
     "execution_count": 31
    },
    {
     "output_type": "display_data",
     "data": {
      "text/plain": [
       "<Figure size 1080x720 with 2 Axes>"
      ],
      "image/png": "[encoded data removed]"
     },
     "metadata": {
      "needs_background": "light"
     }
    }
   ]
  },
  {
   "cell_type": "code",
   "source": [
    "score=0\n",
    "for image, label in zip(preprocess_images[100:110], labels[100:110]):\n",
    "    circuit=encode_image_part2()\n",
    "        \n",
    "    classifier = classifier_cir(9, params=learning_params)\n",
    "    \n",
    "    \n",
    "    #append with classifier circuit\n",
    "    nq1 = circuit.width()\n",
    "    nq2 = classifier.width()\n",
    "    nq = max(nq1, nq2)\n",
    "    qc = qiskit.QuantumCircuit(nq)\n",
    "    qc.append(circuit.to_instruction(), list(range(nq1)))\n",
    "    qc.append(classifier.to_instruction(), list(range(nq2)))\n",
    "    \n",
    "    # print(qc.parameters)\n",
    "    params = np.concatenate((currentParams,image))\n",
    "    #print(len(params))\n",
    "    qc = qc.assign_parameters(params)\n",
    "\n",
    "    job = execute(qc, backend)\n",
    "    result = job.result()\n",
    "    state_vector = result.get_statevector()\n",
    "    histogram = dict()\n",
    "    for i in range(len(state_vector)):\n",
    "        population = abs(state_vector[i]) ** 2\n",
    "        if population > 1e-9:\n",
    "            histogram[i] = population\n",
    "    #print(histogram)\n",
    "    positive=0\n",
    "    for key in histogram.keys():\n",
    "        digits = bin(int(key))[2:].zfill(20)\n",
    "        if digits[-1]=='0':\n",
    "            positive+=histogram[key]\n",
    "    print(positive)\n",
    "    if positive > 0.45:\n",
    "        prediction = 1\n",
    "    else:\n",
    "        prediction = 0\n",
    "    if prediction == label:\n",
    "        score+=1\n",
    "    \n",
    "\n",
    "print(score)"
   ],
   "metadata": {
    "colab": {
     "base_uri": "https://localhost:8080/"
    },
    "id": "Ss71_0zhmns4",
    "executionInfo": {
     "status": "ok",
     "timestamp": 1674987693654,
     "user_tz": -420,
     "elapsed": 49253,
     "user": {
      "displayName": "Nguyen Tuyen",
      "userId": "02227545183480780476"
     }
    },
    "outputId": "3fee0b09-07af-4bed-bcaa-4bdfbd08346a",
    "pycharm": {
     "name": "#%%\n"
    }
   },
   "execution_count": 36,
   "outputs": [
    {
     "output_type": "stream",
     "name": "stdout",
     "text": [
      "0.4523034755595777\n",
      "0.45409521268288733\n",
      "0.45195231096857663\n",
      "0.4616509565695604\n",
      "0.4760756440291836\n",
      "0.4620685079902045\n",
      "0.4745035986051802\n",
      "0.47284522200080076\n",
      "0.46135213254897084\n",
      "0.4651169529628585\n",
      "10\n"
     ]
    }
   ]
  },
  {
   "cell_type": "code",
   "source": [],
   "metadata": {
    "id": "p6_tKdkGEKZ0",
    "pycharm": {
     "name": "#%%\n"
    }
   },
   "execution_count": null,
   "outputs": []
  },
  {
   "cell_type": "code",
   "source": [
    "classifier = classifier_cir(9, params=currentParams)\n",
    "classifier.qasm(filename=\"quantum_classifier.qasm\")"
   ],
   "metadata": {
    "colab": {
     "base_uri": "https://localhost:8080/",
     "height": 123
    },
    "id": "BRUKr42cCXVc",
    "executionInfo": {
     "status": "ok",
     "timestamp": 1674987908852,
     "user_tz": -420,
     "elapsed": 430,
     "user": {
      "displayName": "Nguyen Tuyen",
      "userId": "02227545183480780476"
     }
    },
    "outputId": "31e842b7-9882-49ae-ff5b-3f895611f7f5",
    "pycharm": {
     "name": "#%%\n"
    }
   },
   "execution_count": 40,
   "outputs": [
    {
     "output_type": "execute_result",
     "data": {
      "text/plain": [
       "'OPENQASM 2.0;\\ninclude \"qelib1.inc\";\\ngate circuit_1849638 q0,q1,q2,q3,q4,q5,q6,q7,q8 { rx(-0.9579188321556569) q0; rx(2.5798997121421117) q1; rx(1.6810582118257462) q2; rx(1.5541843088559142) q3; rx(0.555685834108752) q4; rx(2.181302870448188) q5; rx(-1.5199761642639953) q6; rx(3.6337573151739795) q7; rx(1.5486559214426172) q8; }\\ngate circuit_1849641 q0,q1,q2,q3,q4,q5,q6,q7,q8 { rz(0.40301834083518145) q0; rz(0.605137425927762) q1; rz(1.3093771823332239) q2; rz(1.599711539409238) q3; rz(1.5019275915951134) q4; rz(-3.823084983530517) q5; rz(-1.321968164969867) q6; rz(-4.142381762947663) q7; rz(3.3177371735127883) q8; }\\ngate circuit_1849644 q0,q1,q2,q3,q4,q5,q6,q7,q8 { rx(0.5755354577505529) q0; rx(3.4970298462527287) q1; rx(4.179422688573913) q2; rx(3.1518436481138172) q3; rx(0.885792741974075) q4; rx(3.127239921502026) q5; rx(-3.663075641578788) q6; rx(-0.15622717180556372) q7; rx(-0.9762542615816036) q8; }\\ngate circuit_1849647 q0,q1,q2,q3,q4,q5,q6,q7,q8 { rz(1.5293140833416266) q0; rz(1.2726539313828058) q1; rz(0.728428278029025) q2; rz(-2.5147175958583228) q3; rz(0.4508861352763606) q4; rz(-1.4033406354313296) q5; rz(-0.7978418650458701) q6; rz(-1.751357902652891) q7; rz(-0.43304932608044133) q8; }\\ngate circuit_1849650 q0,q1,q2,q3,q4,q5,q6,q7,q8 { rx(1.8764931509175542) q0; rx(-0.6299051517505208) q1; rx(1.6159764541019015) q2; rx(-0.1222124909497724) q3; rx(0.4818852279341758) q4; rx(-1.667814855620142) q5; rx(0.10637654931429702) q6; rx(-4.12780797795458) q7; rx(-0.08755070096140488) q8; }\\ngate circuit_1849653 q0,q1,q2,q3,q4,q5,q6,q7,q8 { rz(-0.20002559767711398) q0; rz(-0.5918949898741828) q1; rz(-3.459349881545398) q2; rz(-2.3875229206847157) q3; rz(-1.984155528629788) q4; rz(1.613234269411439) q5; rz(-1.7504011913203896) q6; rz(4.2407182766149925) q7; rz(-3.6726011509342213) q8; }\\nqreg q[9];\\ncircuit_1849638 q[0],q[1],q[2],q[3],q[4],q[5],q[6],q[7],q[8];\\ncircuit_1849641 q[0],q[1],q[2],q[3],q[4],q[5],q[6],q[7],q[8];\\ncx q[0],q[1];\\ncx q[1],q[2];\\ncx q[2],q[3];\\ncx q[3],q[4];\\ncx q[4],q[5];\\ncx q[5],q[6];\\ncx q[6],q[7];\\ncx q[7],q[8];\\ncircuit_1849644 q[0],q[1],q[2],q[3],q[4],q[5],q[6],q[7],q[8];\\ncircuit_1849647 q[0],q[1],q[2],q[3],q[4],q[5],q[6],q[7],q[8];\\ncx q[0],q[1];\\ncx q[1],q[2];\\ncx q[2],q[3];\\ncx q[3],q[4];\\ncx q[4],q[5];\\ncx q[5],q[6];\\ncx q[6],q[7];\\ncx q[7],q[8];\\ncircuit_1849650 q[0],q[1],q[2],q[3],q[4],q[5],q[6],q[7],q[8];\\ncircuit_1849653 q[0],q[1],q[2],q[3],q[4],q[5],q[6],q[7],q[8];\\ncx q[0],q[1];\\ncx q[1],q[2];\\ncx q[2],q[3];\\ncx q[3],q[4];\\ncx q[4],q[5];\\ncx q[5],q[6];\\ncx q[6],q[7];\\ncx q[7],q[8];\\n'"
      ],
      "application/vnd.google.colaboratory.intrinsic+json": {
       "type": "string"
      }
     },
     "metadata": {},
     "execution_count": 40
    }
   ]
  },
  {
   "cell_type": "code",
   "source": [
    "classifier=qiskit.QuantumCircuit.from_qasm_file('quantum_classifier.qasm')\n",
    "classifier.draw()"
   ],
   "metadata": {
    "colab": {
     "base_uri": "https://localhost:8080/",
     "height": 1000
    },
    "id": "TZ1xp6Cymnvx",
    "executionInfo": {
     "status": "ok",
     "timestamp": 1674987956790,
     "user_tz": -420,
     "elapsed": 629,
     "user": {
      "displayName": "Nguyen Tuyen",
      "userId": "02227545183480780476"
     }
    },
    "outputId": "ef7ab4ec-6f22-4491-a516-5a6373545f40",
    "pycharm": {
     "name": "#%%\n"
    }
   },
   "execution_count": 41,
   "outputs": [
    {
     "output_type": "execute_result",
     "data": {
      "text/plain": [
       "     ┌──────────────────┐┌──────────────────┐                              »\n",
       "q_0: ┤0                 ├┤0                 ├──■───────────────────────────»\n",
       "     │                  ││                  │┌─┴─┐                         »\n",
       "q_1: ┤1                 ├┤1                 ├┤ X ├──■──────────────────────»\n",
       "     │                  ││                  │└───┘┌─┴─┐                    »\n",
       "q_2: ┤2                 ├┤2                 ├─────┤ X ├──■─────────────────»\n",
       "     │                  ││                  │     └───┘┌─┴─┐               »\n",
       "q_3: ┤3                 ├┤3                 ├──────────┤ X ├──■────────────»\n",
       "     │                  ││                  │          └───┘┌─┴─┐          »\n",
       "q_4: ┤4 circuit_1849638 ├┤4 circuit_1849641 ├───────────────┤ X ├──■───────»\n",
       "     │                  ││                  │               └───┘┌─┴─┐     »\n",
       "q_5: ┤5                 ├┤5                 ├────────────────────┤ X ├──■──»\n",
       "     │                  ││                  │                    └───┘┌─┴─┐»\n",
       "q_6: ┤6                 ├┤6                 ├─────────────────────────┤ X ├»\n",
       "     │                  ││                  │                         └───┘»\n",
       "q_7: ┤7                 ├┤7                 ├──────────────────────────────»\n",
       "     │                  ││                  │                              »\n",
       "q_8: ┤8                 ├┤8                 ├──────────────────────────────»\n",
       "     └──────────────────┘└──────────────────┘                              »\n",
       "«               ┌──────────────────┐┌──────────────────┐                    »\n",
       "«q_0: ──────────┤0                 ├┤0                 ├──■─────────────────»\n",
       "«               │                  ││                  │┌─┴─┐               »\n",
       "«q_1: ──────────┤1                 ├┤1                 ├┤ X ├──■────────────»\n",
       "«               │                  ││                  │└───┘┌─┴─┐          »\n",
       "«q_2: ──────────┤2                 ├┤2                 ├─────┤ X ├──■───────»\n",
       "«               │                  ││                  │     └───┘┌─┴─┐     »\n",
       "«q_3: ──────────┤3                 ├┤3                 ├──────────┤ X ├──■──»\n",
       "«               │                  ││                  │          └───┘┌─┴─┐»\n",
       "«q_4: ──────────┤4 circuit_1849644 ├┤4 circuit_1849647 ├───────────────┤ X ├»\n",
       "«               │                  ││                  │               └───┘»\n",
       "«q_5: ──────────┤5                 ├┤5                 ├────────────────────»\n",
       "«               │                  ││                  │                    »\n",
       "«q_6: ──■───────┤6                 ├┤6                 ├────────────────────»\n",
       "«     ┌─┴─┐     │                  ││                  │                    »\n",
       "«q_7: ┤ X ├──■──┤7                 ├┤7                 ├────────────────────»\n",
       "«     └───┘┌─┴─┐│                  ││                  │                    »\n",
       "«q_8: ─────┤ X ├┤8                 ├┤8                 ├────────────────────»\n",
       "«          └───┘└──────────────────┘└──────────────────┘                    »\n",
       "«                         ┌──────────────────┐┌──────────────────┐          »\n",
       "«q_0: ────────────────────┤0                 ├┤0                 ├──■───────»\n",
       "«                         │                  ││                  │┌─┴─┐     »\n",
       "«q_1: ────────────────────┤1                 ├┤1                 ├┤ X ├──■──»\n",
       "«                         │                  ││                  │└───┘┌─┴─┐»\n",
       "«q_2: ────────────────────┤2                 ├┤2                 ├─────┤ X ├»\n",
       "«                         │                  ││                  │     └───┘»\n",
       "«q_3: ────────────────────┤3                 ├┤3                 ├──────────»\n",
       "«                         │                  ││                  │          »\n",
       "«q_4: ──■─────────────────┤4 circuit_1849650 ├┤4 circuit_1849653 ├──────────»\n",
       "«     ┌─┴─┐               │                  ││                  │          »\n",
       "«q_5: ┤ X ├──■────────────┤5                 ├┤5                 ├──────────»\n",
       "«     └───┘┌─┴─┐          │                  ││                  │          »\n",
       "«q_6: ─────┤ X ├──■───────┤6                 ├┤6                 ├──────────»\n",
       "«          └───┘┌─┴─┐     │                  ││                  │          »\n",
       "«q_7: ──────────┤ X ├──■──┤7                 ├┤7                 ├──────────»\n",
       "«               └───┘┌─┴─┐│                  ││                  │          »\n",
       "«q_8: ───────────────┤ X ├┤8                 ├┤8                 ├──────────»\n",
       "«                    └───┘└──────────────────┘└──────────────────┘          »\n",
       "«                                   \n",
       "«q_0: ──────────────────────────────\n",
       "«                                   \n",
       "«q_1: ──────────────────────────────\n",
       "«                                   \n",
       "«q_2: ──■───────────────────────────\n",
       "«     ┌─┴─┐                         \n",
       "«q_3: ┤ X ├──■──────────────────────\n",
       "«     └───┘┌─┴─┐                    \n",
       "«q_4: ─────┤ X ├──■─────────────────\n",
       "«          └───┘┌─┴─┐               \n",
       "«q_5: ──────────┤ X ├──■────────────\n",
       "«               └───┘┌─┴─┐          \n",
       "«q_6: ───────────────┤ X ├──■───────\n",
       "«                    └───┘┌─┴─┐     \n",
       "«q_7: ────────────────────┤ X ├──■──\n",
       "«                         └───┘┌─┴─┐\n",
       "«q_8: ─────────────────────────┤ X ├\n",
       "«                              └───┘"
      ],
      "text/html": [
       "<pre style=\"word-wrap: normal;white-space: pre;background: #fff0;line-height: 1.1;font-family: &quot;Courier New&quot;,Courier,monospace\">     ┌──────────────────┐┌──────────────────┐                              »\n",
       "q_0: ┤0                 ├┤0                 ├──■───────────────────────────»\n",
       "     │                  ││                  │┌─┴─┐                         »\n",
       "q_1: ┤1                 ├┤1                 ├┤ X ├──■──────────────────────»\n",
       "     │                  ││                  │└───┘┌─┴─┐                    »\n",
       "q_2: ┤2                 ├┤2                 ├─────┤ X ├──■─────────────────»\n",
       "     │                  ││                  │     └───┘┌─┴─┐               »\n",
       "q_3: ┤3                 ├┤3                 ├──────────┤ X ├──■────────────»\n",
       "     │                  ││                  │          └───┘┌─┴─┐          »\n",
       "q_4: ┤4 circuit_1849638 ├┤4 circuit_1849641 ├───────────────┤ X ├──■───────»\n",
       "     │                  ││                  │               └───┘┌─┴─┐     »\n",
       "q_5: ┤5                 ├┤5                 ├────────────────────┤ X ├──■──»\n",
       "     │                  ││                  │                    └───┘┌─┴─┐»\n",
       "q_6: ┤6                 ├┤6                 ├─────────────────────────┤ X ├»\n",
       "     │                  ││                  │                         └───┘»\n",
       "q_7: ┤7                 ├┤7                 ├──────────────────────────────»\n",
       "     │                  ││                  │                              »\n",
       "q_8: ┤8                 ├┤8                 ├──────────────────────────────»\n",
       "     └──────────────────┘└──────────────────┘                              »\n",
       "«               ┌──────────────────┐┌──────────────────┐                    »\n",
       "«q_0: ──────────┤0                 ├┤0                 ├──■─────────────────»\n",
       "«               │                  ││                  │┌─┴─┐               »\n",
       "«q_1: ──────────┤1                 ├┤1                 ├┤ X ├──■────────────»\n",
       "«               │                  ││                  │└───┘┌─┴─┐          »\n",
       "«q_2: ──────────┤2                 ├┤2                 ├─────┤ X ├──■───────»\n",
       "«               │                  ││                  │     └───┘┌─┴─┐     »\n",
       "«q_3: ──────────┤3                 ├┤3                 ├──────────┤ X ├──■──»\n",
       "«               │                  ││                  │          └───┘┌─┴─┐»\n",
       "«q_4: ──────────┤4 circuit_1849644 ├┤4 circuit_1849647 ├───────────────┤ X ├»\n",
       "«               │                  ││                  │               └───┘»\n",
       "«q_5: ──────────┤5                 ├┤5                 ├────────────────────»\n",
       "«               │                  ││                  │                    »\n",
       "«q_6: ──■───────┤6                 ├┤6                 ├────────────────────»\n",
       "«     ┌─┴─┐     │                  ││                  │                    »\n",
       "«q_7: ┤ X ├──■──┤7                 ├┤7                 ├────────────────────»\n",
       "«     └───┘┌─┴─┐│                  ││                  │                    »\n",
       "«q_8: ─────┤ X ├┤8                 ├┤8                 ├────────────────────»\n",
       "«          └───┘└──────────────────┘└──────────────────┘                    »\n",
       "«                         ┌──────────────────┐┌──────────────────┐          »\n",
       "«q_0: ────────────────────┤0                 ├┤0                 ├──■───────»\n",
       "«                         │                  ││                  │┌─┴─┐     »\n",
       "«q_1: ────────────────────┤1                 ├┤1                 ├┤ X ├──■──»\n",
       "«                         │                  ││                  │└───┘┌─┴─┐»\n",
       "«q_2: ────────────────────┤2                 ├┤2                 ├─────┤ X ├»\n",
       "«                         │                  ││                  │     └───┘»\n",
       "«q_3: ────────────────────┤3                 ├┤3                 ├──────────»\n",
       "«                         │                  ││                  │          »\n",
       "«q_4: ──■─────────────────┤4 circuit_1849650 ├┤4 circuit_1849653 ├──────────»\n",
       "«     ┌─┴─┐               │                  ││                  │          »\n",
       "«q_5: ┤ X ├──■────────────┤5                 ├┤5                 ├──────────»\n",
       "«     └───┘┌─┴─┐          │                  ││                  │          »\n",
       "«q_6: ─────┤ X ├──■───────┤6                 ├┤6                 ├──────────»\n",
       "«          └───┘┌─┴─┐     │                  ││                  │          »\n",
       "«q_7: ──────────┤ X ├──■──┤7                 ├┤7                 ├──────────»\n",
       "«               └───┘┌─┴─┐│                  ││                  │          »\n",
       "«q_8: ───────────────┤ X ├┤8                 ├┤8                 ├──────────»\n",
       "«                    └───┘└──────────────────┘└──────────────────┘          »\n",
       "«                                   \n",
       "«q_0: ──────────────────────────────\n",
       "«                                   \n",
       "«q_1: ──────────────────────────────\n",
       "«                                   \n",
       "«q_2: ──■───────────────────────────\n",
       "«     ┌─┴─┐                         \n",
       "«q_3: ┤ X ├──■──────────────────────\n",
       "«     └───┘┌─┴─┐                    \n",
       "«q_4: ─────┤ X ├──■─────────────────\n",
       "«          └───┘┌─┴─┐               \n",
       "«q_5: ──────────┤ X ├──■────────────\n",
       "«               └───┘┌─┴─┐          \n",
       "«q_6: ───────────────┤ X ├──■───────\n",
       "«                    └───┘┌─┴─┐     \n",
       "«q_7: ────────────────────┤ X ├──■──\n",
       "«                         └───┘┌─┴─┐\n",
       "«q_8: ─────────────────────────┤ X ├\n",
       "«                              └───┘</pre>"
      ]
     },
     "metadata": {},
     "execution_count": 41
    }
   ]
  },
  {
   "cell_type": "code",
   "execution_count": null,
   "outputs": [],
   "source": [],
   "metadata": {
    "collapsed": false,
    "pycharm": {
     "name": "#%%\n"
    }
   }
  },
  {
   "cell_type": "code",
   "execution_count": null,
   "outputs": [],
   "source": [
    "def encode_image(image):\n",
    "    # NOTE: can actually resize the image to make it larger i.e. use n = 32\n",
    "    # n = 16\n",
    "\n",
    "    # im = cv2.resize(image, dsize=(n, n))\n",
    "\n",
    "    # image_norm = amplitude_encode(im)\n",
    "    data_qb = 8  # math.log2(n*n)\n",
    "    anc_qb = 1\n",
    "    total_qb = data_qb + anc_qb\n",
    "\n",
    "    # Initialize the amplitude permutation unitary\n",
    "    D2n_1 = np.roll(np.identity(2**total_qb), 1, axis=1)\n",
    "\n",
    "    qc = qiskit.QuantumCircuit(total_qb)\n",
    "    # amp_cir = RawFeatureVector(256)\n",
    "\n",
    "    # qc = qiskit.QuantumCircuit(total_qb)\n",
    "    # qc.append(ancilla.to_instruction(), list(range(1)))\n",
    "    # qc.append(amp_cir.to_instruction(), list(range(1, total_qb)))\n",
    "\n",
    "    qc.initialize(image, range(1, total_qb))\n",
    "    qc.h(0)\n",
    "    qc.unitary(D2n_1, range(total_qb))\n",
    "    qc.h(0)\n",
    "    # display(qc.draw('mpl', fold=-1))\n",
    "    return qc"
   ],
   "metadata": {
    "collapsed": false,
    "pycharm": {
     "name": "#%%\n"
    }
   }
  },
  {
   "cell_type": "code",
   "source": [
    "score=0\n",
    "for image, label in zip(preprocess_images[1500:1510], labels[1500:1510]):\n",
    "    circuit=encode_image(image)\n",
    "        \n",
    "    classifier=qiskit.QuantumCircuit.from_qasm_file('quantum_classifier.qasm')\n",
    "    \n",
    "    \n",
    "    #append with classifier circuit\n",
    "    nq1 = circuit.width()\n",
    "    nq2 = classifier.width()\n",
    "    nq = max(nq1, nq2)\n",
    "    qc = qiskit.QuantumCircuit(nq)\n",
    "    qc.append(circuit.to_instruction(), list(range(nq1)))\n",
    "    qc.append(classifier.to_instruction(), list(range(nq2)))\n",
    "    \n",
    "    print(qc.parameters)\n",
    "\n",
    "    job = execute(qc, backend)\n",
    "    result = job.result()\n",
    "    state_vector = result.get_statevector()\n",
    "    histogram = dict()\n",
    "    for i in range(len(state_vector)):\n",
    "        population = abs(state_vector[i]) ** 2\n",
    "        if population > 1e-9:\n",
    "            histogram[i] = population\n",
    "    #print(histogram)\n",
    "    positive=0\n",
    "    for key in histogram.keys():\n",
    "        digits = bin(int(key))[2:].zfill(20)\n",
    "        if digits[-1]=='0':\n",
    "            positive+=histogram[key]\n",
    "    print(positive)\n",
    "    if positive > 0.45:\n",
    "        prediction = 1\n",
    "    else:\n",
    "        prediction = 0\n",
    "    if prediction == label:\n",
    "        score+=1\n",
    "    \n",
    "\n",
    "print(score)"
   ],
   "metadata": {
    "colab": {
     "base_uri": "https://localhost:8080/"
    },
    "id": "EodRlpchEL4j",
    "executionInfo": {
     "status": "ok",
     "timestamp": 1674989047773,
     "user_tz": -420,
     "elapsed": 49106,
     "user": {
      "displayName": "Nguyen Tuyen",
      "userId": "02227545183480780476"
     }
    },
    "outputId": "6eef54b5-a7d7-4d6e-a5ac-73062c5086e0",
    "pycharm": {
     "name": "#%%\n"
    }
   },
   "execution_count": 53,
   "outputs": [
    {
     "output_type": "stream",
     "name": "stdout",
     "text": [
      "ParameterView([])\n",
      "0.43803850637327973\n",
      "ParameterView([])\n",
      "0.4390462079760829\n",
      "ParameterView([])\n",
      "0.430925224153573\n",
      "ParameterView([])\n",
      "0.490286345204553\n",
      "ParameterView([])\n",
      "0.4252268442130466\n",
      "ParameterView([])\n",
      "0.4236456739791059\n",
      "ParameterView([])\n",
      "0.43515179331576137\n",
      "ParameterView([])\n",
      "0.4259233896913271\n",
      "ParameterView([])\n",
      "0.4280910887761105\n",
      "ParameterView([])\n",
      "0.43713946007520754\n",
      "9\n"
     ]
    }
   ]
  },
  {
   "cell_type": "code",
   "source": [
    "qc.draw()"
   ],
   "metadata": {
    "colab": {
     "base_uri": "https://localhost:8080/",
     "height": 310
    },
    "id": "wVGzQZ2BHThD",
    "executionInfo": {
     "status": "ok",
     "timestamp": 1674990671539,
     "user_tz": -420,
     "elapsed": 5,
     "user": {
      "displayName": "Nguyen Tuyen",
      "userId": "02227545183480780476"
     }
    },
    "outputId": "94408448-0cbf-4384-f8f4-8d712f0b2089",
    "pycharm": {
     "name": "#%%\n"
    }
   },
   "execution_count": 55,
   "outputs": [
    {
     "output_type": "execute_result",
     "data": {
      "text/plain": [
       "     ┌──────────────────┐┌──────────────────┐\n",
       "q_0: ┤0                 ├┤0                 ├\n",
       "     │                  ││                  │\n",
       "q_1: ┤1                 ├┤1                 ├\n",
       "     │                  ││                  │\n",
       "q_2: ┤2                 ├┤2                 ├\n",
       "     │                  ││                  │\n",
       "q_3: ┤3                 ├┤3                 ├\n",
       "     │                  ││                  │\n",
       "q_4: ┤4 circuit-1884091 ├┤4 circuit-1884098 ├\n",
       "     │                  ││                  │\n",
       "q_5: ┤5                 ├┤5                 ├\n",
       "     │                  ││                  │\n",
       "q_6: ┤6                 ├┤6                 ├\n",
       "     │                  ││                  │\n",
       "q_7: ┤7                 ├┤7                 ├\n",
       "     │                  ││                  │\n",
       "q_8: ┤8                 ├┤8                 ├\n",
       "     └──────────────────┘└──────────────────┘"
      ],
      "text/html": [
       "<pre style=\"word-wrap: normal;white-space: pre;background: #fff0;line-height: 1.1;font-family: &quot;Courier New&quot;,Courier,monospace\">     ┌──────────────────┐┌──────────────────┐\n",
       "q_0: ┤0                 ├┤0                 ├\n",
       "     │                  ││                  │\n",
       "q_1: ┤1                 ├┤1                 ├\n",
       "     │                  ││                  │\n",
       "q_2: ┤2                 ├┤2                 ├\n",
       "     │                  ││                  │\n",
       "q_3: ┤3                 ├┤3                 ├\n",
       "     │                  ││                  │\n",
       "q_4: ┤4 circuit-1884091 ├┤4 circuit-1884098 ├\n",
       "     │                  ││                  │\n",
       "q_5: ┤5                 ├┤5                 ├\n",
       "     │                  ││                  │\n",
       "q_6: ┤6                 ├┤6                 ├\n",
       "     │                  ││                  │\n",
       "q_7: ┤7                 ├┤7                 ├\n",
       "     │                  ││                  │\n",
       "q_8: ┤8                 ├┤8                 ├\n",
       "     └──────────────────┘└──────────────────┘</pre>"
      ]
     },
     "metadata": {},
     "execution_count": 55
    }
   ]
  },
  {
   "cell_type": "code",
   "source": [
    "count_gates(classifier)[2]"
   ],
   "metadata": {
    "colab": {
     "base_uri": "https://localhost:8080/"
    },
    "id": "yF4nqpK3OVJX",
    "executionInfo": {
     "status": "ok",
     "timestamp": 1674990709805,
     "user_tz": -420,
     "elapsed": 309,
     "user": {
      "displayName": "Nguyen Tuyen",
      "userId": "02227545183480780476"
     }
    },
    "outputId": "d34b1158-0e7a-4b9a-db56-417df3ac52d9",
    "pycharm": {
     "name": "#%%\n"
    }
   },
   "execution_count": 58,
   "outputs": [
    {
     "output_type": "execute_result",
     "data": {
      "text/plain": [
       "24"
      ]
     },
     "metadata": {},
     "execution_count": 58
    }
   ]
  }
 ],
 "metadata": {
  "kernelspec": {
   "display_name": "Python 3 (ipykernel)",
   "language": "python",
   "name": "python3"
  },
  "language_info": {
   "codemirror_mode": {
    "name": "ipython",
    "version": 3
   },
   "file_extension": ".py",
   "mimetype": "text/x-python",
   "name": "python",
   "nbconvert_exporter": "python",
   "pygments_lexer": "ipython3",
   "version": "3.9.7"
  },
  "vscode": {
   "interpreter": {
    "hash": "397704579725e15f5c7cb49fe5f0341eb7531c82d19f2c29d197e8b64ab5776b"
   }
  },
  "colab": {
   "provenance": []
  }
 },
 "nbformat": 4,
 "nbformat_minor": 0
}