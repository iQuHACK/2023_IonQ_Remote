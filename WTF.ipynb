{
 "cells": [
  {
   "cell_type": "code",
   "execution_count": 1,
   "id": "052da3ac-c5a9-4fba-97e7-b5d8afa82c3f",
   "metadata": {},
   "outputs": [
    {
     "name": "stderr",
     "output_type": "stream",
     "text": [
      "2023-01-28 18:58:01.814609: I tensorflow/core/util/util.cc:169] oneDNN custom operations are on. You may see slightly different numerical results due to floating-point round-off errors from different computation orders. To turn them off, set the environment variable `TF_ENABLE_ONEDNN_OPTS=0`.\n",
      "2023-01-28 18:58:02.111432: W tensorflow/stream_executor/platform/default/dso_loader.cc:64] Could not load dynamic library 'libcudart.so.11.0'; dlerror: libcudart.so.11.0: cannot open shared object file: No such file or directory\n",
      "2023-01-28 18:58:02.111474: I tensorflow/stream_executor/cuda/cudart_stub.cc:29] Ignore above cudart dlerror if you do not have a GPU set up on your machine.\n"
     ]
    }
   ],
   "source": [
    "import tensorflow as tf"
   ]
  },
  {
   "cell_type": "code",
   "execution_count": 2,
   "id": "a905e52f-a885-46a8-a32b-c8b82c24a48f",
   "metadata": {},
   "outputs": [],
   "source": [
    "import cirq\n",
    "import qiskit\n",
    "import numpy as np"
   ]
  },
  {
   "cell_type": "code",
   "execution_count": 3,
   "id": "f916665c-5004-4d0e-b917-27c4c454b5b6",
   "metadata": {},
   "outputs": [],
   "source": [
    "images=np.load('data/images.npy')\n",
    "labels=np.load('data/labels.npy')"
   ]
  },
  {
   "cell_type": "code",
   "execution_count": 4,
   "id": "0d64fe77-22f0-495d-a824-f3c02812689d",
   "metadata": {},
   "outputs": [],
   "source": [
    "sample = images[0]"
   ]
  },
  {
   "cell_type": "code",
   "execution_count": 5,
   "id": "8399a411-8ee1-440a-93f6-39dba762640b",
   "metadata": {},
   "outputs": [
    {
     "data": {
      "text/plain": [
       "<matplotlib.image.AxesImage at 0x7f8f0f9151f0>"
      ]
     },
     "execution_count": 5,
     "metadata": {},
     "output_type": "execute_result"
    },
    {
     "data": {
      "image/png": "[encoded data removed]",
      "text/plain": [
       "<Figure size 432x288 with 1 Axes>"
      ]
     },
     "metadata": {
      "needs_background": "light"
     },
     "output_type": "display_data"
    }
   ],
   "source": [
    "import matplotlib.pyplot as plt\n",
    "plt.imshow(sample)"
   ]
  },
  {
   "cell_type": "code",
   "execution_count": 6,
   "id": "8e86300d-b96f-4eec-a622-1500700372df",
   "metadata": {},
   "outputs": [],
   "source": [
    "sample = sample.reshape(*(28, 28, 1))"
   ]
  },
  {
   "cell_type": "code",
   "execution_count": 8,
   "id": "c29d019d-628c-4f5a-beb7-228aad93a5b1",
   "metadata": {},
   "outputs": [
    {
     "name": "stdout",
     "output_type": "stream",
     "text": [
      "There are 2000 images in the dataset.\n"
     ]
    }
   ],
   "source": [
    "print(\"There are\", len(images), \"images in the dataset.\")"
   ]
  },
  {
   "cell_type": "code",
   "execution_count": 9,
   "id": "db5f73a7-bbb0-415a-95b1-97e75583edd7",
   "metadata": {},
   "outputs": [],
   "source": [
    "THRESHOLD = 0"
   ]
  },
  {
   "cell_type": "code",
   "execution_count": 10,
   "id": "8003bc63-3738-4f4a-bd75-bcfecbb02f1d",
   "metadata": {},
   "outputs": [
    {
     "name": "stderr",
     "output_type": "stream",
     "text": [
      "2023-01-28 19:00:16.210301: W tensorflow/stream_executor/platform/default/dso_loader.cc:64] Could not load dynamic library 'libcuda.so.1'; dlerror: libcuda.so.1: cannot open shared object file: No such file or directory\n",
      "2023-01-28 19:00:16.210338: W tensorflow/stream_executor/cuda/cuda_driver.cc:269] failed call to cuInit: UNKNOWN ERROR (303)\n",
      "2023-01-28 19:00:16.210357: I tensorflow/stream_executor/cuda/cuda_diagnostics.cc:156] kernel driver does not appear to be running on this host (jupyter-max-2emcui-40gmail-2ecom): /proc/driver/nvidia/version does not exist\n",
      "2023-01-28 19:00:16.210881: I tensorflow/core/platform/cpu_feature_guard.cc:193] This TensorFlow binary is optimized with oneAPI Deep Neural Network Library (oneDNN) to use the following CPU instructions in performance-critical operations:  AVX2 AVX512F AVX512_VNNI FMA\n",
      "To enable them in other operations, rebuild TensorFlow with the appropriate compiler flags.\n"
     ]
    }
   ],
   "source": [
    "sample = tf.image.resize(sample, (4,4)).numpy()"
   ]
  },
  {
   "cell_type": "code",
   "execution_count": 12,
   "id": "201af5db-7b7f-452f-8962-7261e89f1d66",
   "metadata": {},
   "outputs": [
    {
     "data": {
      "text/plain": [
       "<matplotlib.image.AxesImage at 0x7f8f0c3a5c40>"
      ]
     },
     "execution_count": 12,
     "metadata": {},
     "output_type": "execute_result"
    },
    {
     "data": {
      "image/png": "[encoded data removed]",
      "text/plain": [
       "<Figure size 432x288 with 1 Axes>"
      ]
     },
     "metadata": {
      "needs_background": "light"
     },
     "output_type": "display_data"
    }
   ],
   "source": [
    "plt.imshow(sample)"
   ]
  },
  {
   "cell_type": "code",
   "execution_count": 27,
   "id": "19117b3c-c105-47a2-948b-b5f0690c7f0f",
   "metadata": {},
   "outputs": [],
   "source": [
    "for i in range(len(sample)):\n",
    "    for j in range(len(sample[i])):\n",
    "        sample[i][j] = [1.0 if sample[i][j] > THRESHOLD else 0.0]\n",
    "        "
   ]
  },
  {
   "cell_type": "code",
   "execution_count": 28,
   "id": "0b9a7e12-9a92-48ba-8c7f-98badcb57bed",
   "metadata": {},
   "outputs": [
    {
     "data": {
      "text/plain": [
       "array([[[0.],\n",
       "        [1.],\n",
       "        [1.],\n",
       "        [0.]],\n",
       "\n",
       "       [[1.],\n",
       "        [1.],\n",
       "        [0.],\n",
       "        [1.]],\n",
       "\n",
       "       [[0.],\n",
       "        [1.],\n",
       "        [1.],\n",
       "        [0.]],\n",
       "\n",
       "       [[0.],\n",
       "        [1.],\n",
       "        [1.],\n",
       "        [0.]]], dtype=float32)"
      ]
     },
     "execution_count": 28,
     "metadata": {},
     "output_type": "execute_result"
    }
   ],
   "source": [
    "sample"
   ]
  },
  {
   "cell_type": "code",
   "execution_count": 29,
   "id": "b2e755e3-cd29-4ef3-a2cb-c117c40723b7",
   "metadata": {},
   "outputs": [],
   "source": [
    "def tocircuit(image):\n",
    "    values = np.ndarray.flatten(image)\n",
    "    qubits = cirq.GridQubit.rect(4,4)\n",
    "    circuit = cirq.Circuit()\n",
    "    for i, val in enumerate(values):\n",
    "        if val: circuit.append(cirq.X(qubits[i]))\n",
    "    return circuit"
   ]
  },
  {
   "cell_type": "code",
   "execution_count": 30,
   "id": "951099b6-d70f-48c9-9670-e80759e41f2f",
   "metadata": {},
   "outputs": [],
   "source": [
    "cirquit = tocircuit(sample)"
   ]
  },
  {
   "cell_type": "code",
   "execution_count": 39,
   "id": "9c5eb491-511f-411b-aa28-fc62ce965caf",
   "metadata": {},
   "outputs": [],
   "source": [
    "from cirq.contrib.svg import SVGCircuit"
   ]
  },
  {
   "cell_type": "code",
   "execution_count": 36,
   "id": "9618624e-6853-4248-9d36-475c064a0262",
   "metadata": {},
   "outputs": [],
   "source": [
    "def encode(image):\n",
    "    THRESHOLD = 0.0\n",
    "    image = image.reshape(*(28, 28, 1))\n",
    "    image = tf.image.resize(image, (4,4)).numpy()\n",
    "    for i in range(len(image)):\n",
    "        for j in range(len(image[i])):\n",
    "            image[i][j] = [1.0 if image[i][j] > THRESHOLD else 0.0]\n",
    "    values = np.ndarray.flatten(image)\n",
    "    qubits = cirq.GridQubit.rect(4,4)\n",
    "    circuit = cirq.Circuit()\n",
    "    for i, val in enumerate(values):\n",
    "        if val: circuit.append(cirq.X(qubits[i]))\n",
    "    return circuit"
   ]
  },
  {
   "cell_type": "code",
   "execution_count": 37,
   "id": "c75a289a-dd8f-4ca0-a4ec-db7b8e976a77",
   "metadata": {},
   "outputs": [],
   "source": [
    "enc_cirq = encode(images[1])"
   ]
  },
  {
   "cell_type": "code",
   "execution_count": 40,
   "id": "c1f55916-362a-4915-8dba-385a829ee07a",
   "metadata": {},
   "outputs": [],
   "source": [
    "def simulate(circuit: cirq.Circuit) -> dict:\n",
    "    \"\"\"This funcion simulate a cirq circuit (without measurement) and output results in the format of histogram.\n",
    "    \"\"\"\n",
    "    simulator = cirq.Simulator()\n",
    "    result = simulator.simulate(circuit)\n",
    "    \n",
    "    state_vector=result.final_state_vector\n",
    "    \n",
    "    histogram = dict()\n",
    "    for i in range(len(state_vector)):\n",
    "        population = abs(state_vector[i]) ** 2\n",
    "        if population > 1e-9:\n",
    "            histogram[i] = population\n",
    "    \n",
    "    return histogram"
   ]
  },
  {
   "cell_type": "code",
   "execution_count": 41,
   "id": "0009391a-45d2-47b9-9c5f-837ae6e04d56",
   "metadata": {},
   "outputs": [],
   "source": [
    "hist = simulate(enc_cirq)"
   ]
  },
  {
   "cell_type": "code",
   "execution_count": 42,
   "id": "9c3c7935-4c11-4bf1-9340-60519184a566",
   "metadata": {},
   "outputs": [
    {
     "data": {
      "text/plain": [
       "{16383: 1.0}"
      ]
     },
     "execution_count": 42,
     "metadata": {},
     "output_type": "execute_result"
    }
   ],
   "source": [
    "hist"
   ]
  },
  {
   "cell_type": "code",
   "execution_count": null,
   "id": "a681dc4b-8df1-4358-ad26-b08b89b2792f",
   "metadata": {},
   "outputs": [],
   "source": []
  }
 ],
 "metadata": {
  "kernelspec": {
   "display_name": "Python 3 [Tensorflow]",
   "language": "python",
   "name": "python3_tensorflow_uorhf3"
  },
  "language_info": {
   "codemirror_mode": {
    "name": "ipython",
    "version": 3
   },
   "file_extension": ".py",
   "mimetype": "text/x-python",
   "name": "python",
   "nbconvert_exporter": "python",
   "pygments_lexer": "ipython3",
   "version": "3.9.10"
  }
 },
 "nbformat": 4,
 "nbformat_minor": 5
}
